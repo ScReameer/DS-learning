{
 "cells": [
  {
   "cell_type": "code",
   "execution_count": 3,
   "metadata": {},
   "outputs": [],
   "source": [
    "import pandas as pd\n",
    "from pandas_profiling import ProfileReport"
   ]
  },
  {
   "cell_type": "code",
   "execution_count": 5,
   "metadata": {},
   "outputs": [],
   "source": [
    "df = pd.read_csv('data/wine.csv')"
   ]
  },
  {
   "cell_type": "code",
   "execution_count": 8,
   "metadata": {},
   "outputs": [
    {
     "name": "stderr",
     "output_type": "stream",
     "text": [
      "Summarize dataset: 100%|██████████| 27/27 [00:10<00:00,  2.58it/s, Completed]                             \n",
      "Generate report structure: 100%|██████████| 1/1 [00:01<00:00,  1.53s/it]\n",
      "Render HTML: 100%|██████████| 1/1 [00:00<00:00,  1.99it/s]\n",
      "Export report to file: 100%|██████████| 1/1 [00:00<00:00, 335.30it/s]\n"
     ]
    }
   ],
   "source": [
    "profile = ProfileReport(df, title='Wine Pandas Profiling Report')\n",
    "profile.to_file('data/wine.html')"
   ]
  }
 ],
 "metadata": {
  "kernelspec": {
   "display_name": "Python 3",
   "language": "python",
   "name": "python3"
  },
  "language_info": {
   "codemirror_mode": {
    "name": "ipython",
    "version": 3
   },
   "file_extension": ".py",
   "mimetype": "text/x-python",
   "name": "python",
   "nbconvert_exporter": "python",
   "pygments_lexer": "ipython3",
   "version": "3.10.8"
  },
  "orig_nbformat": 4,
  "vscode": {
   "interpreter": {
    "hash": "fb20c442e0104b8ce40b03cd7341de174458a527309743708071e02be5946d8e"
   }
  }
 },
 "nbformat": 4,
 "nbformat_minor": 2
}
