{
 "cells": [
  {
   "attachments": {},
   "cell_type": "markdown",
   "metadata": {},
   "source": [
    "# *Markdown в Jupyter*\n",
    "\n",
    "Обычный текст\n",
    "\n",
    "**Полужирный текст**\n",
    "\n",
    "формула $ a_{i+1} = a_{i} + 10 $\n",
    "\n",
    "---\n",
    "\n",
    "_italic_ / *italic*\n",
    "\n",
    "__strong__ / **strong**\n",
    "\n",
    "**<center> Centered </center>**\n",
    "\n",
    "+ el 1\n",
    "- el 2\n",
    "* el 3\n",
    "\n",
    "* el\n",
    "    * inner el 1\n",
    "    * inner el 2\n",
    "\n",
    "1. элемент 1\n",
    "2. элемент 2\n",
    "    * элемент 3\n",
    "    * элемент 3\n",
    "3. элемент 4\n",
    "\n",
    "[Текст ссылки](https://i.imgur.com/3uj9teq.png 'Подсказка')\n",
    "\n",
    "![](https://i.imgur.com/3uj9teq.png)\n",
    "\n",
    "<img src=https://i.imgur.com/3uj9teq.png width=500px height=30%>\n"
   ]
  },
  {
   "attachments": {},
   "cell_type": "markdown",
   "metadata": {},
   "source": [
    "`print('Hello world!)`\n",
    "\n",
    "```python\n",
    "\n",
    "lst = [10, 34, 21, 21, 3]\n",
    "summ = sum(lst)\n",
    "\n",
    "```"
   ]
  },
  {
   "attachments": {},
   "cell_type": "markdown",
   "metadata": {},
   "source": [
    "> Цитируемый текст"
   ]
  },
  {
   "attachments": {},
   "cell_type": "markdown",
   "metadata": {},
   "source": [
    "Пусть задано выражение:\n",
    "\n",
    "$$ a = b+c, $$\n",
    "\n",
    "где $ a=0 $\n",
    "\n",
    "* $ \\alpha $\n",
    "* $ \\gamma $\n",
    "* $ \\sigma $\n",
    "\n",
    "* $ a^2 $\n",
    "* $ b_{ij} $\n",
    "* $ w^{ij}_n $\n",
    "* $ \\frac{1+x}{n} $"
   ]
  }
 ],
 "metadata": {
  "language_info": {
   "name": "python"
  },
  "orig_nbformat": 4
 },
 "nbformat": 4,
 "nbformat_minor": 2
}
