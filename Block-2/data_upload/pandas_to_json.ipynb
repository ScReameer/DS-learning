{
 "cells": [
  {
   "attachments": {},
   "cell_type": "markdown",
   "metadata": {},
   "source": [
    "# Сериализация списка в json"
   ]
  },
  {
   "cell_type": "code",
   "execution_count": 1,
   "metadata": {},
   "outputs": [],
   "source": [
    "import pandas as pd\n",
    "import json"
   ]
  },
  {
   "cell_type": "code",
   "execution_count": 2,
   "metadata": {},
   "outputs": [],
   "source": [
    "df = pd.read_csv('data/recipes.csv')\n",
    "ids = list(df['id'])"
   ]
  },
  {
   "cell_type": "code",
   "execution_count": 4,
   "metadata": {},
   "outputs": [],
   "source": [
    "ingredients = list(df.columns[3:])"
   ]
  },
  {
   "cell_type": "code",
   "execution_count": 15,
   "metadata": {},
   "outputs": [],
   "source": [
    "def make_list(row:pd.DataFrame):\n",
    "    current_recipe = []\n",
    "    for ingredient in ingredients:\n",
    "        if row[ingredient].iloc[0] == 1:\n",
    "            current_recipe.append(ingredient)\n",
    "    return current_recipe\n",
    "            \n",
    "new_recipes = [] # Создаём пустой список для хранения итоговой структуры\n",
    "for current_id in ids: # Организуем цикл с параметром current_id\n",
    "    cuisine = df[df['id'] == current_id]['cuisine'].iloc[0] # Получаем значение соответствующей кухни, применив фильтр по текущему значению параметра цикла к DataFrame;\n",
    "    current_ingredients = make_list(df[df['id'] == current_id]) # Получаем перечень ингредиентов, входящих в состав текущего блюда\n",
    "    current_recipe = {'cuisine': cuisine, 'id': int(current_id), 'ingredients': current_ingredients} # Создаём текущий словарь\n",
    "    new_recipes.append(current_recipe) # Добавляем созданный словарь к списку"
   ]
  },
  {
   "cell_type": "code",
   "execution_count": 16,
   "metadata": {},
   "outputs": [],
   "source": [
    "new_recipes = json.dumps(new_recipes)\n",
    "with open('data/new_recipes.json', 'w') as write_file:\n",
    "    write_file.write(new_recipes)"
   ]
  }
 ],
 "metadata": {
  "kernelspec": {
   "display_name": "Python 3",
   "language": "python",
   "name": "python3"
  },
  "language_info": {
   "codemirror_mode": {
    "name": "ipython",
    "version": 3
   },
   "file_extension": ".py",
   "mimetype": "text/x-python",
   "name": "python",
   "nbconvert_exporter": "python",
   "pygments_lexer": "ipython3",
   "version": "3.10.8"
  },
  "orig_nbformat": 4,
  "vscode": {
   "interpreter": {
    "hash": "fb20c442e0104b8ce40b03cd7341de174458a527309743708071e02be5946d8e"
   }
  }
 },
 "nbformat": 4,
 "nbformat_minor": 2
}
