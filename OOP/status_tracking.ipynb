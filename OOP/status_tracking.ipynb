{
 "cells": [
  {
   "cell_type": "code",
   "execution_count": 1,
   "metadata": {},
   "outputs": [],
   "source": [
    "class Client():\n",
    "    def __init__(self, email, order_num, registration_year) -> None:\n",
    "        self.email = email\n",
    "        self.order_num = order_num\n",
    "        self.registration_year = registration_year\n",
    "        self.discount = 0\n",
    "    \n",
    "    def make_order(self, price):\n",
    "        self.update_discount()\n",
    "        self.order_num += 1\n",
    "        discounted_price = price * (1 - self.discount)\n",
    "        print(f'Order price for {self.email} is {discounted_price}')\n",
    "        \n",
    "    def update_discount(self):\n",
    "        if self.registration_year < 2018 and self.order_num >= 5:\n",
    "            self.discount = 0.1"
   ]
  },
  {
   "cell_type": "code",
   "execution_count": 2,
   "metadata": {},
   "outputs": [
    {
     "name": "stdout",
     "output_type": "stream",
     "text": [
      "Order price for max@gmail.com is 100\n",
      "Order price for lova@yandex.ru is 180.0\n",
      "Order price for german@sberbank.ru is 500\n",
      "Order price for german@sberbank.ru is 450.0\n"
     ]
    }
   ],
   "source": [
    "client_db = [\n",
    "    Client('max@gmail.com', 2, 2019),\n",
    "    Client('lova@yandex.ru', 10, 2015),\n",
    "    Client('german@sberbank.ru', 4, 2017)\n",
    "]\n",
    "client_db[0].make_order(100)\n",
    "client_db[1].make_order(200)\n",
    "client_db[2].make_order(500)\n",
    "client_db[2].make_order(500)"
   ]
  },
  {
   "attachments": {},
   "cell_type": "markdown",
   "metadata": {},
   "source": [
    "# 5.1"
   ]
  },
  {
   "cell_type": "code",
   "execution_count": 3,
   "metadata": {},
   "outputs": [],
   "source": [
    "class User():\n",
    "    def __init__(self, email, password, balance) -> None:\n",
    "        self.email = email\n",
    "        self.password = password\n",
    "        self.balance = balance\n",
    "    \n",
    "    def update_balance(self, amount):\n",
    "        self.balance += amount\n",
    "        \n",
    "    def login(self, email, password):\n",
    "        return self.email == email and self.password == password"
   ]
  },
  {
   "cell_type": "code",
   "execution_count": 4,
   "metadata": {},
   "outputs": [
    {
     "name": "stdout",
     "output_type": "stream",
     "text": [
      "19700\n"
     ]
    }
   ],
   "source": [
    "user = User(\"gosha@roskino.org\", \"qwerty\", 20_000)\n",
    "user.login(\"gosha@roskino.org\", \"qwerty123\")\n",
    "# False\n",
    "user.login(\"gosha@roskino.org\", \"qwerty\")\n",
    "# True\n",
    "user.update_balance(200)\n",
    "user.update_balance(-500)\n",
    "print(user.balance)\n",
    "# 19700"
   ]
  },
  {
   "attachments": {},
   "cell_type": "markdown",
   "metadata": {},
   "source": [
    "# Combine operations"
   ]
  },
  {
   "cell_type": "code",
   "execution_count": 5,
   "metadata": {},
   "outputs": [],
   "source": [
    "import statistics\n",
    "\n",
    "class DataFrame():\n",
    "    def __init__(self, column, fill_value=0) -> None:\n",
    "        self.column = column\n",
    "        self.fill_value = fill_value\n",
    "        self.fill_missed()\n",
    "        self.to_float()\n",
    "        \n",
    "    def fill_missed(self):\n",
    "        for i, value in enumerate(self.column):\n",
    "            if value is None or value == '':\n",
    "                self.column[i] = self.fill_value\n",
    "    \n",
    "    def to_float(self):\n",
    "        self.column = [float(value) for value in self.column]\n",
    "    \n",
    "    def median(self):\n",
    "        return statistics.median(self.column)\n",
    "    \n",
    "    def mean(self):\n",
    "        return statistics.mean(self.column)\n",
    "    \n",
    "    def deviation(self):\n",
    "        return statistics.stdev(self.column)"
   ]
  },
  {
   "cell_type": "code",
   "execution_count": 6,
   "metadata": {},
   "outputs": [
    {
     "name": "stdout",
     "output_type": "stream",
     "text": [
      "[1.0, 17.0, 4.0, 0.0, 8.0]\n",
      "6.892024376045111\n",
      "4.0\n"
     ]
    }
   ],
   "source": [
    "df = DataFrame(['1', 17, 4, None, 8])\n",
    "print(df.column)\n",
    "print(df.deviation())\n",
    "print(df.median())"
   ]
  },
  {
   "attachments": {},
   "cell_type": "markdown",
   "metadata": {},
   "source": [
    "# 5.2"
   ]
  },
  {
   "cell_type": "code",
   "execution_count": 7,
   "metadata": {},
   "outputs": [],
   "source": [
    "class IntDataFrame():\n",
    "    def __init__(self, column) -> None:\n",
    "        self.column = column\n",
    "        self.int_convert()\n",
    "        \n",
    "    def int_convert(self):\n",
    "        for i, value in enumerate(self.column):\n",
    "            self.column[i] = int(value)\n",
    "    \n",
    "    def count(self):\n",
    "        counter = 0\n",
    "        for value in self.column:\n",
    "            if value != 0:\n",
    "                counter += 1\n",
    "        return counter\n",
    "    \n",
    "    def unique(self):\n",
    "        return len(set(self.column))\n",
    "        "
   ]
  },
  {
   "cell_type": "code",
   "execution_count": 8,
   "metadata": {},
   "outputs": [
    {
     "name": "stdout",
     "output_type": "stream",
     "text": [
      "5\n"
     ]
    },
    {
     "data": {
      "text/plain": [
       "4"
      ]
     },
     "execution_count": 8,
     "metadata": {},
     "output_type": "execute_result"
    }
   ],
   "source": [
    "df = IntDataFrame([4.7, 4, 3, 0, 2.4, 0.3, 4])\n",
    "\n",
    "print(df.count())\n",
    "# 5\n",
    "df.unique()\n",
    "# 4"
   ]
  },
  {
   "attachments": {},
   "cell_type": "markdown",
   "metadata": {},
   "source": [
    "# Wrap Class"
   ]
  },
  {
   "cell_type": "code",
   "execution_count": 9,
   "metadata": {},
   "outputs": [],
   "source": [
    "import pickle\n",
    "from datetime import datetime\n",
    "from os import path\n",
    "\n",
    "class Dumper():\n",
    "    def __init__(self, archive_dir='archive/'):\n",
    "        self.archive_dir = archive_dir\n",
    "        \n",
    "    def dump(self, data):\n",
    "        with open(self.get_file_name(), 'wb') as file:\n",
    "            pickle.dump(data, file)\n",
    "        \n",
    "    def load_for_day(self, day):\n",
    "        file_name = path.join(self.archive_dir, day + '.pkl')\n",
    "        with open(file_name, 'rb') as file:\n",
    "            sets = pickle.load(file)\n",
    "        return sets\n",
    "    \n",
    "    def get_file_name(self):\n",
    "        today = datetime.now().strftime('%y-%m-%d')\n",
    "        return path.join(self.archive_dir, today + '.pkl')"
   ]
  },
  {
   "cell_type": "code",
   "execution_count": 10,
   "metadata": {},
   "outputs": [
    {
     "name": "stdout",
     "output_type": "stream",
     "text": [
      "{'perfomance': [10, 20, 10], 'clients': {'Romashka': 10, 'Vector': 34}}\n"
     ]
    }
   ],
   "source": [
    "data = {\n",
    "    'perfomance': [10, 20, 10],\n",
    "    'clients': {'Romashka': 10, 'Vector': 34}\n",
    "}\n",
    "dumper = Dumper()\n",
    "dumper.dump(data)\n",
    "\n",
    "file_name = datetime.now().strftime('%y-%m-%d')\n",
    "restored_data = dumper.load_for_day(file_name)\n",
    "print(restored_data)"
   ]
  },
  {
   "attachments": {},
   "cell_type": "markdown",
   "metadata": {},
   "source": [
    "# 5.3"
   ]
  },
  {
   "cell_type": "code",
   "execution_count": 78,
   "metadata": {},
   "outputs": [],
   "source": [
    "class OwnLogger():\n",
    "    \n",
    "    def __init__(self):\n",
    "        self.logs = {'info': None, 'warning': None, 'error': None, 'all': None}\n",
    "        \n",
    "    def log(self, message, level):\n",
    "        if level in ['info', 'warning', 'error']:\n",
    "            self.logs[level] = message\n",
    "            self.logs['all'] = message\n",
    "            \n",
    "    def show_last(self, level='all'):\n",
    "        return self.logs[level]\n",
    "            "
   ]
  },
  {
   "cell_type": "code",
   "execution_count": 79,
   "metadata": {},
   "outputs": [],
   "source": [
    "logger = OwnLogger()\n",
    "logger.log(\"System started\", \"info\")\n",
    "logger.show_last(\"error\")"
   ]
  },
  {
   "cell_type": "code",
   "execution_count": 80,
   "metadata": {},
   "outputs": [],
   "source": [
    "logger.log(\"Connection instable\", \"warning\")\n",
    "logger.log(\"Connection lost\", \"error\")"
   ]
  },
  {
   "cell_type": "code",
   "execution_count": 81,
   "metadata": {},
   "outputs": [
    {
     "data": {
      "text/plain": [
       "'Connection lost'"
      ]
     },
     "execution_count": 81,
     "metadata": {},
     "output_type": "execute_result"
    }
   ],
   "source": [
    "logger.show_last()"
   ]
  },
  {
   "cell_type": "code",
   "execution_count": 82,
   "metadata": {},
   "outputs": [
    {
     "data": {
      "text/plain": [
       "'System started'"
      ]
     },
     "execution_count": 82,
     "metadata": {},
     "output_type": "execute_result"
    }
   ],
   "source": [
    "logger.show_last(\"info\")\n"
   ]
  },
  {
   "attachments": {},
   "cell_type": "markdown",
   "metadata": {},
   "source": [
    "# Import"
   ]
  },
  {
   "attachments": {},
   "cell_type": "markdown",
   "metadata": {},
   "source": [
    "from <имя файла без .py> import <имя класса>"
   ]
  },
  {
   "cell_type": "code",
   "execution_count": 83,
   "metadata": {},
   "outputs": [],
   "source": [
    "from helpers.client import Client\n",
    "from helpers.dumper import Dumper\n",
    "from helpers.data_frame import DataFrame"
   ]
  }
 ],
 "metadata": {
  "kernelspec": {
   "display_name": "Python 3",
   "language": "python",
   "name": "python3"
  },
  "language_info": {
   "codemirror_mode": {
    "name": "ipython",
    "version": 3
   },
   "file_extension": ".py",
   "mimetype": "text/x-python",
   "name": "python",
   "nbconvert_exporter": "python",
   "pygments_lexer": "ipython3",
   "version": "3.10.8"
  },
  "orig_nbformat": 4,
  "vscode": {
   "interpreter": {
    "hash": "fb20c442e0104b8ce40b03cd7341de174458a527309743708071e02be5946d8e"
   }
  }
 },
 "nbformat": 4,
 "nbformat_minor": 2
}
