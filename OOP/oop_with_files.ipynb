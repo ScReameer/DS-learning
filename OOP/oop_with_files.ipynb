{
 "cells": [
  {
   "cell_type": "code",
   "execution_count": 1,
   "metadata": {},
   "outputs": [
    {
     "data": {
      "text/plain": [
       "'f:\\\\SF-DS-practice\\\\OOP'"
      ]
     },
     "execution_count": 1,
     "metadata": {},
     "output_type": "execute_result"
    }
   ],
   "source": [
    "import os\n",
    "\n",
    "start_path = os.getcwd()\n",
    "start_path"
   ]
  },
  {
   "cell_type": "code",
   "execution_count": 2,
   "metadata": {},
   "outputs": [
    {
     "data": {
      "text/plain": [
       "'f:\\\\SF-DS-practice'"
      ]
     },
     "execution_count": 2,
     "metadata": {},
     "output_type": "execute_result"
    }
   ],
   "source": [
    "os.chdir('..')\n",
    "os.getcwd()"
   ]
  },
  {
   "cell_type": "code",
   "execution_count": 3,
   "metadata": {},
   "outputs": [
    {
     "data": {
      "text/plain": [
       "'f:\\\\SF-DS-practice\\\\OOP'"
      ]
     },
     "execution_count": 3,
     "metadata": {},
     "output_type": "execute_result"
    }
   ],
   "source": [
    "os.chdir(start_path)\n",
    "os.getcwd()"
   ]
  },
  {
   "cell_type": "code",
   "execution_count": 4,
   "metadata": {},
   "outputs": [
    {
     "data": {
      "text/plain": [
       "['archive',\n",
       " 'helpers',\n",
       " 'oop_python.ipynb',\n",
       " 'oop_with_files.ipynb',\n",
       " 'status_tracking.ipynb']"
      ]
     },
     "execution_count": 4,
     "metadata": {},
     "output_type": "execute_result"
    }
   ],
   "source": [
    "os.listdir()"
   ]
  },
  {
   "cell_type": "code",
   "execution_count": 5,
   "metadata": {},
   "outputs": [
    {
     "name": "stdout",
     "output_type": "stream",
     "text": [
      "f:\\SF-DS-practice\\OOP\n",
      "f:\\SF-DS-practice\\OOP\\helpers\n"
     ]
    }
   ],
   "source": [
    "print(start_path)\n",
    "print(os.path.join(start_path, 'helpers')) # concatenates paths"
   ]
  },
  {
   "attachments": {},
   "cell_type": "markdown",
   "metadata": {},
   "source": [
    "# 7.3"
   ]
  },
  {
   "attachments": {
    "image.png": {
     "image/png": "[encoded data removed]"
    }
   },
   "cell_type": "markdown",
   "metadata": {},
   "source": [
    "![image.png](attachment:image.png)"
   ]
  },
  {
   "cell_type": "code",
   "execution_count": 13,
   "metadata": {},
   "outputs": [
    {
     "name": "stdout",
     "output_type": "stream",
     "text": [
      "Root: f:\\SF-DS-practice\\OOP\n",
      "Directories: ['archive', 'helpers']\n",
      "Files: ['oop_python.ipynb', 'oop_with_files.ipynb', 'status_tracking.ipynb']\n",
      "===\n",
      "Root: f:\\SF-DS-practice\\OOP\\archive\n",
      "Directories: []\n",
      "Files: ['23-01-06.pkl']\n",
      "===\n",
      "Root: f:\\SF-DS-practice\\OOP\\helpers\n",
      "Directories: ['__pycache__']\n",
      "Files: ['client.py', 'data_frame.py', 'dumper.py', '__init__.py']\n",
      "===\n",
      "Root: f:\\SF-DS-practice\\OOP\\helpers\\__pycache__\n",
      "Directories: []\n",
      "Files: ['client.cpython-310.pyc', 'data_frame.cpython-310.pyc', 'dumper.cpython-310.pyc']\n",
      "===\n"
     ]
    }
   ],
   "source": [
    "def get_path_info(path=os.getcwd()):\n",
    "    for root, dir, file in os.walk(path):\n",
    "        print('Root: ', root, '\\n'\n",
    "              'Directories: ', dir, '\\n',\n",
    "              'Files: ', file, '\\n===', sep='')\n",
    "get_path_info()"
   ]
  },
  {
   "cell_type": "code",
   "execution_count": 8,
   "metadata": {},
   "outputs": [
    {
     "name": "stdout",
     "output_type": "stream",
     "text": [
      "Текущая директория f:\\SF-DS-practice\\OOP\n",
      "---\n",
      "Список папок ['archive', 'helpers']\n",
      "---\n",
      "Список файлов ['oop_python.ipynb', 'oop_with_files.ipynb', 'status_tracking.ipynb']\n",
      "---\n",
      "Все пути:\n",
      "Файл  f:\\SF-DS-practice\\OOP\\oop_python.ipynb\n",
      "Файл  f:\\SF-DS-practice\\OOP\\oop_with_files.ipynb\n",
      "Файл  f:\\SF-DS-practice\\OOP\\status_tracking.ipynb\n",
      "Папка  f:\\SF-DS-practice\\OOP\\archive\n",
      "Папка  f:\\SF-DS-practice\\OOP\\helpers\n",
      "===\n",
      "Текущая директория f:\\SF-DS-practice\\OOP\\archive\n",
      "---\n",
      "Папок нет\n",
      "---\n",
      "Список файлов ['23-01-06.pkl']\n",
      "---\n",
      "Файл  f:\\SF-DS-practice\\OOP\\archive\\23-01-06.pkl\n",
      "===\n",
      "Текущая директория f:\\SF-DS-practice\\OOP\\helpers\n",
      "---\n",
      "Список папок ['__pycache__']\n",
      "---\n",
      "Список файлов ['client.py', 'data_frame.py', 'dumper.py', '__init__.py']\n",
      "---\n",
      "Все пути:\n",
      "Файл  f:\\SF-DS-practice\\OOP\\helpers\\client.py\n",
      "Файл  f:\\SF-DS-practice\\OOP\\helpers\\data_frame.py\n",
      "Файл  f:\\SF-DS-practice\\OOP\\helpers\\dumper.py\n",
      "Файл  f:\\SF-DS-practice\\OOP\\helpers\\__init__.py\n",
      "Папка  f:\\SF-DS-practice\\OOP\\helpers\\__pycache__\n",
      "===\n",
      "Текущая директория f:\\SF-DS-practice\\OOP\\helpers\\__pycache__\n",
      "---\n",
      "Папок нет\n",
      "---\n",
      "Список файлов ['client.cpython-310.pyc', 'data_frame.cpython-310.pyc', 'dumper.cpython-310.pyc']\n",
      "---\n",
      "Файл  f:\\SF-DS-practice\\OOP\\helpers\\__pycache__\\client.cpython-310.pyc\n",
      "Файл  f:\\SF-DS-practice\\OOP\\helpers\\__pycache__\\data_frame.cpython-310.pyc\n",
      "Файл  f:\\SF-DS-practice\\OOP\\helpers\\__pycache__\\dumper.cpython-310.pyc\n",
      "===\n"
     ]
    }
   ],
   "source": [
    "def walk_desc(path=None):\n",
    "    start_path = path if path is not None else os.getcwd()\n",
    "\n",
    "    for root, dirs, files in os.walk(start_path):\n",
    "        print(\"Текущая директория\", root)\n",
    "        print(\"---\")\n",
    "\n",
    "        if dirs:\n",
    "            print(\"Список папок\", dirs)\n",
    "        else:\n",
    "            print(\"Папок нет\")\n",
    "        print(\"---\")\n",
    "\n",
    "        if files:\n",
    "            print(\"Список файлов\", files)\n",
    "        else:\n",
    "            print(\"Файлов нет\")\n",
    "        print(\"---\")\n",
    "\n",
    "        if files and dirs:\n",
    "            print(\"Все пути:\")\n",
    "        for f in files:\n",
    "            print(\"Файл \", os.path.join(root, f))\n",
    "        for d in dirs:\n",
    "            print(\"Папка \", os.path.join(root, d))\n",
    "        print(\"===\")\n",
    "\n",
    "walk_desc()"
   ]
  },
  {
   "attachments": {},
   "cell_type": "markdown",
   "metadata": {},
   "source": [
    "# How to open files"
   ]
  },
  {
   "cell_type": "code",
   "execution_count": null,
   "metadata": {},
   "outputs": [],
   "source": [
    "f = open('path/to/file', 'filemode', encoding='utf8')"
   ]
  },
  {
   "attachments": {},
   "cell_type": "markdown",
   "metadata": {},
   "source": [
    "filemodes:\n",
    "- r - read(default)\n",
    "- w - write/create\n",
    "- x - create and write. If exists -> exception\n",
    "- a - open to write into end of file\n",
    "- t - open in text view(defaul)\n",
    "- b - binary"
   ]
  },
  {
   "cell_type": "code",
   "execution_count": 1,
   "metadata": {},
   "outputs": [],
   "source": [
    "f = open('test.txt', 'w')\n",
    "f.write('This is a test string\\n')\n",
    "f.write('This is a new string\\n')\n",
    "f.close()"
   ]
  },
  {
   "cell_type": "code",
   "execution_count": 2,
   "metadata": {},
   "outputs": [
    {
     "data": {
      "text/plain": [
       "'This is a '"
      ]
     },
     "execution_count": 2,
     "metadata": {},
     "output_type": "execute_result"
    }
   ],
   "source": [
    "f = open('test.txt', 'r')\n",
    "f.read(10)"
   ]
  },
  {
   "cell_type": "code",
   "execution_count": 3,
   "metadata": {},
   "outputs": [
    {
     "data": {
      "text/plain": [
       "'test string\\nThis is a new string\\n'"
      ]
     },
     "execution_count": 3,
     "metadata": {},
     "output_type": "execute_result"
    }
   ],
   "source": [
    "f.read()"
   ]
  },
  {
   "cell_type": "code",
   "execution_count": 4,
   "metadata": {},
   "outputs": [],
   "source": [
    "f.close()"
   ]
  },
  {
   "cell_type": "code",
   "execution_count": 5,
   "metadata": {},
   "outputs": [],
   "source": [
    "f = open('test.txt', 'a')\n",
    "sequence = ['other string\\n', '123\\n', 'test test\\n']\n",
    "f.writelines(sequence)\n",
    "f.close()"
   ]
  },
  {
   "cell_type": "code",
   "execution_count": 6,
   "metadata": {},
   "outputs": [
    {
     "name": "stdout",
     "output_type": "stream",
     "text": [
      "['This is a test string\\n', 'This is a new string\\n', 'other string\\n', '123\\n', 'test test\\n']\n"
     ]
    }
   ],
   "source": [
    "f = open('test.txt', 'r')\n",
    "print(f.readlines())\n",
    "f.close()"
   ]
  },
  {
   "cell_type": "code",
   "execution_count": 7,
   "metadata": {},
   "outputs": [
    {
     "name": "stdout",
     "output_type": "stream",
     "text": [
      "This is a test string\n",
      "\n",
      "This\n",
      " is a new string\n",
      "\n"
     ]
    }
   ],
   "source": [
    "f = open('test.txt', 'r')\n",
    "print(f.readline())\n",
    "print(f.read(4))\n",
    "print(f.readline())"
   ]
  },
  {
   "attachments": {},
   "cell_type": "markdown",
   "metadata": {},
   "source": [
    "# File as iterator"
   ]
  },
  {
   "cell_type": "code",
   "execution_count": 10,
   "metadata": {},
   "outputs": [
    {
     "name": "stdout",
     "output_type": "stream",
     "text": [
      "This is a test string\n",
      "This is a new string\n",
      "other string\n",
      "123\n",
      "test test\n"
     ]
    }
   ],
   "source": [
    "f = open('test.txt')\n",
    "for line in f:\n",
    "    print(line, end='')\n",
    "f.close()"
   ]
  },
  {
   "attachments": {},
   "cell_type": "markdown",
   "metadata": {},
   "source": [
    "# With / as"
   ]
  },
  {
   "cell_type": "code",
   "execution_count": 11,
   "metadata": {},
   "outputs": [
    {
     "name": "stdout",
     "output_type": "stream",
     "text": [
      "b'This is a '\n",
      "b'test string\\r\\nThis is a '\n"
     ]
    },
    {
     "ename": "ValueError",
     "evalue": "read of closed file",
     "output_type": "error",
     "traceback": [
      "\u001b[1;31m---------------------------------------------------------------------------\u001b[0m",
      "\u001b[1;31mValueError\u001b[0m                                Traceback (most recent call last)",
      "Cell \u001b[1;32mIn[11], line 7\u001b[0m\n\u001b[0;32m      5\u001b[0m \u001b[39mprint\u001b[39m(a)\n\u001b[0;32m      6\u001b[0m \u001b[39mprint\u001b[39m(b)\n\u001b[1;32m----> 7\u001b[0m \u001b[39mprint\u001b[39m(f\u001b[39m.\u001b[39;49mread(\u001b[39m3\u001b[39;49m))\n",
      "\u001b[1;31mValueError\u001b[0m: read of closed file"
     ]
    }
   ],
   "source": [
    "with open('test.txt', 'rb') as f:\n",
    "    a = f.read(10)\n",
    "    b = f.read(23)\n",
    "\n",
    "print(a)\n",
    "print(b)\n",
    "print(f.read(3))"
   ]
  },
  {
   "attachments": {},
   "cell_type": "markdown",
   "metadata": {},
   "source": [
    "# 7.4"
   ]
  },
  {
   "cell_type": "code",
   "execution_count": 12,
   "metadata": {},
   "outputs": [],
   "source": [
    "with open('input.txt', 'w') as f_input:\n",
    "    seq = ['this is\\n', 'an input\\n', 'file\\n']\n",
    "    f_input.writelines(seq)\n",
    "    \n",
    "with open('output.txt', 'w') as f_output:\n",
    "    with open('input.txt', 'r') as f_input:\n",
    "        for lines in f_input:\n",
    "            f_output.write(lines)"
   ]
  },
  {
   "attachments": {},
   "cell_type": "markdown",
   "metadata": {},
   "source": [
    "# 7.5"
   ]
  },
  {
   "cell_type": "code",
   "execution_count": 51,
   "metadata": {},
   "outputs": [
    {
     "name": "stdout",
     "output_type": "stream",
     "text": [
      "4 90 94\n"
     ]
    }
   ],
   "source": [
    "import random\n",
    "with open('numbers.txt', 'w') as numbers:\n",
    "    for i in range(33):\n",
    "        numbers.write(str(random.randint(0, 100))+'\\n')\n",
    "with open('numbers.txt') as numb:\n",
    "    list_nums = numb.readlines()\n",
    "for i in range(len(list_nums)):\n",
    "    list_nums[i] = int(list_nums[i].replace('\\n', ''))\n",
    "min_num = min(list_nums)\n",
    "max_num = max(list_nums)\n",
    "print(min_num, max_num, min_num+max_num)"
   ]
  },
  {
   "attachments": {},
   "cell_type": "markdown",
   "metadata": {},
   "source": [
    "# 7.6"
   ]
  },
  {
   "cell_type": "code",
   "execution_count": 61,
   "metadata": {},
   "outputs": [
    {
     "data": {
      "text/plain": [
       "['Дмитриев Н.', 'Котов Д.', 'Бирюкова Н.', 'Лемонов Ю.']"
      ]
     },
     "execution_count": 61,
     "metadata": {},
     "output_type": "execute_result"
    }
   ],
   "source": [
    "with open('names.txt', 'r', encoding='utf8') as names:\n",
    "    names_dict = {}\n",
    "    for name in names:\n",
    "        names_dict[name[:-3]] = name[-2]\n",
    "bad_students = []\n",
    "for key, value in names_dict.items():\n",
    "    if int(value) < 3:\n",
    "        bad_students.append(key)\n",
    "bad_students\n"
   ]
  },
  {
   "attachments": {},
   "cell_type": "markdown",
   "metadata": {},
   "source": [
    "# 7.7"
   ]
  },
  {
   "cell_type": "code",
   "execution_count": 85,
   "metadata": {},
   "outputs": [],
   "source": [
    "with open('reverse.txt', 'r') as reverse_read:\n",
    "    reading = reverse_read.readlines()\n",
    "    with open('reverse.txt', 'w') as reverse_write:\n",
    "        for line in reading:\n",
    "            reverse_write.write(line[::-1].replace('\\n', '')+'\\n')"
   ]
  }
 ],
 "metadata": {
  "kernelspec": {
   "display_name": "Python 3",
   "language": "python",
   "name": "python3"
  },
  "language_info": {
   "codemirror_mode": {
    "name": "ipython",
    "version": 3
   },
   "file_extension": ".py",
   "mimetype": "text/x-python",
   "name": "python",
   "nbconvert_exporter": "python",
   "pygments_lexer": "ipython3",
   "version": "3.10.8"
  },
  "orig_nbformat": 4,
  "vscode": {
   "interpreter": {
    "hash": "fb20c442e0104b8ce40b03cd7341de174458a527309743708071e02be5946d8e"
   }
  }
 },
 "nbformat": 4,
 "nbformat_minor": 2
}
