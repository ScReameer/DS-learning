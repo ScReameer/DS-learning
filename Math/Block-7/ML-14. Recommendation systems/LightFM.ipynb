{
  "cells": [
    {
      "cell_type": "markdown",
      "metadata": {
        "id": "cqW5FG-eBCzX"
      },
      "source": [
        "# <center>LightFM"
      ]
    },
    {
      "cell_type": "code",
      "execution_count": null,
      "metadata": {
        "colab": {
          "base_uri": "https://localhost:8080/"
        },
        "id": "F4x6eJDvAoUw",
        "outputId": "752ca58f-2129-4a19-c729-871f17acdef7"
      },
      "outputs": [
        {
          "name": "stdout",
          "output_type": "stream",
          "text": [
            "Collecting lightfm\n",
            "  Downloading lightfm-1.17.tar.gz (316 kB)\n",
            "\u001b[?25l     \u001b[90m━━━━━━━━━━━━━━━━━━━━━━━━━━━━━━━━━━━━━━━━\u001b[0m \u001b[32m0.0/316.4 kB\u001b[0m \u001b[31m?\u001b[0m eta \u001b[36m-:--:--\u001b[0m\r\u001b[2K     \u001b[91m━━━━━━━━━━━━━\u001b[0m\u001b[91m╸\u001b[0m\u001b[90m━━━━━━━━━━━━━━━━━━━━━━━━━\u001b[0m \u001b[32m112.6/316.4 kB\u001b[0m \u001b[31m3.3 MB/s\u001b[0m eta \u001b[36m0:00:01\u001b[0m\r\u001b[2K     \u001b[90m━━━━━━━━━━━━━━━━━━━━━━━━━━━━━━━━━━━━━━━\u001b[0m \u001b[32m316.4/316.4 kB\u001b[0m \u001b[31m4.6 MB/s\u001b[0m eta \u001b[36m0:00:00\u001b[0m\n",
            "\u001b[?25h  Preparing metadata (setup.py) ... \u001b[?25l\u001b[?25hdone\n",
            "Requirement already satisfied: numpy in /usr/local/lib/python3.10/dist-packages (from lightfm) (1.23.5)\n",
            "Requirement already satisfied: scipy>=0.17.0 in /usr/local/lib/python3.10/dist-packages (from lightfm) (1.11.2)\n",
            "Requirement already satisfied: requests in /usr/local/lib/python3.10/dist-packages (from lightfm) (2.31.0)\n",
            "Requirement already satisfied: scikit-learn in /usr/local/lib/python3.10/dist-packages (from lightfm) (1.2.2)\n",
            "Requirement already satisfied: charset-normalizer<4,>=2 in /usr/local/lib/python3.10/dist-packages (from requests->lightfm) (3.2.0)\n",
            "Requirement already satisfied: idna<4,>=2.5 in /usr/local/lib/python3.10/dist-packages (from requests->lightfm) (3.4)\n",
            "Requirement already satisfied: urllib3<3,>=1.21.1 in /usr/local/lib/python3.10/dist-packages (from requests->lightfm) (2.0.4)\n",
            "Requirement already satisfied: certifi>=2017.4.17 in /usr/local/lib/python3.10/dist-packages (from requests->lightfm) (2023.7.22)\n",
            "Requirement already satisfied: joblib>=1.1.1 in /usr/local/lib/python3.10/dist-packages (from scikit-learn->lightfm) (1.3.2)\n",
            "Requirement already satisfied: threadpoolctl>=2.0.0 in /usr/local/lib/python3.10/dist-packages (from scikit-learn->lightfm) (3.2.0)\n",
            "Building wheels for collected packages: lightfm\n",
            "  Building wheel for lightfm (setup.py) ... \u001b[?25l\u001b[?25hdone\n",
            "  Created wheel for lightfm: filename=lightfm-1.17-cp310-cp310-linux_x86_64.whl size=808333 sha256=7213554938ab33683ce48f2ce399361024d8d55254e9016f29f8d21c229a56f2\n",
            "  Stored in directory: /root/.cache/pip/wheels/4f/9b/7e/0b256f2168511d8fa4dae4fae0200fdbd729eb424a912ad636\n",
            "Successfully built lightfm\n",
            "Installing collected packages: lightfm\n",
            "Successfully installed lightfm-1.17\n",
            "Requirement already satisfied: pandas in /usr/local/lib/python3.10/dist-packages (1.5.3)\n",
            "Requirement already satisfied: python-dateutil>=2.8.1 in /usr/local/lib/python3.10/dist-packages (from pandas) (2.8.2)\n",
            "Requirement already satisfied: pytz>=2020.1 in /usr/local/lib/python3.10/dist-packages (from pandas) (2023.3.post1)\n",
            "Requirement already satisfied: numpy>=1.21.0 in /usr/local/lib/python3.10/dist-packages (from pandas) (1.23.5)\n",
            "Requirement already satisfied: six>=1.5 in /usr/local/lib/python3.10/dist-packages (from python-dateutil>=2.8.1->pandas) (1.16.0)\n",
            "Requirement already satisfied: scipy in /usr/local/lib/python3.10/dist-packages (1.11.2)\n",
            "Requirement already satisfied: numpy<1.28.0,>=1.21.6 in /usr/local/lib/python3.10/dist-packages (from scipy) (1.23.5)\n"
          ]
        }
      ],
      "source": [
        "!pip install lightfm\n",
        "!pip install pandas\n",
        "!pip install scipy\n",
        "\n",
        "import pandas as pd\n",
        "from scipy.sparse import csr_matrix\n",
        "from lightfm import LightFM\n",
        "from lightfm.cross_validation import random_train_test_split\n",
        "from lightfm.evaluation import precision_at_k, recall_at_k"
      ]
    },
    {
      "cell_type": "code",
      "execution_count": null,
      "metadata": {
        "id": "wQh3l7swBkIs"
      },
      "outputs": [],
      "source": [
        "ratings = pd.read_csv('ratings.csv') # Поставленные оценки\n",
        "books = pd.read_csv('books.csv') # Информация о книгах\n",
        "tags = pd.read_csv('tags.csv') # Информация о тегах\n",
        "book_tags = pd.read_csv('book_tags.csv') # Книги с тегами"
      ]
    },
    {
      "cell_type": "markdown",
      "metadata": {
        "id": "7Eyv3-cfBpwY"
      },
      "source": [
        "Сначала посмотрим на набор данных `books`: в этих данных есть обычный `id` книги, а есть `id` книги в системе `Goodreads` — этот `id` отображён в признаке `goodreads_book_id`. В других данных (`book_tags`) указан только `id` книги в системе `Goodreads`, поэтому нам необходимо добавить туда обычный `id`.\n",
        "\n"
      ]
    },
    {
      "cell_type": "code",
      "execution_count": null,
      "metadata": {
        "colab": {
          "base_uri": "https://localhost:8080/",
          "height": 424
        },
        "id": "aLbaf5dCB3yi",
        "outputId": "1c5180b4-e317-4d75-8b19-3eae556fff4e"
      },
      "outputs": [
        {
          "data": {
            "text/html": [
              "\n",
              "  <div id=\"df-cd4727bc-e677-4c7a-a0d5-3468333d352b\" class=\"colab-df-container\">\n",
              "    <div>\n",
              "<style scoped>\n",
              "    .dataframe tbody tr th:only-of-type {\n",
              "        vertical-align: middle;\n",
              "    }\n",
              "\n",
              "    .dataframe tbody tr th {\n",
              "        vertical-align: top;\n",
              "    }\n",
              "\n",
              "    .dataframe thead th {\n",
              "        text-align: right;\n",
              "    }\n",
              "</style>\n",
              "<table border=\"1\" class=\"dataframe\">\n",
              "  <thead>\n",
              "    <tr style=\"text-align: right;\">\n",
              "      <th></th>\n",
              "      <th>goodreads_book_id</th>\n",
              "      <th>tag_id</th>\n",
              "      <th>count</th>\n",
              "      <th>id</th>\n",
              "    </tr>\n",
              "  </thead>\n",
              "  <tbody>\n",
              "    <tr>\n",
              "      <th>300</th>\n",
              "      <td>5</td>\n",
              "      <td>11557</td>\n",
              "      <td>40087</td>\n",
              "      <td>18</td>\n",
              "    </tr>\n",
              "    <tr>\n",
              "      <th>301</th>\n",
              "      <td>5</td>\n",
              "      <td>11305</td>\n",
              "      <td>39330</td>\n",
              "      <td>18</td>\n",
              "    </tr>\n",
              "    <tr>\n",
              "      <th>302</th>\n",
              "      <td>5</td>\n",
              "      <td>8717</td>\n",
              "      <td>17944</td>\n",
              "      <td>18</td>\n",
              "    </tr>\n",
              "    <tr>\n",
              "      <th>303</th>\n",
              "      <td>5</td>\n",
              "      <td>33114</td>\n",
              "      <td>12856</td>\n",
              "      <td>18</td>\n",
              "    </tr>\n",
              "    <tr>\n",
              "      <th>304</th>\n",
              "      <td>5</td>\n",
              "      <td>30574</td>\n",
              "      <td>11909</td>\n",
              "      <td>18</td>\n",
              "    </tr>\n",
              "    <tr>\n",
              "      <th>...</th>\n",
              "      <td>...</td>\n",
              "      <td>...</td>\n",
              "      <td>...</td>\n",
              "      <td>...</td>\n",
              "    </tr>\n",
              "    <tr>\n",
              "      <th>395</th>\n",
              "      <td>5</td>\n",
              "      <td>20781</td>\n",
              "      <td>299</td>\n",
              "      <td>18</td>\n",
              "    </tr>\n",
              "    <tr>\n",
              "      <th>396</th>\n",
              "      <td>5</td>\n",
              "      <td>32345</td>\n",
              "      <td>298</td>\n",
              "      <td>18</td>\n",
              "    </tr>\n",
              "    <tr>\n",
              "      <th>397</th>\n",
              "      <td>5</td>\n",
              "      <td>12600</td>\n",
              "      <td>282</td>\n",
              "      <td>18</td>\n",
              "    </tr>\n",
              "    <tr>\n",
              "      <th>398</th>\n",
              "      <td>5</td>\n",
              "      <td>3379</td>\n",
              "      <td>277</td>\n",
              "      <td>18</td>\n",
              "    </tr>\n",
              "    <tr>\n",
              "      <th>399</th>\n",
              "      <td>5</td>\n",
              "      <td>5444</td>\n",
              "      <td>273</td>\n",
              "      <td>18</td>\n",
              "    </tr>\n",
              "  </tbody>\n",
              "</table>\n",
              "<p>100 rows × 4 columns</p>\n",
              "</div>\n",
              "    <div class=\"colab-df-buttons\">\n",
              "\n",
              "  <div class=\"colab-df-container\">\n",
              "    <button class=\"colab-df-convert\" onclick=\"convertToInteractive('df-cd4727bc-e677-4c7a-a0d5-3468333d352b')\"\n",
              "            title=\"Convert this dataframe to an interactive table.\"\n",
              "            style=\"display:none;\">\n",
              "\n",
              "  <svg xmlns=\"http://www.w3.org/2000/svg\" height=\"24px\" viewBox=\"0 -960 960 960\">\n",
              "    <path d=\"M120-120v-720h720v720H120Zm60-500h600v-160H180v160Zm220 220h160v-160H400v160Zm0 220h160v-160H400v160ZM180-400h160v-160H180v160Zm440 0h160v-160H620v160ZM180-180h160v-160H180v160Zm440 0h160v-160H620v160Z\"/>\n",
              "  </svg>\n",
              "    </button>\n",
              "\n",
              "  <style>\n",
              "    .colab-df-container {\n",
              "      display:flex;\n",
              "      gap: 12px;\n",
              "    }\n",
              "\n",
              "    .colab-df-convert {\n",
              "      background-color: #E8F0FE;\n",
              "      border: none;\n",
              "      border-radius: 50%;\n",
              "      cursor: pointer;\n",
              "      display: none;\n",
              "      fill: #1967D2;\n",
              "      height: 32px;\n",
              "      padding: 0 0 0 0;\n",
              "      width: 32px;\n",
              "    }\n",
              "\n",
              "    .colab-df-convert:hover {\n",
              "      background-color: #E2EBFA;\n",
              "      box-shadow: 0px 1px 2px rgba(60, 64, 67, 0.3), 0px 1px 3px 1px rgba(60, 64, 67, 0.15);\n",
              "      fill: #174EA6;\n",
              "    }\n",
              "\n",
              "    .colab-df-buttons div {\n",
              "      margin-bottom: 4px;\n",
              "    }\n",
              "\n",
              "    [theme=dark] .colab-df-convert {\n",
              "      background-color: #3B4455;\n",
              "      fill: #D2E3FC;\n",
              "    }\n",
              "\n",
              "    [theme=dark] .colab-df-convert:hover {\n",
              "      background-color: #434B5C;\n",
              "      box-shadow: 0px 1px 3px 1px rgba(0, 0, 0, 0.15);\n",
              "      filter: drop-shadow(0px 1px 2px rgba(0, 0, 0, 0.3));\n",
              "      fill: #FFFFFF;\n",
              "    }\n",
              "  </style>\n",
              "\n",
              "    <script>\n",
              "      const buttonEl =\n",
              "        document.querySelector('#df-cd4727bc-e677-4c7a-a0d5-3468333d352b button.colab-df-convert');\n",
              "      buttonEl.style.display =\n",
              "        google.colab.kernel.accessAllowed ? 'block' : 'none';\n",
              "\n",
              "      async function convertToInteractive(key) {\n",
              "        const element = document.querySelector('#df-cd4727bc-e677-4c7a-a0d5-3468333d352b');\n",
              "        const dataTable =\n",
              "          await google.colab.kernel.invokeFunction('convertToInteractive',\n",
              "                                                    [key], {});\n",
              "        if (!dataTable) return;\n",
              "\n",
              "        const docLinkHtml = 'Like what you see? Visit the ' +\n",
              "          '<a target=\"_blank\" href=https://colab.research.google.com/notebooks/data_table.ipynb>data table notebook</a>'\n",
              "          + ' to learn more about interactive tables.';\n",
              "        element.innerHTML = '';\n",
              "        dataTable['output_type'] = 'display_data';\n",
              "        await google.colab.output.renderOutput(dataTable, element);\n",
              "        const docLink = document.createElement('div');\n",
              "        docLink.innerHTML = docLinkHtml;\n",
              "        element.appendChild(docLink);\n",
              "      }\n",
              "    </script>\n",
              "  </div>\n",
              "\n",
              "\n",
              "<div id=\"df-db0a1d09-bb30-4efb-a839-4daae559d118\">\n",
              "  <button class=\"colab-df-quickchart\" onclick=\"quickchart('df-db0a1d09-bb30-4efb-a839-4daae559d118')\"\n",
              "            title=\"Suggest charts.\"\n",
              "            style=\"display:none;\">\n",
              "\n",
              "<svg xmlns=\"http://www.w3.org/2000/svg\" height=\"24px\"viewBox=\"0 0 24 24\"\n",
              "     width=\"24px\">\n",
              "    <g>\n",
              "        <path d=\"M19 3H5c-1.1 0-2 .9-2 2v14c0 1.1.9 2 2 2h14c1.1 0 2-.9 2-2V5c0-1.1-.9-2-2-2zM9 17H7v-7h2v7zm4 0h-2V7h2v10zm4 0h-2v-4h2v4z\"/>\n",
              "    </g>\n",
              "</svg>\n",
              "  </button>\n",
              "\n",
              "<style>\n",
              "  .colab-df-quickchart {\n",
              "      --bg-color: #E8F0FE;\n",
              "      --fill-color: #1967D2;\n",
              "      --hover-bg-color: #E2EBFA;\n",
              "      --hover-fill-color: #174EA6;\n",
              "      --disabled-fill-color: #AAA;\n",
              "      --disabled-bg-color: #DDD;\n",
              "  }\n",
              "\n",
              "  [theme=dark] .colab-df-quickchart {\n",
              "      --bg-color: #3B4455;\n",
              "      --fill-color: #D2E3FC;\n",
              "      --hover-bg-color: #434B5C;\n",
              "      --hover-fill-color: #FFFFFF;\n",
              "      --disabled-bg-color: #3B4455;\n",
              "      --disabled-fill-color: #666;\n",
              "  }\n",
              "\n",
              "  .colab-df-quickchart {\n",
              "    background-color: var(--bg-color);\n",
              "    border: none;\n",
              "    border-radius: 50%;\n",
              "    cursor: pointer;\n",
              "    display: none;\n",
              "    fill: var(--fill-color);\n",
              "    height: 32px;\n",
              "    padding: 0;\n",
              "    width: 32px;\n",
              "  }\n",
              "\n",
              "  .colab-df-quickchart:hover {\n",
              "    background-color: var(--hover-bg-color);\n",
              "    box-shadow: 0 1px 2px rgba(60, 64, 67, 0.3), 0 1px 3px 1px rgba(60, 64, 67, 0.15);\n",
              "    fill: var(--button-hover-fill-color);\n",
              "  }\n",
              "\n",
              "  .colab-df-quickchart-complete:disabled,\n",
              "  .colab-df-quickchart-complete:disabled:hover {\n",
              "    background-color: var(--disabled-bg-color);\n",
              "    fill: var(--disabled-fill-color);\n",
              "    box-shadow: none;\n",
              "  }\n",
              "\n",
              "  .colab-df-spinner {\n",
              "    border: 2px solid var(--fill-color);\n",
              "    border-color: transparent;\n",
              "    border-bottom-color: var(--fill-color);\n",
              "    animation:\n",
              "      spin 1s steps(1) infinite;\n",
              "  }\n",
              "\n",
              "  @keyframes spin {\n",
              "    0% {\n",
              "      border-color: transparent;\n",
              "      border-bottom-color: var(--fill-color);\n",
              "      border-left-color: var(--fill-color);\n",
              "    }\n",
              "    20% {\n",
              "      border-color: transparent;\n",
              "      border-left-color: var(--fill-color);\n",
              "      border-top-color: var(--fill-color);\n",
              "    }\n",
              "    30% {\n",
              "      border-color: transparent;\n",
              "      border-left-color: var(--fill-color);\n",
              "      border-top-color: var(--fill-color);\n",
              "      border-right-color: var(--fill-color);\n",
              "    }\n",
              "    40% {\n",
              "      border-color: transparent;\n",
              "      border-right-color: var(--fill-color);\n",
              "      border-top-color: var(--fill-color);\n",
              "    }\n",
              "    60% {\n",
              "      border-color: transparent;\n",
              "      border-right-color: var(--fill-color);\n",
              "    }\n",
              "    80% {\n",
              "      border-color: transparent;\n",
              "      border-right-color: var(--fill-color);\n",
              "      border-bottom-color: var(--fill-color);\n",
              "    }\n",
              "    90% {\n",
              "      border-color: transparent;\n",
              "      border-bottom-color: var(--fill-color);\n",
              "    }\n",
              "  }\n",
              "</style>\n",
              "\n",
              "  <script>\n",
              "    async function quickchart(key) {\n",
              "      const quickchartButtonEl =\n",
              "        document.querySelector('#' + key + ' button');\n",
              "      quickchartButtonEl.disabled = true;  // To prevent multiple clicks.\n",
              "      quickchartButtonEl.classList.add('colab-df-spinner');\n",
              "      try {\n",
              "        const charts = await google.colab.kernel.invokeFunction(\n",
              "            'suggestCharts', [key], {});\n",
              "      } catch (error) {\n",
              "        console.error('Error during call to suggestCharts:', error);\n",
              "      }\n",
              "      quickchartButtonEl.classList.remove('colab-df-spinner');\n",
              "      quickchartButtonEl.classList.add('colab-df-quickchart-complete');\n",
              "    }\n",
              "    (() => {\n",
              "      let quickchartButtonEl =\n",
              "        document.querySelector('#df-db0a1d09-bb30-4efb-a839-4daae559d118 button');\n",
              "      quickchartButtonEl.style.display =\n",
              "        google.colab.kernel.accessAllowed ? 'block' : 'none';\n",
              "    })();\n",
              "  </script>\n",
              "</div>\n",
              "    </div>\n",
              "  </div>\n"
            ],
            "text/plain": [
              "     goodreads_book_id  tag_id  count  id\n",
              "300                  5   11557  40087  18\n",
              "301                  5   11305  39330  18\n",
              "302                  5    8717  17944  18\n",
              "303                  5   33114  12856  18\n",
              "304                  5   30574  11909  18\n",
              "..                 ...     ...    ...  ..\n",
              "395                  5   20781    299  18\n",
              "396                  5   32345    298  18\n",
              "397                  5   12600    282  18\n",
              "398                  5    3379    277  18\n",
              "399                  5    5444    273  18\n",
              "\n",
              "[100 rows x 4 columns]"
            ]
          },
          "execution_count": 6,
          "metadata": {},
          "output_type": "execute_result"
        }
      ],
      "source": [
        "dict_map = dict(zip(books.goodreads_book_id,books.book_id))\n",
        "book_tags['id'] = book_tags.goodreads_book_id.apply(lambda x: dict_map[x])\n",
        "book_tags[book_tags['goodreads_book_id']==5]"
      ]
    },
    {
      "cell_type": "code",
      "execution_count": null,
      "metadata": {
        "colab": {
          "base_uri": "https://localhost:8080/"
        },
        "id": "VY1vj_GgC02I",
        "outputId": "b6375338-3606-451e-aa2c-131b3c5d763a"
      },
      "outputs": [
        {
          "data": {
            "text/plain": [
              "(300738, 4)"
            ]
          },
          "execution_count": 7,
          "metadata": {},
          "output_type": "execute_result"
        }
      ],
      "source": [
        "book_tags = book_tags[book_tags.tag_id.isin(tags.tag_id)]\n",
        "book_tags.shape"
      ]
    },
    {
      "cell_type": "markdown",
      "metadata": {
        "id": "nr_22edmDE_G"
      },
      "source": [
        "Отлично, мы подготовили информацию о тегах книг — это будет метаинформацией для построения рекомендательной системы. Теперь нам необходимо подготовить данные о взаимодействии пользователей и книг. Для этого нам понадобится файл `ratings`.\n",
        "\n",
        "Оба набора данных (и про взаимодействия, и про метаинформацию) необходимо преобразовать в разрежённые матрицы. Это можно сделать с помощью специальной функции из модуля `scipy`.\n",
        "\n",
        "Нам важно преобразовать данные в специальный формат, в котором хранятся разрежённые матрицы — будем использовать формат *Compressed Sparse Row* (*CSR*), подразумевающий подсчёт кумулятивной суммы количества элементов в строке вместо индексов строк.\n",
        "\n",
        "![image.png](data:image/png;base64,iVBORw0KGgoAAAANSUhEUgAAAY0AAAD+CAIAAABJBM5dAAAgAElEQVR4Ae2dD1RU17X/T/LS9xZN7WqIvTGGGGqsUmxISqNvfEhDJtKJoYZHKJRQiFYKFQs+xCigEQVR4z9KKCJKxD8UMQj+IYiigsyIiiAwREUE/4Gg/FGBQf7IDHN+65fz3lmHmWEYw73DwOxZLte++5679z6fc+c75965zEEYXkAACAAB0yaATLs8qA4IAAEggEGn4CQAAkDA1AmYu07dqL7u86n7tDdfE78nSvk6SbjhUqlUe/ck206d9O2xw7xn6VQoli4J/M1bv3z3HZuV4cuePn3KewqMsXGyaFQeF7vZafYMmylWCz7zamxs0Ngr3OaIdJbtzvGcYx+7zJliPcHtY8k5WSG7ywxts9ap2pobNlOsQpYsKikpTkqMf/XnP0mIjxXiJDh96sTsWb+ZbmM9kRvHu0719vY6ix1cPnxfWliQfTTLbvqb3n9y470XxsmiUXZEWOh0G+ujRzJl0rMfu8yxt5v68GGrRhshNkeks2xHjh3Neu2Vn25PiCstvfT50qDXX/3ZxQtFbANzs81ap/4n+G/u/z1XrVaTUY+P2zrFekJXVxe/J4G8osxmilVCfGxXV9cU6wm861TGwbRpb77W3t5Gyr5ceomztCgpKea3F8bJwtZcV3f3lZd/TN+fHR3t06e9ERe7mW0jkG38zrIdUavVM+xtt27eQJ1eHq4e7n+gm2ZomK9OdXV1TZr40uGsDDrqra0tE8a/eOTwIerhy6DaJ4ROfewy5/OlQWyp7zm8uzw0mPUM3zZOFrbOTRujZ820Yz0RYaH/9Z9vsx6BbON3lu3IOVkhZ2nx4H4jdeZkH+EsLZoe3KceczPMV6dqblRzlha3b91kh1w0463YrV+yHn5tIXRq+rQ3UvensHUuC/n7H90+Yj3Dt42Tha3Tf6FPYMAC1pOV+c1rr/yUzn/ZXfzaxu8sW//elF12099kPU0P7nOWFpeKL7BOs7LNV6ekhQWcpUWnQsGO97yPPuB9JsLG512n+vr6OEuLkydy2Cxfbojid95hnCxsFzDGf5grjly1gnXKpGc5S4uW5ibWybs9Ip1le7Fx/doPnGaxHqVSyVlaCDHTZ7OYsm2+OpV/Jo+ztKC3dcggfeL6YURYqHADxrtOdXd3c5YWx3OOsTVv3bzhPYd3Wc8wbeNk0SjyQ+ffrYr4nHVevFDEWVo8fvyIdfJuj0hn2V5Er13l5DiT9ajV6ld//pOc7COs06xs89Wpa9eucJYWtTU32PF2nGX/z6+2sR5+bd51CmM8dfLEvXuS2TrDlod4ebiynuHbxsnC1rngM68AP1/Wk300a9LEl1iPQLbxO8t2JHnn9uk21qzn4cNWztKi7HIJ6zQr23x1SqHomDD+xfS0/XS8OxWK11/92fFvj1IP74YQOvX7D2YHLf4rW6qLxGll+DLWM3zbOFnYOtdGRvz27WmsZ/26SKfZM1iPQLbxO8t25PSpE5ylxd27d6izsODMhPEvGueZDJrUpAzz1SmM8V/mf+ry4fv9/f1kSPbt/dp26iSBHpIkKYTQqa93JU5+g2ttbSEpamtucJYWV76T83ueGScLW3NV1VXO0uJs/mni7Onpefcdm6TEeLaNQLbxO8t2pK+v79e/+kVM9Grq/NtfP/vszx500wwNs9apSnm59evj/x7oV3a5JD1tv7XVy3tTdgl6EgihU50KxayZdpI5jtLCgvwzebNm2mlcLvHSI+Nk0Sh1kf98mylWRw4fKikp9vnUfdZMu46Odo02QmyOSGfZjuzb+/UrL/84Pm6rvKIsJnq19evjK8ovsw3MzTZrncIYl10u8fjEZYr1BMkcx4MHUoUefiF0CmPc2toS4Oc7fdobohlvRa9dpVKphOiIcbKwlatUqui1q0Qz3ppuYx3g59vS0szuFdQ2fmc1unPwQOrvP5g9xXqCxycu5nxnimAxd53SODlgEwgAARMkADplgoMCJQEBIDCAAOjUABywAQSAgAkSAJ0ywUGBkoAAEBhAAHRqAA7YAAJAwAQJgE6Z4KBASUAACAwgADo1AAdsAAEgYIIEQKdMcFCgJCAABAYQAJ0agAM2gAAQMEECoFMmOChQEhAAAgMIgE4NwAEbQAAImCAB0CkTHBQoCQgAgQEEQKcG4IANIAAETJAA6JQJDgqUBASAwAACoFMDcMAGEAACJkgAdMoEBwVKAgJAYAABc9epG9XXfT51n/bma+L3RClfJw1gw99Gp0KxdEngb9765bvv2KwMX8bvTxsrlcrtCXEf/f69X0z6+W/fnrY2MoIua8pfD/43kkql2rsn2XbqJN5XdR6s1LjYzU6zZ9hMsVrwmVdjY8NgzXj3CzpkBlZ7s7Zmvo/n7/7rtwa2H8PNzFqnamtu2EyxClmyqKSkOCkx/tWf/yQhPpb3we7t7XUWO7h8+L60sCD7aJbd9De9/+TGY5a1q8NdJE6HMtJLSy/tSIyfNPGl5cuW8Bifhjp96sTsWb+ZbmM9kRtnHJ2KCAudbmN99EimTHr2Y5c59nZTjbOWgdBDRpEOZjx69HBl+LKJ3Li3fz0FdApjbNY69T/Bf3P/77l0fd34uK1TrCfwPhnJOJg27c3X6EKBl0svcZYWJSXFg52jz+p/9Ogh7QLGeMum9davj2c9zxpQZ3t5RZnNFKuE+Niuri6Bfj1ZI29d3d1XXv7xxQtFxN/R0T592htxsZs1mgmxKfSQDVnzn70++dMfP64ov7xzxz9Bp8xap7q6uiZNfOlwVgY9aVpbWyaMf5H3VWc/dpnz+dIgmgVj/J7Du8KtunwqL5eztHjS2clm5MWmCm4cndq0MXrWTDu28oiwUH7XeWaDs7aRh4xNTWyKGnSKADHf+VTNjWrO0uL2rZvsWSKa8Vbs1i9Zz/Dt6dPeSN2fwsZZFvL3P7p9xHp4tHckxr9lO5nHgNqhjKNT/gt9AgMWsNmzMr957ZWf8j5VZFMQ28hDpl0A9YBOERTmq1PSwgLO0qJToaDnBMZ43kcf8DvT6evr4ywtTp7IYbN8uSFKoHmBSqVyEL2zLuoLNh3vtnF06g9zxZGrVrDFy6RnOUuLluYm1sm7beQh018/6BThY746lX8mj7O0oLeNCI5PXD+MCAvVf+o8097u7m7O0uJ4zjH2qK2bN7zn8C7r4ctO3P7VFOsJQr+TjaNTHzr/blXE5yyZixeKOEuLx48fsU7ebSMPmf76QacIH/PVqWvXrnCWFrU1N9gTxXGW/T+/2sZ6hm9PnTxx755kNk7Y8hAvD1fWw4t94fy5idy4nOwjvETTE8Q4OrXgMy+NBVOzj2ZNmviSnsL42mW0IRuyYNApgsh8dUqh6Jgw/sX0tP30XOlUKF5/9WfHvz1KPbwYv/9gdtDiv7KhXCROK8OXsZ7h23fv3P7VL19fPfBCafhhdUYwjk6tjYz47dvT2ALWr4t0mj2D9QhkG2fIDCkedIpQMl+dwhj/Zf6nLh++39/fT1js2/u17dRJ/D6EiTH+elfi5De41tYWkqW25gZnaXHlO7khp6mBbe43Nvz27WkBfr5GuMeMMTaOTlVVXeUsLc7mnyYQenp63n3HJikx3kAmw2lmhCEzsDzQKQLKrHWqUl5u/fr4vwf6lV0uSU/bb2318t6UXQaeQIY361QoZs20k8xxlBYW5J/JmzXTTuNyxvBQOlu2trb813++7TR7xo3q63du3yL/BL2JYxydwhgv8p9vM8XqyOFDJSXFPp+6z5pp19HRrhMCv06hh8zwakGnCCuz1imMcdnlEo9PXKZYT5DMcTx4INXwE+iZWra2tgT4+U6f9oZoxlvRa1epVKpnOlx/4y83RHGWFhr/Nq5fq/+o4ew1mk6pVKrotatEM96abmMd4Ofb0tI8nLKf6VhBh8zwSkCnCCtz1ynDzxhoCQSAwEgRAJ0aKfKQFwgAAUMJgE4ZSgraAQEgMFIEQKdGijzkBQJAwFACoFOGkoJ2QAAIjBQB0KmRIg95gQAQMJQA6JShpKAdEAACI0UAdGqkyENeIAAEDCUAOmUoKWgHBIDASBEAnRop8pAXCAABQwmAThlKCtoBASAwUgRAp0aKPOQFAkDAUAKgU4aSgnZAAAiMFAHQqZEiD3mBABAwlADolKGkoB0QAAIjRQB0aqTIQ14gAAQMJWDuOnWj+rrPp+7T3nxN/J4o5eskQ7E9Y7tOhWLpksDfvPXLd9+xWRm+jPefNhY6PumucbJooI2L3ew0e4bNFKsFn3k1NjZo7BVuc0Q6y3bneM6xj13mTLGe4Pax5JyskN1lhrZZ61RtzQ2bKVYhSxaVlBQnJca/+vOfJMTH8n4S9Pb2OosdXD58X1pYkH00y276m95/cuMxi9DxSanGyaKBJSIsdLqN9dEjmTLp2Y9d5tjbTX34sFWjjRCbI9JZtiPHjma99spPtyfElZZe+nxp0Ouv/oyuX882Mx/brHXqf4L/5v7fc+naB/FxW6dYT6BLZvN1EmQcTJv25mt0ocDLpZc4S4uSkuLREp/UKXQvtGnU1d195eUf0/dnR0f79GlvxMVu1m7Ju8f4nWW7oFarZ9jbbt28gTq9PFw93P9AN83QMF+d6urqmjTxpcNZGXTUW1tbJox/8cjhQ9TDi/Gxy5zPlwaxod5zeJfHVZeFjk8qN04WltKmjdGzZtqxnoiwUIHWkWazYIyN31m2gHOyQs7S4sH9RurMyT7CWVo0PbhPPeZmmK9O1dyo5iwtbt+6yQ65aMZbsVu/ZD3Dt6dPeyN1fwobZ1nI3//o9hHrGY4tdHxSm3GysBz8F/oEBixgPVmZ37z2yk/p/Jfdxa9t/M6y9e9N2WU3/U3W0/TgPmdpcan4Aus0K9t8dUpaWMBZWnQqFOx4z/voAx5nOhjjvr4+ztLi5IkcNsuXG6L4mhcIHZ+UbZwsLCKM8R/miiMHLpsqk57lLC2EXpV+RDrL9n3j+rUfOM1iPUqlkrO04H2mz6Ywcdt8dSr/TB5naUFvG5Fx+sT1w4iwUB7HrLu7m7O0OJ5zjI25dfOG9xzeZT0/2BY6PinMOFk0IHzo/LtVEZ+zzosXijhLC0GXJsQYj0hn2W5Gr13l5DiT9ajV6ld//pOc7COs06xs89Wpa9eucJYWtTU32PF2nGX/z6+2sZ7h21MnT9y7J5mNE7Y8xMvDlfUMxxY6PqnNOFlYDgs+89JYkDX7aNakiS+xbQSyjd9ZtiPJO7dPt7FmPQ8ftnKWFmWXS1inWdnmq1MKRceE8S+mp+2n492pULz+6s+Of3uUengxfv/B7KDFf2VDuUicVoYvYz3DsYWOT2ozThaWw9rIiN++PY31rF8X6TR7BusRyDZ+Z9mOnD51grO0uHv3DnUWFpyZMP5F4zyTQZOalGG+OoUx/sv8T10+fL+/v58Myb69X9tOncT7Q5hf70qc/AbX2tpCstTW3OAsLa58J+frPBA6PqnTOFlYJlVVVzlLi7P5p4mzp6fn3XdskhLj2TYC2cbvLNuRvr6+X//qFzHRq6nzb3/97LM/e9BNMzTMWqcq5eXWr4//e6Bf2eWS9LT91lYv703ZxftJ0KlQzJppJ5njKC0syD+TN2umncblzDAzCh2flGecLBooFvnPt5lideTwoZKSYp9P3WfNtOvoaNdoI8TmiHSW7ci+vV+/8vKP4+O2yivKYqJXW78+vqL8MtvA3Gyz1imMcdnlEo9PXKZYT5DMcTx4IFWg4W9tbQnw850+7Q3RjLei165SqVT8JhI6PqnWOFlYMiqVKnrtKtGMt6bbWAf4+ba0NLN7BbWN31mN7hw8kPr7D2ZPsZ7g8YmLOd+ZIljMXac0Tg7YBAJAwAQJgE6Z4KBASUAACAwgADo1AAdsAAEgYIIEQKdMcFCgJCAABAYQAJ0agAM2gAAQMEECoFMmOChQEhAAAgMIgE4NwAEbQAAImCAB0CkTHBQoCQgAgQEEQKcG4IANIAAETJAA6JQJDgqUBASAwAACoFMDcMAGEAACJkgAdMoEBwVKAgJAYAAB0KkBOGADCAABEyQAOmWCgwIlAQEgMIAA6NQAHLABBICACRIAnTLBQYGSgAAQGEDA3HXqRvV1n0/dp735mvg9UcrXSQPY8LfRqVAsXRL4m7d++e47NivDl/H+08ZCx6ckVCrV3j3JtlMnfXvsMHUKasTFbnaaPcNmitWCz7waGxsEzUWDy6Rn//qXP8+wt5008SUH0TtJifFGWDSQZifG8ZxjH7vMmWI9we1jyTlZocZec9s0a52qrblhM8UqZMmikpLipMT4V3/+k4T4WN7PgN7eXmexg8uH70sLC7KPZtlNf9P7T248ZhE6Pi319KkTs2f9ZrqN9URunHF0KiIsdLqN9dEjmTLp2Y9d5tjbTTXOWgaL//aXuNjN52SF8oqyxO1fTZr4UnzcVsrBCMaxo1mvvfLT7QlxpaWXPl8a9PqrP6Pr1xshuwmmMGud+p/gv7n/91z6URkft3WK9YSuri5+xynjYNq0N1+jCwVeLr3EWVqUlBTzlUXo+KROeUWZzRSrhPjYrq6uKdYTjKBTdXV3X3n5x/T92dHRPn3aG3Gxm/niZnicbVs28rXeoiFJ1Wr1DHvbrZs30MZeHq4e7n+gm2ZomK9OdXV1TZr40uGsDDrqra0tE8a/yPuqsx+7zPl8aRDNgjF+z+FdHlddFjo+rZwquHF0atPG6Fkz7Wh2jHFEWChf60izYYe0t23Z6Cx2GLIZXw3OyQo5S4sH9xtpwJzsI5ylRdOD+9Rjbob56lTNjWrO0uL2rZvskItmvBW79UvWM3x7+rQ3UvensHGWhfz9j24fsZ7h2ELH167NODrlv9AnMGABmz0r85vXXvkpnf+yuwSyHz5s/Vfqnuk21qfycgVKoR12b8ouu+lvsv6mB/c5S4tLxRdYp1nZ5qtT0sICztKiU6Fgx3veRx/wONPBGPf19XGWFidP5LBZvtwQxde8QOj4bNnUNo5O/WGuOHLVCpoUYyyTnuUsLVqam1inQLZKpeIsLci/jevX9vT0CJRIO+zG9Ws/cJrF+pVKJWdpwftMn01h4rb56lT+mTzO0oLeNiLj9InrhxFhoTyOWXd3N2dpcTznGBtz6+YNfN3vEDo+Wza1jaNTHzr/blXE5zQpxvjihSLO0uLx40esUzj7zu1b31VW7N+3+51fT3H58H3eVzMbrPLotaucHGeye9Vq9as//0lO9hHWaVa2+erUtWtXOEuL2pob7Hg7zrL/51fbWM/w7amTJ+7dk8zGCVse4uXhynqGYwsdX7s24+jUgs+8NBZkzT6aNWniS9r1CO2prq7iLC1O5H4rdCISP3nn9uk21myuhw9bOUsLc17Fz3x1SqHomDD+xfS0/fSE6FQoXn/1Z8e/PUo9vBi//2B20OK/sqFcJE4rw5exnuHYQsfXrs04OrU2MuK3b09js69fF+k0ewbrMZr961/9wjhLxmOMT586wVla3L17h/ausODMhPEvGueZDJrUpAzz1SmM8V/mf+ry4fv9/f1kSPbt/dp26iTeH8L8elfi5De41tYWkqW25gZnaXHlOzlf54HQ8bXrNI5OVVVd5SwtzuafJgX09PS8+46N0cSC7fX9xoZXXv5x/pk81imc3dfX9+tf/SImejVN8be/fvbZnz3ophkaZq1TlfJy69fH/z3Qr+xySXrafmurl/em7OL9JOhUKGbNtJPMcZQWFuSfyZs1007jcmaYGYWOr12ecXQKY7zIf77NFKsjhw+VlBT7fOo+a6ZdR0e7dj38ep50ds6wt9385brTp05UlF/Oyvxm9qzfuEiclEolv4n0RNu39+tXXv5xfNxWeUVZTPRq69fHV5Rf1tN+zO8ya53CGJddLvH4xGWK9QTJHMeDB1IFGu/W1pYAP9/p094QzXgreu0q3u/ICh1fA4vRdEqlUkWvXSWa8dZ0G+sAP9+WlmaNSoTY7O3tTd2f8ke3j+ymv/n6qz/7r/98OyZ6tRH0UaMvBw+k/v6D2VOsJ3h84mLOd6YIFnPXKY2TAzaBABAwQQKgUyY4KFASEAACAwiATg3AARtAAAiYIAHQKRMcFCgJCACBAQRApwbggA0gAARMkADolAkOCpQEBIDAAAKgUwNwwAYQAAImSAB0ygQHZfSV1NraunbgKyoqas2aNf/4xz+M+Xjk6AMHFRtGAHTKME7QahAC5K+Orly5gnS9LC0t6a/rDRIA3EBgaAKgU0MzghZ6CJBfrauqqvrRj370wgsvkP9feOGFf//3f3/hhRd+8YtfdHd36zkcdgEBQwiAThlCCdoMSoDMp65du/bcc88hhMj/CKHnn38eITRp0iSYTw3KDnYYTAB0ymBU0FAXAdApXVTAxzMB0CmegZpbONApcxvxEekv6NSIYB87SUGnxs5YmnBPQKdMeHBGQ2mgU6NhlEZ9jaBTo34IR7YDoFMjy99MsoNOmclAC9VN0CmhyEJchgDoFAMDzGcnADr17MzgiGcmADr1zMjgAJYA6BRLA2yBCIBOCQTWXMKCTpnLSI9oP0GnRhT/6E8OOjX6x3AU9AB0ahQMkimXCDplyqMzZmoDnRozQzkyHQGdGhnuZpYVdMrMBpzv7oJO8U0U4ukgADqlAwq4DCcAOmU4K2j5gwmATv1gdHDg/ycAOgXngREIgE4ZAfKYTdHf39/X16dSqa5cuTLY708pFArV9y+iaGOWBXRMSAKgU0LSNZvYdXV15IfxyP8IoX/7t39DCFlbW5sNA+iogARApwSEO7ZDP3ny5NixYydPnszLy9u5c6f2fOq5557jOO7o0aN5eXknT57MyckZ20Cgd8IRAJ0Sju0Yj/z06dOlS5eyqzc89/2LeuhvEBNPfHz8GCcC3ROMAOiUYGjNI/CKFSsQQv/xH//BzqeoYD3//PM/+tGPnnvuuf3795sHD+ilIARApwTBaiZBya3x0NBQhBDRI7KUA9Gs559/ntylSk5OxhirVCozwQLd5J0A6BTvSM0rIJGq4OBgVqrIejMvvPACQigpKQlEyrzOCQF6CzolAFQzC0mkavHixVSqnn/+eSJSCQkJIFJmdjoI0l3QKUGwmltQIlX+/v5EqsjlXlxcHIiUuZ0JAvUXdEogsGYXlkhVQEAA+XYvNjYWRMrsTgLBOgw6JRha8wtM1nD/+OOPV6xYASJlfuMvYI9BpwSEC6GBABDghQDoFC8YIQgQAAICEgCdEhAuhAYCQIAXAqBTvGCEIEAACAhIAHRKQLgQGggAAV4IgE7xghGCAAEgICAB0CkB4UJoIAAEeCEAOsULRggCBICAgARApwSEC6GBABDghQDoFC8YIQgQAAICEgCdEhAuhAYCQIAXAgN0SiKR7Nmzh8Y9e/YsQuj27dvUM2aMtLQ0R0dH7e4kJSV5enpq+8EzIgSUSuXdu3cNTP306dPq6mryN4b6DzG8pf44sNdoBAbVqe7ubrFYTP7q3WjVGC2REDrV3Nz8j3/8QyKRhIeHX7p0yWh9GcOJ5HK5r6+vgR3cv38/Qqivr2/I9kO27O3tzcjICAwMdHNzS01N7erqGjImNBCUwKA6deTIEY7jmpubBU0/UsF516nW1laRSBQTE1NSUnLo0CGEkEwmG6nejY28dXV13t7eBurU1atXye/JDKlTQ7bs7u5evnx5YGBgUVFRbm7u3Llzo6KiDJmmjQ3sptkL3TrV1tY2derU1NRU0yx6+FXxrlP79+/38/Ojb5LMzMx58+Yplcrhl2qGEerr6x0cHIjuGKJTCoVCIpGsXLlyyPmUIS3z8/OdnZ0VCgUhX1ZWhhCqr683w4EwnS7r1qndu3fb29t3dHSQQgsLC21tbXt7e2nd2dnZYrG4qqoKIWRra9vd3U13YYwvXbqEECI3gAY7VqlUdnV1kXOR/T8vL4+Eampq2rhx44wZM+hecspeuHCBeqhB5n1qtbqoqCgsLEwkEnl6eiYnJ7e3t7OFUdtAnaqvr9+yZYtEIvHy8srIyNDoJo3W398/depUdn26+/fvI4SuXr1K2xBDrVbTmhFCkydPDgsL03MLprS0dPXq1U5OTmvXri0vL8cYD9Z9ErmioqKgoGDp0qXz5s1LSEh4/PgxLaC6unrdunVisTgoKCgrK+vp06cYY7lczr63U1NTxWIxGejB+t7W1oYQSktLo5F5N3p6euq+fyUkJAypU2q1etOmTbt27Tp37hzbF+2qDGw5f/789PR0erharW5ubh5s6GkzMAQloKlTkZGR586dGzdu3PHjx2nix48fI4QqKyuJR61W+/j4pKen19bWIoS8vb2LiopoY4xxRESEt7c30anBjsUYE53Ky8u7838vsVhMdEqpVHp5eYWHh1+9epXs3LNnDzllFQoF8fj5+SUkJBCbTGSys7MRQhkZGXK5/NSpU56enpGRkWxh1E5LS7OzsyvTeoWHh9P76LW1tVZWVomJiXK5XCqVurm5LVmyROcUqaOjAyH03Xff0fhKpRIhdOrUKeohBlGTo0ePkrJramqio6MlEonOtVjy8vLGjRuXlZVVXl6+d+9eci05WPdJ5ICAgLCwsOLiYplM5uXlJZFInjx5gjEuLy9HCO3YsYMImVgsDg8PV6vVrE61t7dPnjz5xIkTGGM9fVcoFFFRUQUFBRpdE2Lz4MGDQ+qUVCr19PTs7u4uKirSr1OGtCTnZFlZWX9//4MHDxoaGugcWYgOQkwDCWjqFP20r6urY0OsXLlyx44dxHP37l2E0N27d4lOnThxIiQkhDZuamqaOnVqdnY2/UJN57FUp9hJh6urK9Gp5uZmhNC1a9do2NzcXI1TdtmyZYcOHaINMMbJycmZmZnUc+7cOY7jdN5ZSEtLoz3VMIhOqdXqxYsXk7VSSMDm5maO4y5evEjjU6OhoQEhdPPmTerBGItEosOHD7MejDFRk9LSUuonCqI971MoFHZ2dqdPn6YtExISvL296Sg/3GIAACAASURBVKZG90lkHx8f+r5qb2+3s7M7evSoSqXy8PCgw4cxvnPnDvngYXUqIyNDJBJ1d3c/U99pPUIYQ+pUU1OTra1tbW0txli/ThnYsqWlBSF08uRJd3d3cmI4OzvL5XIhegcxDSegqVN79uzp6+vz8/OLiIggv3hNYkmlUnt7e3KxkJGR4ePjo1ariU41Nzc7ODjcu3ePtMzMzExOTpZKpVSndB6rX6eUSqVIJNqzZ09PTw8Ja4hOkZa9vb3Nzc3Xrl0jS2AOplP29vakPfs/fS6BTJEuXbrUxrwWLlyYkpLS19fX+H+vlpYWjPG9e/d06tSRI0fY4FSnsrOzyXVNbW3tmjVrli1bptEMY3zt2jWEEL30xhiTK2XaUqdOsdeeGOOkpKQvvvji4cOHCKHq6mp6LMZ44cKFhw4dIjp18+bN2tpaW1vbY8eOYYz19J2NYARbv04plcolS5bQzyo9OmV4S/IZbG9vL5fLe3t7Ozo6UlJSrKysGhsbjdBfSDEYAR06hTG+deuWxjdW5K7E1atX+/v7XVxcyFUh0am2trYDBw7861//Iu8lZ2fn2tpaVqd0Hqtfp8gb1dPTk53sDDmfamhoCAsLQwiJxeLVq1fHxMQghH6YTpHzlc1O7Li4uMbGRuoPDw/HGJMOstd9KpVKAyAZADLroYcTIz8/X3t4ZDIZQoj9qNBoo1OnLly4wDY7cuSIm5sbGc0HDx6wu2JiYuLj44lO0XrIxERP39kIRrD16xT5/JPL5VXfv1JTU8kkUfuJP8Nbkol8bm4u7Z1SqXR0dNT+yKENwDACAd06hTHet2/fjBkz2BuxX3zxRXJyck1NDUKIzCOoTt27d08kEvX29srlci8vL7VazeoUxlj7WPq5zX7O0+s+jHFjY+PcuXNzc3Nv3759584den+KQtF4o/b19dnZ2SUlJdGaS0pKfrBOkTmIxsUvTa1hKJXKqVOn0m8AMMZNTU167qPT6z6lUnnx4kWEEBEINmxlZSVCqLOzkzo7Ojru3LlDNzW6TxRQYz61a9eu8PDw1tZWhNCNGzfosRhjf3//gwcP0us+pVIZGBgYFhamVqufqe9sTN5t/TqVm5tLFZY1tOenhrfs7u5GCNEBIj0KCAhgn3/mvZsQcEgCg+pUd3e3q6vrpk2baAiZTCYSiRITE+l5QHUKYxwUFFRSUrJ+/XryWaShU9rHYozJW5F9RIvVqfT09AULFtDsQ1731dfXI4Ru3bpFD8nMzPzBOqVSqVxdXTMyMmi0tra24OBg9m4a3YUx3r1795IlS+j05/jx42KxmN4qoi2170/19fVZWVlp33F//Pgxx3HsQ1gbNmwg67iQaDp1ytfXl97p7+josLe3z8rKUqlUbm5uO3fupGUQVuXl5VSn6E2r8+fPP2vfaVjeDf06pZFOz3XfM7XcunVrfHw8PaS1tZXjuPPnz1MPGMYnMKhOUR0pKysjZbW3t5NPLfrmYXVKKpXOnz9/3Lhxjx49whhr6JT2sffu3XN3d1+5ciXbZ1anEhMT2W/rhtSp7u5uR0fHyMjIK1euXL9+PSUlRSKRIISqqqqofNBcaWlp+u9PYYzJgzM7d+6Uy+WFhYWBgYFBQUHkDh2NQ40HDx6IRKKkpKQbN26cPn2a4zid34gRnaL3p27evLlv3z5SJA1FjUOHDk2ePDknJ0cul+/evRshVFFRQffq1ClnZ+eVK1eWlpaeP3/e19eXft93+fJlhFBycvJ3331XWFjo7OxMpk6sTmGMU1NTHR0dFQqFnr53dnauX7/+7NmztBLhjBHRqfv374tEooSEBLlcLpPJPD09B/ueV7iOQ2QNAvp0CmNM/hCEfLeNMY6MjBw3bhx9BI7VqSdPnlhZWcXExJAEGjqlfWxBQUF8fDwNRY5idWrlypXsZHtIncIY3759OyIiQiQShYaGSqVShUIREhIiFou1H34xRKcwxtXV1dHR0U5OTj4+PgcOHGCvwjQ4YowbGhq2bdtG/m5G4z4Rbax9f8rNzY29G0JbkpvuMpls+fLlDg4Oy5cvZ0UKY6xTp0pLS48dO+bn5+fq6rp9+/a2tjYasKqqKioqysnJKTAwcLDnp7q7u+fNm5ecnKyn70Z4forWPCI6Re45xMbGzp0719/fPzMzk36ZQwsDw8gEBujUkLlXr169efPmIZvpbDCcY3UGBCdLgCggfIPOMgF7zBB4Bp0iT2zSy8BnQjCcY58pkdk2Bp0y26E3h44bpFMqlaq4uHjDhg3Ozs6D3aAZDNZwjh0sJvi1CYBOaTMBz5ghYJBOPX361MXFZeXKldpfnw8JYjjHDhkcGrAEqqqq2OdC2V1gA4FRTcAgnRrVPYTigQAQGO0EQKdG+whC/UBg7BMAnRr7Yww9BAKjnQDo1GgfQagfCIx9AqBTY3+MoYdAYLQTAJ0a7SMI9QOBsU8AdGrsjzH0EAiMdgKgU6N9BKF+IDD2CYBOjf0xhh4CgdFOAHRqtI8g1A8Exj4B0KmxP8bQQyAw2gmATo32EYT6gcDYJwA6NfbHmPzk3qNHj9iVYs2i29DJsUIAdMp4I9nW1paRkfHFF184ODiEhISkp6cb7ecNyFJX7HqIxuv2MDIplUo9i0UPIzAcOsoIgE4ZacCuXr1Kfr/44MGDRUVF2dnZHh4e9vb29fX1Qldw7969xMREKysruhKP0Bn5ii+XyzUWQ9OOXFNTExsb6+Li4uvru2/fvsGkv7+/XyaThYaGikSixYsXHz9+XM8vqfX29mZkZAQGBrq5uaWmpnZ1dWnnxRgbHvP+/fvsijjE1v45bJ1ZwIkxBp0yxmnQ1tZma2v71Vdfsb+0/fTp0+DgYE9PT52LtvNSVnV1dUBAAELIw8OjpKSEl5hGC1JXV+ft7a1fpyorKzmO27ZtW1lZmVQqdXd3X7Bggc7LW7I0VkZGRmVlZV5enr29PbvYNdup7u7u5cuXBwYGFhUV5ebmzp07NyoqSucqkIbHvHLlCkLozJkzBcyLrgzEZgdbJwHQKZ1YeHbu2rXL0dFR+/Pz0qVLCKGGhgae830frqmpyc7OLiMjY9RNo+rr6x0cHMikQ79O+fj4bN68mYoIWXX93LlzGjz7+/vt7e2//fZb6s/Pz0cI6Zwo5efnOzs70xVGyNI72tPeZ43p7u5Os4PxrARAp56V2DO3V6vVdnZ2dHlx9vinT5+2trb29vZeuHBB+7qArmxYXV29bt06sVgcFBREl4qhC0prHEiXO83MzAwNDT106JDP96+0tDQNoayvr9+yZYtEIvHy8srIyKB7c3NzPT09aZ0aa2cZYb2Znp4esq59QkKCHp0ia4IWFxfTUjHGHh4eaWlprAdj3NnZGRUVxWoNWTtSp4LPnz8/PT2dRlCr1c3NzRQO9T9TzNTU1HXr1tFjwXhWAqBTz0rsmduTN/bFixf1HKlQKO58//Lz80tISCA2Waa0vLwcIbRjx46KioqCggKxWBweHk5mEF1dXQihvLw80v7OnTtisZjqlLe3N0IoJiamrKyMLOfn5+dHb8rU1tZaWVklJibK5XKpVOrm5kZXqdOvUwqFIioqSufqhHo6+MN26V8XS6VSEZWnwclyIfn5+dSj0+js7Fy3bl1oaKj2XoK0rKysv7//wYMHDQ0N2ovFah9FpHCwmBjjmJiYtWvXfvXVV2Kx2M/P7+DBg9rCpzMsOAkB0CnBz4Tbt28PtpKodm6NVflUKpWHh8eOHTtoyzt37iCEKisr6XyKXaKZLoDY39+PEAoNDaVrrLa3t9PF5dVq9eLFi9kbNM3NzRzHETHVr1O0EiMY+nVKo4C2trYlS5a4ubnpvJojjRsaGsRiMUJowYIFOpuRK8eTJ0+6u7uTiaqzs7P+1caGjElmeVZWVocPH66oqDhx4oSDg0NgYCDcn9IYQT2boFN64PCzi3zXo38+RTNp6NTDhw8RQtXV1bQBxnjhwoXkKpJ8+OvUqc7OToSQVCplD4yLi1u/fj3GmDymcOnSpTbmtXDhwpSUFIzxqNMppVJ59uxZR0fH4ODglpYWtssadk9PT21tbXFx8aJFi4KCgrQnNXfv3kUI2dvby+Xy3t7ejo6OlJQUKyurxsZGjVB0c8iYZG1t9i4k+bCBteApwyEN0KkhEQ23QW9vr5WVVWZmpnag9vb2TZs2lZaW0l0aOnXr1i2E0IMHD2gDchERHx+vfz5FlIhMu+ix6enp/v7+GGPybtS4sYUQiouLG3U61dDQEBwcLJFIZDKZ4TMUcoWooeMY4+bmZoQQu0K1Uql0dHQ8cuQIxTiYMVhMne09PT337t2rcxc4tQmATmkz4d+zZcsWJycn7U9vcov68uXLNKWGTrW2tiKEbty4QRtgjP39/Q8ePEinRexsi73u4zhOJpOxB8bHx2/cuBFjTKZpdXV17F5qj6L5VF1dHXnCQJst7Q7G+Pr161FRURptpk6dmpOTwzbDGJN78+wnB8Y4ICBgz549Gi2fKWZjY6OGhvr6+mZkZGjEhM3BCIBODUaGT399ff24ceP++c9/so/2dHZ2zp8/39vbm97bxhhr6JRKpXJzc9u5cyetpr6+HiFUXl6OMSZfWtGvBTHGVKcwxtHR0cuXL6ff2Xd0dNjZ2ZGZgkqlcnV1Zd8nbW1twcHB5BJytOiUWq1etGjR5s2bKZzBjMbGRgqNtCEYNeabZNfWrVvJdJVstra2chynfY1meMwHDx6QrztoeQ0NDfQmI3WCoYcA6JQeOHzuOn/+PMdxCxcuzMrKunDhwpEjR5ydnSUSyb1799g0GjqFMb58+TJCKDk5+bvvvissLHR2dg4LC1Or1ffu3XN3d1+5ciV7OKtTDQ0NdnZ2X375ZUVFRXFx8YIFC9zc3OiDpuSxoJ07d8rl8sLCwsDAwKCgIKKYubm5Li4u5MmAuro68jQj/VK/s7Nz/fr1Z8+eZfMKZOu/j07e7SkpKUUDX7dv39auZ/fu3Y6Ojnl5eVeuXCkoKJg3b15ERITOJ2zv378vEokSEhLkcrlMJvP09KTfhGqENTxmSkqKra3tgQMH5HL5mTNnJBLJhg0b6EeIRljY1CYAOqXNRChPc3Pzrl27AgIC7O3t/f39s7Ky2tvbNZJp6xTGuKqqKioqysnJKTAwkD4/VVBQEB8fTx9HJHFYncIYNzU1xcbGzps3z9fXNyUlpbOzk01XXV0dHR1N/prnwIEDdC8RJo27V8uWLSPHGuH5KVqkfp0iV80adSKEdD6qplar8/Ly1qxZ4+DgEBwcnJ2dzc5taUZiNDY2xsbGzp0719/fPzMzk4q7RrNninnu3Lk1a9Y4OjqGhobm5eXplEiN+LBJCYBOURRgDEogLS2N6tSgjWAHEBCMAOiUYGjHUGDQqTE0mKOyK6BTo3LYjFz0+fPns7KyjJwU0gEBSgB0iqIAAwgAARMlADplogMDZQEBIEAJgE5RFGAAASBgogRAp0x0YKAsIAAEKAHQKYoCDCAABEyUAOiUiQ4MlAUEgAAlADpFUYABBICAiRIAnTLRgYGygAAQoARApygKMIAAEDBRAqBTJjowUBYQAAKUAOgURQEGEAACJkoAdMpEBwbKAgJAgBIAnaIowAACQMBECYBOmejAQFlAAAhQAqBTFAWfxpMnT1JTU+fPnz937txt27axayLxmWasx1IqlXfv3uW3l4bHFKIlv30xn2igU/yPdV9fn5+f39y5c3NzcwsLC0NCQiZPnqxnATj+KxgrEeVyuZ5120kva2pqYmNjXVxcfH199+3b19HRob/3hsQkEXhs2d/fL5PJQkNDRSLR4sWLjx8/zi7eob9g2IsxBp3i/zS4ePEiQojOoXp6eiQSya5du/jPNKYj1tXVeXt769epyspKjuO2bdtWVlYmlUrd3d0XLFig54fPDYlJoPLbkvzkfEZGRmVlZV5eHlnLa0yPHs+dA53iGSjGOD09XSQSsXHXrl0bHh7OesDWQ6C+vt7BwYEs0KBfp3x8fDZv3kwXbiGrrp87d047uOExeW/Z399vb2//7bff0qry8/MRQjoXjqdtwGAJgE6xNPixe3t72VNQoVA4ODikp6eT6FFRUfv376eZyBLera2tGGO1Wl1UVBQWFiYSiTw9PZOTk8mCNCqVCiFUVlZGj/L19WXXyKyvr9+yZYtEIvHy8srIyKALaurJlZaWtnr1ahrw+vXrCKG2tjbqGSymEdab6enpIatyJSQk6NEpsiZocXExrRlj7OHhkZaWxnqIbWBMjDHvLTs7O6OioujCYnThxcePH2vXCR6dBECndGLhx1lTU5OTk+Pp6Tl//nx630SPdmRnZyOEMjIy5HL5qVOnPD09IyMjMcb6daq2ttbKyioxMVEul0ulUjc3N7renJ5crE4plcoVK1awOqUnpkKhiIqKKigo4IeR3ij618VSqVStra3sVR5ZOT0/P19PVP0x2QOFaIkx7uzsXLduXWhoKJsLbP0EQKf08xnW3m+++WbGjBkIoV27dtHV8fRoR3JycmZmJk157tw5juPUarUenVKr1YsXL05KSqJHNTc3cxx38eJFjLGeXKxOHTp0aNy4cVSn9MekiYxgGK4UGOO2trYlS5a4ubmxk1ntIg2PyXvLhoYGsViMEFqwYIH+IrXLNnMP6JTgJ8Ddu3fFYjG9PxUVFRUbG0tXGy4qKkIIkes+Ukpvb29zc/O1a9fIHIfqFDtNoNd9HR0dCKFLly61Ma+FCxempKQQnRosF9Wpa9euWVlZ5eTkUJ3SH1NwXkwCA5VCqVSePXvW0dExODi4paWFCaDDNDAmxpj3lj09PbW1tcXFxYsWLQoKCqKX5zqqBNdAAqBTA3kMe0utVjc3N9PZE4mXl5eHECL3I6KiorSX8CU61dDQEBYWhhASi8WrV6+OiYlBCJGbxP7+/h4eHjKZrLKyMjc3VyQSkftTd+/e1Y6GEIqLiyM6pb2X5CI61d7e7uzsfObMmdraWqpT+mMOm9AzBDBEKRoaGoKDgyUSiUwmUyqVQ0Y3JCYJIkRLEplcn0ql0iGrhQaEAOgUz2eCWq2ePHnygQMH2LiXLl1CCD18+FDPtVhfX5+dnV1SUhK9vVpSUkJ1qqWlZfPmzWKxWCKRfPXVV05OTkSnHj58iBCqq6tj01Fb/3XfihUr1qxZs3HjRrVazeqU/pg0uBGMIZWirq6OfMdv+NxkyJi0X3y1vH79elRUlEaFU6dOZb8JoUnB0EkAdEonlmE5N2zY4OHh0dPTQ6PEx8dLJBIyMxpMO+rr6xFCt27dokdlZmZSnaJOYtDrPpVK5erqmpGRQRu0tbUFBwdfvXpVjyZijNPS0hBC8+bNI1M/Vqf0x6SJjGDoVwq1Wr1o0aLNmzc/UyX6Y7Kh+GrZ2NiIECovL6fByVhXVlZSDxj6CYBO6efzQ/Y2NTW5ubktXLjwzJkzRUVFW7duRQjRr88H06nu7m5HR8fIyMgrV65cv349JSVFIpEghKqqqvr7+zXqoDqFMS4rK0MI7dy5Uy6XFxYWBgYGBgUFkcedB8tFdaqmpoZEZnVKf8zOzs7169efPXtWoyQhNvUrRUNDA0IoJSWlaODr9u3beorRH5M9kMeWu3fvdnR0zMvLu3LlSkFBwbx58yIiIlQqFZsObD0EQKf0wPnhux49erR///7AwECxWBwVFXXt2jUaS4923L59OyIiQiQShYaGSqVShUIREhIiFos1LhkwxqxOYYyrq6ujo6OdnJx8fHwOHDhA747pyZWWlkZv7WOMNXRKT0wjPD9FWelXCrlcrn33DSF06NAhGkHb0B+Tbc9jS7VanZeXt2bNGgcHh+Dg4OzsbPZxCjYp2DoJgE7pxAJOIAAETIgA6JQJDQaUAgSAgE4CoFM6sYATCAABEyIAOmVCgwGlAAEgoJMA6JROLOAEAkDAhAiATpnQYEApQAAI6CQAOqUTCziBABAwIQKgUyY0GFAKEAACOgmATunEAk4gAARMiADolAkNBpQCBICATgKgUzqxgBMIAAETIgA6ZUKDAaUAASCgkwDolE4s4AQCQMCECIBOmdBgQClAAAjoJAA6pRMLOIEAEDAhAqBTJjQYUAoQAAI6CYBO6cQCTiAABEyIAOiUqQzGhQsX2F+n5DjOz88vPT39yZMnplLi6Kzj6dOn1dXVdG330dkJc68adMpUzgCiU2fOnCn9/nXx4sV9+/ZxHLdixQrt30c3laJHQx379+9HCPX19ekpliy1wH5OEHvZsmV6joJdRiMAOmU01EMkIjr16NEjtl1+fj5CqLa2lnWCbTiBq1evEsXRr1OdnZ0FWi9nZ+d9+/YZngtaCkcAdEo4ts8WWadOPXjwACFUVFT0bLGg9fcEFAqFRCJZuXLlkPMpbWBlZWUeHh7aK2hotwSPEQiAThkBskEpdOrU9evXEUIVFRUYY7VaXVRUFBYWJhKJPD09k5OT29vbSeinT5+mpaW5u7t7eXkdPXqULAtMlpCxtbXVeLORRU8dHR1pWfX19Vu2bJFIJF5eXhkZGaS9Wq0mqQsKCpYuXTpv3ryEhAS6BqqelWzIWjXr1q0Ti8VBQUFZWVlkkS6SrrS0dPXq1U5OTmvXriVL2pGOa1xzNTc3Y4yXLVs22OIxQy57o1arN23atGvXrnPnzlGdamho4DiOLqXX09Pj7u7+zTffUBTEUCgUzs7OdNEwjb2waXwCoFPGZ647o4ZOqVSqe/fuBQYG2tvbt7W1YYyzs7MRQhkZGXK5/NSpU56enpGRkSRWQkKCq6urTCbLy8vjOO7bb7+lS115e3trTMciIiK8vb2pTtXW1lpZWSUmJsrlcqlU6ubmtmTJEqVSSXQqICAgLCysuLhYJpN5eXlJJBJyX1+PTpWXlyOEduzYUVFRUVBQIBaLw8PDyW3svLy8cePGZWVllZeX7927FyEkk8kUCsWd719+fn4JCQnEJpdpenRKoVBERUUVFBTopomxVCr19PTs7u4uKiqiOoUxzsnJcXZ2JkuH7d+/39/fX/uSMCkpKSEhYbDI4Dc+AdAp4zPXnVHntEIkEtFVc5OTkzMzM+nB586d4zhOrVb39fWNGzcuPz+f7Nq0adO6deuoTp04cSIkJIQe1dTUNHXq1OzsbKJTarV68eLFSUlJtEFzczPHcRcvXiQ65ePjQ9/G7e3tdnZ2R48e1bPSskql8vDw2LFjBw14584dhFBlZaVCobCzszt9+jTdlZCQ4O3tTTe1VUnbQxvrN5qammxtbcl9PQ2dUiqVISEh27dvr6mp4Tju3r17GqHu3bvHcVxLS4uGHzZHkADo1AjCH5Ca6BT9vq+0tLSqqkr7oYTe3t7m5uZr166tWLGCruquUqnUavWDBw9OnTolEolKSkqoTjU3Nzs4ONB3Y2ZmZnJyslQqJTrV0dGBELp06VIb81q4cGFKSgrRqZycHLbKpKSkL774guhUbGxs3f+9iBa0trY+fPgQIVRdXc0etXDhwkOHDl27dg0h1NHRQXcplcquri66qa1Ky5YtS0xMJEkaGhp6enpoYz2GUqlcsmQJvWDU0CmM8f37962srBwcHHJzc7XjrFu3bs+ePdp+8IwgAdCpEYQ/ILXGdd+Afd9vNDQ0hIWFIYTEYvHq1atjYmKoTpHGq1evRgiFhISQG0x0ieMDBw7861//whgrlUpnZ+fa2lqqU3fv3tW4MUQ24+LiiE5duHCBreTIkSNubm5Ep7QPbG1tvXXrFkLowYMH7FExMTHx8fEymQwhpOcZC506xWaxtbXVqIfNQm2pVGpvby+Xy6u+f6WmppIJHbue+5dffokQIhfU9EAiYQih+vp61gn2iBMAnRrxIfjfAvTrVF9fn52dXVJSEr2TXVJSoqFT5G0WEBCwYcMGOp9qa2u7d++eSCTq7e2Vy+VeXl5qtZrqFJn+1NXVaVPQOZ/atWsXWe19sPtTra2tCKEbN26wAf39/Q8ePFhZWYkQomvKY4w7Ojru3LlDW+rUKTot6unpSU9Pt7Ky0p5j0gjEyM3NZdWN2vRhqOvXr1tZWfn6+n711Vcax6anpy9atEjDCZsjTgB0asSH4H8L0K9T9fX1CKFbt27RcjMzM4lO3bt3z97enu46fPiwSCRidQpjHBQUVFJSsn79enKlQ3VKpVK5urpmZGTQsG1tbcHBwVevXiU65evrS749JLJib2+flZWl//6Um5vbzp07aUBSeXl5+ePHjzmOk8lkdNeGDRtWrFhBN/XrFMb45s2bCCF6DUsP1G9oXPd1dXW5ubkdP368vr5+3Lhx5LtUEkGlUjk5Oem8GNSfAvYKTQB0SmjChsbXr1Pd3d2Ojo6RkZFXrly5fv16SkqKRCJBCFVVVfX09Li5ua1YsaK0tLSwsFAikezevVtDp6RS6fz588eNG0eeI6U6hTEuKytDCO3cuVMulxcWFgYGBgYFBT19+pTolLOz88qVK0tLS8+fP+/r62vI932XL19GCCUnJ3/33XeFhYXOzs5hYWHk+75Dhw5Nnjw5JydHLpfv3r2bPnJBGOnUKXp/qrq6mjzr0NvbizHu7Oxcv3792bNnh+SroVM7duwIDg4m4puVlSWRSOgUr66uDiF08+bNIWNCAyMTAJ0yMvBB0+nXKYzx7du3IyIiRCJRaGioVCpVKBQhISFisbi7u7upqWnLli1OTk7e3t70eSV6fwpj/OTJEysrq5iYGJKe1SnyuFN0dLSTk5OPj8+BAwfI+5boVGlp6bFjx/z8/FxdXbdv305v6Ax23UfiV1VVRUVFOTk5BQYG0nrII2AymWz58uUODg7Lly9n5zI6n5ZatmwZvWqztbWNiIig14lDPj9FQbM6VVFRwXFcQ0MD2fv06dP58+dv376dbJ48eZLjOKKD9HAwTIEA6JQpjIIp1kB0Si6Xm2JxUJOZEQCdMrMBN7i7oFMGo4KGghMAnRIc8ShNADo1Sgdu3Ei+8QAAAB9JREFUTJYNOjUmh5WfTlVVVbGPZfITFKIAgWcn8P8AQrAFyrICWL0AAAAASUVORK5CYII=)\n",
        "\n"
      ]
    },
    {
      "cell_type": "markdown",
      "metadata": {
        "id": "SdSUG3btDk6y"
      },
      "source": [
        "Здесь хранится информация о том, сколько суммарно ненулевых элементов в данной строке и выше, индексы столбцов с ненулевыми значениями, сами значения и размерность матрицы.\n",
        "\n",
        "* В первой строке обозначено, сколько накоплено ненулевых значений (в первой строке — суммарно 1, после второй строки — суммарно 4, после третьей строки — суммарно 4, после четвёртой строки — суммарно 6).\n",
        "* Во второй строке показано, в каком столбце находится ненулевое значение.\n",
        "* В третьей строке указаны сами значения.\n",
        "\n",
        "Осуществляем преобразование следующим образом:\n",
        "\n"
      ]
    },
    {
      "cell_type": "code",
      "execution_count": null,
      "metadata": {
        "id": "6FbpTsZ3DYJM"
      },
      "outputs": [],
      "source": [
        "# Передаём в качестве аргументов в функцию выставленный рейтинг (это будут значения матрицы),\n",
        "# а также id пользователя и id книги (это будут индексы для строк и столбцов матрицы)\n",
        "ratings_matrix = csr_matrix((ratings.rating,(ratings.user_id,ratings.book_id)))\n"
      ]
    },
    {
      "cell_type": "markdown",
      "metadata": {
        "id": "FACG457cESwO"
      },
      "source": [
        "Теперь нам необходимо составить матрицу с метаданными. В качестве индексов будут выступать `id` книги и `id` тега, и если у этой книги есть рассматриваемый тег, то на пересечении соответствующих строки и столбца будет выставлена единица.\n",
        "\n"
      ]
    },
    {
      "cell_type": "code",
      "execution_count": null,
      "metadata": {
        "id": "HFRyiEEcEZQE"
      },
      "outputs": [],
      "source": [
        "meta_matrix  = csr_matrix(([1]*len(book_tags),(book_tags.id,book_tags.tag_id)))\n"
      ]
    },
    {
      "cell_type": "code",
      "execution_count": null,
      "metadata": {
        "colab": {
          "base_uri": "https://localhost:8080/"
        },
        "id": "4QX98KO8Ek8H",
        "outputId": "68757e8c-55c3-4955-a5d5-56de50d4e6ad"
      },
      "outputs": [
        {
          "data": {
            "text/plain": [
              "0.007086188900997592"
            ]
          },
          "execution_count": 11,
          "metadata": {},
          "output_type": "execute_result"
        }
      ],
      "source": [
        "ratings_matrix.mean()"
      ]
    },
    {
      "cell_type": "markdown",
      "metadata": {
        "id": "i-VuodthEs9f"
      },
      "source": [
        "Отлично, данные подготовлены — теперь настало время определить модель, которую мы будем использовать. Сделаем это следующим образом:\n",
        "\n"
      ]
    },
    {
      "cell_type": "code",
      "execution_count": null,
      "metadata": {
        "id": "4x5Y_PB9Et8_"
      },
      "outputs": [],
      "source": [
        "model = LightFM(\n",
        "    loss='warp-kos', # Определяем функцию потерь\n",
        "    random_state=42, # Фиксируем случайное разбиение\n",
        "    learning_rate=0.05, # Темп обучения\n",
        "    no_components=100 # Размерность вектора для представления данных в модели\n",
        ")\n"
      ]
    },
    {
      "cell_type": "markdown",
      "metadata": {
        "id": "UFEbUv1-E4z7"
      },
      "source": [
        "В качестве функции потерь мы выбрали значение `'warp'`, хотя, разумеется, это не единственный вариант. В модуле `LightFM` представлены следующие функции потерь:\n",
        "\n",
        "* `'logistic'` — логистическая функция. Полезна в случаях, когда есть как положительные, так и отрицательные взаимодействия, например 1 и -1.\n",
        "* `'bpr'` — байесовский персонализированный рейтинг. Можно применять, когда присутствуют только положительные взаимодействия.\n",
        "* `'warp'` — парный взвешенный приблизительный ранг. Используется, если необходимо повысить качество именно в верхней части списка рекомендаций.\n",
        "* `'warp-kos'` — модификация warp.\n",
        "\n",
        "Разобьём данные на обучающую и тестовую выборки:"
      ]
    },
    {
      "cell_type": "code",
      "execution_count": null,
      "metadata": {
        "id": "mRWqttMDFBHr"
      },
      "outputs": [],
      "source": [
        "train, test = random_train_test_split(\n",
        "    ratings_matrix, # Общая выборка\n",
        "    test_percentage=0.2, # Размер тестовой выборки\n",
        "    random_state=42 # Генератор случайных чисел\n",
        ")"
      ]
    },
    {
      "cell_type": "markdown",
      "metadata": {
        "id": "NHzS6wWYFQvo"
      },
      "source": [
        "Теперь обучим модель на наших данных о взаимодействии, также используя метаданные о книгах. Для этого воспользуемся методом `fit()`. В этот метод передадим обучающую выборку, признаки товаров — `item_features`, количество эпох обучения (сколько раз мы будем показывать модели исходный датасет, чтобы она лучше выучила данные) — `epochs`, а также параметр `verbose` для отслеживания процесса обучения:"
      ]
    },
    {
      "cell_type": "code",
      "execution_count": null,
      "metadata": {
        "colab": {
          "base_uri": "https://localhost:8080/"
        },
        "id": "hAM61TVSFZsd",
        "outputId": "2de5a872-9f23-498f-ab31-95b8d2b91340"
      },
      "outputs": [
        {
          "name": "stderr",
          "output_type": "stream",
          "text": [
            "Epoch: 100%|██████████| 10/10 [11:52<00:00, 71.24s/it]\n"
          ]
        }
      ],
      "source": [
        "model = model.fit(\n",
        "    train, # Обучающая выборка\n",
        "    item_features=meta_matrix, # Признаки товаров\n",
        "    epochs=10, # Количество эпох\n",
        "    verbose=True # Отображение обучения\n",
        ")"
      ]
    },
    {
      "cell_type": "markdown",
      "metadata": {
        "id": "xtDAyiWKI_x_"
      },
      "source": [
        "Оцените качество полученной модели с помощью функции `precision_at_k`, передав в неё три аргумента: модель, тестовые данные и обозначение метаданных (`item_features = meta_matrix`).\n",
        "\n"
      ]
    },
    {
      "cell_type": "code",
      "execution_count": null,
      "metadata": {
        "id": "AcHUYvzFJJGs"
      },
      "outputs": [],
      "source": [
        "precision_at_k(model, test, item_features=meta_matrix, num_threads=12).mean()"
      ]
    },
    {
      "cell_type": "markdown",
      "metadata": {
        "id": "p5lolpG2JoTQ"
      },
      "source": [
        "В рекомендательных системах метрики интерпретируются иначе, чем в задачах классификации. Показатели точности РС считаются хорошими, если они находятся в районе 0.1-0.3.\n",
        "\n",
        "У нас получился не слишком высокий, но довольно неплохой результат. Чтобы его улучшить, можно попробовать следующее:\n",
        "\n",
        "* Поработать над предобработкой данных, добавив в них дополнительную информацию о товарах. Также можно попробовать воспользоваться иным способом создания разреженной матрицы, например, форматом `coo_matrix()` или `csc_matrix()`, которые также входят в библиотеку `scipy`. Подробнее почитать о них вы можете [здесь](https://python-school.ru/blog/sparse-matrix-scipy/).\n",
        "* Поиграться с параметрами модели `LightFM` — поуправлять темпом обучения (`learning_rate`), размерностью вектора для представления (`no_components`), количеством эпох обучения (`epochs`) и функцией потерь (`loss`).\n",
        "\n",
        "\n",
        ">Для предсказания рейтинга нового пользователя можно воспользоваться методом `predict()`:\n",
        "\n",
        "`scores = model.predict(<индекс интересующего пользователя>, np.arange(n_items), user_features=new_user_feature)`\n",
        "\n",
        "|Преимущества|Недостатки|\n",
        "|-|-|\n",
        "|Использование разных моделей позволяет компенсировать их недостатки и использовать преимущества каждой модели для составления рекомендаций.|Такие модели обычно имеют высокую вычислительную сложность и из-за этого долго обучаются.|\n",
        "|Благодаря использованию сразу нескольких методов такой подход позволяет получить более персонализированные и точные рекомендации.|Для обучения таких моделей требуются большие объёмы данных и поступление новых данных для обновления рекомендаций.|"
      ]
    }
  ],
  "metadata": {
    "colab": {
      "provenance": []
    },
    "kernelspec": {
      "display_name": "Python 3",
      "name": "python3"
    },
    "language_info": {
      "name": "python"
    }
  },
  "nbformat": 4,
  "nbformat_minor": 0
}
