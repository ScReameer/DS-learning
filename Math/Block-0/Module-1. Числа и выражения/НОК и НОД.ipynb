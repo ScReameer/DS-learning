{
 "cells": [
  {
   "attachments": {},
   "cell_type": "markdown",
   "metadata": {},
   "source": [
    "$$\n",
    "36 = 2 * 2 * 3 * 3\\\\\n",
    "84 = 2 * 2 * 3 * 7\\\\\n",
    "НОД(36, 84) = 2 * 2 * 3 = 12\n",
    "$$"
   ]
  },
  {
   "attachments": {},
   "cell_type": "markdown",
   "metadata": {},
   "source": [
    "$$\n",
    "15 = 3 * 5\\\\\n",
    "18 = 2 * 3 * 3\\\\\n",
    "24 = 2 * 2 * 2 * 3\\\\\n",
    "НОК(15, 18, 24) = 3 * 2 * 3 * 5 * 2 * 2 = 360"
   ]
  },
  {
   "attachments": {},
   "cell_type": "markdown",
   "metadata": {},
   "source": [
    "$$\n",
    "90 = 2 * 3 * 3 * 5\\\\\n",
    "24 = 2 * 2 * 2 * 3\\\\\n",
    "НОД(90, 24) = 2 * 3 = 6"
   ]
  },
  {
   "attachments": {},
   "cell_type": "markdown",
   "metadata": {},
   "source": [
    "$$\n",
    "28 = 2 * 2 * 7\\\\\n",
    "104 = 2 * 2 * 2 * 13\\\\\n",
    "56 = 2 * 2 * 2 * 7\\\\\n",
    "НОД(28, 104, 56) = 2 * 2 = 4\n",
    "$$"
   ]
  }
 ],
 "metadata": {
  "kernelspec": {
   "display_name": "Python 3",
   "language": "python",
   "name": "python3"
  },
  "language_info": {
   "codemirror_mode": {
    "name": "ipython",
    "version": 3
   },
   "file_extension": ".py",
   "mimetype": "text/x-python",
   "name": "python",
   "nbconvert_exporter": "python",
   "pygments_lexer": "ipython3",
   "version": "3.10.8"
  },
  "orig_nbformat": 4
 },
 "nbformat": 4,
 "nbformat_minor": 2
}
