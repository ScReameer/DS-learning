{
 "cells": [
  {
   "cell_type": "markdown",
   "metadata": {},
   "source": [
    "# <center>Тестирование\n",
    "**Задание 1.4**  \n",
    "Задана функция, найдитее значение функции в точке $ x=(5, 13) $\n",
    "$$ f(x_1, x_2) = \\frac{1}{5}(x_1 + x_2 - 18)^2 + \\frac{1}{8}(x_2 - x_1) $$"
   ]
  },
  {
   "cell_type": "code",
   "execution_count": 1,
   "metadata": {},
   "outputs": [],
   "source": [
    "import sympy as sp"
   ]
  },
  {
   "cell_type": "code",
   "execution_count": 2,
   "metadata": {},
   "outputs": [
    {
     "data": {
      "text/latex": [
       "$\\displaystyle - 0.125 x_{1} + 0.125 x_{2} + 0.2 \\left(x_{1} + x_{2} - 18\\right)^{2}$"
      ],
      "text/plain": [
       "-0.125*x_1 + 0.125*x_2 + 0.2*(x_1 + x_2 - 18)**2"
      ]
     },
     "metadata": {},
     "output_type": "display_data"
    },
    {
     "name": "stdout",
     "output_type": "stream",
     "text": [
      "Значение f в точке (5, 13) = 1.00000000000000\n"
     ]
    }
   ],
   "source": [
    "x_1, x_2 = sp.symbols('x_1 x_2', real=True)\n",
    "f = 5**-1 * (x_1 + x_2 - 18)**2 + 8**-1 * (x_2 - x_1)\n",
    "display(f)\n",
    "f_dot = f.subs(x_1, 5).subs(x_2, 13)\n",
    "print(f'Значение f в точке (5, 13) = {f_dot}')"
   ]
  }
 ],
 "metadata": {
  "kernelspec": {
   "display_name": "Python 3",
   "language": "python",
   "name": "python3"
  },
  "language_info": {
   "codemirror_mode": {
    "name": "ipython",
    "version": 3
   },
   "file_extension": ".py",
   "mimetype": "text/x-python",
   "name": "python",
   "nbconvert_exporter": "python",
   "pygments_lexer": "ipython3",
   "version": "3.10.8"
  },
  "orig_nbformat": 4
 },
 "nbformat": 4,
 "nbformat_minor": 2
}
