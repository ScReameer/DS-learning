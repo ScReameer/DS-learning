{
 "cells": [
  {
   "cell_type": "markdown",
   "metadata": {},
   "source": [
    "# <center> Ансамбли моделей\n",
    "**Задание 1.2**  \n",
    "Задана функция $x^2 + xy - 4y$.\n",
    "\n",
    "Найдите для неё значение градиента в точке $(1;2)$. В качестве ответа введите длину градиента."
   ]
  },
  {
   "cell_type": "code",
   "execution_count": 29,
   "metadata": {},
   "outputs": [],
   "source": [
    "import numpy as np\n",
    "import sympy as sp\n",
    "import pandas as pd\n",
    "import plotly.express as px\n",
    "import plotly.io as pio\n",
    "\n",
    "from sklearn.linear_model import LogisticRegression, LinearRegression\n",
    "from sklearn.tree import DecisionTreeClassifier, DecisionTreeRegressor\n",
    "from sklearn.ensemble import BaggingClassifier, RandomForestRegressor\n",
    "from sklearn.metrics import f1_score, mean_absolute_error\n",
    "from sklearn.model_selection import train_test_split\n",
    "\n",
    "pio.renderers.default = 'png'\n",
    "pio.templates.default = 'plotly_dark'"
   ]
  },
  {
   "cell_type": "code",
   "execution_count": 3,
   "metadata": {},
   "outputs": [
    {
     "name": "stdout",
     "output_type": "stream",
     "text": [
      "Функция\n"
     ]
    },
    {
     "data": {
      "text/latex": [
       "$\\displaystyle x^{2} + x y - 4 y$"
      ],
      "text/plain": [
       "x**2 + x*y - 4*y"
      ]
     },
     "metadata": {},
     "output_type": "display_data"
    },
    {
     "name": "stdout",
     "output_type": "stream",
     "text": [
      "Градиент\n"
     ]
    },
    {
     "data": {
      "text/latex": [
       "$\\displaystyle \\left[\\begin{matrix}2 x + y\\\\x - 4\\end{matrix}\\right]$"
      ],
      "text/plain": [
       "Matrix([\n",
       "[2*x + y],\n",
       "[  x - 4]])"
      ]
     },
     "metadata": {},
     "output_type": "display_data"
    },
    {
     "name": "stdout",
     "output_type": "stream",
     "text": [
      "Градиент в точке (1; 2)\n"
     ]
    },
    {
     "data": {
      "text/latex": [
       "$\\displaystyle \\left[\\begin{matrix}4\\\\-3\\end{matrix}\\right]$"
      ],
      "text/plain": [
       "Matrix([\n",
       "[ 4],\n",
       "[-3]])"
      ]
     },
     "metadata": {},
     "output_type": "display_data"
    },
    {
     "name": "stdout",
     "output_type": "stream",
     "text": [
      "Длина градиента в точке (1; 2): 5.0\n"
     ]
    }
   ],
   "source": [
    "x, y = sp.symbols('x y', real=True)\n",
    "f = x**2 + x*y - 4*y\n",
    "point = {'x': 1, 'y': 2}\n",
    "grad = sp.Matrix([f.diff(x), f.diff(y)])\n",
    "grad_point = grad.subs(x, point['x']).subs(y, point['y'])\n",
    "grad_length = np.linalg.norm(sp.matrix2numpy(grad_point, dtype=float))\n",
    "print('Функция')\n",
    "display(f)\n",
    "print('Градиент')\n",
    "display(grad)\n",
    "print('Градиент в точке (1; 2)')\n",
    "display(grad_point)\n",
    "print(f'Длина градиента в точке (1; 2): {grad_length}')"
   ]
  },
  {
   "cell_type": "markdown",
   "metadata": {},
   "source": [
    "**Задание 1.6**  \n",
    "Найдите математическое ожидание для дискретной случайной величины, распределение которой задано следующим образом:\n",
    "\n",
    "|X|1|2|3|4|\n",
    "|-|-|-|-|-|\n",
    "|P|0.2|0.1|0.6|0.1|\n"
   ]
  },
  {
   "cell_type": "code",
   "execution_count": 4,
   "metadata": {},
   "outputs": [
    {
     "data": {
      "text/plain": [
       "2.6"
      ]
     },
     "execution_count": 4,
     "metadata": {},
     "output_type": "execute_result"
    }
   ],
   "source": [
    "round((1*0.2) + (2*0.1) + (3*0.6) + (4*0.1), 1)"
   ]
  },
  {
   "cell_type": "markdown",
   "metadata": {},
   "source": [
    "**Задание 1.7**  \n",
    "Найдите минимум функции $ x^2 + xy - y + y^3 $.\n"
   ]
  },
  {
   "cell_type": "code",
   "execution_count": 5,
   "metadata": {},
   "outputs": [
    {
     "name": "stdout",
     "output_type": "stream",
     "text": [
      "Точки экстремума: [(-1/3, 2/3), (1/4, -1/2)]\n",
      "f(-1/3; 2/3) = -13/27\n",
      "f(1/4; -1/2) = 5/16\n"
     ]
    }
   ],
   "source": [
    "f = x**2 + x*y - y + y**3\n",
    "diffs = f.diff(x), f.diff(y)\n",
    "solve = sp.solve(diffs, [x, y])\n",
    "print('Точки экстремума:', solve)\n",
    "print('f(-1/3; 2/3) =', f.subs(x, solve[0][0]).subs(y, solve[0][1]))\n",
    "print('f(1/4; -1/2) =', f.subs(x, solve[1][0]).subs(y, solve[1][1]))"
   ]
  },
  {
   "cell_type": "markdown",
   "metadata": {},
   "source": [
    "Точка минимума: $ (-\\frac{1}{3}; \\frac{2}{3}) $"
   ]
  },
  {
   "cell_type": "markdown",
   "metadata": {},
   "source": [
    "***\n",
    "**Задание 2.7**  \n",
    "* Подготовьте данные к классификации. Условно разделите вино на хорошее и плохое. Хорошим вином будем называть то, параметр `quality` которого — `6` и более.\n",
    "* Сравните несколько методов классификации: логистическую регрессию, дерево решений и бэггинг. Это позволит вам увидеть, как меняется качество в зависимости от выбора того или иного алгоритма.\n",
    "* Разделите выборку на обучающую и тестовую в соотношении `70/30`, в качестве значения параметра `random_state` возьмите число `42`.\n",
    "* Для начала обучите два классификатора: логистическую регрессию (с параметрами по умолчанию) и дерево решений (`random_state = 42`, максимальная глубина — `10`)."
   ]
  },
  {
   "cell_type": "code",
   "execution_count": 6,
   "metadata": {},
   "outputs": [
    {
     "data": {
      "text/html": [
       "<div>\n",
       "<style scoped>\n",
       "    .dataframe tbody tr th:only-of-type {\n",
       "        vertical-align: middle;\n",
       "    }\n",
       "\n",
       "    .dataframe tbody tr th {\n",
       "        vertical-align: top;\n",
       "    }\n",
       "\n",
       "    .dataframe thead th {\n",
       "        text-align: right;\n",
       "    }\n",
       "</style>\n",
       "<table border=\"1\" class=\"dataframe\">\n",
       "  <thead>\n",
       "    <tr style=\"text-align: right;\">\n",
       "      <th></th>\n",
       "      <th>fixed.acidity</th>\n",
       "      <th>volatile.acidity</th>\n",
       "      <th>citric.acid</th>\n",
       "      <th>residual.sugar</th>\n",
       "      <th>chlorides</th>\n",
       "      <th>free.sulfur.dioxide</th>\n",
       "      <th>total.sulfur.dioxide</th>\n",
       "      <th>density</th>\n",
       "      <th>pH</th>\n",
       "      <th>sulphates</th>\n",
       "      <th>alcohol</th>\n",
       "      <th>quality</th>\n",
       "    </tr>\n",
       "  </thead>\n",
       "  <tbody>\n",
       "    <tr>\n",
       "      <th>1</th>\n",
       "      <td>7.4</td>\n",
       "      <td>0.70</td>\n",
       "      <td>0.00</td>\n",
       "      <td>1.9</td>\n",
       "      <td>0.076</td>\n",
       "      <td>11.0</td>\n",
       "      <td>34.0</td>\n",
       "      <td>0.9978</td>\n",
       "      <td>3.51</td>\n",
       "      <td>0.56</td>\n",
       "      <td>9.4</td>\n",
       "      <td>5</td>\n",
       "    </tr>\n",
       "    <tr>\n",
       "      <th>2</th>\n",
       "      <td>7.8</td>\n",
       "      <td>0.88</td>\n",
       "      <td>0.00</td>\n",
       "      <td>2.6</td>\n",
       "      <td>0.098</td>\n",
       "      <td>25.0</td>\n",
       "      <td>67.0</td>\n",
       "      <td>0.9968</td>\n",
       "      <td>3.20</td>\n",
       "      <td>0.68</td>\n",
       "      <td>9.8</td>\n",
       "      <td>5</td>\n",
       "    </tr>\n",
       "    <tr>\n",
       "      <th>3</th>\n",
       "      <td>7.8</td>\n",
       "      <td>0.76</td>\n",
       "      <td>0.04</td>\n",
       "      <td>2.3</td>\n",
       "      <td>0.092</td>\n",
       "      <td>15.0</td>\n",
       "      <td>54.0</td>\n",
       "      <td>0.9970</td>\n",
       "      <td>3.26</td>\n",
       "      <td>0.65</td>\n",
       "      <td>9.8</td>\n",
       "      <td>5</td>\n",
       "    </tr>\n",
       "    <tr>\n",
       "      <th>4</th>\n",
       "      <td>11.2</td>\n",
       "      <td>0.28</td>\n",
       "      <td>0.56</td>\n",
       "      <td>1.9</td>\n",
       "      <td>0.075</td>\n",
       "      <td>17.0</td>\n",
       "      <td>60.0</td>\n",
       "      <td>0.9980</td>\n",
       "      <td>3.16</td>\n",
       "      <td>0.58</td>\n",
       "      <td>9.8</td>\n",
       "      <td>6</td>\n",
       "    </tr>\n",
       "    <tr>\n",
       "      <th>5</th>\n",
       "      <td>7.4</td>\n",
       "      <td>0.70</td>\n",
       "      <td>0.00</td>\n",
       "      <td>1.9</td>\n",
       "      <td>0.076</td>\n",
       "      <td>11.0</td>\n",
       "      <td>34.0</td>\n",
       "      <td>0.9978</td>\n",
       "      <td>3.51</td>\n",
       "      <td>0.56</td>\n",
       "      <td>9.4</td>\n",
       "      <td>5</td>\n",
       "    </tr>\n",
       "  </tbody>\n",
       "</table>\n",
       "</div>"
      ],
      "text/plain": [
       "   fixed.acidity  volatile.acidity  citric.acid  residual.sugar  chlorides  \\\n",
       "1            7.4              0.70         0.00             1.9      0.076   \n",
       "2            7.8              0.88         0.00             2.6      0.098   \n",
       "3            7.8              0.76         0.04             2.3      0.092   \n",
       "4           11.2              0.28         0.56             1.9      0.075   \n",
       "5            7.4              0.70         0.00             1.9      0.076   \n",
       "\n",
       "   free.sulfur.dioxide  total.sulfur.dioxide  density    pH  sulphates  \\\n",
       "1                 11.0                  34.0   0.9978  3.51       0.56   \n",
       "2                 25.0                  67.0   0.9968  3.20       0.68   \n",
       "3                 15.0                  54.0   0.9970  3.26       0.65   \n",
       "4                 17.0                  60.0   0.9980  3.16       0.58   \n",
       "5                 11.0                  34.0   0.9978  3.51       0.56   \n",
       "\n",
       "   alcohol  quality  \n",
       "1      9.4        5  \n",
       "2      9.8        5  \n",
       "3      9.8        5  \n",
       "4      9.8        6  \n",
       "5      9.4        5  "
      ]
     },
     "execution_count": 6,
     "metadata": {},
     "output_type": "execute_result"
    }
   ],
   "source": [
    "data = pd.read_csv('data/wineQualityReds.zip', index_col=0)\n",
    "data.head()"
   ]
  },
  {
   "cell_type": "code",
   "execution_count": 7,
   "metadata": {},
   "outputs": [
    {
     "data": {
      "text/plain": [
       "1    855\n",
       "0    744\n",
       "Name: quality, dtype: int64"
      ]
     },
     "execution_count": 7,
     "metadata": {},
     "output_type": "execute_result"
    }
   ],
   "source": [
    "data['quality'] = data['quality'].apply(lambda quality: int(quality >= 6))\n",
    "data['quality'].value_counts()"
   ]
  },
  {
   "cell_type": "code",
   "execution_count": 8,
   "metadata": {},
   "outputs": [
    {
     "name": "stdout",
     "output_type": "stream",
     "text": [
      "LogisticRegression F1-score: 0.753 \n",
      "DecisionTreeClassifier F1-score: 0.793\n"
     ]
    },
    {
     "name": "stderr",
     "output_type": "stream",
     "text": [
      "C:\\Users\\sadeyes\\AppData\\Local\\Packages\\PythonSoftwareFoundation.Python.3.10_qbz5n2kfra8p0\\LocalCache\\local-packages\\Python310\\site-packages\\sklearn\\linear_model\\_logistic.py:460: ConvergenceWarning:\n",
      "\n",
      "lbfgs failed to converge (status=1):\n",
      "STOP: TOTAL NO. of ITERATIONS REACHED LIMIT.\n",
      "\n",
      "Increase the number of iterations (max_iter) or scale the data as shown in:\n",
      "    https://scikit-learn.org/stable/modules/preprocessing.html\n",
      "Please also refer to the documentation for alternative solver options:\n",
      "    https://scikit-learn.org/stable/modules/linear_model.html#logistic-regression\n",
      "\n"
     ]
    }
   ],
   "source": [
    "X, y = data.drop(columns='quality'), data['quality']\n",
    "X_train, X_test, y_train, y_test = train_test_split(X, y, random_state=42, test_size=0.3)\n",
    "\n",
    "logreg_model = LogisticRegression().fit(X_train, y_train)\n",
    "dt_model = DecisionTreeClassifier(random_state=42, max_depth=10).fit(X_train, y_train)\n",
    "\n",
    "print(\n",
    "    'LogisticRegression F1-score:', f1_score(y_test, logreg_model.predict(X_test)).round(3),\n",
    "    '\\nDecisionTreeClassifier F1-score:', f1_score(y_test, dt_model.predict(X_test)).round(3)\n",
    ")"
   ]
  },
  {
   "cell_type": "code",
   "execution_count": 9,
   "metadata": {},
   "outputs": [
    {
     "name": "stdout",
     "output_type": "stream",
     "text": [
      "BaggingClassifier F1-score: 0.818\n"
     ]
    }
   ],
   "source": [
    "bagging_model = BaggingClassifier(\n",
    "    estimator=dt_model,\n",
    "    n_estimators=1500,\n",
    "    n_jobs=-1,\n",
    "    random_state=42\n",
    ").fit(X_train, y_train)\n",
    "\n",
    "print('BaggingClassifier F1-score:', f1_score(y_test, bagging_model.predict(X_test)).round(3))"
   ]
  },
  {
   "cell_type": "markdown",
   "metadata": {},
   "source": [
    "***\n",
    "**Задание 3.4**  "
   ]
  },
  {
   "cell_type": "code",
   "execution_count": 10,
   "metadata": {},
   "outputs": [
    {
     "data": {
      "text/html": [
       "<div>\n",
       "<style scoped>\n",
       "    .dataframe tbody tr th:only-of-type {\n",
       "        vertical-align: middle;\n",
       "    }\n",
       "\n",
       "    .dataframe tbody tr th {\n",
       "        vertical-align: top;\n",
       "    }\n",
       "\n",
       "    .dataframe thead th {\n",
       "        text-align: right;\n",
       "    }\n",
       "</style>\n",
       "<table border=\"1\" class=\"dataframe\">\n",
       "  <thead>\n",
       "    <tr style=\"text-align: right;\">\n",
       "      <th></th>\n",
       "      <th>crim_rate</th>\n",
       "      <th>zn</th>\n",
       "      <th>business</th>\n",
       "      <th>river</th>\n",
       "      <th>nit_oxiden</th>\n",
       "      <th>rooms</th>\n",
       "      <th>age</th>\n",
       "      <th>dist</th>\n",
       "      <th>highways_index</th>\n",
       "      <th>tax</th>\n",
       "      <th>pup_per_teaс</th>\n",
       "      <th>lower</th>\n",
       "      <th>target</th>\n",
       "    </tr>\n",
       "  </thead>\n",
       "  <tbody>\n",
       "    <tr>\n",
       "      <th>0</th>\n",
       "      <td>0,00632</td>\n",
       "      <td>18</td>\n",
       "      <td>2,31</td>\n",
       "      <td>0</td>\n",
       "      <td>0,538</td>\n",
       "      <td>6,575</td>\n",
       "      <td>65,2</td>\n",
       "      <td>4,09</td>\n",
       "      <td>1</td>\n",
       "      <td>296</td>\n",
       "      <td>15,3</td>\n",
       "      <td>4,98</td>\n",
       "      <td>24</td>\n",
       "    </tr>\n",
       "    <tr>\n",
       "      <th>1</th>\n",
       "      <td>0,02731</td>\n",
       "      <td>0</td>\n",
       "      <td>7,07</td>\n",
       "      <td>0</td>\n",
       "      <td>0,469</td>\n",
       "      <td>6,421</td>\n",
       "      <td>78,9</td>\n",
       "      <td>4,9671</td>\n",
       "      <td>2</td>\n",
       "      <td>242</td>\n",
       "      <td>17,8</td>\n",
       "      <td>9,14</td>\n",
       "      <td>21,6</td>\n",
       "    </tr>\n",
       "    <tr>\n",
       "      <th>2</th>\n",
       "      <td>0,02729</td>\n",
       "      <td>0</td>\n",
       "      <td>7,07</td>\n",
       "      <td>0</td>\n",
       "      <td>0,469</td>\n",
       "      <td>7,185</td>\n",
       "      <td>61,1</td>\n",
       "      <td>4,9671</td>\n",
       "      <td>2</td>\n",
       "      <td>242</td>\n",
       "      <td>17,8</td>\n",
       "      <td>4,03</td>\n",
       "      <td>34,7</td>\n",
       "    </tr>\n",
       "    <tr>\n",
       "      <th>3</th>\n",
       "      <td>0,03237</td>\n",
       "      <td>0</td>\n",
       "      <td>2,18</td>\n",
       "      <td>0</td>\n",
       "      <td>0,458</td>\n",
       "      <td>6,998</td>\n",
       "      <td>45,8</td>\n",
       "      <td>6,0622</td>\n",
       "      <td>3</td>\n",
       "      <td>222</td>\n",
       "      <td>18,7</td>\n",
       "      <td>2,94</td>\n",
       "      <td>33,4</td>\n",
       "    </tr>\n",
       "    <tr>\n",
       "      <th>4</th>\n",
       "      <td>0,06905</td>\n",
       "      <td>0</td>\n",
       "      <td>2,18</td>\n",
       "      <td>0</td>\n",
       "      <td>0,458</td>\n",
       "      <td>7,147</td>\n",
       "      <td>54,2</td>\n",
       "      <td>6,0622</td>\n",
       "      <td>3</td>\n",
       "      <td>222</td>\n",
       "      <td>18,7</td>\n",
       "      <td>5,33</td>\n",
       "      <td>36,2</td>\n",
       "    </tr>\n",
       "  </tbody>\n",
       "</table>\n",
       "</div>"
      ],
      "text/plain": [
       "  crim_rate  zn business  river nit_oxiden  rooms   age    dist  \\\n",
       "0   0,00632  18     2,31      0      0,538  6,575  65,2    4,09   \n",
       "1   0,02731   0     7,07      0      0,469  6,421  78,9  4,9671   \n",
       "2   0,02729   0     7,07      0      0,469  7,185  61,1  4,9671   \n",
       "3   0,03237   0     2,18      0      0,458  6,998  45,8  6,0622   \n",
       "4   0,06905   0     2,18      0      0,458  7,147  54,2  6,0622   \n",
       "\n",
       "   highways_index  tax pup_per_teaс lower target  \n",
       "0               1  296         15,3  4,98     24  \n",
       "1               2  242         17,8  9,14   21,6  \n",
       "2               2  242         17,8  4,03   34,7  \n",
       "3               3  222         18,7  2,94   33,4  \n",
       "4               3  222         18,7  5,33   36,2  "
      ]
     },
     "execution_count": 10,
     "metadata": {},
     "output_type": "execute_result"
    }
   ],
   "source": [
    "data = pd.read_csv('data/boston__1_.zip')\n",
    "data.head()"
   ]
  },
  {
   "cell_type": "code",
   "execution_count": 26,
   "metadata": {},
   "outputs": [],
   "source": [
    "data = data.applymap(lambda x: float(str(x).replace(',', '.')))"
   ]
  },
  {
   "cell_type": "code",
   "execution_count": 27,
   "metadata": {},
   "outputs": [
    {
     "data": {
      "text/plain": [
       "22.77"
      ]
     },
     "execution_count": 27,
     "metadata": {},
     "output_type": "execute_result"
    }
   ],
   "source": [
    "X, y = data.drop(columns='target'), data['target']\n",
    "X_train, X_test, y_train, y_test = train_test_split(X, y, random_state=13, test_size=0.3)\n",
    "\n",
    "round(y_train.mean(), 2)"
   ]
  },
  {
   "cell_type": "code",
   "execution_count": 30,
   "metadata": {},
   "outputs": [
    {
     "name": "stdout",
     "output_type": "stream",
     "text": [
      "LinearRegression MAE: 3.72\n"
     ]
    }
   ],
   "source": [
    "lr_model = LinearRegression().fit(X_train, y_train)\n",
    "y_pred = lr_model.predict(X_test)\n",
    "print('LinearRegression MAE:', mean_absolute_error(y_test, y_pred).round(2))"
   ]
  },
  {
   "cell_type": "code",
   "execution_count": 31,
   "metadata": {},
   "outputs": [
    {
     "name": "stdout",
     "output_type": "stream",
     "text": [
      "DecisionTreeRegressor MAE: 2.84\n"
     ]
    }
   ],
   "source": [
    "dt_model = DecisionTreeRegressor(random_state=13).fit(X_train, y_train)\n",
    "y_pred = dt_model.predict(X_test)\n",
    "print('DecisionTreeRegressor MAE:', mean_absolute_error(y_test, y_pred).round(2))"
   ]
  },
  {
   "cell_type": "code",
   "execution_count": 32,
   "metadata": {},
   "outputs": [
    {
     "name": "stdout",
     "output_type": "stream",
     "text": [
      "RandomForestRegressor(n_estimators=500) MAE: 2.24\n"
     ]
    }
   ],
   "source": [
    "tree_estimators = [3, 10, 100, 500]\n",
    "result = []\n",
    "\n",
    "for n_estimators in tree_estimators:\n",
    "    rf_model = RandomForestRegressor(n_estimators=n_estimators, random_state=13, n_jobs=-1).fit(X_train, y_train)\n",
    "    y_pred = rf_model.predict(X_test)\n",
    "    result.append(mean_absolute_error(y_test, y_pred))\n",
    "    \n",
    "best_index = np.argmin(result)\n",
    "min_res = round(min(result), 2)\n",
    "print(f'RandomForestRegressor(n_estimators={tree_estimators[best_index]}) MAE: {min_res}')"
   ]
  },
  {
   "cell_type": "code",
   "execution_count": 45,
   "metadata": {},
   "outputs": [
    {
     "data": {
      "image/png": "[encoded data removed]"
     },
     "metadata": {},
     "output_type": "display_data"
    }
   ],
   "source": [
    "plot_df = pd.DataFrame({\n",
    "    'n_estimators': tree_estimators,\n",
    "    'MAE': result\n",
    "}).sort_values(by='MAE')\n",
    "plot_df['n_estimators'] = plot_df['n_estimators'].astype(str)\n",
    "px.bar(\n",
    "    data_frame=plot_df,\n",
    "    x='MAE',\n",
    "    y='n_estimators',\n",
    "    height=500,\n",
    "    width=700,\n",
    "    title='<b>Зависимость MAE от количества решающих деревьев<b>',\n",
    "    color='n_estimators',\n",
    "    color_discrete_sequence=['PaleGreen', 'SkyBlue', 'Coral', 'FireBrick']\n",
    ").show()"
   ]
  }
 ],
 "metadata": {
  "kernelspec": {
   "display_name": "Python 3",
   "language": "python",
   "name": "python3"
  },
  "language_info": {
   "codemirror_mode": {
    "name": "ipython",
    "version": 3
   },
   "file_extension": ".py",
   "mimetype": "text/x-python",
   "name": "python",
   "nbconvert_exporter": "python",
   "pygments_lexer": "ipython3",
   "version": "3.10.8"
  },
  "orig_nbformat": 4
 },
 "nbformat": 4,
 "nbformat_minor": 2
}
