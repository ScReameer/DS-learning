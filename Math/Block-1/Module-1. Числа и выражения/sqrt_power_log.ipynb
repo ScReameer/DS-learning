{
 "cells": [
  {
   "attachments": {},
   "cell_type": "markdown",
   "metadata": {},
   "source": [
    "# <center>Свойства корней</center>\n",
    "$$\n",
    "\\sqrt[n]{ab} = \\sqrt[n]{a} \\cdot \\sqrt[n]{b}\\\\\n",
    "\\sqrt[n]{\\frac{a}{b}} = \\frac{\\sqrt[n]{a}}{\\sqrt[n]{b}}\n",
    "$$\n",
    ">**Не существует следующих свойств**\n",
    "$$\n",
    "\\sqrt[n]{a+b} \\neq \\sqrt[n]{a} + \\sqrt[n]{b}\\\\\n",
    "\\sqrt[n]{a-b} \\neq \\sqrt[n]{a} - \\sqrt[n]{b}\\\\\n",
    "\\sqrt[n]{a^n+b^n} \\neq a + b\n",
    "$$\n",
    "# <center>Свойства степеней</center>\n",
    "$$\n",
    "a^m \\cdot a^n = a^{m+n}\\\\\n",
    "\\frac{a^n}{a^n} = a^{m-n}\\\\\n",
    "\\frac{1}{a^m} = a^{-m}\\\\\n",
    "(a^n)^m = a^{n \\cdot m}\n",
    "$$\n",
    "# <center>Свойства логарифмов</center>\n",
    "$$\n",
    "log_b (a) = c \\iff b^c = a\n",
    "$$\n",
    "где:\n",
    "* $b$ - основание логарифма\n",
    "* $a$ - показатель логарифма\n",
    "* $c$ - значение логарифма\n",
    "1. Логарифм от 1:\n",
    "\n",
    "    $ \\log_a 1 = 0 $\n",
    "2. Логарифм с совпадающим основанием и показателем:\n",
    "\n",
    "    $ \\log_a a = 1 $\n",
    "3. Сложение логарифмов с одинаковым основанием:\n",
    "\n",
    "    $ \\log_a b + \\log_a c = \\log_a(b \\cdot c) $\n",
    "4. Вычитание логарифмов с одинаковым основанием:\n",
    "\n",
    "    $ \\log_a b - \\log_a c = \\log_a(\\frac{b}{c}) $\n",
    "5. Вынесение степени из основания логарифма:\n",
    "\n",
    "    $ \\log_{a^p}b = \\frac{1}{p} \\log_a b $\n",
    "6. Вынесение степени из показателя логарифма:\n",
    "\n",
    "    $ \\log_a b^p = p\\log_a b $\n",
    "7. Приведение к новому основанию:\n",
    "\n",
    "    $ \\log_a b = \\frac{\\log_c b}{\\log_c a} $\n",
    "8. Основное логарифмическое тождество:\n",
    "\n",
    "    $ a^{\\log_a b} = b $"
   ]
  }
 ],
 "metadata": {
  "kernelspec": {
   "display_name": "Python 3",
   "language": "python",
   "name": "python3"
  },
  "language_info": {
   "codemirror_mode": {
    "name": "ipython",
    "version": 3
   },
   "file_extension": ".py",
   "mimetype": "text/x-python",
   "name": "python",
   "nbconvert_exporter": "python",
   "pygments_lexer": "ipython3",
   "version": "3.10.8"
  },
  "orig_nbformat": 4
 },
 "nbformat": 4,
 "nbformat_minor": 2
}
