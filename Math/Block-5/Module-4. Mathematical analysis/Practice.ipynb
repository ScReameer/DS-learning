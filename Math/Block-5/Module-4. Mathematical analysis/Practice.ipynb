{
 "cells": [
  {
   "attachments": {},
   "cell_type": "markdown",
   "metadata": {},
   "source": [
    "# <center>Математический анализ\n",
    "## <center>Множества\n",
    "### Операции над множествами\n"
   ]
  },
  {
   "cell_type": "code",
   "execution_count": 30,
   "metadata": {},
   "outputs": [],
   "source": [
    "from sympy import FiniteSet, Union, ConditionSet, Eq, Symbol, Interval, S, log, sin, exp, solveset, ln\n",
    "from sympy.calculus.util import function_range #импортируем функцию для поиска области значения\n",
    "from sympy.calculus.util import continuous_domain #импортируем функцию для поиска области определения"
   ]
  },
  {
   "cell_type": "code",
   "execution_count": 31,
   "metadata": {},
   "outputs": [],
   "source": [
    "A = {'ID453', 'ID312', 'ID41', 'ID3', 'ID500', 'ID920', 'ID36', 'ID27'}\n",
    "B = {'ID41', 'ID36', 'ID27', 'ID124', 'ID7', 'ID501', 'ID91' }"
   ]
  },
  {
   "attachments": {},
   "cell_type": "markdown",
   "metadata": {},
   "source": [
    "#### Объединение"
   ]
  },
  {
   "cell_type": "code",
   "execution_count": 32,
   "metadata": {},
   "outputs": [
    {
     "name": "stdout",
     "output_type": "stream",
     "text": [
      "{'ID3', 'ID7', 'ID36', 'ID453', 'ID500', 'ID124', 'ID41', 'ID91', 'ID501', 'ID27', 'ID312', 'ID920'}\n"
     ]
    }
   ],
   "source": [
    "union_AB = A.union(B)\n",
    "print(union_AB)"
   ]
  },
  {
   "attachments": {},
   "cell_type": "markdown",
   "metadata": {},
   "source": [
    "Метод `union()` можно заменить простой вертикальной чертой:"
   ]
  },
  {
   "cell_type": "code",
   "execution_count": 33,
   "metadata": {},
   "outputs": [
    {
     "name": "stdout",
     "output_type": "stream",
     "text": [
      "{'ID3', 'ID7', 'ID36', 'ID453', 'ID500', 'ID124', 'ID41', 'ID91', 'ID501', 'ID27', 'ID312', 'ID920'}\n"
     ]
    }
   ],
   "source": [
    "union_AB = A | B\n",
    "print(union_AB)"
   ]
  },
  {
   "attachments": {},
   "cell_type": "markdown",
   "metadata": {},
   "source": [
    "#### Пересечение"
   ]
  },
  {
   "cell_type": "code",
   "execution_count": 34,
   "metadata": {},
   "outputs": [
    {
     "name": "stdout",
     "output_type": "stream",
     "text": [
      "{'ID41', 'ID27', 'ID36'}\n"
     ]
    }
   ],
   "source": [
    "inter_AB = A.intersection(B)\n",
    "print(inter_AB)"
   ]
  },
  {
   "attachments": {},
   "cell_type": "markdown",
   "metadata": {},
   "source": [
    "Также мы можем заменить метод `intersection()` на амперсанд (`&`) — результат будет идентичным:"
   ]
  },
  {
   "cell_type": "code",
   "execution_count": 35,
   "metadata": {},
   "outputs": [
    {
     "name": "stdout",
     "output_type": "stream",
     "text": [
      "{'ID41', 'ID27', 'ID36'}\n"
     ]
    }
   ],
   "source": [
    "inter_AB = A & B\n",
    "print(inter_AB)"
   ]
  },
  {
   "attachments": {},
   "cell_type": "markdown",
   "metadata": {},
   "source": [
    "#### Разность"
   ]
  },
  {
   "cell_type": "code",
   "execution_count": 36,
   "metadata": {},
   "outputs": [
    {
     "name": "stdout",
     "output_type": "stream",
     "text": [
      "{'ID3', 'ID453', 'ID500', 'ID312', 'ID920'}\n"
     ]
    }
   ],
   "source": [
    "diff_AB = A.difference(B)\n",
    "print(diff_AB)"
   ]
  },
  {
   "attachments": {},
   "cell_type": "markdown",
   "metadata": {},
   "source": [
    "Здесь также есть вариант замены метода символом — в данном случае это знак «минус»:"
   ]
  },
  {
   "cell_type": "code",
   "execution_count": 37,
   "metadata": {},
   "outputs": [
    {
     "name": "stdout",
     "output_type": "stream",
     "text": [
      "{'ID3', 'ID453', 'ID500', 'ID312', 'ID920'}\n"
     ]
    }
   ],
   "source": [
    "diff_AB = A - B\n",
    "print(diff_AB)"
   ]
  },
  {
   "attachments": {},
   "cell_type": "markdown",
   "metadata": {},
   "source": [
    "#### Симметрическая разность"
   ]
  },
  {
   "cell_type": "code",
   "execution_count": 38,
   "metadata": {},
   "outputs": [
    {
     "name": "stdout",
     "output_type": "stream",
     "text": [
      "{'ID3', 'ID453', 'ID312', 'ID7', 'ID124', 'ID500', 'ID91', 'ID501', 'ID920'}\n"
     ]
    }
   ],
   "source": [
    "symmAB = A.symmetric_difference(B)\n",
    "print(symmAB)"
   ]
  },
  {
   "cell_type": "code",
   "execution_count": 39,
   "metadata": {},
   "outputs": [
    {
     "name": "stdout",
     "output_type": "stream",
     "text": [
      "{'ID3', 'ID453', 'ID312', 'ID7', 'ID124', 'ID500', 'ID91', 'ID501', 'ID920'}\n"
     ]
    }
   ],
   "source": [
    "symmAB = A ^ B\n",
    "print(symmAB)"
   ]
  },
  {
   "attachments": {},
   "cell_type": "markdown",
   "metadata": {},
   "source": [
    "## <center>SymPy"
   ]
  },
  {
   "cell_type": "code",
   "execution_count": 40,
   "metadata": {},
   "outputs": [
    {
     "data": {
      "text/latex": [
       "$\\displaystyle \\left\\{1, 3, 7, 9, 10\\right\\}$"
      ],
      "text/plain": [
       "{1, 3, 7, 9, 10}"
      ]
     },
     "execution_count": 40,
     "metadata": {},
     "output_type": "execute_result"
    }
   ],
   "source": [
    "l1 = [1, 3, 7, 10] \n",
    "l2 = [9, 7, 1] \n",
    "a = FiniteSet(*l1) \n",
    "b = FiniteSet(*l2) \n",
    "Union(a, b)"
   ]
  },
  {
   "cell_type": "code",
   "execution_count": 41,
   "metadata": {},
   "outputs": [
    {
     "data": {
      "text/latex": [
       "$\\displaystyle \\left\\{x\\; \\middle|\\; x \\in \\left[2, 9\\right] \\wedge x^{2} - 5 x = 0 \\right\\}$"
      ],
      "text/plain": [
       "ConditionSet(x, Eq(x**2 - 5*x, 0), Interval(2, 9))"
      ]
     },
     "execution_count": 41,
     "metadata": {},
     "output_type": "execute_result"
    }
   ],
   "source": [
    "x=Symbol('x')\n",
    "s=ConditionSet(x, Eq(x**2-5*x,0), Interval(2,9))\n",
    "s"
   ]
  },
  {
   "cell_type": "code",
   "execution_count": 42,
   "metadata": {},
   "outputs": [
    {
     "name": "stdout",
     "output_type": "stream",
     "text": [
      "Сколько слушателей записалось на оба вебинара: 3\n",
      "Сколько человек заинтересованы в посещении хотя бы одного вебинара: 10\n",
      "Сколько человек заинтересованы в посещении только одного вебинара из двух: 7\n"
     ]
    }
   ],
   "source": [
    "# 2.6 - 2.8\n",
    "prog_set = {\n",
    "    'bennet@xyz.com',\n",
    "    'darcy@abc.com',\n",
    "    'margaret@xyz.com',\n",
    "    'pa@hhh.com',\n",
    "    'marimari@xyz.com',\n",
    "    'mallika@yahoo.com',\n",
    "    'abc@xyz.com',\n",
    "    '0071235@gmail.ru'\n",
    "}\n",
    "ml_set = {\n",
    "    'marimari@xyz.com',\n",
    "    'darcy@abc.com',\n",
    "    '0071235@gmail.ru',\n",
    "    'darcy@abc.com',\n",
    "    'petr44@xyz.com',\n",
    "    'katrin@ya.com',\n",
    "}\n",
    "intersection_listeners = len(prog_set.intersection(ml_set))\n",
    "at_least_one = len(prog_set.union(ml_set))\n",
    "only_one = len(prog_set.symmetric_difference(ml_set))\n",
    "print(f'Сколько слушателей записалось на оба вебинара: {intersection_listeners}')\n",
    "print(f'Сколько человек заинтересованы в посещении хотя бы одного вебинара: {at_least_one}')\n",
    "print(f'Сколько человек заинтересованы в посещении только одного вебинара из двух: {only_one}')"
   ]
  },
  {
   "attachments": {},
   "cell_type": "markdown",
   "metadata": {},
   "source": [
    "### Область определения функции"
   ]
  },
  {
   "cell_type": "code",
   "execution_count": 43,
   "metadata": {},
   "outputs": [
    {
     "data": {
      "text/latex": [
       "$\\displaystyle \\left(-\\infty, 0\\right) \\cup \\left(0, \\infty\\right)$"
      ],
      "text/plain": [
       "Union(Interval.open(-oo, 0), Interval.open(0, oo))"
      ]
     },
     "execution_count": 43,
     "metadata": {},
     "output_type": "execute_result"
    }
   ],
   "source": [
    "x = Symbol(\"x\")\n",
    "f = 1/x\n",
    "continuous_domain(f, x, S.Reals)"
   ]
  },
  {
   "cell_type": "code",
   "execution_count": 44,
   "metadata": {},
   "outputs": [
    {
     "data": {
      "text/latex": [
       "$\\displaystyle \\left(0, \\infty\\right)$"
      ],
      "text/plain": [
       "Interval.open(0, oo)"
      ]
     },
     "execution_count": 44,
     "metadata": {},
     "output_type": "execute_result"
    }
   ],
   "source": [
    "x = Symbol(\"x\")\n",
    "f = log(x)/x\n",
    "continuous_domain(f, x, S.Reals)"
   ]
  },
  {
   "attachments": {},
   "cell_type": "markdown",
   "metadata": {},
   "source": [
    "### Область значений функции"
   ]
  },
  {
   "cell_type": "code",
   "execution_count": 45,
   "metadata": {},
   "outputs": [
    {
     "data": {
      "text/latex": [
       "$\\displaystyle \\left[-1, 1\\right]$"
      ],
      "text/plain": [
       "Interval(-1, 1)"
      ]
     },
     "execution_count": 45,
     "metadata": {},
     "output_type": "execute_result"
    }
   ],
   "source": [
    "x = Symbol(\"x\")\n",
    "f = sin(x)\n",
    "function_range(f, x, S.Reals)"
   ]
  },
  {
   "cell_type": "code",
   "execution_count": 46,
   "metadata": {},
   "outputs": [
    {
     "data": {
      "text/latex": [
       "$\\displaystyle \\left[- 2 e, \\infty\\right)$"
      ],
      "text/plain": [
       "Interval(-2*E, oo)"
      ]
     },
     "execution_count": 46,
     "metadata": {},
     "output_type": "execute_result"
    }
   ],
   "source": [
    "x = Symbol(\"x\")\n",
    "f = (x*x-3)/(exp(x))\n",
    "function_range(f, x, S.Reals)"
   ]
  },
  {
   "attachments": {},
   "cell_type": "markdown",
   "metadata": {},
   "source": [
    "### Точки пересечения с осями абсцисс и ординат\n",
    "$$ f(x) = x^2 + 5x + 4 $$\n",
    "Сначала найдём точку пересечения с осью ординат. Для этого просто подставим 0 вместо значения $x$:"
   ]
  },
  {
   "cell_type": "code",
   "execution_count": 47,
   "metadata": {},
   "outputs": [
    {
     "data": {
      "text/latex": [
       "$\\displaystyle 4$"
      ],
      "text/plain": [
       "4"
      ]
     },
     "execution_count": 47,
     "metadata": {},
     "output_type": "execute_result"
    }
   ],
   "source": [
    "x = Symbol(\"x\")\n",
    "f = x*x+5*x+4\n",
    "f.subs(x, 0)"
   ]
  },
  {
   "attachments": {},
   "cell_type": "markdown",
   "metadata": {},
   "source": [
    "Теперь найдём точку пересечения с осью абсцисс. Для этого решим уравнение, в котором приравняем нашу функцию к нулю:"
   ]
  },
  {
   "cell_type": "code",
   "execution_count": 48,
   "metadata": {},
   "outputs": [
    {
     "data": {
      "text/latex": [
       "$\\displaystyle \\left\\{-4, -1\\right\\}$"
      ],
      "text/plain": [
       "{-4, -1}"
      ]
     },
     "execution_count": 48,
     "metadata": {},
     "output_type": "execute_result"
    }
   ],
   "source": [
    "solveset(Eq(f, 0), x)"
   ]
  },
  {
   "attachments": {},
   "cell_type": "markdown",
   "metadata": {},
   "source": [
    "Итак, мы получили, что наша функция $f(x) = x^2 + 5x + 4$ пересекается с осью ординат в точке $(0;4)$, а с осью абсцисс — в точках $(-4;0)$ и $(-1;0)$.\n",
    "\n"
   ]
  },
  {
   "cell_type": "code",
   "execution_count": 49,
   "metadata": {},
   "outputs": [
    {
     "data": {
      "text/latex": [
       "$\\displaystyle \\left(-\\infty, - \\frac{3}{10}\\right] \\cup \\left(0, \\infty\\right)$"
      ],
      "text/plain": [
       "Union(Interval(-oo, -3/10), Interval.open(0, oo))"
      ]
     },
     "execution_count": 49,
     "metadata": {},
     "output_type": "execute_result"
    }
   ],
   "source": [
    "# 4.7\n",
    "x = Symbol('x')\n",
    "f = 3 / (x**2 - 10)\n",
    "function_range(f, x, S.Reals)"
   ]
  },
  {
   "attachments": {},
   "cell_type": "markdown",
   "metadata": {},
   "source": [
    "## <center>Производная\n",
    "### Линеаризация"
   ]
  },
  {
   "cell_type": "code",
   "execution_count": 50,
   "metadata": {},
   "outputs": [
    {
     "name": "stdout",
     "output_type": "stream",
     "text": [
      "sqrt(10) = 3.17\n",
      "sqrt(8) = 2.83\n"
     ]
    }
   ],
   "source": [
    "x_0 = 9\n",
    "y_0 = 3\n",
    "degree = 0.5\n",
    "derivative = degree * x_0**(degree - 1)\n",
    "x_1 = 10\n",
    "x_2 = 8\n",
    "\n",
    "y_1 = y_0 + (x_1 - x_0)*derivative\n",
    "y_2 = y_0 + (x_2 - x_0)*derivative\n",
    "print(f'sqrt(10) = {round(y_1, 2)}')\n",
    "print(f'sqrt(8) = {round(y_2, 2)}')"
   ]
  },
  {
   "cell_type": "code",
   "execution_count": 56,
   "metadata": {},
   "outputs": [
    {
     "name": "stdout",
     "output_type": "stream",
     "text": [
      "delta_x = 0.02\n",
      "ln(1.02) = 0.02\n"
     ]
    }
   ],
   "source": [
    "x_0 = 1\n",
    "y_0 = ln(x_0)\n",
    "\n",
    "x_1 = 1.02\n",
    "derivative = 1 / x_0\n",
    "\n",
    "delta_x = x_1 - x_0\n",
    "\n",
    "y_1 = y_0 + delta_x*derivative\n",
    "print(f'delta_x = {round(delta_x, 2)}')\n",
    "print(f'ln({x_1}) = {round(y_1, 2)}')"
   ]
  }
 ],
 "metadata": {
  "kernelspec": {
   "display_name": "Python 3",
   "language": "python",
   "name": "python3"
  },
  "language_info": {
   "codemirror_mode": {
    "name": "ipython",
    "version": 3
   },
   "file_extension": ".py",
   "mimetype": "text/x-python",
   "name": "python",
   "nbconvert_exporter": "python",
   "pygments_lexer": "ipython3",
   "version": "3.10.8"
  },
  "orig_nbformat": 4
 },
 "nbformat": 4,
 "nbformat_minor": 2
}
