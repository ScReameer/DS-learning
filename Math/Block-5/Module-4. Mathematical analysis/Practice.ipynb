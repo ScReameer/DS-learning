{
 "cells": [
  {
   "attachments": {},
   "cell_type": "markdown",
   "metadata": {},
   "source": [
    "# <center>Математический анализ\n",
    "## <center>Множества\n",
    "### Операции над множествами\n"
   ]
  },
  {
   "cell_type": "code",
   "execution_count": 1,
   "metadata": {},
   "outputs": [],
   "source": [
    "from sympy import FiniteSet, Union, ConditionSet, Eq, Symbol, Interval, S, log, sin, exp, solveset, ln, diff\n",
    "from sympy.calculus.util import function_range #импортируем функцию для поиска области значения\n",
    "from sympy.calculus.util import continuous_domain #импортируем функцию для поиска области определения"
   ]
  },
  {
   "cell_type": "code",
   "execution_count": 2,
   "metadata": {},
   "outputs": [],
   "source": [
    "A = {'ID453', 'ID312', 'ID41', 'ID3', 'ID500', 'ID920', 'ID36', 'ID27'}\n",
    "B = {'ID41', 'ID36', 'ID27', 'ID124', 'ID7', 'ID501', 'ID91' }"
   ]
  },
  {
   "attachments": {},
   "cell_type": "markdown",
   "metadata": {},
   "source": [
    "#### Объединение"
   ]
  },
  {
   "cell_type": "code",
   "execution_count": 3,
   "metadata": {},
   "outputs": [
    {
     "name": "stdout",
     "output_type": "stream",
     "text": [
      "{'ID27', 'ID41', 'ID453', 'ID7', 'ID312', 'ID36', 'ID3', 'ID501', 'ID920', 'ID91', 'ID124', 'ID500'}\n"
     ]
    }
   ],
   "source": [
    "union_AB = A.union(B)\n",
    "print(union_AB)"
   ]
  },
  {
   "attachments": {},
   "cell_type": "markdown",
   "metadata": {},
   "source": [
    "Метод `union()` можно заменить простой вертикальной чертой:"
   ]
  },
  {
   "cell_type": "code",
   "execution_count": 4,
   "metadata": {},
   "outputs": [
    {
     "name": "stdout",
     "output_type": "stream",
     "text": [
      "{'ID27', 'ID41', 'ID453', 'ID7', 'ID312', 'ID36', 'ID3', 'ID501', 'ID920', 'ID91', 'ID124', 'ID500'}\n"
     ]
    }
   ],
   "source": [
    "union_AB = A | B\n",
    "print(union_AB)"
   ]
  },
  {
   "attachments": {},
   "cell_type": "markdown",
   "metadata": {},
   "source": [
    "#### Пересечение"
   ]
  },
  {
   "cell_type": "code",
   "execution_count": 5,
   "metadata": {},
   "outputs": [
    {
     "name": "stdout",
     "output_type": "stream",
     "text": [
      "{'ID36', 'ID27', 'ID41'}\n"
     ]
    }
   ],
   "source": [
    "inter_AB = A.intersection(B)\n",
    "print(inter_AB)"
   ]
  },
  {
   "attachments": {},
   "cell_type": "markdown",
   "metadata": {},
   "source": [
    "Также мы можем заменить метод `intersection()` на амперсанд (`&`) — результат будет идентичным:"
   ]
  },
  {
   "cell_type": "code",
   "execution_count": 6,
   "metadata": {},
   "outputs": [
    {
     "name": "stdout",
     "output_type": "stream",
     "text": [
      "{'ID36', 'ID27', 'ID41'}\n"
     ]
    }
   ],
   "source": [
    "inter_AB = A & B\n",
    "print(inter_AB)"
   ]
  },
  {
   "attachments": {},
   "cell_type": "markdown",
   "metadata": {},
   "source": [
    "#### Разность"
   ]
  },
  {
   "cell_type": "code",
   "execution_count": 7,
   "metadata": {},
   "outputs": [
    {
     "name": "stdout",
     "output_type": "stream",
     "text": [
      "{'ID453', 'ID312', 'ID3', 'ID920', 'ID500'}\n"
     ]
    }
   ],
   "source": [
    "diff_AB = A.difference(B)\n",
    "print(diff_AB)"
   ]
  },
  {
   "attachments": {},
   "cell_type": "markdown",
   "metadata": {},
   "source": [
    "Здесь также есть вариант замены метода символом — в данном случае это знак «минус»:"
   ]
  },
  {
   "cell_type": "code",
   "execution_count": 8,
   "metadata": {},
   "outputs": [
    {
     "name": "stdout",
     "output_type": "stream",
     "text": [
      "{'ID453', 'ID312', 'ID3', 'ID920', 'ID500'}\n"
     ]
    }
   ],
   "source": [
    "diff_AB = A - B\n",
    "print(diff_AB)"
   ]
  },
  {
   "attachments": {},
   "cell_type": "markdown",
   "metadata": {},
   "source": [
    "#### Симметрическая разность"
   ]
  },
  {
   "cell_type": "code",
   "execution_count": 9,
   "metadata": {},
   "outputs": [
    {
     "name": "stdout",
     "output_type": "stream",
     "text": [
      "{'ID500', 'ID7', 'ID453', 'ID312', 'ID501', 'ID3', 'ID920', 'ID124', 'ID91'}\n"
     ]
    }
   ],
   "source": [
    "symmAB = A.symmetric_difference(B)\n",
    "print(symmAB)"
   ]
  },
  {
   "cell_type": "code",
   "execution_count": 10,
   "metadata": {},
   "outputs": [
    {
     "name": "stdout",
     "output_type": "stream",
     "text": [
      "{'ID500', 'ID7', 'ID453', 'ID312', 'ID501', 'ID3', 'ID920', 'ID124', 'ID91'}\n"
     ]
    }
   ],
   "source": [
    "symmAB = A ^ B\n",
    "print(symmAB)"
   ]
  },
  {
   "attachments": {},
   "cell_type": "markdown",
   "metadata": {},
   "source": [
    "## <center>SymPy"
   ]
  },
  {
   "cell_type": "code",
   "execution_count": 11,
   "metadata": {},
   "outputs": [
    {
     "data": {
      "text/latex": [
       "$\\displaystyle \\left\\{1, 3, 7, 9, 10\\right\\}$"
      ],
      "text/plain": [
       "{1, 3, 7, 9, 10}"
      ]
     },
     "execution_count": 11,
     "metadata": {},
     "output_type": "execute_result"
    }
   ],
   "source": [
    "l1 = [1, 3, 7, 10] \n",
    "l2 = [9, 7, 1] \n",
    "a = FiniteSet(*l1) \n",
    "b = FiniteSet(*l2) \n",
    "Union(a, b)"
   ]
  },
  {
   "cell_type": "code",
   "execution_count": 12,
   "metadata": {},
   "outputs": [
    {
     "data": {
      "text/latex": [
       "$\\displaystyle \\left\\{x\\; \\middle|\\; x \\in \\left[2, 9\\right] \\wedge x^{2} - 5 x = 0 \\right\\}$"
      ],
      "text/plain": [
       "ConditionSet(x, Eq(x**2 - 5*x, 0), Interval(2, 9))"
      ]
     },
     "execution_count": 12,
     "metadata": {},
     "output_type": "execute_result"
    }
   ],
   "source": [
    "x=Symbol('x')\n",
    "s=ConditionSet(x, Eq(x**2-5*x,0), Interval(2,9))\n",
    "s"
   ]
  },
  {
   "cell_type": "code",
   "execution_count": 13,
   "metadata": {},
   "outputs": [
    {
     "name": "stdout",
     "output_type": "stream",
     "text": [
      "Сколько слушателей записалось на оба вебинара: 3\n",
      "Сколько человек заинтересованы в посещении хотя бы одного вебинара: 10\n",
      "Сколько человек заинтересованы в посещении только одного вебинара из двух: 7\n"
     ]
    }
   ],
   "source": [
    "# 2.6 - 2.8\n",
    "prog_set = {\n",
    "    'bennet@xyz.com',\n",
    "    'darcy@abc.com',\n",
    "    'margaret@xyz.com',\n",
    "    'pa@hhh.com',\n",
    "    'marimari@xyz.com',\n",
    "    'mallika@yahoo.com',\n",
    "    'abc@xyz.com',\n",
    "    '0071235@gmail.ru'\n",
    "}\n",
    "ml_set = {\n",
    "    'marimari@xyz.com',\n",
    "    'darcy@abc.com',\n",
    "    '0071235@gmail.ru',\n",
    "    'darcy@abc.com',\n",
    "    'petr44@xyz.com',\n",
    "    'katrin@ya.com',\n",
    "}\n",
    "intersection_listeners = len(prog_set.intersection(ml_set))\n",
    "at_least_one = len(prog_set.union(ml_set))\n",
    "only_one = len(prog_set.symmetric_difference(ml_set))\n",
    "print(f'Сколько слушателей записалось на оба вебинара: {intersection_listeners}')\n",
    "print(f'Сколько человек заинтересованы в посещении хотя бы одного вебинара: {at_least_one}')\n",
    "print(f'Сколько человек заинтересованы в посещении только одного вебинара из двух: {only_one}')"
   ]
  },
  {
   "attachments": {},
   "cell_type": "markdown",
   "metadata": {},
   "source": [
    "### Область определения функции"
   ]
  },
  {
   "cell_type": "code",
   "execution_count": 14,
   "metadata": {},
   "outputs": [
    {
     "data": {
      "text/latex": [
       "$\\displaystyle \\left(-\\infty, 0\\right) \\cup \\left(0, \\infty\\right)$"
      ],
      "text/plain": [
       "Union(Interval.open(-oo, 0), Interval.open(0, oo))"
      ]
     },
     "execution_count": 14,
     "metadata": {},
     "output_type": "execute_result"
    }
   ],
   "source": [
    "x = Symbol(\"x\")\n",
    "f = 1/x\n",
    "continuous_domain(f, x, S.Reals)"
   ]
  },
  {
   "cell_type": "code",
   "execution_count": 15,
   "metadata": {},
   "outputs": [
    {
     "data": {
      "text/latex": [
       "$\\displaystyle \\left(0, \\infty\\right)$"
      ],
      "text/plain": [
       "Interval.open(0, oo)"
      ]
     },
     "execution_count": 15,
     "metadata": {},
     "output_type": "execute_result"
    }
   ],
   "source": [
    "x = Symbol(\"x\")\n",
    "f = log(x)/x\n",
    "continuous_domain(f, x, S.Reals)"
   ]
  },
  {
   "attachments": {},
   "cell_type": "markdown",
   "metadata": {},
   "source": [
    "### Область значений функции"
   ]
  },
  {
   "cell_type": "code",
   "execution_count": 16,
   "metadata": {},
   "outputs": [
    {
     "data": {
      "text/latex": [
       "$\\displaystyle \\left[-1, 1\\right]$"
      ],
      "text/plain": [
       "Interval(-1, 1)"
      ]
     },
     "execution_count": 16,
     "metadata": {},
     "output_type": "execute_result"
    }
   ],
   "source": [
    "x = Symbol(\"x\")\n",
    "f = sin(x)\n",
    "function_range(f, x, S.Reals)"
   ]
  },
  {
   "cell_type": "code",
   "execution_count": 17,
   "metadata": {},
   "outputs": [
    {
     "data": {
      "text/latex": [
       "$\\displaystyle \\left[- 2 e, \\infty\\right)$"
      ],
      "text/plain": [
       "Interval(-2*E, oo)"
      ]
     },
     "execution_count": 17,
     "metadata": {},
     "output_type": "execute_result"
    }
   ],
   "source": [
    "x = Symbol(\"x\")\n",
    "f = (x*x-3)/(exp(x))\n",
    "function_range(f, x, S.Reals)"
   ]
  },
  {
   "attachments": {},
   "cell_type": "markdown",
   "metadata": {},
   "source": [
    "### Точки пересечения с осями абсцисс и ординат\n",
    "$$ f(x) = x^2 + 5x + 4 $$\n",
    "Сначала найдём точку пересечения с осью ординат. Для этого просто подставим 0 вместо значения $x$:"
   ]
  },
  {
   "cell_type": "code",
   "execution_count": 18,
   "metadata": {},
   "outputs": [
    {
     "data": {
      "text/latex": [
       "$\\displaystyle 4$"
      ],
      "text/plain": [
       "4"
      ]
     },
     "execution_count": 18,
     "metadata": {},
     "output_type": "execute_result"
    }
   ],
   "source": [
    "x = Symbol(\"x\")\n",
    "f = x*x+5*x+4\n",
    "f.subs(x, 0)"
   ]
  },
  {
   "attachments": {},
   "cell_type": "markdown",
   "metadata": {},
   "source": [
    "Теперь найдём точку пересечения с осью абсцисс. Для этого решим уравнение, в котором приравняем нашу функцию к нулю:"
   ]
  },
  {
   "cell_type": "code",
   "execution_count": 19,
   "metadata": {},
   "outputs": [
    {
     "data": {
      "text/latex": [
       "$\\displaystyle \\left\\{-4, -1\\right\\}$"
      ],
      "text/plain": [
       "{-4, -1}"
      ]
     },
     "execution_count": 19,
     "metadata": {},
     "output_type": "execute_result"
    }
   ],
   "source": [
    "solveset(Eq(f, 0), x)"
   ]
  },
  {
   "attachments": {},
   "cell_type": "markdown",
   "metadata": {},
   "source": [
    "Итак, мы получили, что наша функция $f(x) = x^2 + 5x + 4$ пересекается с осью ординат в точке $(0;4)$, а с осью абсцисс — в точках $(-4;0)$ и $(-1;0)$.\n",
    "\n"
   ]
  },
  {
   "cell_type": "code",
   "execution_count": 20,
   "metadata": {},
   "outputs": [
    {
     "data": {
      "text/latex": [
       "$\\displaystyle \\left(-\\infty, - \\frac{3}{10}\\right] \\cup \\left(0, \\infty\\right)$"
      ],
      "text/plain": [
       "Union(Interval(-oo, -3/10), Interval.open(0, oo))"
      ]
     },
     "execution_count": 20,
     "metadata": {},
     "output_type": "execute_result"
    }
   ],
   "source": [
    "# 4.7\n",
    "x = Symbol('x')\n",
    "f = 3 / (x**2 - 10)\n",
    "function_range(f, x, S.Reals)"
   ]
  },
  {
   "attachments": {},
   "cell_type": "markdown",
   "metadata": {},
   "source": [
    "## <center>Производная\n",
    "### Линеаризация"
   ]
  },
  {
   "cell_type": "code",
   "execution_count": 21,
   "metadata": {},
   "outputs": [
    {
     "name": "stdout",
     "output_type": "stream",
     "text": [
      "sqrt(10) = 3.17\n",
      "sqrt(8) = 2.83\n"
     ]
    }
   ],
   "source": [
    "x_0 = 9\n",
    "y_0 = 3\n",
    "degree = 0.5\n",
    "derivative = degree * x_0**(degree - 1)\n",
    "x_1 = 10\n",
    "x_2 = 8\n",
    "\n",
    "y_1 = y_0 + (x_1 - x_0)*derivative\n",
    "y_2 = y_0 + (x_2 - x_0)*derivative\n",
    "print(f'sqrt(10) = {round(y_1, 2)}')\n",
    "print(f'sqrt(8) = {round(y_2, 2)}')"
   ]
  },
  {
   "cell_type": "code",
   "execution_count": 22,
   "metadata": {},
   "outputs": [
    {
     "name": "stdout",
     "output_type": "stream",
     "text": [
      "delta_x = 0.02\n",
      "ln(1.02) = 0.02\n"
     ]
    }
   ],
   "source": [
    "x_0 = 1\n",
    "y_0 = ln(x_0)\n",
    "\n",
    "x_1 = 1.02\n",
    "derivative = 1 / x_0\n",
    "\n",
    "delta_x = x_1 - x_0\n",
    "\n",
    "y_1 = y_0 + delta_x*derivative\n",
    "print(f'delta_x = {round(delta_x, 2)}')\n",
    "print(f'ln({x_1}) = {round(y_1, 2)}')"
   ]
  },
  {
   "attachments": {},
   "cell_type": "markdown",
   "metadata": {},
   "source": [
    "### Вычисление производной с помощью `SymPy`\n",
    "**Пример 1**\n",
    "\n",
    "$ f(x) = x^4 + 3x^3 + 4x^2 + 8 $"
   ]
  },
  {
   "cell_type": "code",
   "execution_count": 23,
   "metadata": {},
   "outputs": [
    {
     "data": {
      "text/latex": [
       "$\\displaystyle 4 x^{3} + 9 x^{2} + 8 x$"
      ],
      "text/plain": [
       "4*x**3 + 9*x**2 + 8*x"
      ]
     },
     "execution_count": 23,
     "metadata": {},
     "output_type": "execute_result"
    }
   ],
   "source": [
    "x = Symbol('x')\n",
    "expr = x**4 + 3*x**3 + 4*x**2 + 8\n",
    "expr.diff()\n",
    "# diff(expr, x)"
   ]
  },
  {
   "attachments": {},
   "cell_type": "markdown",
   "metadata": {},
   "source": [
    "**Пример 2** \n",
    "\n",
    "$ f(x) = \\ln (x^2 + 5x) + e^{\\sin(x)} $"
   ]
  },
  {
   "cell_type": "code",
   "execution_count": 24,
   "metadata": {},
   "outputs": [
    {
     "data": {
      "text/latex": [
       "$\\displaystyle \\frac{2 x + 5}{x^{2} + 5 x} + e^{\\sin{\\left(x \\right)}} \\cos{\\left(x \\right)}$"
      ],
      "text/plain": [
       "(2*x + 5)/(x**2 + 5*x) + exp(sin(x))*cos(x)"
      ]
     },
     "execution_count": 24,
     "metadata": {},
     "output_type": "execute_result"
    }
   ],
   "source": [
    "expr = log(x**2 + 5*x) + exp(sin(x))\n",
    "expr.diff(x)\n",
    "# diff(expr, x)"
   ]
  },
  {
   "attachments": {},
   "cell_type": "markdown",
   "metadata": {},
   "source": [
    "**Пример 3**\n",
    "\n",
    "$ y = \\sin (3x + \\log (x)) \\cdot \\exp(x) $"
   ]
  },
  {
   "cell_type": "code",
   "execution_count": 25,
   "metadata": {},
   "outputs": [
    {
     "data": {
      "text/latex": [
       "$\\displaystyle \\left(3 + \\frac{1}{x}\\right) e^{x} \\cos{\\left(3 x + \\log{\\left(x \\right)} \\right)} + e^{x} \\sin{\\left(3 x + \\log{\\left(x \\right)} \\right)}$"
      ],
      "text/plain": [
       "(3 + 1/x)*exp(x)*cos(3*x + log(x)) + exp(x)*sin(3*x + log(x))"
      ]
     },
     "execution_count": 25,
     "metadata": {},
     "output_type": "execute_result"
    }
   ],
   "source": [
    "expr = sin(3*x + log(x)) * exp(x)\n",
    "expr.diff(x)\n",
    "# diff(expr, x)"
   ]
  },
  {
   "attachments": {},
   "cell_type": "markdown",
   "metadata": {},
   "source": [
    "**Пример 4. Вторая производная**"
   ]
  },
  {
   "cell_type": "code",
   "execution_count": 26,
   "metadata": {},
   "outputs": [
    {
     "data": {
      "text/latex": [
       "$\\displaystyle - e^{\\sin{\\left(x \\right)}} \\sin{\\left(x \\right)} + e^{\\sin{\\left(x \\right)}} \\cos^{2}{\\left(x \\right)} + \\frac{2}{x \\left(x + 5\\right)} - \\frac{\\left(2 x + 5\\right)^{2}}{x^{2} \\left(x + 5\\right)^{2}}$"
      ],
      "text/plain": [
       "-exp(sin(x))*sin(x) + exp(sin(x))*cos(x)**2 + 2/(x*(x + 5)) - (2*x + 5)**2/(x**2*(x + 5)**2)"
      ]
     },
     "execution_count": 26,
     "metadata": {},
     "output_type": "execute_result"
    }
   ],
   "source": [
    "expr = log(x**2 + 5*x) + exp(sin(x))\n",
    "expr.diff(x, 2)\n",
    "# diff(expr, x, 2)"
   ]
  },
  {
   "cell_type": "code",
   "execution_count": 27,
   "metadata": {},
   "outputs": [
    {
     "data": {
      "text/latex": [
       "$\\displaystyle 6 x^{2} \\log{\\left(x \\right)} + 2 x^{2}$"
      ],
      "text/plain": [
       "6*x**2*log(x) + 2*x**2"
      ]
     },
     "execution_count": 27,
     "metadata": {},
     "output_type": "execute_result"
    }
   ],
   "source": [
    "# 6.10\n",
    "expr = 2*x**3 * ln(x)\n",
    "expr.diff()"
   ]
  },
  {
   "cell_type": "code",
   "execution_count": 28,
   "metadata": {},
   "outputs": [
    {
     "data": {
      "text/latex": [
       "$\\displaystyle - \\frac{2 x^{2}}{\\left(x^{2} + 1\\right)^{2}} + \\frac{1}{x^{2} + 1}$"
      ],
      "text/plain": [
       "-2*x**2/(x**2 + 1)**2 + 1/(x**2 + 1)"
      ]
     },
     "execution_count": 28,
     "metadata": {},
     "output_type": "execute_result"
    }
   ],
   "source": [
    "# 6.11\n",
    "expr = x / (x**2 + 1)\n",
    "expr.diff()"
   ]
  },
  {
   "cell_type": "code",
   "execution_count": 29,
   "metadata": {},
   "outputs": [
    {
     "data": {
      "text/latex": [
       "$\\displaystyle \\frac{1.0 x}{\\left(x^{2} + 1\\right)^{0.5}}$"
      ],
      "text/plain": [
       "1.0*x/(x**2 + 1)**0.5"
      ]
     },
     "execution_count": 29,
     "metadata": {},
     "output_type": "execute_result"
    }
   ],
   "source": [
    "# 6.12\n",
    "expr = (1 + x**2)**(1/2)\n",
    "expr.diff()"
   ]
  },
  {
   "cell_type": "code",
   "execution_count": 30,
   "metadata": {},
   "outputs": [
    {
     "data": {
      "text/latex": [
       "$\\displaystyle 12 x^{2}$"
      ],
      "text/plain": [
       "12*x**2"
      ]
     },
     "execution_count": 30,
     "metadata": {},
     "output_type": "execute_result"
    }
   ],
   "source": [
    "# 6.13\n",
    "expr = x**4 + 5*x\n",
    "expr.diff(x, 2)"
   ]
  },
  {
   "cell_type": "code",
   "execution_count": 31,
   "metadata": {},
   "outputs": [
    {
     "data": {
      "text/latex": [
       "$\\displaystyle \\frac{3 x}{2}$"
      ],
      "text/plain": [
       "3*x/2"
      ]
     },
     "execution_count": 31,
     "metadata": {},
     "output_type": "execute_result"
    }
   ],
   "source": [
    "# 7.2\n",
    "expr = (x**3 / 4) - 3*x\n",
    "expr.diff(x, 2)"
   ]
  },
  {
   "cell_type": "code",
   "execution_count": 32,
   "metadata": {},
   "outputs": [
    {
     "data": {
      "text/latex": [
       "$\\displaystyle 3 x^{2} - 6$"
      ],
      "text/plain": [
       "3*x**2 - 6"
      ]
     },
     "execution_count": 32,
     "metadata": {},
     "output_type": "execute_result"
    }
   ],
   "source": [
    "# 7.5\n",
    "expr = x**3 - 6*x\n",
    "expr.diff()"
   ]
  },
  {
   "attachments": {},
   "cell_type": "markdown",
   "metadata": {},
   "source": [
    "## 8.1 - 8.11"
   ]
  },
  {
   "cell_type": "code",
   "execution_count": 33,
   "metadata": {},
   "outputs": [
    {
     "data": {
      "text/latex": [
       "$\\displaystyle \\frac{x^{3}}{2 \\left(x + 5\\right)^{2}}$"
      ],
      "text/plain": [
       "x**3/(2*(x + 5)**2)"
      ]
     },
     "execution_count": 33,
     "metadata": {},
     "output_type": "execute_result"
    }
   ],
   "source": [
    "x = Symbol('x')\n",
    "f = x**3 / (2*(x+5)**2)\n",
    "f"
   ]
  },
  {
   "attachments": {},
   "cell_type": "markdown",
   "metadata": {},
   "source": [
    "### Область определения функции"
   ]
  },
  {
   "cell_type": "code",
   "execution_count": 34,
   "metadata": {},
   "outputs": [
    {
     "data": {
      "text/latex": [
       "$\\displaystyle \\left(-\\infty, -5\\right) \\cup \\left(-5, \\infty\\right)$"
      ],
      "text/plain": [
       "Union(Interval.open(-oo, -5), Interval.open(-5, oo))"
      ]
     },
     "execution_count": 34,
     "metadata": {},
     "output_type": "execute_result"
    }
   ],
   "source": [
    "continuous_domain(f, x, S.Reals)"
   ]
  },
  {
   "attachments": {},
   "cell_type": "markdown",
   "metadata": {},
   "source": [
    "### Область значений функции"
   ]
  },
  {
   "cell_type": "code",
   "execution_count": 35,
   "metadata": {},
   "outputs": [
    {
     "data": {
      "text/latex": [
       "$\\displaystyle \\left(-\\infty, \\infty\\right)$"
      ],
      "text/plain": [
       "Interval(-oo, oo)"
      ]
     },
     "execution_count": 35,
     "metadata": {},
     "output_type": "execute_result"
    }
   ],
   "source": [
    "function_range(f, x, S.Reals)"
   ]
  },
  {
   "attachments": {},
   "cell_type": "markdown",
   "metadata": {},
   "source": [
    "### Исследование функции на четность/нечетность"
   ]
  },
  {
   "cell_type": "code",
   "execution_count": 39,
   "metadata": {},
   "outputs": [
    {
     "data": {
      "text/plain": [
       "False"
      ]
     },
     "execution_count": 39,
     "metadata": {},
     "output_type": "execute_result"
    }
   ],
   "source": [
    "f == f.subs(x, -x)"
   ]
  },
  {
   "cell_type": "code",
   "execution_count": 41,
   "metadata": {},
   "outputs": [
    {
     "data": {
      "text/plain": [
       "False"
      ]
     },
     "execution_count": 41,
     "metadata": {},
     "output_type": "execute_result"
    }
   ],
   "source": [
    "-f == f.subs(x, -x)"
   ]
  },
  {
   "attachments": {},
   "cell_type": "markdown",
   "metadata": {},
   "source": [
    "Функция не является ни четной, ни нечетной\n",
    "### Пересечение с осью абсцисс"
   ]
  },
  {
   "cell_type": "code",
   "execution_count": 44,
   "metadata": {},
   "outputs": [
    {
     "data": {
      "text/latex": [
       "$\\displaystyle \\left\\{0\\right\\}$"
      ],
      "text/plain": [
       "{0}"
      ]
     },
     "execution_count": 44,
     "metadata": {},
     "output_type": "execute_result"
    }
   ],
   "source": [
    "solveset(Eq(f, 0), x, S.Reals)"
   ]
  },
  {
   "attachments": {},
   "cell_type": "markdown",
   "metadata": {},
   "source": [
    "### Пересечение с осью ординат"
   ]
  },
  {
   "cell_type": "code",
   "execution_count": 45,
   "metadata": {},
   "outputs": [
    {
     "data": {
      "text/latex": [
       "$\\displaystyle 0$"
      ],
      "text/plain": [
       "0"
      ]
     },
     "execution_count": 45,
     "metadata": {},
     "output_type": "execute_result"
    }
   ],
   "source": [
    "f.subs(x, 0)"
   ]
  },
  {
   "attachments": {},
   "cell_type": "markdown",
   "metadata": {},
   "source": [
    "### Производная функции"
   ]
  },
  {
   "cell_type": "code",
   "execution_count": 49,
   "metadata": {},
   "outputs": [
    {
     "data": {
      "text/latex": [
       "$\\displaystyle - \\frac{x^{3}}{\\left(x + 5\\right)^{3}} + \\frac{3 x^{2}}{2 \\left(x + 5\\right)^{2}}$"
      ],
      "text/plain": [
       "-x**3/(x + 5)**3 + 3*x**2/(2*(x + 5)**2)"
      ]
     },
     "execution_count": 49,
     "metadata": {},
     "output_type": "execute_result"
    }
   ],
   "source": [
    "derivative = f.diff(x)\n",
    "derivative"
   ]
  },
  {
   "attachments": {},
   "cell_type": "markdown",
   "metadata": {},
   "source": [
    "### Точка максимума"
   ]
  },
  {
   "cell_type": "code",
   "execution_count": 50,
   "metadata": {},
   "outputs": [
    {
     "data": {
      "text/latex": [
       "$\\displaystyle \\left\\{-15, 0\\right\\}$"
      ],
      "text/plain": [
       "{-15, 0}"
      ]
     },
     "execution_count": 50,
     "metadata": {},
     "output_type": "execute_result"
    }
   ],
   "source": [
    "solveset(Eq(derivative, 0), x)"
   ]
  },
  {
   "cell_type": "code",
   "execution_count": 51,
   "metadata": {},
   "outputs": [
    {
     "data": {
      "text/latex": [
       "$\\displaystyle \\frac{128}{1331}$"
      ],
      "text/plain": [
       "128/1331"
      ]
     },
     "execution_count": 51,
     "metadata": {},
     "output_type": "execute_result"
    }
   ],
   "source": [
    "derivative.subs(x, -16)"
   ]
  },
  {
   "cell_type": "code",
   "execution_count": 64,
   "metadata": {},
   "outputs": [
    {
     "data": {
      "text/latex": [
       "$\\displaystyle - \\frac{98}{729}$"
      ],
      "text/plain": [
       "-98/729"
      ]
     },
     "execution_count": 64,
     "metadata": {},
     "output_type": "execute_result"
    }
   ],
   "source": [
    "derivative.subs(x, -14)"
   ]
  },
  {
   "attachments": {},
   "cell_type": "markdown",
   "metadata": {},
   "source": [
    "Максимум в точке $x = -15$"
   ]
  },
  {
   "attachments": {},
   "cell_type": "markdown",
   "metadata": {},
   "source": [
    "### Точка минимума"
   ]
  },
  {
   "cell_type": "code",
   "execution_count": 65,
   "metadata": {},
   "outputs": [
    {
     "data": {
      "text/latex": [
       "$\\displaystyle \\frac{7}{64}$"
      ],
      "text/plain": [
       "7/64"
      ]
     },
     "execution_count": 65,
     "metadata": {},
     "output_type": "execute_result"
    }
   ],
   "source": [
    "derivative.subs(x, -1)"
   ]
  },
  {
   "cell_type": "code",
   "execution_count": 66,
   "metadata": {},
   "outputs": [
    {
     "data": {
      "text/latex": [
       "$\\displaystyle \\frac{1}{27}$"
      ],
      "text/plain": [
       "1/27"
      ]
     },
     "execution_count": 66,
     "metadata": {},
     "output_type": "execute_result"
    }
   ],
   "source": [
    "derivative.subs(x, 1)"
   ]
  },
  {
   "attachments": {},
   "cell_type": "markdown",
   "metadata": {},
   "source": [
    "Точки минимума нет"
   ]
  },
  {
   "attachments": {},
   "cell_type": "markdown",
   "metadata": {},
   "source": [
    "### Вторая производная"
   ]
  },
  {
   "cell_type": "code",
   "execution_count": 68,
   "metadata": {},
   "outputs": [
    {
     "data": {
      "text/latex": [
       "$\\displaystyle \\frac{3 x \\left(\\frac{x^{2}}{\\left(x + 5\\right)^{2}} - \\frac{2 x}{x + 5} + 1\\right)}{\\left(x + 5\\right)^{2}}$"
      ],
      "text/plain": [
       "3*x*(x**2/(x + 5)**2 - 2*x/(x + 5) + 1)/(x + 5)**2"
      ]
     },
     "execution_count": 68,
     "metadata": {},
     "output_type": "execute_result"
    }
   ],
   "source": [
    "derivative_2 = f.diff(x, 2)\n",
    "derivative_2"
   ]
  },
  {
   "attachments": {},
   "cell_type": "markdown",
   "metadata": {},
   "source": [
    "### Выпуклость функции"
   ]
  },
  {
   "cell_type": "code",
   "execution_count": 69,
   "metadata": {},
   "outputs": [
    {
     "data": {
      "text/latex": [
       "$\\displaystyle \\left\\{0\\right\\}$"
      ],
      "text/plain": [
       "{0}"
      ]
     },
     "execution_count": 69,
     "metadata": {},
     "output_type": "execute_result"
    }
   ],
   "source": [
    "solveset(Eq(derivative_2, 0), x)"
   ]
  },
  {
   "cell_type": "code",
   "execution_count": 70,
   "metadata": {},
   "outputs": [
    {
     "data": {
      "text/latex": [
       "$\\displaystyle -450$"
      ],
      "text/plain": [
       "-450"
      ]
     },
     "execution_count": 70,
     "metadata": {},
     "output_type": "execute_result"
    }
   ],
   "source": [
    "derivative_2.subs(x, -6)"
   ]
  },
  {
   "cell_type": "code",
   "execution_count": 73,
   "metadata": {},
   "outputs": [
    {
     "data": {
      "text/latex": [
       "$\\displaystyle -300$"
      ],
      "text/plain": [
       "-300"
      ]
     },
     "execution_count": 73,
     "metadata": {},
     "output_type": "execute_result"
    }
   ],
   "source": [
    "derivative_2.subs(x, -4)"
   ]
  },
  {
   "cell_type": "code",
   "execution_count": 72,
   "metadata": {},
   "outputs": [
    {
     "data": {
      "text/latex": [
       "$\\displaystyle \\frac{25}{432}$"
      ],
      "text/plain": [
       "25/432"
      ]
     },
     "execution_count": 72,
     "metadata": {},
     "output_type": "execute_result"
    }
   ],
   "source": [
    "derivative_2.subs(x, 1)"
   ]
  },
  {
   "attachments": {},
   "cell_type": "markdown",
   "metadata": {},
   "source": [
    "Функция выпукла на интервале $(- \\infty; -5), (-5;0) $"
   ]
  },
  {
   "cell_type": "code",
   "execution_count": 75,
   "metadata": {},
   "outputs": [
    {
     "data": {
      "text/latex": [
       "$\\displaystyle 3 x^{2} + \\frac{1}{x}$"
      ],
      "text/plain": [
       "3*x**2 + 1/x"
      ]
     },
     "execution_count": 75,
     "metadata": {},
     "output_type": "execute_result"
    }
   ],
   "source": [
    "f_1 = ln(x) + x**3\n",
    "f_1.diff()"
   ]
  }
 ],
 "metadata": {
  "kernelspec": {
   "display_name": "Python 3",
   "language": "python",
   "name": "python3"
  },
  "language_info": {
   "codemirror_mode": {
    "name": "ipython",
    "version": 3
   },
   "file_extension": ".py",
   "mimetype": "text/x-python",
   "name": "python",
   "nbconvert_exporter": "python",
   "pygments_lexer": "ipython3",
   "version": "3.10.8"
  },
  "orig_nbformat": 4
 },
 "nbformat": 4,
 "nbformat_minor": 2
}
