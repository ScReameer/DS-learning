{
 "cells": [
  {
   "attachments": {},
   "cell_type": "markdown",
   "metadata": {},
   "source": [
    "## <center> Основные понятия линейной алгебры: векторы и действия над ними"
   ]
  },
  {
   "cell_type": "code",
   "execution_count": 2,
   "metadata": {},
   "outputs": [
    {
     "name": "stdout",
     "output_type": "stream",
     "text": [
      "Третья координата вектора s: 50\n",
      "Размерность вектора s: 4\n"
     ]
    }
   ],
   "source": [
    "import numpy as np\n",
    "s = np.array([33, 64, 50, 45])\n",
    "print('Третья координата вектора s: ', s[2], '\\nРазмерность вектора s: ', len(s), sep='')"
   ]
  },
  {
   "attachments": {},
   "cell_type": "markdown",
   "metadata": {},
   "source": [
    "## Сложение и вычитание векторов"
   ]
  },
  {
   "cell_type": "code",
   "execution_count": 3,
   "metadata": {},
   "outputs": [
    {
     "name": "stdout",
     "output_type": "stream",
     "text": [
      "Результат сложения векторов [15 23 14  8]\n",
      "Результат вычитания векторов [ 5 -7 -4 -6]\n"
     ]
    }
   ],
   "source": [
    "a = np.array([10, 8, 5, 1])\n",
    "b = np.array([5, 15, 9, 7])\n",
    "print('Результат сложения векторов', a + b)\n",
    "print('Результат вычитания векторов', a - b)"
   ]
  },
  {
   "attachments": {},
   "cell_type": "markdown",
   "metadata": {},
   "source": [
    "## Умножение вектора на скаляр"
   ]
  },
  {
   "cell_type": "code",
   "execution_count": 4,
   "metadata": {},
   "outputs": [
    {
     "name": "stdout",
     "output_type": "stream",
     "text": [
      "Результат умножения вектора на число: [24.   9.  13.6]\n"
     ]
    }
   ],
   "source": [
    "a = np.array([120, 45, 68])\n",
    "omega = 0.2\n",
    "c = a * omega\n",
    "print('Результат умножения вектора на число:', c)"
   ]
  },
  {
   "attachments": {},
   "cell_type": "markdown",
   "metadata": {},
   "source": [
    "## Линейная комбинация"
   ]
  },
  {
   "cell_type": "code",
   "execution_count": 5,
   "metadata": {},
   "outputs": [
    {
     "name": "stdout",
     "output_type": "stream",
     "text": [
      "Линейная комбинация векторов: [1800 3000 2700]\n"
     ]
    }
   ],
   "source": [
    "p = np.array([2, 4, 5])\n",
    "v = np.array([8, 10, 2])\n",
    "s = np.array([0, 12, 7])\n",
    "omega1 = 500\n",
    "omega2 = 100\n",
    "omega3 = 0\n",
    "u = omega1*p + omega2*v + omega3*s\n",
    "print('Линейная комбинация векторов:', u)"
   ]
  },
  {
   "attachments": {},
   "cell_type": "markdown",
   "metadata": {},
   "source": [
    "## Скалярное произведение векторов\n",
    "`np.dot()`"
   ]
  },
  {
   "cell_type": "code",
   "execution_count": 6,
   "metadata": {},
   "outputs": [
    {
     "name": "stdout",
     "output_type": "stream",
     "text": [
      "Скалярное произведение векторов: 102.0\n"
     ]
    }
   ],
   "source": [
    "a = np.array([65, 70, 120, 30])\n",
    "w = np.array([0.4, 0.4, 0.2, 0.8])\n",
    "s = np.dot(a, w)\n",
    "print('Скалярное произведение векторов:', s)"
   ]
  }
 ],
 "metadata": {
  "kernelspec": {
   "display_name": "Python 3",
   "language": "python",
   "name": "python3"
  },
  "language_info": {
   "codemirror_mode": {
    "name": "ipython",
    "version": 3
   },
   "file_extension": ".py",
   "mimetype": "text/x-python",
   "name": "python",
   "nbconvert_exporter": "python",
   "pygments_lexer": "ipython3",
   "version": "3.10.8"
  },
  "orig_nbformat": 4
 },
 "nbformat": 4,
 "nbformat_minor": 2
}
