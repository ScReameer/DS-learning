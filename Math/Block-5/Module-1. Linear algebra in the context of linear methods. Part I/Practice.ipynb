{
 "cells": [
  {
   "attachments": {},
   "cell_type": "markdown",
   "metadata": {},
   "source": [
    "## <center> Основные понятия линейной алгебры: векторы и действия над ними"
   ]
  },
  {
   "cell_type": "code",
   "execution_count": 3,
   "metadata": {},
   "outputs": [
    {
     "name": "stdout",
     "output_type": "stream",
     "text": [
      "Третья координата вектора s: 50\n",
      "Размерность вектора s: 4\n"
     ]
    }
   ],
   "source": [
    "import numpy as np\n",
    "s = np.array([33, 64, 50, 45])\n",
    "print('Третья координата вектора s: ', s[2], '\\nРазмерность вектора s: ', len(s), sep='')"
   ]
  }
 ],
 "metadata": {
  "kernelspec": {
   "display_name": "Python 3",
   "language": "python",
   "name": "python3"
  },
  "language_info": {
   "codemirror_mode": {
    "name": "ipython",
    "version": 3
   },
   "file_extension": ".py",
   "mimetype": "text/x-python",
   "name": "python",
   "nbconvert_exporter": "python",
   "pygments_lexer": "ipython3",
   "version": "3.10.8"
  },
  "orig_nbformat": 4
 },
 "nbformat": 4,
 "nbformat_minor": 2
}
