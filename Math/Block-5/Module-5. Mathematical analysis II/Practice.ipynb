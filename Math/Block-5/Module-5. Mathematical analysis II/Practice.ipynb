{
 "cells": [
  {
   "cell_type": "code",
   "execution_count": 1,
   "metadata": {},
   "outputs": [],
   "source": [
    "import sympy\n",
    "import numpy as np"
   ]
  },
  {
   "cell_type": "code",
   "execution_count": 2,
   "metadata": {},
   "outputs": [
    {
     "data": {
      "text/latex": [
       "$\\displaystyle x^{2} - 5 x + 4$"
      ],
      "text/plain": [
       "x**2 - 5*x + 4"
      ]
     },
     "metadata": {},
     "output_type": "display_data"
    },
    {
     "name": "stdout",
     "output_type": "stream",
     "text": [
      "Точка пересечения с осью y: 4\n",
      "Точка пересечения с осью x: {1, 4}\n"
     ]
    }
   ],
   "source": [
    "x = sympy.Symbol('x')\n",
    "\n",
    "y = x**2 - 5*x + 4\n",
    "display(y)\n",
    "print('Точка пересечения с осью y:', y.subs(x, 0))\n",
    "print('Точка пересечения с осью x:', sympy.solveset(y, x, sympy.S.Reals))"
   ]
  },
  {
   "cell_type": "code",
   "execution_count": 3,
   "metadata": {},
   "outputs": [
    {
     "data": {
      "text/plain": [
       "'Производная:'"
      ]
     },
     "metadata": {},
     "output_type": "display_data"
    },
    {
     "data": {
      "text/latex": [
       "$\\displaystyle 2 x - 5$"
      ],
      "text/plain": [
       "2*x - 5"
      ]
     },
     "metadata": {},
     "output_type": "display_data"
    },
    {
     "name": "stdout",
     "output_type": "stream",
     "text": [
      "Точки экстремума: {5/2}\n"
     ]
    }
   ],
   "source": [
    "der = y.diff()\n",
    "display('Производная:', der)\n",
    "print('Точки экстремума:', sympy.solveset(der, x))"
   ]
  },
  {
   "attachments": {},
   "cell_type": "markdown",
   "metadata": {},
   "source": [
    "***"
   ]
  },
  {
   "cell_type": "code",
   "execution_count": 4,
   "metadata": {},
   "outputs": [
    {
     "data": {
      "text/latex": [
       "$\\displaystyle x^{3} - 6 x^{2} + 2$"
      ],
      "text/plain": [
       "x**3 - 6*x**2 + 2"
      ]
     },
     "metadata": {},
     "output_type": "display_data"
    },
    {
     "data": {
      "text/latex": [
       "$\\displaystyle 3 x^{2} - 12 x$"
      ],
      "text/plain": [
       "3*x**2 - 12*x"
      ]
     },
     "metadata": {},
     "output_type": "display_data"
    },
    {
     "data": {
      "text/latex": [
       "$\\displaystyle \\left\\{0, 4\\right\\}$"
      ],
      "text/plain": [
       "{0, 4}"
      ]
     },
     "execution_count": 4,
     "metadata": {},
     "output_type": "execute_result"
    }
   ],
   "source": [
    "y = x**3 - 6*x**2 + 2\n",
    "display(y)\n",
    "\n",
    "der = y.diff()\n",
    "display(der)\n",
    "\n",
    "sympy.solveset(der, x)"
   ]
  },
  {
   "cell_type": "code",
   "execution_count": 5,
   "metadata": {},
   "outputs": [
    {
     "data": {
      "text/latex": [
       "$\\displaystyle 15$"
      ],
      "text/plain": [
       "15"
      ]
     },
     "execution_count": 5,
     "metadata": {},
     "output_type": "execute_result"
    }
   ],
   "source": [
    "der.subs(x, -1)"
   ]
  },
  {
   "cell_type": "code",
   "execution_count": 6,
   "metadata": {},
   "outputs": [
    {
     "data": {
      "text/latex": [
       "$\\displaystyle -9$"
      ],
      "text/plain": [
       "-9"
      ]
     },
     "execution_count": 6,
     "metadata": {},
     "output_type": "execute_result"
    }
   ],
   "source": [
    "der.subs(x, 3)"
   ]
  },
  {
   "cell_type": "code",
   "execution_count": 7,
   "metadata": {},
   "outputs": [
    {
     "data": {
      "text/latex": [
       "$\\displaystyle 15$"
      ],
      "text/plain": [
       "15"
      ]
     },
     "execution_count": 7,
     "metadata": {},
     "output_type": "execute_result"
    }
   ],
   "source": [
    "der.subs(x, 5)"
   ]
  },
  {
   "attachments": {},
   "cell_type": "markdown",
   "metadata": {},
   "source": [
    "Область убывания функции находится в промежутке $(0;4)$\n",
    "***"
   ]
  },
  {
   "cell_type": "code",
   "execution_count": 8,
   "metadata": {},
   "outputs": [
    {
     "data": {
      "text/plain": [
       "0.55"
      ]
     },
     "execution_count": 8,
     "metadata": {},
     "output_type": "execute_result"
    }
   ],
   "source": [
    "# 1.7\n",
    "y_true = np.array([6, 7, 6, 4, 5, 6, 8])\n",
    "y_pred = np.array([6.4, 7.1, 5.9, 4.2, 5.2, 6.2, 7.5])\n",
    "l2_loss = np.sum((y_true - y_pred)**2)\n",
    "l2_loss.round(2)"
   ]
  },
  {
   "cell_type": "code",
   "execution_count": 9,
   "metadata": {},
   "outputs": [
    {
     "data": {
      "text/plain": [
       "2.24"
      ]
     },
     "execution_count": 9,
     "metadata": {},
     "output_type": "execute_result"
    }
   ],
   "source": [
    "# 1.8\n",
    "np.sqrt(5).round(2)"
   ]
  },
  {
   "cell_type": "code",
   "execution_count": 10,
   "metadata": {},
   "outputs": [
    {
     "data": {
      "text/plain": [
       "0.98"
      ]
     },
     "execution_count": 10,
     "metadata": {},
     "output_type": "execute_result"
    }
   ],
   "source": [
    "# 1.9\n",
    "round(1 / (1 + np.e**(-4)), 2)"
   ]
  },
  {
   "cell_type": "code",
   "execution_count": 11,
   "metadata": {},
   "outputs": [
    {
     "data": {
      "text/plain": [
       "0.88"
      ]
     },
     "execution_count": 11,
     "metadata": {},
     "output_type": "execute_result"
    }
   ],
   "source": [
    "# 1.9\n",
    "round(1 / (1 + np.e**(-2)), 2)"
   ]
  },
  {
   "cell_type": "code",
   "execution_count": 12,
   "metadata": {},
   "outputs": [
    {
     "data": {
      "text/plain": [
       "4.83"
      ]
     },
     "execution_count": 12,
     "metadata": {},
     "output_type": "execute_result"
    }
   ],
   "source": [
    "# 1.10\n",
    "round((0.1)**2 + (2.9 - 4)**2 + (4.1 - 6)**2, 2)"
   ]
  },
  {
   "cell_type": "markdown",
   "metadata": {},
   "source": [
    "***\n",
    "Производная для функции $ f(a,b,c) = 5ab - a \\cdot \\cos(c) + a^8 + c^2 \\cdot b $ по переменной $a$:"
   ]
  },
  {
   "cell_type": "code",
   "execution_count": 13,
   "metadata": {},
   "outputs": [
    {
     "data": {
      "text/latex": [
       "$\\displaystyle 8 a^{7} + 5 b - \\cos{\\left(c \\right)}$"
      ],
      "text/plain": [
       "8*a**7 + 5*b - cos(c)"
      ]
     },
     "execution_count": 13,
     "metadata": {},
     "output_type": "execute_result"
    }
   ],
   "source": [
    "from sympy import symbols, cos, diff, sin\n",
    "\n",
    "a, b, c = symbols('a b c', real=True)\n",
    "f = 5*a*b - a*cos(c) + a**8 + c**2*b\n",
    "\n",
    "diff(f, a)"
   ]
  },
  {
   "cell_type": "markdown",
   "metadata": {},
   "source": [
    "***"
   ]
  },
  {
   "cell_type": "code",
   "execution_count": 14,
   "metadata": {},
   "outputs": [
    {
     "data": {
      "text/latex": [
       "$\\displaystyle 2 a x + b^{2}$"
      ],
      "text/plain": [
       "2*a*x + b**2"
      ]
     },
     "metadata": {},
     "output_type": "display_data"
    },
    {
     "data": {
      "text/plain": [
       "'Частная производная по a'"
      ]
     },
     "metadata": {},
     "output_type": "display_data"
    },
    {
     "data": {
      "text/latex": [
       "$\\displaystyle 2 x$"
      ],
      "text/plain": [
       "2*x"
      ]
     },
     "metadata": {},
     "output_type": "display_data"
    },
    {
     "data": {
      "text/plain": [
       "'Вторая частная производная по a'"
      ]
     },
     "metadata": {},
     "output_type": "display_data"
    },
    {
     "data": {
      "text/latex": [
       "$\\displaystyle 0$"
      ],
      "text/plain": [
       "0"
      ]
     },
     "metadata": {},
     "output_type": "display_data"
    }
   ],
   "source": [
    "# 2.2\n",
    "a, b, x = symbols('a b x')\n",
    "f = 2*a*x + b**2\n",
    "display(f)\n",
    "# первая производная по a\n",
    "der_a = diff(f, a)\n",
    "display('Частная производная по a', der_a)\n",
    "# вторая производная по a\n",
    "der_aa = diff(f, a, 2)\n",
    "display('Вторая частная производная по a', der_aa)"
   ]
  },
  {
   "cell_type": "code",
   "execution_count": 15,
   "metadata": {},
   "outputs": [
    {
     "data": {
      "text/latex": [
       "$\\displaystyle x^{2} - y^{2}$"
      ],
      "text/plain": [
       "x**2 - y**2"
      ]
     },
     "metadata": {},
     "output_type": "display_data"
    },
    {
     "data": {
      "text/plain": [
       "'Частная производная по x'"
      ]
     },
     "metadata": {},
     "output_type": "display_data"
    },
    {
     "data": {
      "text/latex": [
       "$\\displaystyle 2 x$"
      ],
      "text/plain": [
       "2*x"
      ]
     },
     "metadata": {},
     "output_type": "display_data"
    },
    {
     "data": {
      "text/plain": [
       "'Частная производная по y'"
      ]
     },
     "metadata": {},
     "output_type": "display_data"
    },
    {
     "data": {
      "text/latex": [
       "$\\displaystyle - 2 y$"
      ],
      "text/plain": [
       "-2*y"
      ]
     },
     "metadata": {},
     "output_type": "display_data"
    }
   ],
   "source": [
    "# 2.3\n",
    "x, y = symbols('x y')\n",
    "f = x**2 - y**2\n",
    "display(f)\n",
    "# первые частные производные\n",
    "der_x = diff(f, x)\n",
    "der_y = diff(f, y)\n",
    "display('Частная производная по x', der_x, 'Частная производная по y', der_y)"
   ]
  },
  {
   "cell_type": "code",
   "execution_count": 16,
   "metadata": {},
   "outputs": [
    {
     "data": {
      "text/latex": [
       "$\\displaystyle \\left(- a - 2 b + 5\\right)^{2}$"
      ],
      "text/plain": [
       "(-a - 2*b + 5)**2"
      ]
     },
     "metadata": {},
     "output_type": "display_data"
    },
    {
     "data": {
      "text/plain": [
       "'Частная производная по a'"
      ]
     },
     "metadata": {},
     "output_type": "display_data"
    },
    {
     "data": {
      "text/latex": [
       "$\\displaystyle 2 a + 4 b - 10$"
      ],
      "text/plain": [
       "2*a + 4*b - 10"
      ]
     },
     "metadata": {},
     "output_type": "display_data"
    },
    {
     "data": {
      "text/plain": [
       "'Частная производная по b'"
      ]
     },
     "metadata": {},
     "output_type": "display_data"
    },
    {
     "data": {
      "text/latex": [
       "$\\displaystyle 4 a + 8 b - 20$"
      ],
      "text/plain": [
       "4*a + 8*b - 20"
      ]
     },
     "metadata": {},
     "output_type": "display_data"
    }
   ],
   "source": [
    "# 2.4\n",
    "f = (5 - a - 2*b)**2\n",
    "display(f)\n",
    "# частные производные\n",
    "der_a = diff(f, a)\n",
    "der_b = diff(f, b)\n",
    "display('Частная производная по a', der_a, 'Частная производная по b', der_b)"
   ]
  },
  {
   "cell_type": "code",
   "execution_count": 17,
   "metadata": {},
   "outputs": [
    {
     "data": {
      "text/latex": [
       "$\\displaystyle x^{2} + 3 x y + 4 y^{2}$"
      ],
      "text/plain": [
       "x**2 + 3*x*y + 4*y**2"
      ]
     },
     "metadata": {},
     "output_type": "display_data"
    },
    {
     "data": {
      "text/plain": [
       "'Частная производная по х'"
      ]
     },
     "metadata": {},
     "output_type": "display_data"
    },
    {
     "data": {
      "text/latex": [
       "$\\displaystyle 2 x + 3 y$"
      ],
      "text/plain": [
       "2*x + 3*y"
      ]
     },
     "metadata": {},
     "output_type": "display_data"
    },
    {
     "data": {
      "text/plain": [
       "'Частная производная по y'"
      ]
     },
     "metadata": {},
     "output_type": "display_data"
    },
    {
     "data": {
      "text/latex": [
       "$\\displaystyle 3 x + 8 y$"
      ],
      "text/plain": [
       "3*x + 8*y"
      ]
     },
     "metadata": {},
     "output_type": "display_data"
    }
   ],
   "source": [
    "# 2.5\n",
    "u = x**2 + 3*x*y + 4*y**2\n",
    "display(u)\n",
    "# частные производные\n",
    "der_x = diff(u, x)\n",
    "der_y = diff(u, y)\n",
    "display('Частная производная по х', der_x, 'Частная производная по y', der_y)\n"
   ]
  },
  {
   "cell_type": "code",
   "execution_count": 18,
   "metadata": {},
   "outputs": [
    {
     "data": {
      "text/latex": [
       "$\\displaystyle y \\sin{\\left(x \\right)} + \\sin{\\left(y \\right)}$"
      ],
      "text/plain": [
       "y*sin(x) + sin(y)"
      ]
     },
     "metadata": {},
     "output_type": "display_data"
    },
    {
     "data": {
      "text/plain": [
       "'Частная производная по x'"
      ]
     },
     "metadata": {},
     "output_type": "display_data"
    },
    {
     "data": {
      "text/latex": [
       "$\\displaystyle y \\cos{\\left(x \\right)}$"
      ],
      "text/plain": [
       "y*cos(x)"
      ]
     },
     "metadata": {},
     "output_type": "display_data"
    },
    {
     "data": {
      "text/plain": [
       "'Частная производная по y'"
      ]
     },
     "metadata": {},
     "output_type": "display_data"
    },
    {
     "data": {
      "text/latex": [
       "$\\displaystyle \\sin{\\left(x \\right)} + \\cos{\\left(y \\right)}$"
      ],
      "text/plain": [
       "sin(x) + cos(y)"
      ]
     },
     "metadata": {},
     "output_type": "display_data"
    }
   ],
   "source": [
    "# 2.6\n",
    "u = y*sin(x) + sin(y)\n",
    "display(u)\n",
    "# частные производные\n",
    "der_x = diff(u, x)\n",
    "der_y = diff(u, y)\n",
    "display('Частная производная по x', der_x, 'Частная производная по y', der_y)"
   ]
  },
  {
   "cell_type": "markdown",
   "metadata": {},
   "source": [
    "***"
   ]
  },
  {
   "cell_type": "code",
   "execution_count": 25,
   "metadata": {},
   "outputs": [
    {
     "data": {
      "text/plain": [
       "'Функция'"
      ]
     },
     "metadata": {},
     "output_type": "display_data"
    },
    {
     "data": {
      "text/latex": [
       "$\\displaystyle - 2 x^{3} - 3 x^{2} + 12 x - 4$"
      ],
      "text/plain": [
       "-2*x**3 - 3*x**2 + 12*x - 4"
      ]
     },
     "metadata": {},
     "output_type": "display_data"
    },
    {
     "data": {
      "text/plain": [
       "'Производная'"
      ]
     },
     "metadata": {},
     "output_type": "display_data"
    },
    {
     "data": {
      "text/latex": [
       "$\\displaystyle - 6 x^{2} - 6 x + 12$"
      ],
      "text/plain": [
       "-6*x**2 - 6*x + 12"
      ]
     },
     "metadata": {},
     "output_type": "display_data"
    },
    {
     "data": {
      "text/plain": [
       "'Точки, в которых производная равна 0'"
      ]
     },
     "metadata": {},
     "output_type": "display_data"
    },
    {
     "data": {
      "text/plain": [
       "[-2, 1]"
      ]
     },
     "metadata": {},
     "output_type": "display_data"
    },
    {
     "data": {
      "text/plain": [
       "'Знак производной левее точки -2'"
      ]
     },
     "metadata": {},
     "output_type": "display_data"
    },
    {
     "data": {
      "text/latex": [
       "$\\displaystyle -24$"
      ],
      "text/plain": [
       "-24"
      ]
     },
     "metadata": {},
     "output_type": "display_data"
    },
    {
     "data": {
      "text/plain": [
       "'Знак производной между точками -2 и 1'"
      ]
     },
     "metadata": {},
     "output_type": "display_data"
    },
    {
     "data": {
      "text/latex": [
       "$\\displaystyle 12$"
      ],
      "text/plain": [
       "12"
      ]
     },
     "metadata": {},
     "output_type": "display_data"
    },
    {
     "data": {
      "text/plain": [
       "'Знак производной правее точки 1'"
      ]
     },
     "metadata": {},
     "output_type": "display_data"
    },
    {
     "data": {
      "text/latex": [
       "$\\displaystyle -24$"
      ],
      "text/plain": [
       "-24"
      ]
     },
     "metadata": {},
     "output_type": "display_data"
    }
   ],
   "source": [
    "# 3.1\n",
    "f = -2*x**3 - 3*x**2 + 12*x - 4\n",
    "display('Функция', f)\n",
    "\n",
    "der = diff(f, x)\n",
    "display('Производная', der)\n",
    "display('Точки, в которых производная равна 0', sympy.solve(sympy.Eq(der, 0)))\n",
    "display('Знак производной левее точки -2', der.subs(x, -3))\n",
    "display('Знак производной между точками -2 и 1', der.subs(x, 0))\n",
    "display('Знак производной правее точки 1', der.subs(x, 2))"
   ]
  },
  {
   "cell_type": "markdown",
   "metadata": {},
   "source": [
    "Точка минимума: $-2$  \n",
    "Точка максимума: $1$"
   ]
  },
  {
   "cell_type": "code",
   "execution_count": 39,
   "metadata": {},
   "outputs": [
    {
     "data": {
      "text/plain": [
       "'Функция'"
      ]
     },
     "metadata": {},
     "output_type": "display_data"
    },
    {
     "data": {
      "text/latex": [
       "$\\displaystyle 5 x y^{3} + e^{x}$"
      ],
      "text/plain": [
       "5*x*y**3 + exp(x)"
      ]
     },
     "metadata": {},
     "output_type": "display_data"
    },
    {
     "data": {
      "text/plain": [
       "'Вторая производная по x'"
      ]
     },
     "metadata": {},
     "output_type": "display_data"
    },
    {
     "data": {
      "text/latex": [
       "$\\displaystyle e^{x}$"
      ],
      "text/plain": [
       "exp(x)"
      ]
     },
     "metadata": {},
     "output_type": "display_data"
    },
    {
     "data": {
      "text/plain": [
       "'Вторая производная по y'"
      ]
     },
     "metadata": {},
     "output_type": "display_data"
    },
    {
     "data": {
      "text/latex": [
       "$\\displaystyle 30 x y$"
      ],
      "text/plain": [
       "30*x*y"
      ]
     },
     "metadata": {},
     "output_type": "display_data"
    },
    {
     "data": {
      "text/plain": [
       "'Вторая смешанная производная'"
      ]
     },
     "metadata": {},
     "output_type": "display_data"
    },
    {
     "data": {
      "text/latex": [
       "$\\displaystyle 15 y^{2}$"
      ],
      "text/plain": [
       "15*y**2"
      ]
     },
     "metadata": {},
     "output_type": "display_data"
    }
   ],
   "source": [
    "# 3.2\n",
    "f = sympy.E**x + 5*y**3*x\n",
    "display('Функция', f)\n",
    "\n",
    "der_x = diff(f, x, 2)\n",
    "display('Вторая производная по x', der_x)\n",
    "der_y = diff(f, y, 2)\n",
    "display('Вторая производная по y', der_y)\n",
    "der_xy = diff(f, x, y, 1)\n",
    "display('Вторая смешанная производная', der_xy)"
   ]
  },
  {
   "cell_type": "markdown",
   "metadata": {},
   "source": [
    "Матрица Гессе\n",
    "$$\n",
    "\\begin{pmatrix}\n",
    "e^x & 15y^2 \\\\\n",
    "15y^2 & 30xy\n",
    "\\end{pmatrix}\n",
    "$$\n",
    "***"
   ]
  },
  {
   "cell_type": "markdown",
   "metadata": {},
   "source": [
    "**Пример**"
   ]
  },
  {
   "cell_type": "code",
   "execution_count": 41,
   "metadata": {},
   "outputs": [
    {
     "data": {
      "text/plain": [
       "'Функция'"
      ]
     },
     "metadata": {},
     "output_type": "display_data"
    },
    {
     "data": {
      "text/latex": [
       "$\\displaystyle x^{3} + 3 x y^{2} - 15 x - 12 y + 1$"
      ],
      "text/plain": [
       "x**3 + 3*x*y**2 - 15*x - 12*y + 1"
      ]
     },
     "metadata": {},
     "output_type": "display_data"
    },
    {
     "data": {
      "text/plain": [
       "'Частная производная по x'"
      ]
     },
     "metadata": {},
     "output_type": "display_data"
    },
    {
     "data": {
      "text/latex": [
       "$\\displaystyle 3 x^{2} + 3 y^{2} - 15$"
      ],
      "text/plain": [
       "3*x**2 + 3*y**2 - 15"
      ]
     },
     "metadata": {},
     "output_type": "display_data"
    },
    {
     "data": {
      "text/plain": [
       "'Частная производная по y'"
      ]
     },
     "metadata": {},
     "output_type": "display_data"
    },
    {
     "data": {
      "text/latex": [
       "$\\displaystyle 6 x y - 12$"
      ],
      "text/plain": [
       "6*x*y - 12"
      ]
     },
     "metadata": {},
     "output_type": "display_data"
    }
   ],
   "source": [
    "z = x**3 + 3*x*y**2 - 15*x - 12*y + 1\n",
    "display('Функция', z)\n",
    "der_x = diff(z, x)\n",
    "der_y = diff(z, y)\n",
    "display('Частная производная по x', der_x, 'Частная производная по y', der_y)"
   ]
  },
  {
   "cell_type": "markdown",
   "metadata": {},
   "source": [
    "Теперь можно, к примеру, выразить $x$ из второй строки через $y$ (или наоборот) и подставить результат в первую либо воспользоваться библиотекой `SymPy` для решения уравнений. В итоге получим четыре стационарные точки:"
   ]
  },
  {
   "cell_type": "code",
   "execution_count": 81,
   "metadata": {},
   "outputs": [
    {
     "name": "stdout",
     "output_type": "stream",
     "text": [
      "Стационарные точки: [(-2, -1), (-1, -2), (1, 2), (2, 1)]\n"
     ]
    }
   ],
   "source": [
    "stationary_points = sympy.solve([der_x, der_y], [x, y])\n",
    "print(f'Стационарные точки: {stationary_points}')"
   ]
  },
  {
   "cell_type": "markdown",
   "metadata": {},
   "source": [
    "Составим матрицу Гессе в общем виде, а затем будем подставлять каждую точку и определять, чем она является.\n",
    "$$ Hesse = \n",
    "\\begin{pmatrix}\n",
    "6x & 6y \\\\\n",
    "6y & 6x\n",
    "\\end{pmatrix}\n",
    "$$"
   ]
  },
  {
   "cell_type": "code",
   "execution_count": 82,
   "metadata": {},
   "outputs": [
    {
     "data": {
      "text/plain": [
       "'Матрица Hesse'"
      ]
     },
     "metadata": {},
     "output_type": "display_data"
    },
    {
     "data": {
      "text/latex": [
       "$\\displaystyle \\left[\\begin{matrix}6 x & 6 y\\\\6 y & 6 x\\end{matrix}\\right]$"
      ],
      "text/plain": [
       "Matrix([\n",
       "[6*x, 6*y],\n",
       "[6*y, 6*x]])"
      ]
     },
     "metadata": {},
     "output_type": "display_data"
    },
    {
     "name": "stdout",
     "output_type": "stream",
     "text": [
      "Собственные числа для матриц Hesse каждой стационарной точки\n",
      "\n",
      "Точка (-2, -1):\n",
      " [ -6. -18.] \n",
      "\n",
      "Точка (-1, -2):\n",
      " [  6. -18.] \n",
      "\n",
      "Точка (1, 2):\n",
      " [18. -6.] \n",
      "\n",
      "Точка (2, 1):\n",
      " [18.  6.] \n",
      "\n"
     ]
    }
   ],
   "source": [
    "hesse = sympy.Matrix([[6*x, 6*y], [6*y, 6*x]])\n",
    "display('Матрица Hesse', hesse)\n",
    "print('Собственные числа для матриц Hesse каждой стационарной точки\\n')\n",
    "for point in stationary_points:\n",
    "    hesse_dot = sympy.matrix2numpy(hesse.subs(x, point[0]).subs(y, point[1]), dtype=float)\n",
    "    print(f'Точка {point}:\\n', np.linalg.eig(hesse_dot)[0], '\\n')                              "
   ]
  },
  {
   "cell_type": "markdown",
   "metadata": {},
   "source": [
    "***"
   ]
  },
  {
   "cell_type": "code",
   "execution_count": 87,
   "metadata": {},
   "outputs": [
    {
     "data": {
      "text/plain": [
       "'Функция'"
      ]
     },
     "metadata": {},
     "output_type": "display_data"
    },
    {
     "data": {
      "text/latex": [
       "$\\displaystyle 4 x^{2} - 6 x y - 34 x + 5 y^{2} + 42 y + 7$"
      ],
      "text/plain": [
       "4*x**2 - 6*x*y - 34*x + 5*y**2 + 42*y + 7"
      ]
     },
     "metadata": {},
     "output_type": "display_data"
    },
    {
     "data": {
      "text/plain": [
       "'Частная производная по x'"
      ]
     },
     "metadata": {},
     "output_type": "display_data"
    },
    {
     "data": {
      "text/latex": [
       "$\\displaystyle 8 x - 6 y - 34$"
      ],
      "text/plain": [
       "8*x - 6*y - 34"
      ]
     },
     "metadata": {},
     "output_type": "display_data"
    },
    {
     "data": {
      "text/plain": [
       "'Частная производная по y'"
      ]
     },
     "metadata": {},
     "output_type": "display_data"
    },
    {
     "data": {
      "text/latex": [
       "$\\displaystyle - 6 x + 10 y + 42$"
      ],
      "text/plain": [
       "-6*x + 10*y + 42"
      ]
     },
     "metadata": {},
     "output_type": "display_data"
    },
    {
     "name": "stdout",
     "output_type": "stream",
     "text": [
      "Стационарные точки экстремума: {x: 2, y: -3}\n"
     ]
    }
   ],
   "source": [
    "# 3.4\n",
    "z = 4*x**2 - 6*x*y - 34*x + 5*y**2 + 42*y + 7\n",
    "display('Функция', z)\n",
    "der_x, der_y = diff(z, x), diff(z, y)\n",
    "display(\n",
    "    'Частная производная по x', der_x,\n",
    "    'Частная производная по y', der_y\n",
    ")\n",
    "stationary_points = sympy.solve([der_x, der_y], [x, y])\n",
    "print(f'Стационарные точки экстремума: {stationary_points}')"
   ]
  },
  {
   "cell_type": "code",
   "execution_count": 98,
   "metadata": {},
   "outputs": [
    {
     "data": {
      "text/plain": [
       "'Функция'"
      ]
     },
     "metadata": {},
     "output_type": "display_data"
    },
    {
     "data": {
      "text/latex": [
       "$\\displaystyle x^{3} - 2 x y - y^{6}$"
      ],
      "text/plain": [
       "x**3 - 2*x*y - y**6"
      ]
     },
     "metadata": {},
     "output_type": "display_data"
    },
    {
     "data": {
      "text/plain": [
       "'Стационарная точка'"
      ]
     },
     "metadata": {},
     "output_type": "display_data"
    },
    {
     "data": {
      "text/plain": [
       "(1, 2)"
      ]
     },
     "metadata": {},
     "output_type": "display_data"
    },
    {
     "data": {
      "text/plain": [
       "'Матрица Hesse'"
      ]
     },
     "metadata": {},
     "output_type": "display_data"
    },
    {
     "data": {
      "text/latex": [
       "$\\displaystyle \\left[\\begin{matrix}6 x & -2\\\\-2 & - 30 y^{4}\\end{matrix}\\right]$"
      ],
      "text/plain": [
       "Matrix([\n",
       "[6*x,       -2],\n",
       "[ -2, -30*y**4]])"
      ]
     },
     "metadata": {},
     "output_type": "display_data"
    },
    {
     "name": "stdout",
     "output_type": "stream",
     "text": [
      "Матрица Hesse в точке (1, 2):\n",
      "[[   6.   -2.]\n",
      " [  -2. -480.]]\n",
      "Определитель: -2884.0\n"
     ]
    }
   ],
   "source": [
    "# 3.5\n",
    "f = x**3 - 2*x*y - y**6\n",
    "stationary_point = (1, 2)\n",
    "display('Функция', f, 'Стационарная точка', stationary_point)\n",
    "der_xx, der_yy, der_xy = diff(f, x, 2), diff(f, y, 2), diff(f, x, y)\n",
    "hesse = sympy.Matrix([[der_xx, der_xy], [der_xy, der_yy]])\n",
    "display('Матрица Hesse', hesse)\n",
    "\n",
    "hesse_dot = sympy.matrix2numpy(\n",
    "    hesse.subs(x, stationary_point[0]).subs(y, stationary_point[1]),\n",
    "    dtype=float\n",
    ")\n",
    "print(f'Матрица Hesse в точке {stationary_point}:\\n{hesse_dot}')\n",
    "print('Определитель:', round(np.linalg.det(hesse_dot), 2))"
   ]
  },
  {
   "cell_type": "code",
   "execution_count": 107,
   "metadata": {},
   "outputs": [
    {
     "data": {
      "text/plain": [
       "'Функция'"
      ]
     },
     "metadata": {},
     "output_type": "display_data"
    },
    {
     "data": {
      "text/latex": [
       "$\\displaystyle x^{3} - 3 x y + y^{3}$"
      ],
      "text/plain": [
       "x**3 - 3*x*y + y**3"
      ]
     },
     "metadata": {},
     "output_type": "display_data"
    },
    {
     "data": {
      "text/plain": [
       "'Стационарные точки'"
      ]
     },
     "metadata": {},
     "output_type": "display_data"
    },
    {
     "data": {
      "text/plain": [
       "[(0, 0),\n",
       " (1, 1),\n",
       " ((-1/2 - sqrt(3)*I/2)**2, -1/2 - sqrt(3)*I/2),\n",
       " ((-1/2 + sqrt(3)*I/2)**2, -1/2 + sqrt(3)*I/2)]"
      ]
     },
     "metadata": {},
     "output_type": "display_data"
    },
    {
     "data": {
      "text/plain": [
       "'Матрица Hesse'"
      ]
     },
     "metadata": {},
     "output_type": "display_data"
    },
    {
     "data": {
      "text/latex": [
       "$\\displaystyle \\left[\\begin{matrix}6 x & -3\\\\-3 & 6 y\\end{matrix}\\right]$"
      ],
      "text/plain": [
       "Matrix([\n",
       "[6*x,  -3],\n",
       "[ -3, 6*y]])"
      ]
     },
     "metadata": {},
     "output_type": "display_data"
    },
    {
     "name": "stdout",
     "output_type": "stream",
     "text": [
      "Собственные числа матрицы Hesse в стационарных точках\n",
      "\n",
      "Собственные числа в точке (0, 0):\n",
      "[ 3. -3.]\n",
      "\n",
      "Собственные числа в точке (1, 1):\n",
      "[9. 3.]\n",
      "\n"
     ]
    }
   ],
   "source": [
    "# 3.9\n",
    "f = x**3 + y**3 - 3*x*y\n",
    "display('Функция', f)\n",
    "der_x, der_y = diff(f, x), diff(f, y)\n",
    "stationary_points = sympy.solve([der_x, der_y], [x, y])\n",
    "display('Стационарные точки', stationary_points)\n",
    "\n",
    "der_xx, der_yy, der_xy = diff(f, x, 2), diff(f, y, 2), diff(f, x, y)\n",
    "hesse = sympy.Matrix([[der_xx, der_xy], [der_xy, der_yy]])\n",
    "display('Матрица Hesse', hesse)\n",
    "print('Собственные числа матрицы Hesse в стационарных точках\\n')\n",
    "for i in range(0, 2):\n",
    "    dot = stationary_points[i]\n",
    "    hesse_dot = sympy.matrix2numpy(hesse.subs(x, dot[0]).subs(y, dot[1]), dtype=float)\n",
    "    eigh_value = np.linalg.eig(hesse_dot)[0]\n",
    "    print(f'Собственные числа в точке {dot}:\\n{eigh_value}\\n')"
   ]
  }
 ],
 "metadata": {
  "kernelspec": {
   "display_name": "Python 3",
   "language": "python",
   "name": "python3"
  },
  "language_info": {
   "codemirror_mode": {
    "name": "ipython",
    "version": 3
   },
   "file_extension": ".py",
   "mimetype": "text/x-python",
   "name": "python",
   "nbconvert_exporter": "python",
   "pygments_lexer": "ipython3",
   "version": "3.10.8"
  },
  "orig_nbformat": 4
 },
 "nbformat": 4,
 "nbformat_minor": 2
}
