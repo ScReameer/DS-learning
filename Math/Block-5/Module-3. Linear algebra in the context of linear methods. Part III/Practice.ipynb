{
 "cells": [
  {
   "attachments": {},
   "cell_type": "markdown",
   "metadata": {},
   "source": [
    "# <center> Линейный оператор"
   ]
  },
  {
   "cell_type": "code",
   "execution_count": 1,
   "metadata": {},
   "outputs": [],
   "source": [
    "import numpy as np"
   ]
  },
  {
   "cell_type": "code",
   "execution_count": 3,
   "metadata": {},
   "outputs": [
    {
     "name": "stdout",
     "output_type": "stream",
     "text": [
      "Образ вектора v: [ 1  3 -2]\n"
     ]
    }
   ],
   "source": [
    "# 2.2\n",
    "F = np.array([\n",
    "    [1, 0, 0],\n",
    "    [0, 0, 1],\n",
    "    [0, -1, 0]\n",
    "])\n",
    "v = np.array([1, 2, 3])\n",
    "print('Образ вектора v:', F @ v)"
   ]
  },
  {
   "cell_type": "code",
   "execution_count": 4,
   "metadata": {},
   "outputs": [
    {
     "name": "stdout",
     "output_type": "stream",
     "text": [
      "Образ u: [ 1 -1]\n",
      "Образ v: [3 3]\n"
     ]
    }
   ],
   "source": [
    "u = np.array([1, -1])\n",
    "v = np.array([1, 1])\n",
    "F = np.array([\n",
    "    [2, 1],\n",
    "    [1, 2]\n",
    "])\n",
    "print('Образ u:', F @ u)\n",
    "print('Образ v:', F @ v)"
   ]
  },
  {
   "attachments": {},
   "cell_type": "markdown",
   "metadata": {},
   "source": [
    "# <center> Собственные числа и векторы"
   ]
  },
  {
   "cell_type": "code",
   "execution_count": 5,
   "metadata": {},
   "outputs": [
    {
     "name": "stdout",
     "output_type": "stream",
     "text": [
      "Собственные числа: \n",
      " [4. 1.]\n",
      "Собственные векторы: \n",
      " [[ 0.89442719 -0.70710678]\n",
      " [ 0.4472136   0.70710678]]\n"
     ]
    }
   ],
   "source": [
    "A = np.array([\n",
    "    [3, 1],\n",
    "    [2, 2]\n",
    "]).T\n",
    "# вычисляем собственные числа и собственные векторы\n",
    "eig_values, eig_vectors = np.linalg.eig(A)\n",
    "print('Собственные числа: \\n', eig_values)\n",
    "print('Собственные векторы: \\n', eig_vectors)"
   ]
  },
  {
   "attachments": {},
   "cell_type": "markdown",
   "metadata": {},
   "source": [
    ">Каждый собственный вектор соответствует своему собственному числу. То есть вектор $\\vec{v_1}=(-0.894, 0.447)^T$ соответствует собственному числу $\\lambda_1=4$, а собственный вектор $\\vec{v_2}=(-0.707, 0.707)^T$ соответствует числу $\\lambda_2=1$. "
   ]
  },
  {
   "cell_type": "code",
   "execution_count": 6,
   "metadata": {},
   "outputs": [
    {
     "name": "stdout",
     "output_type": "stream",
     "text": [
      "Собственные числа: \n",
      " [20. -4. -7.]\n"
     ]
    }
   ],
   "source": [
    "# 4.1\n",
    "A = np.array([\n",
    "    [1, 3, 5],\n",
    "    [4, -4, 9],\n",
    "    [13, 7, 12]\n",
    "])\n",
    "eig_values, eig_vectors = np.linalg.eig(A)\n",
    "print('Собственные числа: \\n', eig_values.round())\n"
   ]
  },
  {
   "cell_type": "code",
   "execution_count": 7,
   "metadata": {},
   "outputs": [
    {
     "name": "stdout",
     "output_type": "stream",
     "text": [
      "Собственные числа: \n",
      " [391.  46.  16.]\n"
     ]
    }
   ],
   "source": [
    "# 4.2\n",
    "A = np.array([\n",
    "    [1, 9, 4],\n",
    "    [9, 4, 7],\n",
    "    [4, 7, 12]\n",
    "])\n",
    "eig_values, eig_vectors = np.linalg.eig(A.T @ A)\n",
    "print('Собственные числа: \\n', eig_values.round())"
   ]
  },
  {
   "attachments": {},
   "cell_type": "markdown",
   "metadata": {},
   "source": [
    "# <center>Метод главных компонент, PCA"
   ]
  },
  {
   "cell_type": "code",
   "execution_count": 5,
   "metadata": {},
   "outputs": [
    {
     "name": "stdout",
     "output_type": "stream",
     "text": [
      "Собственные числа:\n",
      " [1.9922 0.0078]\n",
      "Собственные векторы:\n",
      " [[ 0.70710678 -0.70710678]\n",
      " [ 0.70710678  0.70710678]]\n"
     ]
    }
   ],
   "source": [
    "# 6.5\n",
    "x1 = np.array([1, 2, 1, 1]) # признак 1\n",
    "x2 = np.array([70, 130, 65, 60]) # признак 2\n",
    "C = np.corrcoef(x1, x2).round(4) # матрица корреляции между x1 и x2\n",
    "eig_values, eig_vectors = np.linalg.eig(C)\n",
    "print('Собственные числа:\\n', eig_values)\n",
    "print('Собственные векторы:\\n', eig_vectors)\n"
   ]
  },
  {
   "cell_type": "code",
   "execution_count": 8,
   "metadata": {},
   "outputs": [
    {
     "name": "stdout",
     "output_type": "stream",
     "text": [
      "Наиболее значимое собственное число:\n",
      " 1.9922\n",
      "Соответствующий вектор:\n",
      " [0.70710678 0.70710678]\n"
     ]
    }
   ],
   "source": [
    "max_eig_value = max(eig_values)\n",
    "max_eig_vector = eig_vectors[:, np.argmax(eig_values)]\n",
    "print('Наиболее значимое собственное число:\\n', max_eig_value)\n",
    "print('Соответствующий вектор:\\n', max_eig_vector)"
   ]
  },
  {
   "cell_type": "code",
   "execution_count": 17,
   "metadata": {},
   "outputs": [
    {
     "name": "stdout",
     "output_type": "stream",
     "text": [
      "Главная компонента:\n",
      " [-0.24  0.86 -0.29 -0.33]\n"
     ]
    }
   ],
   "source": [
    "x1_std = (x1 - x1.mean()) / np.linalg.norm(x1 - x1.mean())\n",
    "x2_std = (x2 - x2.mean()) / np.linalg.norm(x2 - x2.mean())\n",
    "new_factor = max_eig_vector @ np.array([x1_std, x2_std])\n",
    "new_factor_std = (new_factor - new_factor.mean()) / np.linalg.norm(new_factor - new_factor.mean())\n",
    "print('Главная компонента:\\n', new_factor_std.round(2))"
   ]
  }
 ],
 "metadata": {
  "kernelspec": {
   "display_name": "Python 3",
   "language": "python",
   "name": "python3"
  },
  "language_info": {
   "codemirror_mode": {
    "name": "ipython",
    "version": 3
   },
   "file_extension": ".py",
   "mimetype": "text/x-python",
   "name": "python",
   "nbconvert_exporter": "python",
   "pygments_lexer": "ipython3",
   "version": "3.10.8"
  },
  "orig_nbformat": 4
 },
 "nbformat": 4,
 "nbformat_minor": 2
}
