{
 "cells": [
  {
   "attachments": {},
   "cell_type": "markdown",
   "metadata": {},
   "source": [
    "# <center> Линейный оператор"
   ]
  },
  {
   "cell_type": "code",
   "execution_count": 1,
   "metadata": {},
   "outputs": [],
   "source": [
    "import numpy as np"
   ]
  },
  {
   "cell_type": "code",
   "execution_count": 2,
   "metadata": {},
   "outputs": [
    {
     "name": "stdout",
     "output_type": "stream",
     "text": [
      "Образ вектора v: [ 1  3 -2]\n"
     ]
    }
   ],
   "source": [
    "# 2.2\n",
    "F = np.array([\n",
    "    [1, 0, 0],\n",
    "    [0, 0, 1],\n",
    "    [0, -1, 0]\n",
    "])\n",
    "v = np.array([1, 2, 3])\n",
    "print('Образ вектора v:', F @ v)"
   ]
  },
  {
   "cell_type": "code",
   "execution_count": 3,
   "metadata": {},
   "outputs": [
    {
     "name": "stdout",
     "output_type": "stream",
     "text": [
      "Образ u: [ 1 -1]\n",
      "Образ v: [3 3]\n"
     ]
    }
   ],
   "source": [
    "u = np.array([1, -1])\n",
    "v = np.array([1, 1])\n",
    "F = np.array([\n",
    "    [2, 1],\n",
    "    [1, 2]\n",
    "])\n",
    "print('Образ u:', F @ u)\n",
    "print('Образ v:', F @ v)"
   ]
  }
 ],
 "metadata": {
  "kernelspec": {
   "display_name": "Python 3",
   "language": "python",
   "name": "python3"
  },
  "language_info": {
   "codemirror_mode": {
    "name": "ipython",
    "version": 3
   },
   "file_extension": ".py",
   "mimetype": "text/x-python",
   "name": "python",
   "nbconvert_exporter": "python",
   "pygments_lexer": "ipython3",
   "version": "3.10.8"
  },
  "orig_nbformat": 4
 },
 "nbformat": 4,
 "nbformat_minor": 2
}
