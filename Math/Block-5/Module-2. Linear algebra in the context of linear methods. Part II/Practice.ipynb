{
 "cells": [
  {
   "attachments": {},
   "cell_type": "markdown",
   "metadata": {},
   "source": [
    "# <center>Линейная алгебра в контексте линейных методов. Часть II\n",
    "## <center>Неоднородные СЛАУ\n",
    "### <center>Случай «ИДЕАЛЬНАЯ ПАРА»"
   ]
  },
  {
   "cell_type": "code",
   "execution_count": 30,
   "metadata": {},
   "outputs": [],
   "source": [
    "import numpy as np\n",
    "import pandas as pd\n",
    "from sklearn.linear_model import LinearRegression\n",
    "from sklearn.preprocessing import PolynomialFeatures\n",
    "from sklearn.linear_model import Ridge\n",
    "from sklearn.linear_model import Lasso\n",
    "from sklearn.linear_model import ElasticNet"
   ]
  },
  {
   "cell_type": "code",
   "execution_count": 3,
   "metadata": {},
   "outputs": [
    {
     "name": "stdout",
     "output_type": "stream",
     "text": [
      "matrix A:\n",
      "[[ 4  7]\n",
      " [ 5 10]]\n",
      "\n",
      "vector b:\n",
      "[[20]\n",
      " [30]]\n",
      "\n",
      "rank(A): 2\n",
      "\n",
      "rank(A|b): 2\n",
      "\n",
      "Number of unknown variables: 2\n",
      "\n",
      "Only decision\n",
      "[[-2.]\n",
      " [ 4.]]\n"
     ]
    }
   ],
   "source": [
    "A = np.array([\n",
    "    [4, 7],\n",
    "    [5, 10]\n",
    "])\n",
    "b = np.array([[20, 30]]).reshape(2, 1)\n",
    "Ab = np.append(A, b, axis=1)\n",
    "num_of_unk_var = len(A[0])\n",
    "rank_a = np.linalg.matrix_rank(A)\n",
    "rank_ab = np.linalg.matrix_rank(Ab)\n",
    "print('matrix A:\\n', A, sep='')\n",
    "print('\\nvector b:\\n', b, sep='')\n",
    "print('\\nrank(A):', rank_a)\n",
    "print('\\nrank(A|b):', rank_ab)\n",
    "print('\\nNumber of unknown variables:', num_of_unk_var)\n",
    "xy = np.linalg.inv(A) @ b\n",
    "print('\\nOnly decision')\n",
    "print(xy)"
   ]
  },
  {
   "attachments": {},
   "cell_type": "markdown",
   "metadata": {},
   "source": [
    "### <center>Случай «В АКТИВНОМ ПОИСКЕ»"
   ]
  },
  {
   "cell_type": "code",
   "execution_count": 4,
   "metadata": {},
   "outputs": [
    {
     "name": "stdout",
     "output_type": "stream",
     "text": [
      "matrix A:\n",
      "[[ 4  7 -1]\n",
      " [ 2  1  1]]\n",
      "\n",
      "vector b:\n",
      "[[7]\n",
      " [2]]\n",
      "\n",
      "rank(A): 2\n",
      "\n",
      "rank(A|b): 2\n",
      "\n",
      "Number of unknown variables: 3\n",
      "\n",
      "Infinity decisions\n"
     ]
    }
   ],
   "source": [
    "A = np.array([\n",
    "    [4, 7, -1],\n",
    "    [2, 1, 1]\n",
    "])\n",
    "b = np.array([[7, 2]]).reshape(2, 1)\n",
    "Ab = np.append(A, b, axis=1)\n",
    "num_of_unk_var = len(A[0])\n",
    "rank_a = np.linalg.matrix_rank(A)\n",
    "rank_ab = np.linalg.matrix_rank(Ab)\n",
    "print('matrix A:\\n', A, sep='')\n",
    "print('\\nvector b:\\n', b, sep='')\n",
    "print('\\nrank(A):', rank_a)\n",
    "print('\\nrank(A|b):', rank_ab)\n",
    "print('\\nNumber of unknown variables:', num_of_unk_var)\n",
    "print('\\nInfinity decisions')"
   ]
  },
  {
   "cell_type": "code",
   "execution_count": 5,
   "metadata": {},
   "outputs": [
    {
     "name": "stdout",
     "output_type": "stream",
     "text": [
      "matrix A:\n",
      "[[ 4  7 -1]\n",
      " [-4  2  5]\n",
      " [ 0  9  4]]\n",
      "\n",
      "vector b:\n",
      "[[ 7]\n",
      " [ 3]\n",
      " [10]]\n",
      "\n",
      "rank(A): 2\n",
      "\n",
      "rank(A|b): 2\n",
      "\n",
      "Number of unknown variables: 3\n",
      "\n",
      "Infinity decisions\n"
     ]
    }
   ],
   "source": [
    "# 2.6\n",
    "A = np.array([\n",
    "    [4, 7, -1],\n",
    "    [-4, 2, 5],\n",
    "    [0, 9, 4]\n",
    "])\n",
    "b = np.array([7, 3, 10]).reshape(3, 1)\n",
    "Ab = np.append(A, b, axis=1)\n",
    "num_of_unk_var = len(A[0])\n",
    "rank_a = np.linalg.matrix_rank(A)\n",
    "rank_ab = np.linalg.matrix_rank(Ab)\n",
    "print('matrix A:\\n', A, sep='')\n",
    "print('\\nvector b:\\n', b, sep='')\n",
    "print('\\nrank(A):', rank_a)\n",
    "print('\\nrank(A|b):', rank_ab)\n",
    "print('\\nNumber of unknown variables:', num_of_unk_var)\n",
    "print('\\nInfinity decisions')"
   ]
  },
  {
   "attachments": {},
   "cell_type": "markdown",
   "metadata": {},
   "source": [
    "### <center>Случай «ВСЁ СЛОЖНО». OLS"
   ]
  },
  {
   "cell_type": "code",
   "execution_count": 6,
   "metadata": {},
   "outputs": [
    {
     "name": "stdout",
     "output_type": "stream",
     "text": [
      "Error vector:\n",
      "[[ 5]\n",
      " [-1]\n",
      " [ 0]]\n"
     ]
    }
   ],
   "source": [
    "# 2.9\n",
    "A = np.array([\n",
    "    [1, -5],\n",
    "    [2, 1],\n",
    "    [1, 1]\n",
    "])\n",
    "b = np.array([1, 2, 2])\n",
    "widehat_w = np.array([1, 1])\n",
    "error_vec = (b - (A @ widehat_w)).reshape(3, 1)\n",
    "print('Error vector:\\n', error_vec, sep='')"
   ]
  },
  {
   "cell_type": "code",
   "execution_count": 7,
   "metadata": {},
   "outputs": [
    {
     "name": "stdout",
     "output_type": "stream",
     "text": [
      "matrix A:\n",
      "[[ 1  2]\n",
      " [-3  1]\n",
      " [ 1  2]\n",
      " [ 1 -1]]\n",
      "\n",
      "vector b:\n",
      "[[1]\n",
      " [4]\n",
      " [5]\n",
      " [0]]\n",
      "\n",
      "Gram matrix for columns:\n",
      "[[12  0]\n",
      " [ 0 10]]\n",
      "\n",
      "Inverted gram matrix:\n",
      "[[0.08333333 0.        ]\n",
      " [0.         0.1       ]]\n",
      "\n",
      "A^T * b:\n",
      "[[-6]\n",
      " [16]]\n",
      "\n",
      "Predicted coeffs omega:\n",
      "[[-0.5]\n",
      " [ 1.6]]\n"
     ]
    }
   ],
   "source": [
    "# 2.11\n",
    "A = np.array([\n",
    "    [1, 2],\n",
    "    [-3, 1],\n",
    "    [1, 2],\n",
    "    [1, -1]\n",
    "])\n",
    "b = np.array([1, 4, 5, 0]).reshape(len(A), 1)\n",
    "gram_matrix = A.T @ A\n",
    "inv_gram = np.linalg.inv(gram_matrix)\n",
    "scalar_columns_b = A.T @ b\n",
    "hat_omega = inv_gram @ scalar_columns_b\n",
    "print(\n",
    "    'matrix A:\\n', A, \n",
    "    '\\n\\nvector b:\\n', b,\n",
    "    '\\n\\nGram matrix for columns:\\n', gram_matrix,\n",
    "    '\\n\\nInverted gram matrix:\\n', inv_gram,\n",
    "    '\\n\\nA^T * b:\\n', scalar_columns_b,\n",
    "    '\\n\\nPredicted coeffs omega:\\n', hat_omega, sep=''\n",
    ")\n",
    "\n"
   ]
  },
  {
   "attachments": {},
   "cell_type": "markdown",
   "metadata": {},
   "source": [
    "## <center>Линейная регрессия"
   ]
  },
  {
   "cell_type": "code",
   "execution_count": 8,
   "metadata": {},
   "outputs": [
    {
     "data": {
      "text/plain": [
       "array([[21.048]])"
      ]
     },
     "execution_count": 8,
     "metadata": {},
     "output_type": "execute_result"
    }
   ],
   "source": [
    "# 3.5\n",
    "data = np.array([[1, 0.2, 6]])\n",
    "w_hat = np.array([[-29.3, -0.26, 8.4]]).reshape(3, 1)\n",
    "data @ w_hat"
   ]
  },
  {
   "attachments": {},
   "cell_type": "markdown",
   "metadata": {},
   "source": [
    "### Особенности класса `LinearRegression`"
   ]
  },
  {
   "cell_type": "code",
   "execution_count": 9,
   "metadata": {},
   "outputs": [
    {
     "name": "stdout",
     "output_type": "stream",
     "text": [
      "LinAlgError: Singular matrix\n"
     ]
    }
   ],
   "source": [
    "# создадим вырожденную матрицу А\n",
    "A = np.array([\n",
    "    [1, 1, 1, 1], \n",
    "    [2, 1, 1, 2], \n",
    "    [-2, -1, -1, -2]]\n",
    ").T\n",
    "y = np.array([1, 2, 5, 1])\n",
    "# вычислим OLS-оценку для коэффициентов\n",
    "try:\n",
    "    w_hat=np.linalg.inv(A.T@A)@A.T@y\n",
    "    print(w_hat)\n",
    "except np.linalg.LinAlgError:\n",
    "    print('LinAlgError: Singular matrix')"
   ]
  },
  {
   "attachments": {},
   "cell_type": "markdown",
   "metadata": {},
   "source": [
    "**Сингулярное разложение (SVD)**"
   ]
  },
  {
   "cell_type": "code",
   "execution_count": 10,
   "metadata": {},
   "outputs": [
    {
     "name": "stdout",
     "output_type": "stream",
     "text": [
      "w_hat: [ 6.   -1.25  1.25]\n"
     ]
    }
   ],
   "source": [
    "# создаём модель линейной регрессии\n",
    "model = LinearRegression(fit_intercept=False)\n",
    "# вычисляем коэффициенты регрессии\n",
    "model.fit(A, y)\n",
    "print('w_hat:', model.coef_)"
   ]
  },
  {
   "attachments": {},
   "cell_type": "markdown",
   "metadata": {},
   "source": [
    "**Сингулярное разложение** зашито в функцию `np.linalg.lstsq()`, которая позволяет в одну строку построить модель линейной регрессии по МНК:"
   ]
  },
  {
   "cell_type": "code",
   "execution_count": 11,
   "metadata": {},
   "outputs": [
    {
     "data": {
      "text/plain": [
       "(array([ 6.  , -1.25,  1.25]),\n",
       " array([], dtype=float64),\n",
       " 2,\n",
       " array([4.86435029e+00, 5.81460412e-01, 3.42443768e-17]))"
      ]
     },
     "execution_count": 11,
     "metadata": {},
     "output_type": "execute_result"
    }
   ],
   "source": [
    "# классическая OLS-регрессия в numpy с возможностью получения решения даже для вырожденных матриц\n",
    "np.linalg.lstsq(A, y, rcond=None)"
   ]
  },
  {
   "attachments": {
    "image-2.png": {
     "image/png": "[encoded data removed]"
    },
    "image-3.png": {
     "image/png": "[encoded data removed]"
    },
    "image.png": {
     "image/png": "[encoded data removed]"
    }
   },
   "cell_type": "markdown",
   "metadata": {},
   "source": [
    "Функция возвращает четыре значения:\n",
    "\n",
    "* вектор рассчитанных коэффициентов линейной регрессии;\n",
    "* сумму квадратов ошибок, $MSE$ (она не считается, если ранг матрицы $A$ меньше числа неизвестных, как в нашем случае);\n",
    "* ранг матрицы $A$;\n",
    "* вектор из сингулярных значений, которые как раз и оберегают нас от ошибки.\n",
    "\n",
    "## <center>Стандартизация векторов и матрица корреляций\n",
    "Для функции `linalg.norm()` обязательно необходимо указать параметр `axis=0`, так как по умолчанию норма считается для всей матрицы, а не для каждого столбца в отдельности\n",
    "```python\n",
    "# составляем матрицу наблюдений без дополнительного столбца из единиц\n",
    "A = boston_data[['CHAS', 'LSTAT', 'CRIM','RM']]\n",
    "y = boston_data[['PRICE']]\n",
    "# стандартизируем векторы в столбцах матрицы A\n",
    "A_cent = A - A.mean()\n",
    "A_st = A_cent / np.linalg.norm(A_cent, axis=0)\n",
    "A_st.describe().round(2)\n",
    "```\n",
    "![image.png](attachment:image.png)\n",
    "```python\n",
    "Для получения стандартизированных коэффициентов нам также понадобится стандартизация целевой переменной  по тому же принципу:\n",
    "\n",
    "# стандартизируем вектор целевой переменной\n",
    "y_cent = y - y.mean()\n",
    "y_st = y_cent/np.linalg.norm(y_cent)\n",
    "```\n",
    "Формула для вычисления коэффициента та же, что и раньше, только матрица $A$ теперь заменяется на $A_{st}$, а $y$ — на $y_{st}$:\n",
    "```python\n",
    "# вычислим OLS-оценку для стандартизированных коэффициентов\n",
    "w_hat_st=np.linalg.inv(A_st.T@A_st)@A_st.T@y_st\n",
    "print(w_hat_st.values)\n",
    "```\n",
    "![image-2.png](attachment:image-2.png)\n",
    "```python\n",
    "# матрица Грама\n",
    "A_st.T @ A_st\n",
    "```\n",
    "![image-3.png](attachment:image-3.png)  \n",
    "На самом деле мы с вами только что вычислили **матрицу выборочных корреляций** наших исходных факторов"
   ]
  },
  {
   "cell_type": "code",
   "execution_count": 12,
   "metadata": {},
   "outputs": [
    {
     "name": "stdout",
     "output_type": "stream",
     "text": [
      "vector x:[12  8]\n",
      "vector x_std:[ 0.707 -0.707]\n"
     ]
    }
   ],
   "source": [
    "# 4.3\n",
    "x = np.array([12, 8])\n",
    "x_cent = x - x.mean()\n",
    "x_std = (x_cent / np.linalg.norm(x_cent)).round(3)\n",
    "print('vector x:', x, '\\nvector x_std:', x_std, sep='')"
   ]
  },
  {
   "attachments": {},
   "cell_type": "markdown",
   "metadata": {},
   "source": [
    "## <center>Корреляционная матрица"
   ]
  },
  {
   "cell_type": "code",
   "execution_count": 13,
   "metadata": {},
   "outputs": [
    {
     "data": {
      "text/plain": [
       "array([[ 1.        , -0.18898224],\n",
       "       [-0.18898224,  1.        ]])"
      ]
     },
     "execution_count": 13,
     "metadata": {},
     "output_type": "execute_result"
    }
   ],
   "source": [
    "x_1 = np.array([1, 2, 6])\n",
    "x_2 = np.array([3000, 1000, 2000])\n",
    "np.corrcoef(x_1, x_2)"
   ]
  },
  {
   "cell_type": "code",
   "execution_count": 14,
   "metadata": {},
   "outputs": [
    {
     "data": {
      "text/plain": [
       "array([[1.  , 0.05],\n",
       "       [0.05, 1.  ]])"
      ]
     },
     "execution_count": 14,
     "metadata": {},
     "output_type": "execute_result"
    }
   ],
   "source": [
    "# 4.7\n",
    "v = np.array([5, 1, 2])\n",
    "u = np.array([4, 2, 8])\n",
    "np.corrcoef(v, u).round(2)"
   ]
  },
  {
   "cell_type": "code",
   "execution_count": 15,
   "metadata": {},
   "outputs": [
    {
     "name": "stdout",
     "output_type": "stream",
     "text": [
      "Rank = 3\n",
      "Determinant = 5e-07\n"
     ]
    }
   ],
   "source": [
    "# 4.8\n",
    "x_1 = np.array([5.1, 1.8, 2.1, 10.3, 12.1, 12.6])\n",
    "x_2 = np.array([10.2, 3.7, 4.1, 20.5, 24.2, 24.1])\n",
    "x_3 = np.array([2.5, 0.9, 1.1, 5.1, 6.1, 6.3])\n",
    "corr_matrix = pd.DataFrame(np.array([x_1, x_2, x_3]).T).corr()\n",
    "print(\n",
    "    'Rank = ', np.linalg.matrix_rank(corr_matrix),\n",
    "    '\\nDeterminant = ', np.linalg.det(corr_matrix).round(7),\n",
    "    sep=''\n",
    ")"
   ]
  },
  {
   "attachments": {},
   "cell_type": "markdown",
   "metadata": {},
   "source": [
    "## <center>Полиномиальная регрессия"
   ]
  },
  {
   "cell_type": "code",
   "execution_count": 16,
   "metadata": {},
   "outputs": [
    {
     "name": "stdout",
     "output_type": "stream",
     "text": [
      "[[ 1  3  4]\n",
      " [ 3  4  5]\n",
      " [-2  5  2]\n",
      " [ 1 -2  2]\n",
      " [ 5  4  6]\n",
      " [13 11  8]\n",
      " [ 1  3 -1]]\n"
     ]
    }
   ],
   "source": [
    "A = np.array([\n",
    "    [1, 3, -2, 1, 5, 13, 1],\n",
    "    [3, 4, 5, -2, 4, 11, 3],\n",
    "    [4, 5, 2, 2, 6, 8, -1],\n",
    "]).T\n",
    "print(A)"
   ]
  },
  {
   "cell_type": "code",
   "execution_count": 17,
   "metadata": {},
   "outputs": [
    {
     "data": {
      "text/html": [
       "<div>\n",
       "<style scoped>\n",
       "    .dataframe tbody tr th:only-of-type {\n",
       "        vertical-align: middle;\n",
       "    }\n",
       "\n",
       "    .dataframe tbody tr th {\n",
       "        vertical-align: top;\n",
       "    }\n",
       "\n",
       "    .dataframe thead th {\n",
       "        text-align: right;\n",
       "    }\n",
       "</style>\n",
       "<table border=\"1\" class=\"dataframe\">\n",
       "  <thead>\n",
       "    <tr style=\"text-align: right;\">\n",
       "      <th></th>\n",
       "      <th>0</th>\n",
       "      <th>1</th>\n",
       "      <th>2</th>\n",
       "      <th>3</th>\n",
       "      <th>4</th>\n",
       "      <th>5</th>\n",
       "      <th>6</th>\n",
       "      <th>7</th>\n",
       "      <th>8</th>\n",
       "      <th>9</th>\n",
       "    </tr>\n",
       "  </thead>\n",
       "  <tbody>\n",
       "    <tr>\n",
       "      <th>0</th>\n",
       "      <td>1.0</td>\n",
       "      <td>1.0</td>\n",
       "      <td>3.0</td>\n",
       "      <td>4.0</td>\n",
       "      <td>1.0</td>\n",
       "      <td>3.0</td>\n",
       "      <td>4.0</td>\n",
       "      <td>9.0</td>\n",
       "      <td>12.0</td>\n",
       "      <td>16.0</td>\n",
       "    </tr>\n",
       "    <tr>\n",
       "      <th>1</th>\n",
       "      <td>1.0</td>\n",
       "      <td>3.0</td>\n",
       "      <td>4.0</td>\n",
       "      <td>5.0</td>\n",
       "      <td>9.0</td>\n",
       "      <td>12.0</td>\n",
       "      <td>15.0</td>\n",
       "      <td>16.0</td>\n",
       "      <td>20.0</td>\n",
       "      <td>25.0</td>\n",
       "    </tr>\n",
       "    <tr>\n",
       "      <th>2</th>\n",
       "      <td>1.0</td>\n",
       "      <td>-2.0</td>\n",
       "      <td>5.0</td>\n",
       "      <td>2.0</td>\n",
       "      <td>4.0</td>\n",
       "      <td>-10.0</td>\n",
       "      <td>-4.0</td>\n",
       "      <td>25.0</td>\n",
       "      <td>10.0</td>\n",
       "      <td>4.0</td>\n",
       "    </tr>\n",
       "    <tr>\n",
       "      <th>3</th>\n",
       "      <td>1.0</td>\n",
       "      <td>1.0</td>\n",
       "      <td>-2.0</td>\n",
       "      <td>2.0</td>\n",
       "      <td>1.0</td>\n",
       "      <td>-2.0</td>\n",
       "      <td>2.0</td>\n",
       "      <td>4.0</td>\n",
       "      <td>-4.0</td>\n",
       "      <td>4.0</td>\n",
       "    </tr>\n",
       "    <tr>\n",
       "      <th>4</th>\n",
       "      <td>1.0</td>\n",
       "      <td>5.0</td>\n",
       "      <td>4.0</td>\n",
       "      <td>6.0</td>\n",
       "      <td>25.0</td>\n",
       "      <td>20.0</td>\n",
       "      <td>30.0</td>\n",
       "      <td>16.0</td>\n",
       "      <td>24.0</td>\n",
       "      <td>36.0</td>\n",
       "    </tr>\n",
       "    <tr>\n",
       "      <th>5</th>\n",
       "      <td>1.0</td>\n",
       "      <td>13.0</td>\n",
       "      <td>11.0</td>\n",
       "      <td>8.0</td>\n",
       "      <td>169.0</td>\n",
       "      <td>143.0</td>\n",
       "      <td>104.0</td>\n",
       "      <td>121.0</td>\n",
       "      <td>88.0</td>\n",
       "      <td>64.0</td>\n",
       "    </tr>\n",
       "    <tr>\n",
       "      <th>6</th>\n",
       "      <td>1.0</td>\n",
       "      <td>1.0</td>\n",
       "      <td>3.0</td>\n",
       "      <td>-1.0</td>\n",
       "      <td>1.0</td>\n",
       "      <td>3.0</td>\n",
       "      <td>-1.0</td>\n",
       "      <td>9.0</td>\n",
       "      <td>-3.0</td>\n",
       "      <td>1.0</td>\n",
       "    </tr>\n",
       "  </tbody>\n",
       "</table>\n",
       "</div>"
      ],
      "text/plain": [
       "     0     1     2    3      4      5      6      7     8     9\n",
       "0  1.0   1.0   3.0  4.0    1.0    3.0    4.0    9.0  12.0  16.0\n",
       "1  1.0   3.0   4.0  5.0    9.0   12.0   15.0   16.0  20.0  25.0\n",
       "2  1.0  -2.0   5.0  2.0    4.0  -10.0   -4.0   25.0  10.0   4.0\n",
       "3  1.0   1.0  -2.0  2.0    1.0   -2.0    2.0    4.0  -4.0   4.0\n",
       "4  1.0   5.0   4.0  6.0   25.0   20.0   30.0   16.0  24.0  36.0\n",
       "5  1.0  13.0  11.0  8.0  169.0  143.0  104.0  121.0  88.0  64.0\n",
       "6  1.0   1.0   3.0 -1.0    1.0    3.0   -1.0    9.0  -3.0   1.0"
      ]
     },
     "metadata": {},
     "output_type": "display_data"
    }
   ],
   "source": [
    "poly = PolynomialFeatures(degree=2, include_bias=True)\n",
    "A_poly = poly.fit_transform(A)\n",
    "display(pd.DataFrame(A_poly))"
   ]
  },
  {
   "cell_type": "code",
   "execution_count": 18,
   "metadata": {},
   "outputs": [
    {
     "data": {
      "text/plain": [
       "array([[ 0.1],\n",
       "       [ 2.5],\n",
       "       [-0. ]])"
      ]
     },
     "execution_count": 18,
     "metadata": {},
     "output_type": "execute_result"
    }
   ],
   "source": [
    "# 6.4\n",
    "def polynomial_regression(X, y, k):\n",
    "    poly = PolynomialFeatures(degree=k, include_bias=True)\n",
    "    X_poly = poly.fit_transform(X)\n",
    "    w_hat = np.linalg.inv(X_poly.T@X_poly)@X_poly.T@y\n",
    "    y_pred = X_poly @ w_hat\n",
    "    return X_poly, y_pred, w_hat\n",
    "\n",
    "X = np.array([1, 3, -2, 9]).reshape(4, 1)\n",
    "y = np.array([3, 7, -5, 21]).reshape(4, 1)\n",
    "\n",
    "X_poly, y_pred, w_hat = polynomial_regression(X, y, 2)\n",
    "w_hat.round(1)"
   ]
  },
  {
   "attachments": {},
   "cell_type": "markdown",
   "metadata": {},
   "source": [
    "## <center> Регуляризация\n",
    "### <center>L-2-регуляризация"
   ]
  },
  {
   "cell_type": "code",
   "execution_count": 19,
   "metadata": {},
   "outputs": [
    {
     "name": "stdout",
     "output_type": "stream",
     "text": [
      "[0.6122449  0.29387755 0.5877551 ]\n"
     ]
    }
   ],
   "source": [
    "# матрица наблюдений (включая столбец единиц)\n",
    "A = np.array([\n",
    "    [1, 1, 1, 1, 1],\n",
    "    [1, 0, -3, 2, 4],\n",
    "    [2, 0, -6, 4, 8]\n",
    "]).T\n",
    "# вектор целевого признака\n",
    "y = np.array([4, 3, -4, 2, 7])\n",
    "# единичная матрица\n",
    "E = np.eye(3)\n",
    "# коэффициент регуляризации \n",
    "alpha = 5\n",
    "# получаем оценку коэффициентов регрессии по МНК с регуляризацией Тихонова\n",
    "w_hat_ridge = np.linalg.inv(A.T@A+alpha*E)@A.T@y\n",
    "print(w_hat_ridge) "
   ]
  },
  {
   "cell_type": "code",
   "execution_count": 21,
   "metadata": {},
   "outputs": [
    {
     "name": "stdout",
     "output_type": "stream",
     "text": [
      "[0.6122449  0.29387755 0.5877551 ]\n"
     ]
    }
   ],
   "source": [
    "# матрица наблюдений (включая столбец единиц)\n",
    "A = np.array([\n",
    "    [1, 1, 1, 1, 1],\n",
    "    [1, 0, -3, 2, 4],\n",
    "    [2, 0, -6, 4, 8]\n",
    "]).T\n",
    "# вектор целевого признака\n",
    "y = np.array([4, 3, -4, 2, 7])\n",
    "# получаем оценку коэффициентов регрессии по МНК с регуляризацией Тихонова\n",
    "ridge = Ridge(alpha=5, fit_intercept=False)\n",
    "ridge.fit(A, y)\n",
    "print(ridge.coef_) "
   ]
  },
  {
   "cell_type": "code",
   "execution_count": 26,
   "metadata": {},
   "outputs": [
    {
     "data": {
      "text/plain": [
       "array([-0.09, -1.71,  1.91,  0.73])"
      ]
     },
     "execution_count": 26,
     "metadata": {},
     "output_type": "execute_result"
    }
   ],
   "source": [
    "# 7.4\n",
    "A = np.array([\n",
    "    [1, 5, 15, 7],\n",
    "    [1, 9, 18, 6],\n",
    "    [1, 4, 18, 7],\n",
    "    [1, 3, 19, 7],\n",
    "    [1, 5, 19, 7]\n",
    "])\n",
    "y = np.array([24, 22, 35, 33, 36])\n",
    "alpha = 1\n",
    "eye = np.eye(4)\n",
    "w_hat = np.linalg.inv(A.T @ A + alpha*eye) @ A.T @ y\n",
    "w_hat.round(2)"
   ]
  },
  {
   "attachments": {},
   "cell_type": "markdown",
   "metadata": {},
   "source": [
    "### <center>L-1-регуляризация"
   ]
  },
  {
   "cell_type": "code",
   "execution_count": 29,
   "metadata": {},
   "outputs": [
    {
     "data": {
      "text/plain": [
       "array([1.14925373, 0.        , 0.71921642])"
      ]
     },
     "execution_count": 29,
     "metadata": {},
     "output_type": "execute_result"
    }
   ],
   "source": [
    "# матрица наблюдений (включая столбец единиц)\n",
    "A = np.array([\n",
    "    [1, 1, 1, 1, 1],\n",
    "    [1, 0, -3, 2, 4],\n",
    "    [2, 0, -6, 4, 8]\n",
    "]).T\n",
    "# вектор целевого признака\n",
    "y = np.array([4, 3, -4, 2, 7])\n",
    "# получаем оценку коэффициентов регрессии с помощью L1-регуляризации\n",
    "lasso = Lasso(alpha=0.1, fit_intercept=False)\n",
    "lasso.fit(A, y)\n",
    "lasso.coef_"
   ]
  },
  {
   "attachments": {},
   "cell_type": "markdown",
   "metadata": {},
   "source": [
    "### <center>Elastic-Net"
   ]
  },
  {
   "cell_type": "code",
   "execution_count": 31,
   "metadata": {},
   "outputs": [
    {
     "name": "stdout",
     "output_type": "stream",
     "text": [
      "[1.13492457 0.19525842 0.6237965 ]\n"
     ]
    }
   ],
   "source": [
    "A = np.array([\n",
    "    [1, 1, 1, 1, 1],\n",
    "    [1, 0, -3, 2, 4],\n",
    "    [2, 0, -6, 4, 8]\n",
    "]).T\n",
    "# вектор целевого признака\n",
    "y = np.array([4, 3, -4, 2, 7])\n",
    "# получаем оценку коэффициентов регрессии \n",
    "elasticnet = ElasticNet(alpha=0.1, l1_ratio=0.2, fit_intercept=False)\n",
    "elasticnet.fit(A, y)\n",
    "print(elasticnet.coef_)"
   ]
  }
 ],
 "metadata": {
  "kernelspec": {
   "display_name": "Python 3",
   "language": "python",
   "name": "python3"
  },
  "language_info": {
   "codemirror_mode": {
    "name": "ipython",
    "version": 3
   },
   "file_extension": ".py",
   "mimetype": "text/x-python",
   "name": "python",
   "nbconvert_exporter": "python",
   "pygments_lexer": "ipython3",
   "version": "3.10.8"
  },
  "orig_nbformat": 4
 },
 "nbformat": 4,
 "nbformat_minor": 2
}
