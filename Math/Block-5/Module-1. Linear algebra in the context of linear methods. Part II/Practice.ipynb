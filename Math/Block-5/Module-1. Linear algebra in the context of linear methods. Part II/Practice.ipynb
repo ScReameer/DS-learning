{
 "cells": [
  {
   "attachments": {},
   "cell_type": "markdown",
   "metadata": {},
   "source": [
    "# <center>Линейная алгебра в контексте линейных методов. Часть II\n",
    "## <center>Неоднородные СЛАУ\n",
    "### <center>Случай «ИДЕАЛЬНАЯ ПАРА»"
   ]
  },
  {
   "cell_type": "code",
   "execution_count": 47,
   "metadata": {},
   "outputs": [],
   "source": [
    "import numpy as np"
   ]
  },
  {
   "cell_type": "code",
   "execution_count": 48,
   "metadata": {},
   "outputs": [
    {
     "name": "stdout",
     "output_type": "stream",
     "text": [
      "matrix A:\n",
      "[[ 4  7]\n",
      " [ 5 10]]\n",
      "\n",
      "vector b:\n",
      "[[20]\n",
      " [30]]\n",
      "\n",
      "rank(A): 2\n",
      "\n",
      "rank(A|b): 2\n",
      "\n",
      "Number of unknown variables: 2\n",
      "\n",
      "Only decision\n",
      "[[-2.]\n",
      " [ 4.]]\n"
     ]
    }
   ],
   "source": [
    "A = np.array([\n",
    "    [4, 7],\n",
    "    [5, 10]\n",
    "])\n",
    "b = np.array([[20, 30]]).reshape(2, 1)\n",
    "Ab = np.append(A, b, axis=1)\n",
    "num_of_unk_var = len(A[0])\n",
    "rank_a = np.linalg.matrix_rank(A)\n",
    "rank_ab = np.linalg.matrix_rank(Ab)\n",
    "print('matrix A:\\n', A, sep='')\n",
    "print('\\nvector b:\\n', b, sep='')\n",
    "print('\\nrank(A):', rank_a)\n",
    "print('\\nrank(A|b):', rank_ab)\n",
    "print('\\nNumber of unknown variables:', num_of_unk_var)\n",
    "xy = np.linalg.inv(A) @ b\n",
    "print('\\nOnly decision')\n",
    "print(xy)"
   ]
  },
  {
   "attachments": {},
   "cell_type": "markdown",
   "metadata": {},
   "source": [
    "### <center>Случай «В АКТИВНОМ ПОИСКЕ»"
   ]
  },
  {
   "cell_type": "code",
   "execution_count": 49,
   "metadata": {},
   "outputs": [
    {
     "name": "stdout",
     "output_type": "stream",
     "text": [
      "matrix A:\n",
      "[[ 4  7 -1]\n",
      " [ 2  1  1]]\n",
      "\n",
      "vector b:\n",
      "[[7]\n",
      " [2]]\n",
      "\n",
      "rank(A): 2\n",
      "\n",
      "rank(A|b): 2\n",
      "\n",
      "Number of unknown variables: 3\n",
      "\n",
      "Infinity decisions\n"
     ]
    }
   ],
   "source": [
    "A = np.array([\n",
    "    [4, 7, -1],\n",
    "    [2, 1, 1]\n",
    "])\n",
    "b = np.array([[7, 2]]).reshape(2, 1)\n",
    "Ab = np.append(A, b, axis=1)\n",
    "num_of_unk_var = len(A[0])\n",
    "rank_a = np.linalg.matrix_rank(A)\n",
    "rank_ab = np.linalg.matrix_rank(Ab)\n",
    "print('matrix A:\\n', A, sep='')\n",
    "print('\\nvector b:\\n', b, sep='')\n",
    "print('\\nrank(A):', rank_a)\n",
    "print('\\nrank(A|b):', rank_ab)\n",
    "print('\\nNumber of unknown variables:', num_of_unk_var)\n",
    "print('\\nInfinity decisions')"
   ]
  },
  {
   "cell_type": "code",
   "execution_count": 50,
   "metadata": {},
   "outputs": [
    {
     "name": "stdout",
     "output_type": "stream",
     "text": [
      "matrix A:\n",
      "[[ 4  7 -1]\n",
      " [-4  2  5]\n",
      " [ 0  9  4]]\n",
      "\n",
      "vector b:\n",
      "[[ 7]\n",
      " [ 3]\n",
      " [10]]\n",
      "\n",
      "rank(A): 2\n",
      "\n",
      "rank(A|b): 2\n",
      "\n",
      "Number of unknown variables: 3\n",
      "\n",
      "Infinity decisions\n"
     ]
    }
   ],
   "source": [
    "# 2.6\n",
    "A = np.array([\n",
    "    [4, 7, -1],\n",
    "    [-4, 2, 5],\n",
    "    [0, 9, 4]\n",
    "])\n",
    "b = np.array([7, 3, 10]).reshape(3, 1)\n",
    "Ab = np.append(A, b, axis=1)\n",
    "num_of_unk_var = len(A[0])\n",
    "rank_a = np.linalg.matrix_rank(A)\n",
    "rank_ab = np.linalg.matrix_rank(Ab)\n",
    "print('matrix A:\\n', A, sep='')\n",
    "print('\\nvector b:\\n', b, sep='')\n",
    "print('\\nrank(A):', rank_a)\n",
    "print('\\nrank(A|b):', rank_ab)\n",
    "print('\\nNumber of unknown variables:', num_of_unk_var)\n",
    "print('\\nInfinity decisions')"
   ]
  },
  {
   "attachments": {},
   "cell_type": "markdown",
   "metadata": {},
   "source": [
    "### <center>Случай «ВСЁ СЛОЖНО». OLS"
   ]
  },
  {
   "cell_type": "code",
   "execution_count": 51,
   "metadata": {},
   "outputs": [
    {
     "name": "stdout",
     "output_type": "stream",
     "text": [
      "Error vector:\n",
      "[[ 5]\n",
      " [-1]\n",
      " [ 0]]\n"
     ]
    }
   ],
   "source": [
    "# 2.9\n",
    "A = np.array([\n",
    "    [1, -5],\n",
    "    [2, 1],\n",
    "    [1, 1]\n",
    "])\n",
    "b = np.array([1, 2, 2])\n",
    "widehat_w = np.array([1, 1])\n",
    "error_vec = (b - (A @ widehat_w)).reshape(3, 1)\n",
    "print('Error vector:\\n', error_vec, sep='')"
   ]
  },
  {
   "cell_type": "code",
   "execution_count": 52,
   "metadata": {},
   "outputs": [
    {
     "name": "stdout",
     "output_type": "stream",
     "text": [
      "matrix A:\n",
      "[[ 1  2]\n",
      " [-3  1]\n",
      " [ 1  2]\n",
      " [ 1 -1]]\n",
      "\n",
      "vector b:\n",
      "[[1]\n",
      " [4]\n",
      " [5]\n",
      " [0]]\n",
      "\n",
      "Gram matrix for columns:\n",
      "[[12  0]\n",
      " [ 0 10]]\n",
      "\n",
      "Inverted gram matrix:\n",
      "[[0.08333333 0.        ]\n",
      " [0.         0.1       ]]\n",
      "\n",
      "A^T * b:\n",
      "[[-6]\n",
      " [16]]\n",
      "\n",
      "Predicted coeffs omega:\n",
      "[[-0.5]\n",
      " [ 1.6]]\n"
     ]
    }
   ],
   "source": [
    "# 2.11\n",
    "A = np.array([\n",
    "    [1, 2],\n",
    "    [-3, 1],\n",
    "    [1, 2],\n",
    "    [1, -1]\n",
    "])\n",
    "b = np.array([1, 4, 5, 0]).reshape(len(A), 1)\n",
    "gram_matrix = A.T @ A\n",
    "inv_gram = np.linalg.inv(gram_matrix)\n",
    "scalar_columns_b = A.T @ b\n",
    "hat_omega = inv_gram @ scalar_columns_b\n",
    "print(\n",
    "    'matrix A:\\n', A, \n",
    "    '\\n\\nvector b:\\n', b,\n",
    "    '\\n\\nGram matrix for columns:\\n', gram_matrix,\n",
    "    '\\n\\nInverted gram matrix:\\n', inv_gram,\n",
    "    '\\n\\nA^T * b:\\n', scalar_columns_b,\n",
    "    '\\n\\nPredicted coeffs omega:\\n', hat_omega,\n",
    "    sep='')\n",
    "\n"
   ]
  }
 ],
 "metadata": {
  "kernelspec": {
   "display_name": "Python 3",
   "language": "python",
   "name": "python3"
  },
  "language_info": {
   "codemirror_mode": {
    "name": "ipython",
    "version": 3
   },
   "file_extension": ".py",
   "mimetype": "text/x-python",
   "name": "python",
   "nbconvert_exporter": "python",
   "pygments_lexer": "ipython3",
   "version": "3.10.8"
  },
  "orig_nbformat": 4
 },
 "nbformat": 4,
 "nbformat_minor": 2
}
