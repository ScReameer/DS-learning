{
 "cells": [
  {
   "attachments": {},
   "cell_type": "markdown",
   "metadata": {},
   "source": [
    "# <center>Линейная алгебра в контексте линейных методов. Часть II\n",
    "## <center>Неоднородные СЛАУ\n",
    "### <center>Случай «ИДЕАЛЬНАЯ ПАРА»"
   ]
  },
  {
   "cell_type": "code",
   "execution_count": 11,
   "metadata": {},
   "outputs": [],
   "source": [
    "import numpy as np\n",
    "from sklearn.linear_model import LinearRegression"
   ]
  },
  {
   "cell_type": "code",
   "execution_count": 2,
   "metadata": {},
   "outputs": [
    {
     "name": "stdout",
     "output_type": "stream",
     "text": [
      "matrix A:\n",
      "[[ 4  7]\n",
      " [ 5 10]]\n",
      "\n",
      "vector b:\n",
      "[[20]\n",
      " [30]]\n",
      "\n",
      "rank(A): 2\n",
      "\n",
      "rank(A|b): 2\n",
      "\n",
      "Number of unknown variables: 2\n",
      "\n",
      "Only decision\n",
      "[[-2.]\n",
      " [ 4.]]\n"
     ]
    }
   ],
   "source": [
    "A = np.array([\n",
    "    [4, 7],\n",
    "    [5, 10]\n",
    "])\n",
    "b = np.array([[20, 30]]).reshape(2, 1)\n",
    "Ab = np.append(A, b, axis=1)\n",
    "num_of_unk_var = len(A[0])\n",
    "rank_a = np.linalg.matrix_rank(A)\n",
    "rank_ab = np.linalg.matrix_rank(Ab)\n",
    "print('matrix A:\\n', A, sep='')\n",
    "print('\\nvector b:\\n', b, sep='')\n",
    "print('\\nrank(A):', rank_a)\n",
    "print('\\nrank(A|b):', rank_ab)\n",
    "print('\\nNumber of unknown variables:', num_of_unk_var)\n",
    "xy = np.linalg.inv(A) @ b\n",
    "print('\\nOnly decision')\n",
    "print(xy)"
   ]
  },
  {
   "attachments": {},
   "cell_type": "markdown",
   "metadata": {},
   "source": [
    "### <center>Случай «В АКТИВНОМ ПОИСКЕ»"
   ]
  },
  {
   "cell_type": "code",
   "execution_count": 3,
   "metadata": {},
   "outputs": [
    {
     "name": "stdout",
     "output_type": "stream",
     "text": [
      "matrix A:\n",
      "[[ 4  7 -1]\n",
      " [ 2  1  1]]\n",
      "\n",
      "vector b:\n",
      "[[7]\n",
      " [2]]\n",
      "\n",
      "rank(A): 2\n",
      "\n",
      "rank(A|b): 2\n",
      "\n",
      "Number of unknown variables: 3\n",
      "\n",
      "Infinity decisions\n"
     ]
    }
   ],
   "source": [
    "A = np.array([\n",
    "    [4, 7, -1],\n",
    "    [2, 1, 1]\n",
    "])\n",
    "b = np.array([[7, 2]]).reshape(2, 1)\n",
    "Ab = np.append(A, b, axis=1)\n",
    "num_of_unk_var = len(A[0])\n",
    "rank_a = np.linalg.matrix_rank(A)\n",
    "rank_ab = np.linalg.matrix_rank(Ab)\n",
    "print('matrix A:\\n', A, sep='')\n",
    "print('\\nvector b:\\n', b, sep='')\n",
    "print('\\nrank(A):', rank_a)\n",
    "print('\\nrank(A|b):', rank_ab)\n",
    "print('\\nNumber of unknown variables:', num_of_unk_var)\n",
    "print('\\nInfinity decisions')"
   ]
  },
  {
   "cell_type": "code",
   "execution_count": 4,
   "metadata": {},
   "outputs": [
    {
     "name": "stdout",
     "output_type": "stream",
     "text": [
      "matrix A:\n",
      "[[ 4  7 -1]\n",
      " [-4  2  5]\n",
      " [ 0  9  4]]\n",
      "\n",
      "vector b:\n",
      "[[ 7]\n",
      " [ 3]\n",
      " [10]]\n",
      "\n",
      "rank(A): 2\n",
      "\n",
      "rank(A|b): 2\n",
      "\n",
      "Number of unknown variables: 3\n",
      "\n",
      "Infinity decisions\n"
     ]
    }
   ],
   "source": [
    "# 2.6\n",
    "A = np.array([\n",
    "    [4, 7, -1],\n",
    "    [-4, 2, 5],\n",
    "    [0, 9, 4]\n",
    "])\n",
    "b = np.array([7, 3, 10]).reshape(3, 1)\n",
    "Ab = np.append(A, b, axis=1)\n",
    "num_of_unk_var = len(A[0])\n",
    "rank_a = np.linalg.matrix_rank(A)\n",
    "rank_ab = np.linalg.matrix_rank(Ab)\n",
    "print('matrix A:\\n', A, sep='')\n",
    "print('\\nvector b:\\n', b, sep='')\n",
    "print('\\nrank(A):', rank_a)\n",
    "print('\\nrank(A|b):', rank_ab)\n",
    "print('\\nNumber of unknown variables:', num_of_unk_var)\n",
    "print('\\nInfinity decisions')"
   ]
  },
  {
   "attachments": {},
   "cell_type": "markdown",
   "metadata": {},
   "source": [
    "### <center>Случай «ВСЁ СЛОЖНО». OLS"
   ]
  },
  {
   "cell_type": "code",
   "execution_count": 5,
   "metadata": {},
   "outputs": [
    {
     "name": "stdout",
     "output_type": "stream",
     "text": [
      "Error vector:\n",
      "[[ 5]\n",
      " [-1]\n",
      " [ 0]]\n"
     ]
    }
   ],
   "source": [
    "# 2.9\n",
    "A = np.array([\n",
    "    [1, -5],\n",
    "    [2, 1],\n",
    "    [1, 1]\n",
    "])\n",
    "b = np.array([1, 2, 2])\n",
    "widehat_w = np.array([1, 1])\n",
    "error_vec = (b - (A @ widehat_w)).reshape(3, 1)\n",
    "print('Error vector:\\n', error_vec, sep='')"
   ]
  },
  {
   "cell_type": "code",
   "execution_count": 6,
   "metadata": {},
   "outputs": [
    {
     "name": "stdout",
     "output_type": "stream",
     "text": [
      "matrix A:\n",
      "[[ 1  2]\n",
      " [-3  1]\n",
      " [ 1  2]\n",
      " [ 1 -1]]\n",
      "\n",
      "vector b:\n",
      "[[1]\n",
      " [4]\n",
      " [5]\n",
      " [0]]\n",
      "\n",
      "Gram matrix for columns:\n",
      "[[12  0]\n",
      " [ 0 10]]\n",
      "\n",
      "Inverted gram matrix:\n",
      "[[0.08333333 0.        ]\n",
      " [0.         0.1       ]]\n",
      "\n",
      "A^T * b:\n",
      "[[-6]\n",
      " [16]]\n",
      "\n",
      "Predicted coeffs omega:\n",
      "[[-0.5]\n",
      " [ 1.6]]\n"
     ]
    }
   ],
   "source": [
    "# 2.11\n",
    "A = np.array([\n",
    "    [1, 2],\n",
    "    [-3, 1],\n",
    "    [1, 2],\n",
    "    [1, -1]\n",
    "])\n",
    "b = np.array([1, 4, 5, 0]).reshape(len(A), 1)\n",
    "gram_matrix = A.T @ A\n",
    "inv_gram = np.linalg.inv(gram_matrix)\n",
    "scalar_columns_b = A.T @ b\n",
    "hat_omega = inv_gram @ scalar_columns_b\n",
    "print(\n",
    "    'matrix A:\\n', A, \n",
    "    '\\n\\nvector b:\\n', b,\n",
    "    '\\n\\nGram matrix for columns:\\n', gram_matrix,\n",
    "    '\\n\\nInverted gram matrix:\\n', inv_gram,\n",
    "    '\\n\\nA^T * b:\\n', scalar_columns_b,\n",
    "    '\\n\\nPredicted coeffs omega:\\n', hat_omega, sep=''\n",
    ")\n",
    "\n"
   ]
  },
  {
   "attachments": {},
   "cell_type": "markdown",
   "metadata": {},
   "source": [
    "## <center>Линейная регрессия"
   ]
  },
  {
   "cell_type": "code",
   "execution_count": 9,
   "metadata": {},
   "outputs": [
    {
     "data": {
      "text/plain": [
       "array([[21.048]])"
      ]
     },
     "execution_count": 9,
     "metadata": {},
     "output_type": "execute_result"
    }
   ],
   "source": [
    "# 3.5\n",
    "data = np.array([[1, 0.2, 6]])\n",
    "w_hat = np.array([[-29.3, -0.26, 8.4]]).reshape(3, 1)\n",
    "data @ w_hat"
   ]
  },
  {
   "attachments": {},
   "cell_type": "markdown",
   "metadata": {},
   "source": [
    "### Особенности класса `LinearRegression`"
   ]
  },
  {
   "cell_type": "code",
   "execution_count": 10,
   "metadata": {},
   "outputs": [
    {
     "ename": "LinAlgError",
     "evalue": "Singular matrix",
     "output_type": "error",
     "traceback": [
      "\u001b[1;31m---------------------------------------------------------------------------\u001b[0m",
      "\u001b[1;31mLinAlgError\u001b[0m                               Traceback (most recent call last)",
      "Cell \u001b[1;32mIn[10], line 9\u001b[0m\n\u001b[0;32m      7\u001b[0m y \u001b[39m=\u001b[39m np\u001b[39m.\u001b[39marray([\u001b[39m1\u001b[39m, \u001b[39m2\u001b[39m, \u001b[39m5\u001b[39m, \u001b[39m1\u001b[39m])\n\u001b[0;32m      8\u001b[0m \u001b[39m# вычислим OLS-оценку для коэффициентов\u001b[39;00m\n\u001b[1;32m----> 9\u001b[0m w_hat\u001b[39m=\u001b[39mnp\u001b[39m.\u001b[39;49mlinalg\u001b[39m.\u001b[39;49minv(A\u001b[39m.\u001b[39;49mT\u001b[39m@A\u001b[39;49m)\u001b[39m@A\u001b[39m\u001b[39m.\u001b[39mT\u001b[39m@y\u001b[39m\n\u001b[0;32m     10\u001b[0m \u001b[39mprint\u001b[39m(w_hat) \n",
      "File \u001b[1;32m<__array_function__ internals>:180\u001b[0m, in \u001b[0;36minv\u001b[1;34m(*args, **kwargs)\u001b[0m\n",
      "File \u001b[1;32m~\\AppData\\Local\\Packages\\PythonSoftwareFoundation.Python.3.10_qbz5n2kfra8p0\\LocalCache\\local-packages\\Python310\\site-packages\\numpy\\linalg\\linalg.py:552\u001b[0m, in \u001b[0;36minv\u001b[1;34m(a)\u001b[0m\n\u001b[0;32m    550\u001b[0m signature \u001b[39m=\u001b[39m \u001b[39m'\u001b[39m\u001b[39mD->D\u001b[39m\u001b[39m'\u001b[39m \u001b[39mif\u001b[39;00m isComplexType(t) \u001b[39melse\u001b[39;00m \u001b[39m'\u001b[39m\u001b[39md->d\u001b[39m\u001b[39m'\u001b[39m\n\u001b[0;32m    551\u001b[0m extobj \u001b[39m=\u001b[39m get_linalg_error_extobj(_raise_linalgerror_singular)\n\u001b[1;32m--> 552\u001b[0m ainv \u001b[39m=\u001b[39m _umath_linalg\u001b[39m.\u001b[39;49minv(a, signature\u001b[39m=\u001b[39;49msignature, extobj\u001b[39m=\u001b[39;49mextobj)\n\u001b[0;32m    553\u001b[0m \u001b[39mreturn\u001b[39;00m wrap(ainv\u001b[39m.\u001b[39mastype(result_t, copy\u001b[39m=\u001b[39m\u001b[39mFalse\u001b[39;00m))\n",
      "File \u001b[1;32m~\\AppData\\Local\\Packages\\PythonSoftwareFoundation.Python.3.10_qbz5n2kfra8p0\\LocalCache\\local-packages\\Python310\\site-packages\\numpy\\linalg\\linalg.py:89\u001b[0m, in \u001b[0;36m_raise_linalgerror_singular\u001b[1;34m(err, flag)\u001b[0m\n\u001b[0;32m     88\u001b[0m \u001b[39mdef\u001b[39;00m \u001b[39m_raise_linalgerror_singular\u001b[39m(err, flag):\n\u001b[1;32m---> 89\u001b[0m     \u001b[39mraise\u001b[39;00m LinAlgError(\u001b[39m\"\u001b[39m\u001b[39mSingular matrix\u001b[39m\u001b[39m\"\u001b[39m)\n",
      "\u001b[1;31mLinAlgError\u001b[0m: Singular matrix"
     ]
    }
   ],
   "source": [
    "# создадим вырожденную матрицу А\n",
    "A = np.array([\n",
    "    [1, 1, 1, 1], \n",
    "    [2, 1, 1, 2], \n",
    "    [-2, -1, -1, -2]]\n",
    ").T\n",
    "y = np.array([1, 2, 5, 1])\n",
    "# вычислим OLS-оценку для коэффициентов\n",
    "w_hat=np.linalg.inv(A.T@A)@A.T@y\n",
    "print(w_hat) "
   ]
  },
  {
   "attachments": {},
   "cell_type": "markdown",
   "metadata": {},
   "source": [
    "**Сингулярное разложение (SVD)**"
   ]
  },
  {
   "cell_type": "code",
   "execution_count": 12,
   "metadata": {},
   "outputs": [
    {
     "name": "stdout",
     "output_type": "stream",
     "text": [
      "w_hat: [ 6.   -1.25  1.25]\n"
     ]
    }
   ],
   "source": [
    "# создаём модель линейной регрессии\n",
    "model = LinearRegression(fit_intercept=False)\n",
    "# вычисляем коэффициенты регрессии\n",
    "model.fit(A, y)\n",
    "print('w_hat:', model.coef_)"
   ]
  },
  {
   "attachments": {},
   "cell_type": "markdown",
   "metadata": {},
   "source": [
    "**Сингулярное разложение** зашито в функцию `np.linalg.lstsq()`, которая позволяет в одну строку построить модель линейной регрессии по МНК:"
   ]
  },
  {
   "cell_type": "code",
   "execution_count": 13,
   "metadata": {},
   "outputs": [
    {
     "data": {
      "text/plain": [
       "(array([ 6.  , -1.25,  1.25]),\n",
       " array([], dtype=float64),\n",
       " 2,\n",
       " array([4.86435029e+00, 5.81460412e-01, 3.42443768e-17]))"
      ]
     },
     "execution_count": 13,
     "metadata": {},
     "output_type": "execute_result"
    }
   ],
   "source": [
    "# классическая OLS-регрессия в numpy с возможностью получения решения даже для вырожденных матриц\n",
    "np.linalg.lstsq(A, y, rcond=None)"
   ]
  },
  {
   "attachments": {},
   "cell_type": "markdown",
   "metadata": {},
   "source": [
    "Функция возвращает четыре значения:\n",
    "\n",
    "* вектор рассчитанных коэффициентов линейной регрессии;\n",
    "* сумму квадратов ошибок, $MSE$ (она не считается, если ранг матрицы $A$ меньше числа неизвестных, как в нашем случае);\n",
    "* ранг матрицы $A$;\n",
    "* вектор из сингулярных значений, которые как раз и оберегают нас от ошибки.\n"
   ]
  }
 ],
 "metadata": {
  "kernelspec": {
   "display_name": "Python 3",
   "language": "python",
   "name": "python3"
  },
  "language_info": {
   "codemirror_mode": {
    "name": "ipython",
    "version": 3
   },
   "file_extension": ".py",
   "mimetype": "text/x-python",
   "name": "python",
   "nbconvert_exporter": "python",
   "pygments_lexer": "ipython3",
   "version": "3.10.8"
  },
  "orig_nbformat": 4
 },
 "nbformat": 4,
 "nbformat_minor": 2
}
