{
 "cells": [
  {
   "cell_type": "code",
   "execution_count": 1,
   "metadata": {},
   "outputs": [],
   "source": [
    "import sympy as sp\n",
    "import numpy as np\n",
    "import seaborn as sns\n",
    "import pandas as pd\n",
    "\n",
    "from sklearn.model_selection import GridSearchCV, train_test_split\n",
    "from sklearn.linear_model import SGDRegressor\n",
    "from sklearn.metrics import mean_squared_error\n",
    "\n",
    "\n",
    "sp.init_printing()"
   ]
  },
  {
   "cell_type": "markdown",
   "metadata": {},
   "source": [
    "**№1.1**  \n",
    "Пусть прибыль в вашей компании выражается следующей функцией, которая зависит от параметра $x$ — количества производимых товаров:  \n",
    "Найдите максимально возможную прибыль, которую вы можете получить, варьируя количество произведённых товаров."
   ]
  },
  {
   "cell_type": "code",
   "execution_count": 2,
   "metadata": {},
   "outputs": [
    {
     "name": "stdout",
     "output_type": "stream",
     "text": [
      "Функция\n"
     ]
    },
    {
     "data": {
      "image/png": "[encoded data removed]",
      "text/latex": [
       "$\\displaystyle - x^{4} + 6 x^{3} - 4 x^{2} + 80$"
      ],
      "text/plain": [
       "   4      3      2     \n",
       "- x  + 6⋅x  - 4⋅x  + 80"
      ]
     },
     "metadata": {},
     "output_type": "display_data"
    },
    {
     "name": "stdout",
     "output_type": "stream",
     "text": [
      "Производная\n"
     ]
    },
    {
     "data": {
      "image/png": "[encoded data removed]",
      "text/latex": [
       "$\\displaystyle - 4 x^{3} + 18 x^{2} - 8 x$"
      ],
      "text/plain": [
       "     3       2      \n",
       "- 4⋅x  + 18⋅x  - 8⋅x"
      ]
     },
     "metadata": {},
     "output_type": "display_data"
    },
    {
     "name": "stdout",
     "output_type": "stream",
     "text": [
      "Точки экстремума\n"
     ]
    },
    {
     "data": {
      "image/png": "[encoded data removed]",
      "text/latex": [
       "$\\displaystyle \\left[ 0, \\  \\frac{1}{2}, \\  4\\right]$"
      ],
      "text/plain": [
       "[0, 1/2, 4]"
      ]
     },
     "metadata": {},
     "output_type": "display_data"
    },
    {
     "name": "stdout",
     "output_type": "stream",
     "text": [
      "Значение функции в точке 0 = 80\n",
      "Значение функции в точке 1/2 = 1275/16\n",
      "Значение функции в точке 4 = 144\n"
     ]
    }
   ],
   "source": [
    "x = sp.Symbol('x', real=True)\n",
    "f = -x**4 + 6*x**3 - 4*x**2 + 80\n",
    "der = sp.diff(f, x)\n",
    "extremums = sp.solve(der)\n",
    "print('Функция')\n",
    "display(f)\n",
    "print('Производная')\n",
    "display(der)\n",
    "print('Точки экстремума')\n",
    "display(extremums)\n",
    "for solve in extremums:\n",
    "    print(f'Значение функции в точке {solve} = {f.subs(x, solve)}')"
   ]
  },
  {
   "cell_type": "markdown",
   "metadata": {},
   "source": [
    "Максимальное значение функция принимает при $x=4$, минимальное - при $x=0$."
   ]
  },
  {
   "cell_type": "markdown",
   "metadata": {},
   "source": [
    "**№1.4**\n",
    "Вам необходимо оптимизировать расход бумаги в принтере, который зависит от часов работы двух ключевых сотрудников следующим образом:\n",
    "$$ f(x,y) = x^2 + 2y^2 $$\n",
    "Где $x$ — количество часов работы 1-ого сотрудника, $y$ — 2-ого сотрудника.\n",
    "\n",
    "Однако вы должны оплатить этим сотрудникам ровно 20 часов работы в сумме.\n",
    "\n",
    "Какое наименьшее количество листов бумаги вы сможете потратить в таком случае?"
   ]
  },
  {
   "cell_type": "code",
   "execution_count": 3,
   "metadata": {},
   "outputs": [
    {
     "name": "stdout",
     "output_type": "stream",
     "text": [
      "Функция\n"
     ]
    },
    {
     "data": {
      "image/png": "[encoded data removed]",
      "text/latex": [
       "$\\displaystyle x^{2} + 2 y^{2}$"
      ],
      "text/plain": [
       " 2      2\n",
       "x  + 2⋅y "
      ]
     },
     "metadata": {},
     "output_type": "display_data"
    },
    {
     "name": "stdout",
     "output_type": "stream",
     "text": [
      "Условие\n"
     ]
    },
    {
     "data": {
      "image/png": "[encoded data removed]",
      "text/latex": [
       "$\\displaystyle x + y - 20$"
      ],
      "text/plain": [
       "x + y - 20"
      ]
     },
     "metadata": {},
     "output_type": "display_data"
    },
    {
     "name": "stdout",
     "output_type": "stream",
     "text": [
      "Функция Лагранжа\n"
     ]
    },
    {
     "data": {
      "image/png": "[encoded data removed]",
      "text/latex": [
       "$\\displaystyle \\lambda \\left(x + y - 20\\right) + x^{2} + 2 y^{2}$"
      ],
      "text/plain": [
       "                        2      2\n",
       "\\lambda⋅(x + y - 20) + x  + 2⋅y "
      ]
     },
     "metadata": {},
     "output_type": "display_data"
    },
    {
     "name": "stdout",
     "output_type": "stream",
     "text": [
      "Экстремум\n"
     ]
    },
    {
     "data": {
      "image/png": "[encoded data removed]",
      "text/latex": [
       "$\\displaystyle \\left\\{ \\lambda : - \\frac{80}{3}, \\  x : \\frac{40}{3}, \\  y : \\frac{20}{3}\\right\\}$"
      ],
      "text/plain": [
       "{\\lambda: -80/3, x: 40/3, y: 20/3}"
      ]
     },
     "metadata": {},
     "output_type": "display_data"
    },
    {
     "name": "stdout",
     "output_type": "stream",
     "text": [
      "Минимальное количество листов, которое можно потратить\n"
     ]
    },
    {
     "data": {
      "image/png": "[encoded data removed]",
      "text/latex": [
       "$\\displaystyle 267$"
      ],
      "text/plain": [
       "267"
      ]
     },
     "metadata": {},
     "output_type": "display_data"
    }
   ],
   "source": [
    "y, _lambda = sp.symbols('y, \\lambda', real=True)\n",
    "f = x**2 + 2*y**2\n",
    "phi = x + y - 20\n",
    "L = f + _lambda*phi\n",
    "part_ders = sp.diff(L, x), sp.diff(L, y), sp.diff(L, _lambda)\n",
    "solutions = sp.solve(part_ders, [x, y, _lambda])\n",
    "minimal_consumption = f.subs(x, solutions[x]).subs(y, solutions[y])\n",
    "print('Функция')\n",
    "display(f)\n",
    "print('Условие')\n",
    "display(phi)\n",
    "print('Функция Лагранжа')\n",
    "display(L)\n",
    "print('Экстремум')\n",
    "display(solutions)\n",
    "print('Минимальное количество листов, которое можно потратить')\n",
    "display(round(minimal_consumption))"
   ]
  },
  {
   "cell_type": "markdown",
   "metadata": {},
   "source": [
    "**№2.7**  \n",
    "**Стохастический градиентный спуск**"
   ]
  },
  {
   "cell_type": "code",
   "execution_count": 4,
   "metadata": {},
   "outputs": [
    {
     "data": {
      "text/html": [
       "<div>\n",
       "<style scoped>\n",
       "    .dataframe tbody tr th:only-of-type {\n",
       "        vertical-align: middle;\n",
       "    }\n",
       "\n",
       "    .dataframe tbody tr th {\n",
       "        vertical-align: top;\n",
       "    }\n",
       "\n",
       "    .dataframe thead th {\n",
       "        text-align: right;\n",
       "    }\n",
       "</style>\n",
       "<table border=\"1\" class=\"dataframe\">\n",
       "  <thead>\n",
       "    <tr style=\"text-align: right;\">\n",
       "      <th></th>\n",
       "      <th>carat</th>\n",
       "      <th>cut_Premium</th>\n",
       "      <th>cut_Very Good</th>\n",
       "      <th>cut_Good</th>\n",
       "      <th>cut_Fair</th>\n",
       "      <th>color_E</th>\n",
       "      <th>color_F</th>\n",
       "      <th>color_G</th>\n",
       "      <th>color_H</th>\n",
       "      <th>color_I</th>\n",
       "      <th>color_J</th>\n",
       "      <th>clarity_VVS1</th>\n",
       "      <th>clarity_VVS2</th>\n",
       "      <th>clarity_VS1</th>\n",
       "      <th>clarity_VS2</th>\n",
       "      <th>clarity_SI1</th>\n",
       "      <th>clarity_SI2</th>\n",
       "      <th>clarity_I1</th>\n",
       "    </tr>\n",
       "  </thead>\n",
       "  <tbody>\n",
       "    <tr>\n",
       "      <th>0</th>\n",
       "      <td>0.207014</td>\n",
       "      <td>0</td>\n",
       "      <td>0</td>\n",
       "      <td>0</td>\n",
       "      <td>0</td>\n",
       "      <td>1</td>\n",
       "      <td>0</td>\n",
       "      <td>0</td>\n",
       "      <td>0</td>\n",
       "      <td>0</td>\n",
       "      <td>0</td>\n",
       "      <td>0</td>\n",
       "      <td>0</td>\n",
       "      <td>0</td>\n",
       "      <td>0</td>\n",
       "      <td>0</td>\n",
       "      <td>1</td>\n",
       "      <td>0</td>\n",
       "    </tr>\n",
       "    <tr>\n",
       "      <th>1</th>\n",
       "      <td>0.190620</td>\n",
       "      <td>1</td>\n",
       "      <td>0</td>\n",
       "      <td>0</td>\n",
       "      <td>0</td>\n",
       "      <td>1</td>\n",
       "      <td>0</td>\n",
       "      <td>0</td>\n",
       "      <td>0</td>\n",
       "      <td>0</td>\n",
       "      <td>0</td>\n",
       "      <td>0</td>\n",
       "      <td>0</td>\n",
       "      <td>0</td>\n",
       "      <td>0</td>\n",
       "      <td>1</td>\n",
       "      <td>0</td>\n",
       "      <td>0</td>\n",
       "    </tr>\n",
       "    <tr>\n",
       "      <th>2</th>\n",
       "      <td>0.207014</td>\n",
       "      <td>0</td>\n",
       "      <td>0</td>\n",
       "      <td>1</td>\n",
       "      <td>0</td>\n",
       "      <td>1</td>\n",
       "      <td>0</td>\n",
       "      <td>0</td>\n",
       "      <td>0</td>\n",
       "      <td>0</td>\n",
       "      <td>0</td>\n",
       "      <td>0</td>\n",
       "      <td>0</td>\n",
       "      <td>1</td>\n",
       "      <td>0</td>\n",
       "      <td>0</td>\n",
       "      <td>0</td>\n",
       "      <td>0</td>\n",
       "    </tr>\n",
       "  </tbody>\n",
       "</table>\n",
       "</div>"
      ],
      "text/plain": [
       "      carat  cut_Premium  cut_Very Good  cut_Good  cut_Fair  color_E  color_F  \\\n",
       "0  0.207014            0              0         0         0        1        0   \n",
       "1  0.190620            1              0         0         0        1        0   \n",
       "2  0.207014            0              0         1         0        1        0   \n",
       "\n",
       "   color_G  color_H  color_I  color_J  clarity_VVS1  clarity_VVS2  \\\n",
       "0        0        0        0        0             0             0   \n",
       "1        0        0        0        0             0             0   \n",
       "2        0        0        0        0             0             0   \n",
       "\n",
       "   clarity_VS1  clarity_VS2  clarity_SI1  clarity_SI2  clarity_I1  \n",
       "0            0            0            0            1           0  \n",
       "1            0            0            1            0           0  \n",
       "2            1            0            0            0           0  "
      ]
     },
     "metadata": {},
     "output_type": "display_data"
    },
    {
     "data": {
      "text/plain": [
       "0    5.789960\n",
       "1    5.789960\n",
       "2    5.793014\n",
       "Name: price, dtype: float64"
      ]
     },
     "metadata": {},
     "output_type": "display_data"
    }
   ],
   "source": [
    "df = sns.load_dataset('diamonds')\n",
    "df.drop(['depth', 'table', 'x', 'y', 'z'], axis=1, inplace=True)\n",
    "df = pd.get_dummies(df, drop_first=True)\n",
    "df['carat'] = np.log(1+df['carat'])\n",
    "df['price'] = np.log(1+df['price'])\n",
    "\n",
    "X = df.drop(columns=\"price\")\n",
    "y = df[\"price\"]\n",
    "display(X.head(3), y.head(3))"
   ]
  },
  {
   "cell_type": "code",
   "execution_count": 5,
   "metadata": {},
   "outputs": [
    {
     "name": "stdout",
     "output_type": "stream",
     "text": [
      "MSE на тестовой выборке с оптимальными параметрами: 0.044\n"
     ]
    }
   ],
   "source": [
    "RANDOM_STATE = 42\n",
    "X_train, X_test, y_train, y_test = train_test_split(X, y, test_size=0.33, random_state=RANDOM_STATE)\n",
    "\n",
    "param_grid = {\n",
    "    \"loss\": [\"squared_error\", \"epsilon_insensitive\"],\n",
    "    \"penalty\": [\"elasticnet\"],\n",
    "    \"alpha\": np.logspace(-3, 3, 10),\n",
    "    \"l1_ratio\": np.linspace(0, 1, 10),\n",
    "    \"learning_rate\": [\"constant\"],\n",
    "    \"eta0\": np.logspace(-4, -1, 4)\n",
    "}\n",
    "best_grid_sgdr = GridSearchCV(\n",
    "    estimator=SGDRegressor(random_state=RANDOM_STATE),\n",
    "    param_grid=param_grid,\n",
    "    n_jobs=-1\n",
    ").fit(X_train, y_train).best_estimator_\n",
    "mse = mean_squared_error(y_test, best_grid_sgdr.predict(X_test)).round(3)\n",
    "print('MSE на тестовой выборке с оптимальными параметрами:', mse)"
   ]
  },
  {
   "cell_type": "markdown",
   "metadata": {},
   "source": [
    "# <center>Метод Ньютона\n",
    "**№3.1**  \n",
    "Найдите третий корень полинома, взяв за точку старта 0.7."
   ]
  },
  {
   "cell_type": "code",
   "execution_count": 6,
   "metadata": {},
   "outputs": [
    {
     "name": "stdout",
     "output_type": "stream",
     "text": [
      "Приближенный корень уравнения на 1 итерации\n"
     ]
    },
    {
     "data": {
      "image/png": "[encoded data removed]",
      "text/latex": [
       "$\\displaystyle 0.629633507853403$"
      ],
      "text/plain": [
       "0.629633507853403"
      ]
     },
     "metadata": {},
     "output_type": "display_data"
    },
    {
     "name": "stdout",
     "output_type": "stream",
     "text": [
      "Приближенный корень уравнения на 2 итерации\n"
     ]
    },
    {
     "data": {
      "image/png": "[encoded data removed]",
      "text/latex": [
       "$\\displaystyle 0.628668078167331$"
      ],
      "text/plain": [
       "0.628668078167331"
      ]
     },
     "metadata": {},
     "output_type": "display_data"
    },
    {
     "name": "stdout",
     "output_type": "stream",
     "text": [
      "Приближенный корень уравнения на 3 итерации\n"
     ]
    },
    {
     "data": {
      "image/png": "[encoded data removed]",
      "text/latex": [
       "$\\displaystyle 0.6286669787779$"
      ],
      "text/plain": [
       "0.628666978777900"
      ]
     },
     "metadata": {},
     "output_type": "display_data"
    }
   ],
   "source": [
    "x = sp.Symbol('x')\n",
    "f = 6*x**5 - 5*x**4 - 4*x**3 + 3*x**2\n",
    "start_point = 0.7\n",
    "f_der = sp.diff(f, x)\n",
    "current_point = start_point\n",
    "for i in range(3):\n",
    "    current_point -= f.subs(x, current_point) / f_der.subs(x, current_point)\n",
    "    print(f'Приближенный корень уравнения на {i+1} итерации')\n",
    "    display(current_point)\n"
   ]
  },
  {
   "cell_type": "markdown",
   "metadata": {},
   "source": [
    "***\n",
    "**Пример**  \n",
    "Оптимизировать функцию $f(x) = x^3 - 3x^2 - 45x + 40$"
   ]
  },
  {
   "cell_type": "code",
   "execution_count": 7,
   "metadata": {},
   "outputs": [],
   "source": [
    "def der_1(x):\n",
    "    return 3*x**2 - 6*x -45\n",
    "def der_2(x):\n",
    "    return 6*x - 6"
   ]
  },
  {
   "cell_type": "markdown",
   "metadata": {},
   "source": [
    "Теперь необходимо взять какую-нибудь изначальную точку. Например, пусть это будет точка $x=42$. Также нам необходима точность — её возьмем равной $0.0001$. На каждом шаге будем переходить в следующую точку по уже упомянутой выше формуле:\n",
    "$$ x^{(n+1)} = x^{(n)} - \\frac{f'(x^{(n)})}{f''(x^{(n)})} $$"
   ]
  },
  {
   "cell_type": "code",
   "execution_count": 8,
   "metadata": {},
   "outputs": [
    {
     "data": {
      "image/png": "[encoded data removed]",
      "text/latex": [
       "$\\displaystyle 5.0$"
      ],
      "text/plain": [
       "5.0"
      ]
     },
     "execution_count": 8,
     "metadata": {},
     "output_type": "execute_result"
    }
   ],
   "source": [
    "def newtons_method(f, fprime, x0, tol=0.0001):\n",
    "    iter_count = 0\n",
    "    x_curr = x0\n",
    "    f_val = f(x_curr)\n",
    "    while (abs(f_val) > tol):\n",
    "        f_val = f(x_curr)\n",
    "        f_prime_val = fprime(x_curr)\n",
    "        x_curr = x_curr - (f_val)/(f_prime_val)\n",
    "        iter_count += 1\n",
    "    return x_curr\n",
    "\n",
    "newtons_method(f=der_1, fprime=der_2, x0=50, tol=0.0001)\n"
   ]
  },
  {
   "cell_type": "code",
   "execution_count": 9,
   "metadata": {},
   "outputs": [
    {
     "data": {
      "image/png": "[encoded data removed]",
      "text/latex": [
       "$\\displaystyle 5.0$"
      ],
      "text/plain": [
       "5.0"
      ]
     },
     "execution_count": 9,
     "metadata": {},
     "output_type": "execute_result"
    }
   ],
   "source": [
    "from scipy.optimize import newton\n",
    "newton(func=der_1, fprime=der_2, x0=50, tol=0.0001)"
   ]
  },
  {
   "cell_type": "markdown",
   "metadata": {},
   "source": [
    "***\n",
    "**№3.6**  \n",
    "Дана функция $f(x)=x^3-72x-220$. Найдите решение уравнения $f(x)=0$ для поиска корня в окрестностях точки $x_0=12$."
   ]
  },
  {
   "cell_type": "code",
   "execution_count": 10,
   "metadata": {},
   "outputs": [
    {
     "name": "stdout",
     "output_type": "stream",
     "text": [
      "Приблизительный корень уравнения с помощью метода Ньютона: 9.727\n"
     ]
    }
   ],
   "source": [
    "f = sp.sympify('x^3 - 72*x - 220')\n",
    "start_point = 12\n",
    "der = sp.diff(f, x)\n",
    "current_point = start_point\n",
    "tol = 0.001\n",
    "f_value = f.subs(x, current_point)\n",
    "while np.abs(f_value) > tol:\n",
    "    current_point -= f.subs(x, current_point) / der.subs(x, current_point)\n",
    "    f_value = f.subs(x, current_point)\n",
    "print(f'Приблизительный корень уравнения с помощью метода Ньютона: {round(current_point, 3)}')\n",
    "    "
   ]
  },
  {
   "cell_type": "markdown",
   "metadata": {},
   "source": [
    "**№3.7**  \n",
    "Найдите положительный корень для уравнения $x^2 + 9x - 5=0$.\n",
    "\n",
    "В качестве стартовой точки возьмите $x_0 = 2.2$.\n",
    "\n"
   ]
  },
  {
   "cell_type": "code",
   "execution_count": 11,
   "metadata": {},
   "outputs": [
    {
     "name": "stdout",
     "output_type": "stream",
     "text": [
      "Приблизительный корень уравнения с помощью метода Ньютона: 0.52\n"
     ]
    }
   ],
   "source": [
    "f = sp.sympify('x^2 + 9*x - 5')\n",
    "start_point = 2.2\n",
    "der = sp.diff(f, x)\n",
    "current_point = start_point\n",
    "tol = 0.0001\n",
    "f_value = f.subs(x, current_point)\n",
    "while np.abs(f_value) > tol:\n",
    "    current_point -= f.subs(x, current_point) / der.subs(x, current_point)\n",
    "    f_value = f.subs(x, current_point)\n",
    "print(f'Приблизительный корень уравнения с помощью метода Ньютона: {round(current_point, 2)}')"
   ]
  },
  {
   "cell_type": "markdown",
   "metadata": {},
   "source": [
    "***\n",
    "**№3.9**\n",
    "С помощью метода Ньютона найдите точку минимума для функции $f(x) = 8x^3 - 2x^2 - 450$.\n",
    "В качестве стартовой точки возьмите $42$, точность примите за $0.0001$."
   ]
  },
  {
   "cell_type": "code",
   "execution_count": 12,
   "metadata": {},
   "outputs": [
    {
     "name": "stdout",
     "output_type": "stream",
     "text": [
      "Приблизительный корень уравнения с помощью метода Ньютона: 0.167\n"
     ]
    }
   ],
   "source": [
    "der_1 = lambda x: 24*x**2 - 4*x\n",
    "der_2 = lambda x: 48*x - 4\n",
    "solve = round(newton(func=der_1, fprime=der_2, x0=42, tol=0.0001), 3 )\n",
    "print(f'Приблизительный корень уравнения с помощью метода Ньютона: {solve}')   "
   ]
  }
 ],
 "metadata": {
  "kernelspec": {
   "display_name": "Python 3",
   "language": "python",
   "name": "python3"
  },
  "language_info": {
   "codemirror_mode": {
    "name": "ipython",
    "version": 3
   },
   "file_extension": ".py",
   "mimetype": "text/x-python",
   "name": "python",
   "nbconvert_exporter": "python",
   "pygments_lexer": "ipython3",
   "version": "3.10.8"
  },
  "orig_nbformat": 4
 },
 "nbformat": 4,
 "nbformat_minor": 2
}
