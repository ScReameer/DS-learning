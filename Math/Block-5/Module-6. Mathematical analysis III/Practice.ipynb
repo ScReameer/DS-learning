{
 "cells": [
  {
   "cell_type": "code",
   "execution_count": 19,
   "metadata": {},
   "outputs": [],
   "source": [
    "import sympy as sp\n",
    "import numpy as np\n",
    "import seaborn as sns\n",
    "import pandas as pd\n",
    "import cvxpy\n",
    "import pulp\n",
    "\n",
    "from scipy.optimize import minimize\n",
    "from scipy.optimize import linprog\n",
    "\n",
    "from sklearn.model_selection import GridSearchCV, train_test_split\n",
    "from sklearn.linear_model import SGDRegressor\n",
    "from sklearn.metrics import mean_squared_error\n",
    "\n",
    "sp.init_printing()"
   ]
  },
  {
   "cell_type": "markdown",
   "metadata": {},
   "source": [
    "**№1.1**  \n",
    "Пусть прибыль в вашей компании выражается следующей функцией, которая зависит от параметра $x$ — количества производимых товаров:  \n",
    "Найдите максимально возможную прибыль, которую вы можете получить, варьируя количество произведённых товаров."
   ]
  },
  {
   "cell_type": "code",
   "execution_count": 2,
   "metadata": {},
   "outputs": [
    {
     "name": "stdout",
     "output_type": "stream",
     "text": [
      "Функция\n"
     ]
    },
    {
     "data": {
      "image/png": "[encoded data removed]",
      "text/latex": [
       "$\\displaystyle - x^{4} + 6 x^{3} - 4 x^{2} + 80$"
      ],
      "text/plain": [
       "   4      3      2     \n",
       "- x  + 6⋅x  - 4⋅x  + 80"
      ]
     },
     "metadata": {},
     "output_type": "display_data"
    },
    {
     "name": "stdout",
     "output_type": "stream",
     "text": [
      "Производная\n"
     ]
    },
    {
     "data": {
      "image/png": "[encoded data removed]",
      "text/latex": [
       "$\\displaystyle - 4 x^{3} + 18 x^{2} - 8 x$"
      ],
      "text/plain": [
       "     3       2      \n",
       "- 4⋅x  + 18⋅x  - 8⋅x"
      ]
     },
     "metadata": {},
     "output_type": "display_data"
    },
    {
     "name": "stdout",
     "output_type": "stream",
     "text": [
      "Точки экстремума\n"
     ]
    },
    {
     "data": {
      "image/png": "[encoded data removed]",
      "text/latex": [
       "$\\displaystyle \\left[ 0, \\  \\frac{1}{2}, \\  4\\right]$"
      ],
      "text/plain": [
       "[0, 1/2, 4]"
      ]
     },
     "metadata": {},
     "output_type": "display_data"
    },
    {
     "name": "stdout",
     "output_type": "stream",
     "text": [
      "Значение функции в точке 0 = 80\n",
      "Значение функции в точке 1/2 = 1275/16\n",
      "Значение функции в точке 4 = 144\n"
     ]
    }
   ],
   "source": [
    "x = sp.Symbol('x', real=True)\n",
    "f = -x**4 + 6*x**3 - 4*x**2 + 80\n",
    "der = sp.diff(f, x)\n",
    "extremums = sp.solve(der)\n",
    "print('Функция')\n",
    "display(f)\n",
    "print('Производная')\n",
    "display(der)\n",
    "print('Точки экстремума')\n",
    "display(extremums)\n",
    "for solve in extremums:\n",
    "    print(f'Значение функции в точке {solve} = {f.subs(x, solve)}')"
   ]
  },
  {
   "cell_type": "markdown",
   "metadata": {},
   "source": [
    "Максимальное значение функция принимает при $x=4$, минимальное - при $x=0$."
   ]
  },
  {
   "cell_type": "markdown",
   "metadata": {},
   "source": [
    "**№1.4**\n",
    "Вам необходимо оптимизировать расход бумаги в принтере, который зависит от часов работы двух ключевых сотрудников следующим образом:\n",
    "$$ f(x,y) = x^2 + 2y^2 $$\n",
    "Где $x$ — количество часов работы 1-ого сотрудника, $y$ — 2-ого сотрудника.\n",
    "\n",
    "Однако вы должны оплатить этим сотрудникам ровно 20 часов работы в сумме.\n",
    "\n",
    "Какое наименьшее количество листов бумаги вы сможете потратить в таком случае?"
   ]
  },
  {
   "cell_type": "code",
   "execution_count": 3,
   "metadata": {},
   "outputs": [
    {
     "name": "stdout",
     "output_type": "stream",
     "text": [
      "Функция\n"
     ]
    },
    {
     "data": {
      "image/png": "[encoded data removed]",
      "text/latex": [
       "$\\displaystyle x^{2} + 2 y^{2}$"
      ],
      "text/plain": [
       " 2      2\n",
       "x  + 2⋅y "
      ]
     },
     "metadata": {},
     "output_type": "display_data"
    },
    {
     "name": "stdout",
     "output_type": "stream",
     "text": [
      "Условие\n"
     ]
    },
    {
     "data": {
      "image/png": "[encoded data removed]",
      "text/latex": [
       "$\\displaystyle x + y - 20$"
      ],
      "text/plain": [
       "x + y - 20"
      ]
     },
     "metadata": {},
     "output_type": "display_data"
    },
    {
     "name": "stdout",
     "output_type": "stream",
     "text": [
      "Функция Лагранжа\n"
     ]
    },
    {
     "data": {
      "image/png": "[encoded data removed]",
      "text/latex": [
       "$\\displaystyle \\lambda \\left(x + y - 20\\right) + x^{2} + 2 y^{2}$"
      ],
      "text/plain": [
       "                        2      2\n",
       "\\lambda⋅(x + y - 20) + x  + 2⋅y "
      ]
     },
     "metadata": {},
     "output_type": "display_data"
    },
    {
     "name": "stdout",
     "output_type": "stream",
     "text": [
      "Экстремум\n"
     ]
    },
    {
     "data": {
      "image/png": "[encoded data removed]",
      "text/latex": [
       "$\\displaystyle \\left\\{ \\lambda : - \\frac{80}{3}, \\  x : \\frac{40}{3}, \\  y : \\frac{20}{3}\\right\\}$"
      ],
      "text/plain": [
       "{\\lambda: -80/3, x: 40/3, y: 20/3}"
      ]
     },
     "metadata": {},
     "output_type": "display_data"
    },
    {
     "name": "stdout",
     "output_type": "stream",
     "text": [
      "Минимальное количество листов, которое можно потратить\n"
     ]
    },
    {
     "data": {
      "image/png": "[encoded data removed]",
      "text/latex": [
       "$\\displaystyle 267$"
      ],
      "text/plain": [
       "267"
      ]
     },
     "metadata": {},
     "output_type": "display_data"
    }
   ],
   "source": [
    "y, _lambda = sp.symbols('y, \\lambda', real=True)\n",
    "f = x**2 + 2*y**2\n",
    "phi = x + y - 20\n",
    "L = f + _lambda*phi\n",
    "part_ders = sp.diff(L, x), sp.diff(L, y), sp.diff(L, _lambda)\n",
    "solutions = sp.solve(part_ders, [x, y, _lambda])\n",
    "minimal_consumption = f.subs(x, solutions[x]).subs(y, solutions[y])\n",
    "print('Функция')\n",
    "display(f)\n",
    "print('Условие')\n",
    "display(phi)\n",
    "print('Функция Лагранжа')\n",
    "display(L)\n",
    "print('Экстремум')\n",
    "display(solutions)\n",
    "print('Минимальное количество листов, которое можно потратить')\n",
    "display(round(minimal_consumption))"
   ]
  },
  {
   "cell_type": "markdown",
   "metadata": {},
   "source": [
    "**№2.7**  \n",
    "**Стохастический градиентный спуск**"
   ]
  },
  {
   "cell_type": "code",
   "execution_count": 4,
   "metadata": {},
   "outputs": [
    {
     "data": {
      "text/html": [
       "<div>\n",
       "<style scoped>\n",
       "    .dataframe tbody tr th:only-of-type {\n",
       "        vertical-align: middle;\n",
       "    }\n",
       "\n",
       "    .dataframe tbody tr th {\n",
       "        vertical-align: top;\n",
       "    }\n",
       "\n",
       "    .dataframe thead th {\n",
       "        text-align: right;\n",
       "    }\n",
       "</style>\n",
       "<table border=\"1\" class=\"dataframe\">\n",
       "  <thead>\n",
       "    <tr style=\"text-align: right;\">\n",
       "      <th></th>\n",
       "      <th>carat</th>\n",
       "      <th>cut_Premium</th>\n",
       "      <th>cut_Very Good</th>\n",
       "      <th>cut_Good</th>\n",
       "      <th>cut_Fair</th>\n",
       "      <th>color_E</th>\n",
       "      <th>color_F</th>\n",
       "      <th>color_G</th>\n",
       "      <th>color_H</th>\n",
       "      <th>color_I</th>\n",
       "      <th>color_J</th>\n",
       "      <th>clarity_VVS1</th>\n",
       "      <th>clarity_VVS2</th>\n",
       "      <th>clarity_VS1</th>\n",
       "      <th>clarity_VS2</th>\n",
       "      <th>clarity_SI1</th>\n",
       "      <th>clarity_SI2</th>\n",
       "      <th>clarity_I1</th>\n",
       "    </tr>\n",
       "  </thead>\n",
       "  <tbody>\n",
       "    <tr>\n",
       "      <th>0</th>\n",
       "      <td>0.207014</td>\n",
       "      <td>0</td>\n",
       "      <td>0</td>\n",
       "      <td>0</td>\n",
       "      <td>0</td>\n",
       "      <td>1</td>\n",
       "      <td>0</td>\n",
       "      <td>0</td>\n",
       "      <td>0</td>\n",
       "      <td>0</td>\n",
       "      <td>0</td>\n",
       "      <td>0</td>\n",
       "      <td>0</td>\n",
       "      <td>0</td>\n",
       "      <td>0</td>\n",
       "      <td>0</td>\n",
       "      <td>1</td>\n",
       "      <td>0</td>\n",
       "    </tr>\n",
       "    <tr>\n",
       "      <th>1</th>\n",
       "      <td>0.190620</td>\n",
       "      <td>1</td>\n",
       "      <td>0</td>\n",
       "      <td>0</td>\n",
       "      <td>0</td>\n",
       "      <td>1</td>\n",
       "      <td>0</td>\n",
       "      <td>0</td>\n",
       "      <td>0</td>\n",
       "      <td>0</td>\n",
       "      <td>0</td>\n",
       "      <td>0</td>\n",
       "      <td>0</td>\n",
       "      <td>0</td>\n",
       "      <td>0</td>\n",
       "      <td>1</td>\n",
       "      <td>0</td>\n",
       "      <td>0</td>\n",
       "    </tr>\n",
       "    <tr>\n",
       "      <th>2</th>\n",
       "      <td>0.207014</td>\n",
       "      <td>0</td>\n",
       "      <td>0</td>\n",
       "      <td>1</td>\n",
       "      <td>0</td>\n",
       "      <td>1</td>\n",
       "      <td>0</td>\n",
       "      <td>0</td>\n",
       "      <td>0</td>\n",
       "      <td>0</td>\n",
       "      <td>0</td>\n",
       "      <td>0</td>\n",
       "      <td>0</td>\n",
       "      <td>1</td>\n",
       "      <td>0</td>\n",
       "      <td>0</td>\n",
       "      <td>0</td>\n",
       "      <td>0</td>\n",
       "    </tr>\n",
       "  </tbody>\n",
       "</table>\n",
       "</div>"
      ],
      "text/plain": [
       "      carat  cut_Premium  cut_Very Good  cut_Good  cut_Fair  color_E  color_F  \\\n",
       "0  0.207014            0              0         0         0        1        0   \n",
       "1  0.190620            1              0         0         0        1        0   \n",
       "2  0.207014            0              0         1         0        1        0   \n",
       "\n",
       "   color_G  color_H  color_I  color_J  clarity_VVS1  clarity_VVS2  \\\n",
       "0        0        0        0        0             0             0   \n",
       "1        0        0        0        0             0             0   \n",
       "2        0        0        0        0             0             0   \n",
       "\n",
       "   clarity_VS1  clarity_VS2  clarity_SI1  clarity_SI2  clarity_I1  \n",
       "0            0            0            0            1           0  \n",
       "1            0            0            1            0           0  \n",
       "2            1            0            0            0           0  "
      ]
     },
     "metadata": {},
     "output_type": "display_data"
    },
    {
     "data": {
      "text/plain": [
       "0    5.789960\n",
       "1    5.789960\n",
       "2    5.793014\n",
       "Name: price, dtype: float64"
      ]
     },
     "metadata": {},
     "output_type": "display_data"
    }
   ],
   "source": [
    "df = sns.load_dataset('diamonds')\n",
    "df.drop(['depth', 'table', 'x', 'y', 'z'], axis=1, inplace=True)\n",
    "df = pd.get_dummies(df, drop_first=True)\n",
    "df['carat'] = np.log(1+df['carat'])\n",
    "df['price'] = np.log(1+df['price'])\n",
    "\n",
    "X = df.drop(columns=\"price\")\n",
    "y = df[\"price\"]\n",
    "display(X.head(3), y.head(3))"
   ]
  },
  {
   "cell_type": "code",
   "execution_count": 5,
   "metadata": {},
   "outputs": [
    {
     "name": "stdout",
     "output_type": "stream",
     "text": [
      "MSE на тестовой выборке с оптимальными параметрами: 0.044\n"
     ]
    }
   ],
   "source": [
    "RANDOM_STATE = 42\n",
    "X_train, X_test, y_train, y_test = train_test_split(X, y, test_size=0.33, random_state=RANDOM_STATE)\n",
    "\n",
    "param_grid = {\n",
    "    \"loss\": [\"squared_error\", \"epsilon_insensitive\"],\n",
    "    \"penalty\": [\"elasticnet\"],\n",
    "    \"alpha\": np.logspace(-3, 3, 10),\n",
    "    \"l1_ratio\": np.linspace(0, 1, 10),\n",
    "    \"learning_rate\": [\"constant\"],\n",
    "    \"eta0\": np.logspace(-4, -1, 4)\n",
    "}\n",
    "best_grid_sgdr = GridSearchCV(\n",
    "    estimator=SGDRegressor(random_state=RANDOM_STATE),\n",
    "    param_grid=param_grid,\n",
    "    n_jobs=-1\n",
    ").fit(X_train, y_train).best_estimator_\n",
    "mse = mean_squared_error(y_test, best_grid_sgdr.predict(X_test)).round(3)\n",
    "print('MSE на тестовой выборке с оптимальными параметрами:', mse)"
   ]
  },
  {
   "cell_type": "markdown",
   "metadata": {},
   "source": [
    "# <center>Метод Ньютона\n",
    "**№3.1**  \n",
    "Найдите третий корень полинома, взяв за точку старта 0.7."
   ]
  },
  {
   "cell_type": "code",
   "execution_count": 6,
   "metadata": {},
   "outputs": [
    {
     "name": "stdout",
     "output_type": "stream",
     "text": [
      "Приближенный корень уравнения на 1 итерации\n"
     ]
    },
    {
     "data": {
      "image/png": "[encoded data removed]",
      "text/latex": [
       "$\\displaystyle 0.629633507853403$"
      ],
      "text/plain": [
       "0.629633507853403"
      ]
     },
     "metadata": {},
     "output_type": "display_data"
    },
    {
     "name": "stdout",
     "output_type": "stream",
     "text": [
      "Приближенный корень уравнения на 2 итерации\n"
     ]
    },
    {
     "data": {
      "image/png": "[encoded data removed]",
      "text/latex": [
       "$\\displaystyle 0.628668078167331$"
      ],
      "text/plain": [
       "0.628668078167331"
      ]
     },
     "metadata": {},
     "output_type": "display_data"
    },
    {
     "name": "stdout",
     "output_type": "stream",
     "text": [
      "Приближенный корень уравнения на 3 итерации\n"
     ]
    },
    {
     "data": {
      "image/png": "[encoded data removed]",
      "text/latex": [
       "$\\displaystyle 0.6286669787779$"
      ],
      "text/plain": [
       "0.628666978777900"
      ]
     },
     "metadata": {},
     "output_type": "display_data"
    }
   ],
   "source": [
    "x = sp.Symbol('x')\n",
    "f = 6*x**5 - 5*x**4 - 4*x**3 + 3*x**2\n",
    "start_point = 0.7\n",
    "f_der = sp.diff(f, x)\n",
    "current_point = start_point\n",
    "for i in range(3):\n",
    "    current_point -= f.subs(x, current_point) / f_der.subs(x, current_point)\n",
    "    print(f'Приближенный корень уравнения на {i+1} итерации')\n",
    "    display(current_point)\n"
   ]
  },
  {
   "cell_type": "markdown",
   "metadata": {},
   "source": [
    "***\n",
    "**Пример**  \n",
    "Оптимизировать функцию $f(x) = x^3 - 3x^2 - 45x + 40$"
   ]
  },
  {
   "cell_type": "code",
   "execution_count": 7,
   "metadata": {},
   "outputs": [],
   "source": [
    "def der_1(x):\n",
    "    return 3*x**2 - 6*x -45\n",
    "def der_2(x):\n",
    "    return 6*x - 6"
   ]
  },
  {
   "cell_type": "markdown",
   "metadata": {},
   "source": [
    "Теперь необходимо взять какую-нибудь изначальную точку. Например, пусть это будет точка $x=42$. Также нам необходима точность — её возьмем равной $0.0001$. На каждом шаге будем переходить в следующую точку по уже упомянутой выше формуле:\n",
    "$$ x^{(n+1)} = x^{(n)} - \\frac{f'(x^{(n)})}{f''(x^{(n)})} $$"
   ]
  },
  {
   "cell_type": "code",
   "execution_count": 8,
   "metadata": {},
   "outputs": [
    {
     "data": {
      "image/png": "[encoded data removed]",
      "text/latex": [
       "$\\displaystyle 5.0$"
      ],
      "text/plain": [
       "5.0"
      ]
     },
     "execution_count": 8,
     "metadata": {},
     "output_type": "execute_result"
    }
   ],
   "source": [
    "def newtons_method(f, fprime, x0, tol=0.0001):\n",
    "    iter_count = 0\n",
    "    x_curr = x0\n",
    "    f_val = f(x_curr)\n",
    "    while (abs(f_val) > tol):\n",
    "        f_val = f(x_curr)\n",
    "        f_prime_val = fprime(x_curr)\n",
    "        x_curr = x_curr - (f_val)/(f_prime_val)\n",
    "        iter_count += 1\n",
    "    return x_curr\n",
    "\n",
    "newtons_method(f=der_1, fprime=der_2, x0=50, tol=0.0001)\n"
   ]
  },
  {
   "cell_type": "code",
   "execution_count": 9,
   "metadata": {},
   "outputs": [
    {
     "data": {
      "image/png": "[encoded data removed]",
      "text/latex": [
       "$\\displaystyle 5.0$"
      ],
      "text/plain": [
       "5.0"
      ]
     },
     "execution_count": 9,
     "metadata": {},
     "output_type": "execute_result"
    }
   ],
   "source": [
    "from scipy.optimize import newton\n",
    "newton(func=der_1, fprime=der_2, x0=50, tol=0.0001)"
   ]
  },
  {
   "cell_type": "markdown",
   "metadata": {},
   "source": [
    "***\n",
    "**№3.6**  \n",
    "Дана функция $f(x)=x^3-72x-220$. Найдите решение уравнения $f(x)=0$ для поиска корня в окрестностях точки $x_0=12$."
   ]
  },
  {
   "cell_type": "code",
   "execution_count": 10,
   "metadata": {},
   "outputs": [
    {
     "name": "stdout",
     "output_type": "stream",
     "text": [
      "Приблизительный корень уравнения с помощью метода Ньютона: 9.727\n"
     ]
    }
   ],
   "source": [
    "f = sp.sympify('x^3 - 72*x - 220')\n",
    "start_point = 12\n",
    "der = sp.diff(f, x)\n",
    "current_point = start_point\n",
    "tol = 0.001\n",
    "f_value = f.subs(x, current_point)\n",
    "while np.abs(f_value) > tol:\n",
    "    current_point -= f.subs(x, current_point) / der.subs(x, current_point)\n",
    "    f_value = f.subs(x, current_point)\n",
    "print(f'Приблизительный корень уравнения с помощью метода Ньютона: {round(current_point, 3)}')\n",
    "    "
   ]
  },
  {
   "cell_type": "markdown",
   "metadata": {},
   "source": [
    "**№3.7**  \n",
    "Найдите положительный корень для уравнения $x^2 + 9x - 5=0$.\n",
    "\n",
    "В качестве стартовой точки возьмите $x_0 = 2.2$.\n",
    "\n"
   ]
  },
  {
   "cell_type": "code",
   "execution_count": 11,
   "metadata": {},
   "outputs": [
    {
     "name": "stdout",
     "output_type": "stream",
     "text": [
      "Приблизительный корень уравнения с помощью метода Ньютона: 0.52\n"
     ]
    }
   ],
   "source": [
    "f = sp.sympify('x^2 + 9*x - 5')\n",
    "start_point = 2.2\n",
    "der = sp.diff(f, x)\n",
    "current_point = start_point\n",
    "tol = 0.0001\n",
    "f_value = f.subs(x, current_point)\n",
    "while np.abs(f_value) > tol:\n",
    "    current_point -= f.subs(x, current_point) / der.subs(x, current_point)\n",
    "    f_value = f.subs(x, current_point)\n",
    "print(f'Приблизительный корень уравнения с помощью метода Ньютона: {round(current_point, 2)}')"
   ]
  },
  {
   "cell_type": "markdown",
   "metadata": {},
   "source": [
    "***\n",
    "**№3.9**\n",
    "С помощью метода Ньютона найдите точку минимума для функции $f(x) = 8x^3 - 2x^2 - 450$.\n",
    "В качестве стартовой точки возьмите $42$, точность примите за $0.0001$."
   ]
  },
  {
   "cell_type": "code",
   "execution_count": 12,
   "metadata": {},
   "outputs": [
    {
     "name": "stdout",
     "output_type": "stream",
     "text": [
      "Приблизительный корень уравнения с помощью метода Ньютона: 0.167\n"
     ]
    }
   ],
   "source": [
    "der_1 = lambda x: 24*x**2 - 4*x\n",
    "der_2 = lambda x: 48*x - 4\n",
    "solve = round(newton(func=der_1, fprime=der_2, x0=42, tol=0.0001), 3 )\n",
    "print(f'Приблизительный корень уравнения с помощью метода Ньютона: {solve}')   "
   ]
  },
  {
   "cell_type": "markdown",
   "metadata": {},
   "source": [
    "# <center>Квазиньютоновские методы\n",
    "**Пример**  \n",
    "Оптимизация функции $ f(x,y) = x^2 + y^2 $"
   ]
  },
  {
   "cell_type": "code",
   "execution_count": 5,
   "metadata": {},
   "outputs": [
    {
     "name": "stdout",
     "output_type": "stream",
     "text": [
      "Статус оптимизации Optimization terminated successfully.\n",
      "Количество оценок: 3\n",
      "Решение: f([0. 0.]) = 0.0\n"
     ]
    }
   ],
   "source": [
    "def function(x):\n",
    "    return x[0]**2.0 + x[1]**2.0\n",
    "\n",
    "def grad_func(x):\n",
    "    return np.array([x[0] * 2, x[1] * 2])\n",
    "\n",
    "x_0 = [1.0, 1.0]\n",
    "# тот же самый результат будет с L-BFGS-B\n",
    "result = minimize(function, x_0, method='BFGS', jac=grad_func)\n",
    "print('Статус оптимизации', result['message'])\n",
    "print('Количество оценок:', result['nfev'])\n",
    "solution = result['x']\n",
    "evaluation = function(solution)\n",
    "print(f'Решение: f({solution}) = {evaluation}')\n"
   ]
  },
  {
   "cell_type": "markdown",
   "metadata": {},
   "source": [
    "**№4.1**  \n",
    "Оптимизация функции $f(x,y) = x^2 - xy + y^2 - 9x - 6y + 20$"
   ]
  },
  {
   "cell_type": "code",
   "execution_count": 9,
   "metadata": {},
   "outputs": [
    {
     "data": {
      "text/plain": [
       "      fun: -1.0\n",
       " hess_inv: array([[0.66666667, 0.33333333],\n",
       "       [0.33333333, 0.66666667]])\n",
       "      jac: array([0., 0.])\n",
       "  message: 'Optimization terminated successfully.'\n",
       "     nfev: 11\n",
       "      nit: 6\n",
       "     njev: 11\n",
       "   status: 0\n",
       "  success: True\n",
       "        x: array([-4.,  1.])"
      ]
     },
     "execution_count": 9,
     "metadata": {},
     "output_type": "execute_result"
    }
   ],
   "source": [
    "def function(x):\n",
    "    return x[0]**2 - x[0]*x[1] + x[1]**2 + 9*x[0] - 6*x[1] + 20\n",
    "\n",
    "def grad_func(x):\n",
    "    return np.array([\n",
    "        2*x[0] - x[1] + 9,\n",
    "        -x[0] + 2*x[1] - 6\n",
    "    ])\n",
    "    \n",
    "x_0 = np.array([-400, -400])\n",
    "minimize(function, x0=x_0, method='BFGS', jac=grad_func)"
   ]
  },
  {
   "cell_type": "markdown",
   "metadata": {},
   "source": [
    "**№4.4**  \n",
    "Оптимизация функции $f(x) = x^2 - 3x + 45$"
   ]
  },
  {
   "cell_type": "code",
   "execution_count": 10,
   "metadata": {},
   "outputs": [
    {
     "data": {
      "text/plain": [
       "      fun: 42.75\n",
       " hess_inv: array([[0.5]])\n",
       "      jac: array([0.])\n",
       "  message: 'Optimization terminated successfully.'\n",
       "     nfev: 5\n",
       "      nit: 4\n",
       "     njev: 5\n",
       "   status: 0\n",
       "  success: True\n",
       "        x: array([1.5])"
      ]
     },
     "execution_count": 10,
     "metadata": {},
     "output_type": "execute_result"
    }
   ],
   "source": [
    "function = lambda x: x**2 - 3*x + 45\n",
    "grad_func = lambda x: 2*x - 3\n",
    "x_0 = 10\n",
    "minimize(fun=function, x0=x_0, method='BFGS', jac=grad_func)"
   ]
  },
  {
   "cell_type": "code",
   "execution_count": 11,
   "metadata": {},
   "outputs": [
    {
     "data": {
      "text/plain": [
       "      fun: 42.75\n",
       " hess_inv: <1x1 LbfgsInvHessProduct with dtype=float64>\n",
       "      jac: array([0.])\n",
       "  message: 'CONVERGENCE: NORM_OF_PROJECTED_GRADIENT_<=_PGTOL'\n",
       "     nfev: 3\n",
       "      nit: 2\n",
       "     njev: 3\n",
       "   status: 0\n",
       "  success: True\n",
       "        x: array([1.5])"
      ]
     },
     "execution_count": 11,
     "metadata": {},
     "output_type": "execute_result"
    }
   ],
   "source": [
    "minimize(fun=function, x0=x_0, method='L-BFGS-B', jac=grad_func)"
   ]
  },
  {
   "cell_type": "markdown",
   "metadata": {},
   "source": [
    "**№4.7**  \n",
    "Оптимизация функции $f(x,y) = x^4 + 6y^2 + 10$"
   ]
  },
  {
   "cell_type": "code",
   "execution_count": 12,
   "metadata": {},
   "outputs": [
    {
     "data": {
      "text/plain": [
       "      fun: 10.000000030008898\n",
       " hess_inv: array([[ 2.01581662e+02, -4.16321164e-09],\n",
       "       [-4.16321164e-09,  7.31731755e-02]])\n",
       "      jac: array([9.12005647e-06, 7.98413499e-13])\n",
       "  message: 'Optimization terminated successfully.'\n",
       "     nfev: 37\n",
       "      nit: 34\n",
       "     njev: 37\n",
       "   status: 0\n",
       "  success: True\n",
       "        x: array([1.31617159e-02, 6.65344582e-14])"
      ]
     },
     "execution_count": 12,
     "metadata": {},
     "output_type": "execute_result"
    }
   ],
   "source": [
    "function = lambda x: x[0]**4 + 6*x[1]**2 + 10\n",
    "grad_func = lambda x: np.array([4*x[0]**3, 12*x[1]])\n",
    "x_0 = np.array([100, 100])\n",
    "minimize(fun=function, x0=x_0, method='BFGS', jac=grad_func)"
   ]
  },
  {
   "cell_type": "code",
   "execution_count": 13,
   "metadata": {},
   "outputs": [
    {
     "data": {
      "text/plain": [
       "      fun: 10.00000000827103\n",
       " hess_inv: <2x2 LbfgsInvHessProduct with dtype=float64>\n",
       "      jac: array([-3.45902348e-06, -2.78604612e-05])\n",
       "  message: 'CONVERGENCE: REL_REDUCTION_OF_F_<=_FACTR*EPSMCH'\n",
       "     nfev: 40\n",
       "      nit: 37\n",
       "     njev: 40\n",
       "   status: 0\n",
       "  success: True\n",
       "        x: array([-9.52718297e-03, -2.32170510e-06])"
      ]
     },
     "execution_count": 13,
     "metadata": {},
     "output_type": "execute_result"
    }
   ],
   "source": [
    "minimize(fun=function, x0=x_0, method='L-BFGS-B', jac=grad_func)"
   ]
  },
  {
   "cell_type": "markdown",
   "metadata": {},
   "source": [
    "**№5.4**  \n",
    "Валя хочет испечь морковные торты и шоколадные пирожные для благотворительной школьной распродажи.\n",
    "\n",
    "У неё есть 15 яиц и 16 стаканов муки. В рецепте морковного торта используют 2 яйца и 3 стакана муки, а в рецепте шоколадных пирожных — 3 яйца и 4 стакана муки.\n",
    "\n",
    "Валя собирается продавать морковные торты по 100 рублей за штуку, а шоколадные пирожные — по 55 рублей. Разумеется, она хочет максимизировать сумму денег, которую сможет заработать.\n",
    "\n",
    "Пусть $x$ — количество морковных тортов, а $y$ — количество шоколадных пирожных, которые испекла Валя.\n"
   ]
  },
  {
   "cell_type": "markdown",
   "metadata": {},
   "source": [
    "$$\n",
    "\\begin{cases}\n",
    "x = 2egg + 3m \\\\\n",
    "y = 3egg + 4m \\\\\n",
    "egg + m = 31 \\\\\n",
    "x > 0 \\\\\n",
    "y > 0 \\\\ \n",
    "egg > 0 \\\\\n",
    "m > 0 \\\\\n",
    "P = 100*x + 55*y \\\\\n",
    "\\end{cases}\n",
    "$$"
   ]
  },
  {
   "cell_type": "markdown",
   "metadata": {},
   "source": [
    "**№5.5**  \n",
    "Магазин спортивных товаров получает прибыль в размере 6 долларов с каждого проданного футбольного мяча и 5.5 долларов — с бейсбольного.\n",
    "\n",
    "Каждый месяц магазин продаёт от 35 до 45 футбольных мячей и от 40 до 55 бейсбольных.\n",
    "\n",
    "Известно, что в этом месяце у магазина есть в общей сложности 80 мячей.\n",
    "\n",
    "Какую максимальную прибыль в этом месяце может получить магазин от продажи мячей?\n",
    "\n"
   ]
  },
  {
   "cell_type": "markdown",
   "metadata": {},
   "source": [
    "$$ P = 6x + 5.5y $$\n",
    "$$ \n",
    "\\max_{x \\geq 35; \\space x \\leq 45; \\space y \\geq 40; \\space y \\leq 55; \\space x+y=80} P\n",
    "$$"
   ]
  },
  {
   "cell_type": "markdown",
   "metadata": {},
   "source": [
    "$$\n",
    "\\min_{-x + 35 + \\tilde{x}^2_1 = 0; \\space x - 45 + \\tilde{x}^2_2; \\space -y + 40 + \\tilde{x}^2_3 = 0; \\space y - 55 + \\tilde{x}^2_4 = 0; \\space x + y - 80 = 0}-P\n",
    "$$"
   ]
  },
  {
   "cell_type": "code",
   "execution_count": 72,
   "metadata": {},
   "outputs": [
    {
     "data": {
      "text/plain": [
       "'ФУНКЦИЯ'"
      ]
     },
     "metadata": {},
     "output_type": "display_data"
    },
    {
     "data": {
      "image/png": "[encoded data removed]",
      "text/latex": [
       "$\\displaystyle 6 x + 5.5 y$"
      ],
      "text/plain": [
       "6⋅x + 5.5⋅y"
      ]
     },
     "metadata": {},
     "output_type": "display_data"
    },
    {
     "data": {
      "text/plain": [
       "'ОГРАНИЧЕНИЯ'"
      ]
     },
     "metadata": {},
     "output_type": "display_data"
    },
    {
     "data": {
      "image/png": "[encoded data removed]",
      "text/latex": [
       "$\\displaystyle \\tilde{x}_1^{2} - x + 35$"
      ],
      "text/plain": [
       "          2         \n",
       "\\tilde{x}₁  - x + 35"
      ]
     },
     "metadata": {},
     "output_type": "display_data"
    },
    {
     "data": {
      "image/png": "[encoded data removed]",
      "text/latex": [
       "$\\displaystyle \\tilde{x}_2^{2} + x - 45$"
      ],
      "text/plain": [
       "          2         \n",
       "\\tilde{x}₂  + x - 45"
      ]
     },
     "metadata": {},
     "output_type": "display_data"
    },
    {
     "data": {
      "image/png": "[encoded data removed]",
      "text/latex": [
       "$\\displaystyle \\tilde{x}_3^{2} - y + 40$"
      ],
      "text/plain": [
       "          2         \n",
       "\\tilde{x}₃  - y + 40"
      ]
     },
     "metadata": {},
     "output_type": "display_data"
    },
    {
     "data": {
      "image/png": "[encoded data removed]",
      "text/latex": [
       "$\\displaystyle \\tilde{x}_4^{2} + y - 55$"
      ],
      "text/plain": [
       "          2         \n",
       "\\tilde{x}₄  + y - 55"
      ]
     },
     "metadata": {},
     "output_type": "display_data"
    },
    {
     "data": {
      "image/png": "[encoded data removed]",
      "text/latex": [
       "$\\displaystyle x + y - 80$"
      ],
      "text/plain": [
       "x + y - 80"
      ]
     },
     "metadata": {},
     "output_type": "display_data"
    },
    {
     "data": {
      "text/plain": [
       "'ФУНКЦИЯ ЛАГРАНЖА'"
      ]
     },
     "metadata": {},
     "output_type": "display_data"
    },
    {
     "data": {
      "image/png": "[encoded data removed]",
      "text/latex": [
       "$\\displaystyle \\lambda_{1} \\left(\\tilde{x}_1^{2} - x + 35\\right) + \\lambda_{2} \\left(\\tilde{x}_2^{2} + x - 45\\right) + \\lambda_{3} \\left(\\tilde{x}_3^{2} - y + 40\\right) + \\lambda_{4} \\left(\\tilde{x}_4^{2} + y - 55\\right) + \\lambda_{5} \\left(x + y - 80\\right) - 6 x - 5.5 y$"
      ],
      "text/plain": [
       "         ⎛          2         ⎞            ⎛          2         ⎞            ⎛\n",
       "\\lambda₁⋅⎝\\tilde{x}₁  - x + 35⎠ + \\lambda₂⋅⎝\\tilde{x}₂  + x - 45⎠ + \\lambda₃⋅⎝\n",
       "\n",
       "          2         ⎞            ⎛          2         ⎞                       \n",
       "\\tilde{x}₃  - y + 40⎠ + \\lambda₄⋅⎝\\tilde{x}₄  + y - 55⎠ + \\lambda₅⋅(x + y - 80\n",
       "\n",
       "               \n",
       ") - 6⋅x - 5.5⋅y"
      ]
     },
     "metadata": {},
     "output_type": "display_data"
    },
    {
     "data": {
      "text/plain": [
       "'РЕШЕНИЯ'"
      ]
     },
     "metadata": {},
     "output_type": "display_data"
    },
    {
     "name": "stdout",
     "output_type": "stream",
     "text": [
      "x=35  y=45     Максимальная прибыль P=457.5\n",
      "x=35  y=45     Максимальная прибыль P=457.5\n",
      "x=35  y=45     Максимальная прибыль P=457.5\n",
      "x=35  y=45     Максимальная прибыль P=457.5\n",
      "x=35  y=45     Максимальная прибыль P=457.5\n",
      "x=35  y=45     Максимальная прибыль P=457.5\n",
      "x=35  y=45     Максимальная прибыль P=457.5\n",
      "x=35  y=45     Максимальная прибыль P=457.5\n",
      "x=40  y=40     Максимальная прибыль P=460.0\n",
      "x=40  y=40     Максимальная прибыль P=460.0\n",
      "x=40  y=40     Максимальная прибыль P=460.0\n",
      "x=40  y=40     Максимальная прибыль P=460.0\n",
      "x=40  y=40     Максимальная прибыль P=460.0\n",
      "x=40  y=40     Максимальная прибыль P=460.0\n",
      "x=40  y=40     Максимальная прибыль P=460.0\n",
      "x=40  y=40     Максимальная прибыль P=460.0\n"
     ]
    }
   ],
   "source": [
    "x, y, tilde_x1, tilde_x2, tilde_x3, tilde_x4, lambda_1, lambda_2, lambda_3, lambda_4, lambda_5 = sp.symbols(\n",
    "    r'x y \\tilde{x}_1 \\tilde{x}_2 \\tilde{x}_3 \\tilde{x}_4 \\lambda_1 \\lambda_2 \\lambda_3 \\lambda_4 \\lambda_5', real=True\n",
    ")\n",
    "P = 6*x + 5.5*y\n",
    "phi_1 = -x + 35 + tilde_x1**2\n",
    "phi_2 = x - 45 + tilde_x2**2\n",
    "phi_3 = -y + 40 + tilde_x3**2\n",
    "phi_4 = y - 55 + tilde_x4**2\n",
    "phi_5 = x + y - 80\n",
    "L = -P + lambda_1*phi_1 + lambda_2*phi_2 + lambda_3*phi_3 + lambda_4*phi_4 + lambda_5*phi_5\n",
    "display(\n",
    "    'ФУНКЦИЯ', P,\n",
    "    'ОГРАНИЧЕНИЯ', phi_1, phi_2, phi_3, phi_4, phi_5,\n",
    "    'ФУНКЦИЯ ЛАГРАНЖА', L\n",
    ")\n",
    "part_derivatives = [\n",
    "    sp.diff(L, x), sp.diff(L, y), sp.diff(L, tilde_x1),\n",
    "    sp.diff(L, tilde_x2), sp.diff(L, tilde_x3), sp.diff(L, tilde_x4),\n",
    "    sp.diff(L, lambda_1), sp.diff(L, lambda_2),\n",
    "    sp.diff(L, lambda_3), sp.diff(L, lambda_4), sp.diff(L, lambda_5)\n",
    "]\n",
    "solves = sp.solve(part_derivatives)\n",
    "display('РЕШЕНИЯ')\n",
    "for solve in solves:\n",
    "    print('x=', round(solve[x]), '  y=', round(solve[y]), '     Максимальная прибыль P=', float(P.subs(x, solve[x]).subs(y, solve[y])), sep='')"
   ]
  },
  {
   "cell_type": "markdown",
   "metadata": {},
   "source": [
    "**№5.6**  \n",
    "На текстильной фабрике есть 750 метров хлопка и 1000 метров полиэстера.\n",
    "\n",
    "Для изготовления свитшота требуется 1 метр хлопка и 2 метра полиэстера, для изготовления рубашки — 1.5 метра хлопка и 1 метр полиэстера.\n",
    "\n",
    "Свитшот можно продать за 30 евро, а рубашку — за 24 евро.\n",
    "\n",
    "Какое суммарное количество свитшотов и рубашек максимизирует возможную прибыль?"
   ]
  },
  {
   "cell_type": "markdown",
   "metadata": {},
   "source": [
    "$x$ - количество произведенных свитшотов, $y$ - количество произведенных рубашек.\n",
    "$$ f(x, y) = 30x + 24y $$\n",
    "$$ \\max_{x + 1.5y = 750; \\space 2x + y = 1000}f(x, y) $$\n",
    "$$ \\min_{x + 1.5y - 750 = 0; \\space 2x + y - 1000 = 0}-f(x, y) $$\n"
   ]
  },
  {
   "cell_type": "code",
   "execution_count": 100,
   "metadata": {},
   "outputs": [
    {
     "data": {
      "text/plain": [
       "'ФУНКЦИЯ'"
      ]
     },
     "metadata": {},
     "output_type": "display_data"
    },
    {
     "data": {
      "image/png": "[encoded data removed]",
      "text/latex": [
       "$\\displaystyle 30 x + 24 y$"
      ],
      "text/plain": [
       "30⋅x + 24⋅y"
      ]
     },
     "metadata": {},
     "output_type": "display_data"
    },
    {
     "data": {
      "text/plain": [
       "'ОГРАНИЧЕНИЯ'"
      ]
     },
     "metadata": {},
     "output_type": "display_data"
    },
    {
     "data": {
      "image/png": "[encoded data removed]",
      "text/latex": [
       "$\\displaystyle x + 1.5 y - 750$"
      ],
      "text/plain": [
       "x + 1.5⋅y - 750"
      ]
     },
     "metadata": {},
     "output_type": "display_data"
    },
    {
     "data": {
      "image/png": "[encoded data removed]",
      "text/latex": [
       "$\\displaystyle 2 x + y - 1000$"
      ],
      "text/plain": [
       "2⋅x + y - 1000"
      ]
     },
     "metadata": {},
     "output_type": "display_data"
    },
    {
     "data": {
      "text/plain": [
       "'ФУНКЦИЯ ЛАГРАНЖА'"
      ]
     },
     "metadata": {},
     "output_type": "display_data"
    },
    {
     "data": {
      "image/png": "[encoded data removed]",
      "text/latex": [
       "$\\displaystyle \\lambda_{1} \\left(x + 1.5 y - 750\\right) + \\lambda_{2} \\cdot \\left(2 x + y - 1000\\right) - 30 x - 24 y$"
      ],
      "text/plain": [
       "\\lambda₁⋅(x + 1.5⋅y - 750) + \\lambda₂⋅(2⋅x + y - 1000) - 30⋅x - 24⋅y"
      ]
     },
     "metadata": {},
     "output_type": "display_data"
    },
    {
     "name": "stdout",
     "output_type": "stream",
     "text": [
      "Оптимальное количество свитшотов:  375 \n",
      "Оптимальное количество рубашек:  250 \n",
      "Максимальная выручка:  17250\n"
     ]
    }
   ],
   "source": [
    "x, y = sp.symbols('x y')\n",
    "f = 30*x + 24*y\n",
    "phi_1 = x + 1.5*y - 750\n",
    "phi_2 = 2*x + y - 1000\n",
    "L = -f + lambda_1*phi_1 + lambda_2*phi_2\n",
    "display(\n",
    "    'ФУНКЦИЯ', f,\n",
    "    'ОГРАНИЧЕНИЯ', phi_1, phi_2,\n",
    "    'ФУНКЦИЯ ЛАГРАНЖА', L\n",
    ")\n",
    "part_derivatives = sp.diff(L, x), sp.diff(L, y), sp.diff(L, lambda_1), sp.diff(L, lambda_2)\n",
    "solutions = sp.solve(part_derivatives, dict=True)[0]\n",
    "solutions\n",
    "print(\n",
    "    'Оптимальное количество свитшотов: ', round(solutions[x]),\n",
    "    '\\nОптимальное количество рубашек: ', round(solutions[y]),\n",
    "    '\\nМаксимальная выручка: ', round(f.subs(x, solutions[x]).subs(y, solutions[y]))\n",
    ")"
   ]
  },
  {
   "cell_type": "markdown",
   "metadata": {},
   "source": [
    "# <center>Практика: линейное программирование\n",
    "## SciPy (`scipy.optimize.linprog`)\n",
    "**Пример № 1.**  \n",
    "У нас есть 6 товаров с заданными ценами на них и заданной массой.\n",
    "\n",
    "Вместимость сумки, в которую мы можем положить товары, заранее известна и равна 15 кг.\n",
    "\n",
    "Какой товар и в каком объёме необходимо взять, чтобы сумма всех цен товаров была максимальной?\n",
    "\n"
   ]
  },
  {
   "cell_type": "code",
   "execution_count": 3,
   "metadata": {},
   "outputs": [],
   "source": [
    "values = [4, 2, 1, 7, 3, 6] #стоимости товаров\n",
    "weights = [5, 9, 8, 2, 6, 5] #вес товаров\n",
    "C = 15 #вместимость сумки\n",
    "n = 6 #количество товаров"
   ]
  },
  {
   "cell_type": "markdown",
   "metadata": {},
   "source": [
    "Сформулируем задачу линейного программирования. Максимизируем произведение стоимости на количество, учитывая, что произведение веса на искомое количество товаров должно укладываться во вместимость сумки:\n",
    "\n",
    "$$ \\max \\sum v_ix_i $$\n",
    "$$ \\sum w_ix_i \\leq C $$\n",
    "В векторно-матричной форме наша задача должна формулироваться в следующем виде:\n",
    "$$ \\min c^Tx $$\n",
    "$$ Ax \\leq b $$\n",
    "Получается, что в наших обозначениях мы имеем следующее:\n",
    "$$ c = -v, \\space A = w^T, \\space b = (C) $$\n",
    "Вектор $A$ размера $6$ мы превращаем в матрицу размера $(1,6)$ "
   ]
  },
  {
   "cell_type": "code",
   "execution_count": 11,
   "metadata": {},
   "outputs": [
    {
     "data": {
      "text/plain": [
       "           con: array([], dtype=float64)\n",
       " crossover_nit: 0\n",
       "         eqlin:  marginals: array([], dtype=float64)\n",
       "  residual: array([], dtype=float64)\n",
       "           fun: -52.5\n",
       "       ineqlin:  marginals: array([-3.5])\n",
       "  residual: array([0.])\n",
       "         lower:  marginals: array([13.5, 29.5, 27. ,  0. , 18. , 11.5])\n",
       "  residual: array([0. , 0. , 0. , 7.5, 0. , 0. ])\n",
       "       message: 'Optimization terminated successfully. (HiGHS Status 7: Optimal)'\n",
       "           nit: 0\n",
       "         slack: array([0.])\n",
       "        status: 0\n",
       "       success: True\n",
       "         upper:  marginals: array([0., 0., 0., 0., 0., 0.])\n",
       "  residual: array([inf, inf, inf, inf, inf, inf])\n",
       "             x: array([0. , 0. , 0. , 7.5, 0. , 0. ])"
      ]
     },
     "execution_count": 11,
     "metadata": {},
     "output_type": "execute_result"
    }
   ],
   "source": [
    "c = - np.array(values) #изменяем знак, чтобы перейти от задачи максимизации к задаче минимизации\n",
    "A = np.array(weights).reshape(1, 6)  #конвертируем список с весами в массив\n",
    "b = np.array([C]) #конвертируем вместимость в массив\n",
    "linprog(c=c, A_ub=A, b_ub=b)"
   ]
  },
  {
   "cell_type": "markdown",
   "metadata": {},
   "source": [
    "## CVXPY\n",
    "**Пример № 2.**  \n",
    "Снова решим задачу из примера № 1, но уже предположим, что товары нельзя дробить, и будем решать задачу целочисленного линейного программирования.\n",
    "\n",
    "*SciPy* не умеет решать такие задачи, поэтому будем использовать новую библиотеку *CVXPY*."
   ]
  },
  {
   "cell_type": "code",
   "execution_count": 17,
   "metadata": {},
   "outputs": [
    {
     "data": {
      "text/plain": [
       "array([-0., -0., -0.,  7., -0.,  0.])"
      ]
     },
     "execution_count": 17,
     "metadata": {},
     "output_type": "execute_result"
    }
   ],
   "source": [
    "x = cvxpy.Variable(shape=n, integer=True)\n",
    "x_positive = x >= 0\n",
    "A = A.flatten() # Преобразуем размерность массива\n",
    "constraint = A @ x <= C\n",
    "total_value = x @ c\n",
    "\n",
    "problem = cvxpy.Problem(cvxpy.Minimize(total_value), constraints=[constraint, x_positive])\n",
    "problem.solve()\n",
    "x.value"
   ]
  },
  {
   "cell_type": "markdown",
   "metadata": {},
   "source": [
    "А что если мы можем брать не любое количество товаров, а только один или не брать их вовсе? Задаём $x$ типа `boolean`.\n",
    "$$ x = 0 \\text{ или } x = 1 $$"
   ]
  },
  {
   "cell_type": "code",
   "execution_count": 18,
   "metadata": {},
   "outputs": [
    {
     "data": {
      "text/plain": [
       "array([1., 0., 0., 1., 0., 1.])"
      ]
     },
     "execution_count": 18,
     "metadata": {},
     "output_type": "execute_result"
    }
   ],
   "source": [
    "x = cvxpy.Variable(shape=n, boolean=True)\n",
    "constraint = A @ x <= C\n",
    "x_positive = x >= 0\n",
    "total_value = x @ c\n",
    "\n",
    "problem = cvxpy.Problem(cvxpy.Minimize(total_value), constraints=[constraint, x_positive])\n",
    "problem.solve()\n",
    "x.value\n"
   ]
  },
  {
   "cell_type": "markdown",
   "metadata": {},
   "source": [
    "## PuLP\n",
    "**Пример № 3.**\n",
    "В нашей каршеринговой компании две модели автомобилей: модель $A$ и модель $B$. Автомобиль $A$ даёт прибыль в размере 20 тысяч в месяц, а автомобиль $B$ — 45 тысяч в месяц. Мы хотим заказать на заводе новые автомобили и максимизировать прибыль. Однако на производство и ввод в эксплуатацию автомобилей понадобится время:\n",
    "\n",
    "* Проектировщику требуется 4 дня, чтобы подготовить документы для производства каждого автомобиля типа $A$, и 5 дней — для каждого автомобиля типа $B$.\n",
    "* Заводу требуется 3 дня, чтобы изготовить модель $A$, и 6 дней, чтобы изготовить модель $B$.\n",
    "* Менеджеру требуется 2 дня, чтобы ввести в эксплуатацию в компании автомобиль $A$, и 7 дней —  автомобиль $B$.\n",
    "* Каждый специалист может работать суммарно 30 дней.\n",
    "\n",
    "Целевая функция будет выглядеть следующим образом:\n",
    "$$ f(A, B) = 20.000A + 45.000B $$\n",
    "Также запишем ограничения:\n",
    "$$ A, B \\geq 0 $$\n",
    "$$ 4A + 5B \\leq 30 $$\n",
    "$$ 3A + 6B \\leq 30 $$\n",
    "$$ 2A + 7B \\leq 30 $$"
   ]
  },
  {
   "cell_type": "code",
   "execution_count": 22,
   "metadata": {},
   "outputs": [
    {
     "name": "stdout",
     "output_type": "stream",
     "text": [
      "Количество автомобилей модели А:  1.0\n",
      "Количество автомобилей модели В:  4.0\n",
      "Суммарный доход:  200000.0\n"
     ]
    }
   ],
   "source": [
    "problem = pulp.LpProblem('Производство машин', pulp.LpMaximize)\n",
    "A = pulp.LpVariable('Автомобиль_A', lowBound=0 , cat=pulp.LpInteger)\n",
    "B = pulp.LpVariable('Автомобиль_B', lowBound=0 , cat=pulp.LpInteger)\n",
    "#Целевая функция\n",
    "problem += 20000*A + 45000*B \n",
    "#Ограничения\n",
    "problem += 4*A + 5*B <= 30 \n",
    "problem += 3*A + 6*B <=30\n",
    "problem += 2*A + 7*B <=30\n",
    "problem.solve()\n",
    "print(\"Количество автомобилей модели А: \", A.varValue)\n",
    "print(\"Количество автомобилей модели В: \", B.varValue)\n",
    "print(\"Суммарный доход: \", pulp.value(problem.objective))\n"
   ]
  },
  {
   "attachments": {
    "image.png": {
     "image/png": "[encoded data removed]"
    }
   },
   "cell_type": "markdown",
   "metadata": {},
   "source": [
    "***\n",
    "**№6.1**  \n",
    "Составьте оптимальный план перевозок со склада № 1 и склада № 2 в три торговых центра с учётом тарифов, запасов на складах и потребностей торговых центров, которые указаны в таблице:  \n",
    "![image.png](attachment:image.png)"
   ]
  },
  {
   "cell_type": "markdown",
   "metadata": {},
   "source": [
    "**Функция для минимизации**\n",
    "$$ f(x,y) = 2x_1 + 5x_2 + 3x_3 + 7y_1 + 7y_2 + 6y_3 $$\n",
    "$$ \\min -f(x,y) $$\n",
    "**Ограничения**\n",
    "$$ x_1 \\leq 110 $$\n",
    "$$ x_2 \\leq 150 $$\n",
    "$$ x_3 \\leq 140 $$\n",
    "$$ x_1 + x_2 + x_3 = 180 $$\n",
    "$$ y_1 \\leq 110 $$\n",
    "$$ y_2 \\leq 150 $$\n",
    "$$ y_3 \\leq 140 $$\n",
    "$$ y_1 + y_2 + y_3 = 220 $$\n"
   ]
  },
  {
   "cell_type": "code",
   "execution_count": 49,
   "metadata": {},
   "outputs": [
    {
     "name": "stdout",
     "output_type": "stream",
     "text": [
      "Минимальная суммарная стоимость 1900.0\n"
     ]
    }
   ],
   "source": [
    "problem = pulp.LpProblem('Функция_стоимости_перевозок', sense=pulp.LpMinimize)\n",
    "x1, x2, x3 = pulp.LpVariable('ТЦ1_склад1', lowBound=0, cat=pulp.LpInteger), pulp.LpVariable('ТЦ2_склад1', lowBound=0, cat=pulp.LpInteger), pulp.LpVariable('ТЦ3_склад1', lowBound=0, cat=pulp.LpInteger)\n",
    "y1, y2, y3 = pulp.LpVariable('ТЦ1_склад2', lowBound=0, cat=pulp.LpInteger), pulp.LpVariable('ТЦ2_склад2', lowBound=0, cat=pulp.LpInteger), pulp.LpVariable('ТЦ3_склад2', lowBound=0, cat=pulp.LpInteger)\n",
    "problem += 2*x1 + 5*x2 + 3*x3 + 7*y1 + 7*y2 + 6*y3 # суммарные затраты\n",
    "problem += x1 + x2 + x3 == 180 # максимум товаров на складе 1\n",
    "problem += y1 + y2 + y3 == 220 # максимум товаров на складе 2\n",
    "# необходимость товаров в тц1, тц2, тц3\n",
    "problem += x1 + y1 <= 110  \n",
    "problem += x2 + y2 <= 150\n",
    "problem += x3 + y3 <= 140\n",
    "problem.solve()\n",
    "print('Минимальная суммарная стоимость', problem.objective.value())"
   ]
  }
 ],
 "metadata": {
  "kernelspec": {
   "display_name": "Python 3",
   "language": "python",
   "name": "python3"
  },
  "language_info": {
   "codemirror_mode": {
    "name": "ipython",
    "version": 3
   },
   "file_extension": ".py",
   "mimetype": "text/x-python",
   "name": "python",
   "nbconvert_exporter": "python",
   "pygments_lexer": "ipython3",
   "version": "3.10.8"
  },
  "orig_nbformat": 4
 },
 "nbformat": 4,
 "nbformat_minor": 2
}
