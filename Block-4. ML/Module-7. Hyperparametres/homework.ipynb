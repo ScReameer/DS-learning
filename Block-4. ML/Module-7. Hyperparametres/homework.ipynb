{
 "cells": [
  {
   "attachments": {},
   "cell_type": "markdown",
   "metadata": {},
   "source": [
    "# <center>Использование различных методов оптимизации поиска гиперпараметров модели\n",
    "# <center>Предсказание биологического ответа молекул\n",
    "## Знакомство с данными\n",
    "[kaggle](https://www.kaggle.com/c/bioresponse)"
   ]
  },
  {
   "cell_type": "code",
   "execution_count": 78,
   "metadata": {},
   "outputs": [],
   "source": [
    "import pandas as pd\n",
    "import numpy as np\n",
    "import plotly.io as pio\n",
    "import optuna\n",
    "\n",
    "from sklearn.model_selection import train_test_split, cross_validate, cross_val_score, KFold, GridSearchCV, RandomizedSearchCV\n",
    "from sklearn.linear_model import LogisticRegression\n",
    "from sklearn.ensemble import RandomForestClassifier\n",
    "from sklearn import metrics\n",
    "from hyperopt import hp, fmin, tpe, Trials, space_eval"
   ]
  },
  {
   "cell_type": "code",
   "execution_count": 79,
   "metadata": {},
   "outputs": [],
   "source": [
    "pio.renderers.default = 'png'"
   ]
  },
  {
   "cell_type": "code",
   "execution_count": 2,
   "metadata": {},
   "outputs": [
    {
     "data": {
      "text/html": [
       "<div>\n",
       "<style scoped>\n",
       "    .dataframe tbody tr th:only-of-type {\n",
       "        vertical-align: middle;\n",
       "    }\n",
       "\n",
       "    .dataframe tbody tr th {\n",
       "        vertical-align: top;\n",
       "    }\n",
       "\n",
       "    .dataframe thead th {\n",
       "        text-align: right;\n",
       "    }\n",
       "</style>\n",
       "<table border=\"1\" class=\"dataframe\">\n",
       "  <thead>\n",
       "    <tr style=\"text-align: right;\">\n",
       "      <th></th>\n",
       "      <th>Activity</th>\n",
       "      <th>D1</th>\n",
       "      <th>D2</th>\n",
       "      <th>D3</th>\n",
       "      <th>D4</th>\n",
       "      <th>D5</th>\n",
       "      <th>D6</th>\n",
       "      <th>D7</th>\n",
       "      <th>D8</th>\n",
       "      <th>D9</th>\n",
       "      <th>...</th>\n",
       "      <th>D1767</th>\n",
       "      <th>D1768</th>\n",
       "      <th>D1769</th>\n",
       "      <th>D1770</th>\n",
       "      <th>D1771</th>\n",
       "      <th>D1772</th>\n",
       "      <th>D1773</th>\n",
       "      <th>D1774</th>\n",
       "      <th>D1775</th>\n",
       "      <th>D1776</th>\n",
       "    </tr>\n",
       "  </thead>\n",
       "  <tbody>\n",
       "    <tr>\n",
       "      <th>0</th>\n",
       "      <td>1</td>\n",
       "      <td>0.000000</td>\n",
       "      <td>0.497009</td>\n",
       "      <td>0.10</td>\n",
       "      <td>0.0</td>\n",
       "      <td>0.132956</td>\n",
       "      <td>0.678031</td>\n",
       "      <td>0.273166</td>\n",
       "      <td>0.585445</td>\n",
       "      <td>0.743663</td>\n",
       "      <td>...</td>\n",
       "      <td>0</td>\n",
       "      <td>0</td>\n",
       "      <td>0</td>\n",
       "      <td>0</td>\n",
       "      <td>0</td>\n",
       "      <td>0</td>\n",
       "      <td>0</td>\n",
       "      <td>0</td>\n",
       "      <td>0</td>\n",
       "      <td>0</td>\n",
       "    </tr>\n",
       "    <tr>\n",
       "      <th>1</th>\n",
       "      <td>1</td>\n",
       "      <td>0.366667</td>\n",
       "      <td>0.606291</td>\n",
       "      <td>0.05</td>\n",
       "      <td>0.0</td>\n",
       "      <td>0.111209</td>\n",
       "      <td>0.803455</td>\n",
       "      <td>0.106105</td>\n",
       "      <td>0.411754</td>\n",
       "      <td>0.836582</td>\n",
       "      <td>...</td>\n",
       "      <td>1</td>\n",
       "      <td>1</td>\n",
       "      <td>1</td>\n",
       "      <td>1</td>\n",
       "      <td>0</td>\n",
       "      <td>1</td>\n",
       "      <td>0</td>\n",
       "      <td>0</td>\n",
       "      <td>1</td>\n",
       "      <td>0</td>\n",
       "    </tr>\n",
       "    <tr>\n",
       "      <th>2</th>\n",
       "      <td>1</td>\n",
       "      <td>0.033300</td>\n",
       "      <td>0.480124</td>\n",
       "      <td>0.00</td>\n",
       "      <td>0.0</td>\n",
       "      <td>0.209791</td>\n",
       "      <td>0.610350</td>\n",
       "      <td>0.356453</td>\n",
       "      <td>0.517720</td>\n",
       "      <td>0.679051</td>\n",
       "      <td>...</td>\n",
       "      <td>0</td>\n",
       "      <td>0</td>\n",
       "      <td>0</td>\n",
       "      <td>0</td>\n",
       "      <td>0</td>\n",
       "      <td>0</td>\n",
       "      <td>0</td>\n",
       "      <td>0</td>\n",
       "      <td>0</td>\n",
       "      <td>0</td>\n",
       "    </tr>\n",
       "    <tr>\n",
       "      <th>3</th>\n",
       "      <td>1</td>\n",
       "      <td>0.000000</td>\n",
       "      <td>0.538825</td>\n",
       "      <td>0.00</td>\n",
       "      <td>0.5</td>\n",
       "      <td>0.196344</td>\n",
       "      <td>0.724230</td>\n",
       "      <td>0.235606</td>\n",
       "      <td>0.288764</td>\n",
       "      <td>0.805110</td>\n",
       "      <td>...</td>\n",
       "      <td>0</td>\n",
       "      <td>0</td>\n",
       "      <td>0</td>\n",
       "      <td>0</td>\n",
       "      <td>0</td>\n",
       "      <td>0</td>\n",
       "      <td>0</td>\n",
       "      <td>0</td>\n",
       "      <td>0</td>\n",
       "      <td>0</td>\n",
       "    </tr>\n",
       "    <tr>\n",
       "      <th>4</th>\n",
       "      <td>0</td>\n",
       "      <td>0.100000</td>\n",
       "      <td>0.517794</td>\n",
       "      <td>0.00</td>\n",
       "      <td>0.0</td>\n",
       "      <td>0.494734</td>\n",
       "      <td>0.781422</td>\n",
       "      <td>0.154361</td>\n",
       "      <td>0.303809</td>\n",
       "      <td>0.812646</td>\n",
       "      <td>...</td>\n",
       "      <td>0</td>\n",
       "      <td>0</td>\n",
       "      <td>0</td>\n",
       "      <td>0</td>\n",
       "      <td>0</td>\n",
       "      <td>0</td>\n",
       "      <td>0</td>\n",
       "      <td>0</td>\n",
       "      <td>0</td>\n",
       "      <td>0</td>\n",
       "    </tr>\n",
       "  </tbody>\n",
       "</table>\n",
       "<p>5 rows × 1777 columns</p>\n",
       "</div>"
      ],
      "text/plain": [
       "   Activity        D1        D2    D3   D4        D5        D6        D7  \\\n",
       "0         1  0.000000  0.497009  0.10  0.0  0.132956  0.678031  0.273166   \n",
       "1         1  0.366667  0.606291  0.05  0.0  0.111209  0.803455  0.106105   \n",
       "2         1  0.033300  0.480124  0.00  0.0  0.209791  0.610350  0.356453   \n",
       "3         1  0.000000  0.538825  0.00  0.5  0.196344  0.724230  0.235606   \n",
       "4         0  0.100000  0.517794  0.00  0.0  0.494734  0.781422  0.154361   \n",
       "\n",
       "         D8        D9  ...  D1767  D1768  D1769  D1770  D1771  D1772  D1773  \\\n",
       "0  0.585445  0.743663  ...      0      0      0      0      0      0      0   \n",
       "1  0.411754  0.836582  ...      1      1      1      1      0      1      0   \n",
       "2  0.517720  0.679051  ...      0      0      0      0      0      0      0   \n",
       "3  0.288764  0.805110  ...      0      0      0      0      0      0      0   \n",
       "4  0.303809  0.812646  ...      0      0      0      0      0      0      0   \n",
       "\n",
       "   D1774  D1775  D1776  \n",
       "0      0      0      0  \n",
       "1      0      1      0  \n",
       "2      0      0      0  \n",
       "3      0      0      0  \n",
       "4      0      0      0  \n",
       "\n",
       "[5 rows x 1777 columns]"
      ]
     },
     "execution_count": 2,
     "metadata": {},
     "output_type": "execute_result"
    }
   ],
   "source": [
    "data = pd.read_csv('data/_train_sem09__1_.zip')\n",
    "data.head()"
   ]
  },
  {
   "attachments": {},
   "cell_type": "markdown",
   "metadata": {},
   "source": [
    "* Первый столбец `Activity` содержит экспериментальные данные, описывающие фактический биологический ответ `[0, 1]`; \n",
    "* Остальные столбцы `D1-D1776` представляют собой молекулярные дескрипторы — это вычисляемые свойства, которые могут фиксировать некоторые характеристики молекулы, например размер, форму или состав элементов."
   ]
  },
  {
   "attachments": {},
   "cell_type": "markdown",
   "metadata": {},
   "source": [
    "Проверим пропуски в данных"
   ]
  },
  {
   "cell_type": "code",
   "execution_count": 5,
   "metadata": {},
   "outputs": [
    {
     "data": {
      "text/plain": [
       "Activity    0\n",
       "D1          0\n",
       "D2          0\n",
       "D3          0\n",
       "D4          0\n",
       "dtype: int64"
      ]
     },
     "execution_count": 5,
     "metadata": {},
     "output_type": "execute_result"
    }
   ],
   "source": [
    "data.isna().sum().nlargest(5)"
   ]
  },
  {
   "attachments": {},
   "cell_type": "markdown",
   "metadata": {},
   "source": [
    "Проверим сбалансированность классов"
   ]
  },
  {
   "cell_type": "code",
   "execution_count": 6,
   "metadata": {},
   "outputs": [
    {
     "data": {
      "text/plain": [
       "1    0.542255\n",
       "0    0.457745\n",
       "Name: Activity, dtype: float64"
      ]
     },
     "execution_count": 6,
     "metadata": {},
     "output_type": "execute_result"
    }
   ],
   "source": [
    "data['Activity'].value_counts(normalize=True)"
   ]
  },
  {
   "attachments": {},
   "cell_type": "markdown",
   "metadata": {},
   "source": [
    "Классы сбалансированы, стратификация не понадобится.\n",
    "Т.к. данные предварительно обработаны, сразу же перейдём к этапу построения моделей."
   ]
  },
  {
   "attachments": {},
   "cell_type": "markdown",
   "metadata": {},
   "source": [
    "## Logistic regression\n",
    "### Базовый случай"
   ]
  },
  {
   "cell_type": "code",
   "execution_count": 20,
   "metadata": {},
   "outputs": [
    {
     "name": "stdout",
     "output_type": "stream",
     "text": [
      "CPU times: total: 0 ns\n",
      "Wall time: 0 ns\n",
      "Train F1-score CV: 0.89\n",
      "Validation F1-score CV: 0.78\n",
      "Test F1-score: 0.79\n"
     ]
    }
   ],
   "source": [
    "# Определяем константы для всего проекта\n",
    "RANDOM_STATE = 42\n",
    "TARGET_METRIC = 'f1'\n",
    "N_JOBS = -1\n",
    "# Разделяем выборки\n",
    "X, y = data.drop(columns='Activity'), data['Activity']\n",
    "X_train, X_test, y_train, y_test = train_test_split(X, y, random_state=RANDOM_STATE, test_size=0.2)\n",
    "# Создаем объект кросс валидации\n",
    "kfold = KFold(n_splits=10)\n",
    "# Создаем базовую модель логистической регрессии\n",
    "logreg_model = LogisticRegression(random_state=RANDOM_STATE, n_jobs=N_JOBS)\n",
    "# Считаем метрики кросс-валидации\n",
    "%time\n",
    "cv_metrics = cross_validate(\n",
    "    estimator=logreg_model,\n",
    "    X=X_train,\n",
    "    y=y_train,\n",
    "    cv=kfold,\n",
    "    return_train_score=True,\n",
    "    n_jobs=N_JOBS,\n",
    "    scoring=TARGET_METRIC\n",
    ")\n",
    "# Делаем предсказание для тестовой выборки\n",
    "logreg_model.fit(X_train, y_train)\n",
    "y_test_pred = logreg_model.predict(X_test)\n",
    "\n",
    "print('Train F1-score CV:', cv_metrics['train_score'].mean().round(2))\n",
    "print('Validation F1-score CV:', cv_metrics['test_score'].mean().round(2))\n",
    "print('Test F1-score:', metrics.f1_score(y_test, y_test_pred).round(2))"
   ]
  },
  {
   "attachments": {},
   "cell_type": "markdown",
   "metadata": {},
   "source": [
    "### GridSearchCV"
   ]
  },
  {
   "cell_type": "code",
   "execution_count": 29,
   "metadata": {},
   "outputs": [
    {
     "name": "stdout",
     "output_type": "stream",
     "text": [
      "CPU times: total: 4.11 s\n",
      "Wall time: 10min 51s\n",
      "Best test F1-score on GridSearchCV: 0.8\n",
      "Best params on GridSearchCV: {'C': 0.01, 'penalty': 'l2', 'solver': 'sag'}\n"
     ]
    }
   ],
   "source": [
    "param_grid = [\n",
    "    {\n",
    "        'penalty': np.array(['l2', 'none']),\n",
    "        'solver': np.array(['lbfgs', 'newton-cg', 'sag']),\n",
    "        'C': np.linspace(0.01, 5, 15)\n",
    "    }\n",
    "]\n",
    "# Зададим поменьше фолдов для валидации, чтобы уменьшить время обучения\n",
    "kfold = KFold(n_splits=5)\n",
    "gridsearch = GridSearchCV(\n",
    "    estimator=LogisticRegression(\n",
    "        random_state=RANDOM_STATE,\n",
    "        n_jobs=N_JOBS,\n",
    "        max_iter=500\n",
    "    ),\n",
    "    cv=kfold,\n",
    "    param_grid=param_grid,\n",
    "    n_jobs=N_JOBS\n",
    ")\n",
    "# Обучаем модель на сетке параметров\n",
    "%time gridsearch.fit(X_train, y_train)\n",
    "y_test_pred = gridsearch.predict(X_test)\n",
    "print('Best test F1-score on GridSearchCV:', metrics.f1_score(y_test, y_test_pred).round(2))\n",
    "print('Best params on GridSearchCV:', gridsearch.best_params_)"
   ]
  },
  {
   "attachments": {},
   "cell_type": "markdown",
   "metadata": {},
   "source": [
    "### RandomizedSearchCV"
   ]
  },
  {
   "cell_type": "code",
   "execution_count": 31,
   "metadata": {},
   "outputs": [
    {
     "name": "stdout",
     "output_type": "stream",
     "text": [
      "CPU times: total: 16.5 s\n",
      "Wall time: 4min 1s\n",
      "Best test F1-score on RandomizedSearchCV: 0.78\n",
      "Best params on RandomizedSearchCV: {'solver': 'sag', 'penalty': 'l2', 'C': 3.9307142857142856}\n"
     ]
    },
    {
     "name": "stderr",
     "output_type": "stream",
     "text": [
      "C:\\Users\\sadeyes\\AppData\\Local\\Packages\\PythonSoftwareFoundation.Python.3.10_qbz5n2kfra8p0\\LocalCache\\local-packages\\Python310\\site-packages\\sklearn\\linear_model\\_sag.py:350: ConvergenceWarning: The max_iter was reached which means the coef_ did not converge\n",
      "  warnings.warn(\n"
     ]
    }
   ],
   "source": [
    "rand_gridsearch = RandomizedSearchCV(\n",
    "    estimator=LogisticRegression(\n",
    "        random_state=RANDOM_STATE,\n",
    "        n_jobs=N_JOBS,\n",
    "        max_iter=500\n",
    "    ),\n",
    "    cv=kfold,\n",
    "    param_distributions=param_grid,\n",
    "    n_jobs=N_JOBS,\n",
    "    n_iter=20\n",
    ")\n",
    "# Обучаем модель на сетке параметров\n",
    "%time rand_gridsearch.fit(X_train, y_train)\n",
    "y_test_pred = rand_gridsearch.predict(X_test)\n",
    "print('Best test F1-score on RandomizedSearchCV:', metrics.f1_score(y_test, y_test_pred).round(2))\n",
    "print('Best params on RandomizedSearchCV:', rand_gridsearch.best_params_)"
   ]
  },
  {
   "attachments": {},
   "cell_type": "markdown",
   "metadata": {},
   "source": [
    "### Промежуточный вывод\n",
    ">`GridSearchCV` на тестовой выборке показал результат $F_1 = 0.8$ и потратил 10 минут времени на прогон всех параметров.  \n",
    ">`RandomizedSearchCV` на тестовой выборке показал результат $F_1 = 0.78$ и потратил 4 минуты на 20 итераций.\n",
    "\n",
    "Благодаря `GridSearchCV` можно заметить, что коэффициент регуляризации `C` в данном случае лучше брать $<1$, это улучшает метрику. Будем отталкиваться от этого, подбирая параметры с помощью следующих способов."
   ]
  },
  {
   "attachments": {},
   "cell_type": "markdown",
   "metadata": {},
   "source": [
    "### Hyperopt"
   ]
  },
  {
   "cell_type": "code",
   "execution_count": 55,
   "metadata": {},
   "outputs": [
    {
     "name": "stdout",
     "output_type": "stream",
     "text": [
      "100%|██████████| 40/40 [01:27<00:00,  2.18s/trial, best loss: -0.7852643220890639]\n",
      "Best params Hyperopt: {'C': 0.042219097013541804, 'penalty': 'l2', 'solver': 'lbfgs'}\n"
     ]
    }
   ],
   "source": [
    "def hyperopt_logreg(params, cv=kfold, X=X_train, y=y_train):\n",
    "    model = LogisticRegression(**params, random_state=RANDOM_STATE, n_jobs=N_JOBS)\n",
    "    # кросс-валидация\n",
    "    score = cross_val_score(model, X, y, cv=cv, scoring=TARGET_METRIC, n_jobs=N_JOBS).mean()\n",
    "    # метрику необходимо минимизировать, поэтому ставим знак минус\n",
    "    return -score\n",
    "\n",
    "params = {\n",
    "    'penalty': hp.choice('penalty', ['l2', 'none']),\n",
    "    'solver': hp.choice('solver', ['lbfgs', 'newton-cg', 'sag']),\n",
    "    'C': hp.uniform('C', 0.001, 1)\n",
    "}\n",
    "trials = Trials()\n",
    "\n",
    "best_hp = fmin(\n",
    "    hyperopt_logreg, \n",
    "    space=params,\n",
    "    algo=tpe.suggest,\n",
    "    max_evals=40,\n",
    "    trials=trials, \n",
    "    rstate=np.random.default_rng(RANDOM_STATE)\n",
    ")\n",
    "best_params_hp = space_eval(params, best_hp)\n",
    "print('Best params Hyperopt:', best_params_hp)"
   ]
  },
  {
   "cell_type": "code",
   "execution_count": 56,
   "metadata": {},
   "outputs": [
    {
     "name": "stdout",
     "output_type": "stream",
     "text": [
      "Best test F1-score on Hyperopt: 0.8\n"
     ]
    }
   ],
   "source": [
    "# Подставим лучшие параметры Hyperopt в модель и посчитаем F1-score для тестовой выборки\n",
    "logreg_model = LogisticRegression(\n",
    "    **best_params_hp,\n",
    "    random_state=RANDOM_STATE,\n",
    "    n_jobs=N_JOBS\n",
    ")\n",
    "\n",
    "logreg_model.fit(X_train, y_train)\n",
    "y_test_pred = logreg_model.predict(X_test)\n",
    "print('Best test F1-score on Hyperopt:', metrics.f1_score(y_test, y_test_pred).round(2))"
   ]
  },
  {
   "attachments": {},
   "cell_type": "markdown",
   "metadata": {},
   "source": [
    "### Optuna"
   ]
  },
  {
   "cell_type": "code",
   "execution_count": 57,
   "metadata": {},
   "outputs": [
    {
     "name": "stderr",
     "output_type": "stream",
     "text": [
      "\u001b[32m[I 2023-03-22 19:44:03,826]\u001b[0m A new study created in memory with name: LogisticRegression\u001b[0m\n",
      "\u001b[32m[I 2023-03-22 19:44:08,313]\u001b[0m Trial 0 finished with value: 0.7698427175392597 and parameters: {'penalty': 'none', 'solver': 'sag', 'C': 0.684775781132478}. Best is trial 0 with value: 0.7698427175392597.\u001b[0m\n",
      "\u001b[32m[I 2023-03-22 19:44:36,677]\u001b[0m Trial 1 finished with value: 0.7164780378883997 and parameters: {'penalty': 'none', 'solver': 'newton-cg', 'C': 0.8849063702714159}. Best is trial 0 with value: 0.7698427175392597.\u001b[0m\n",
      "\u001b[32m[I 2023-03-22 19:44:40,273]\u001b[0m Trial 2 finished with value: 0.7821838418407102 and parameters: {'penalty': 'l2', 'solver': 'sag', 'C': 0.07618117154212914}. Best is trial 2 with value: 0.7821838418407102.\u001b[0m\n",
      "\u001b[32m[I 2023-03-22 19:45:06,997]\u001b[0m Trial 3 finished with value: 0.7164780378883997 and parameters: {'penalty': 'none', 'solver': 'newton-cg', 'C': 0.39449748353123953}. Best is trial 2 with value: 0.7821838418407102.\u001b[0m\n",
      "\u001b[32m[I 2023-03-22 19:45:09,795]\u001b[0m Trial 4 finished with value: 0.781433882833453 and parameters: {'penalty': 'l2', 'solver': 'newton-cg', 'C': 0.14855099552489828}. Best is trial 2 with value: 0.7821838418407102.\u001b[0m\n",
      "\u001b[32m[I 2023-03-22 19:45:13,216]\u001b[0m Trial 5 finished with value: 0.7805515383857597 and parameters: {'penalty': 'l2', 'solver': 'sag', 'C': 0.16483372491729456}. Best is trial 2 with value: 0.7821838418407102.\u001b[0m\n",
      "\u001b[32m[I 2023-03-22 19:45:14,579]\u001b[0m Trial 6 finished with value: 0.7572708908022431 and parameters: {'penalty': 'none', 'solver': 'lbfgs', 'C': 0.3463223783066672}. Best is trial 2 with value: 0.7821838418407102.\u001b[0m\n",
      "\u001b[32m[I 2023-03-22 19:45:15,905]\u001b[0m Trial 7 finished with value: 0.7714646442300243 and parameters: {'penalty': 'l2', 'solver': 'lbfgs', 'C': 0.9432322095344778}. Best is trial 2 with value: 0.7821838418407102.\u001b[0m\n",
      "\u001b[32m[I 2023-03-22 19:45:42,590]\u001b[0m Trial 8 finished with value: 0.7164780378883997 and parameters: {'penalty': 'none', 'solver': 'newton-cg', 'C': 0.09115795164580216}. Best is trial 2 with value: 0.7821838418407102.\u001b[0m\n",
      "\u001b[32m[I 2023-03-22 19:45:43,966]\u001b[0m Trial 9 finished with value: 0.7704282097810629 and parameters: {'penalty': 'l2', 'solver': 'lbfgs', 'C': 0.9553669454189662}. Best is trial 2 with value: 0.7821838418407102.\u001b[0m\n",
      "\u001b[32m[I 2023-03-22 19:45:47,247]\u001b[0m Trial 10 finished with value: 0.7858709535089375 and parameters: {'penalty': 'l2', 'solver': 'sag', 'C': 0.04354083564393391}. Best is trial 10 with value: 0.7858709535089375.\u001b[0m\n",
      "\u001b[32m[I 2023-03-22 19:45:48,654]\u001b[0m Trial 11 finished with value: 0.7623342301251403 and parameters: {'penalty': 'l2', 'solver': 'sag', 'C': 0.0026229525714264734}. Best is trial 10 with value: 0.7858709535089375.\u001b[0m\n",
      "\u001b[32m[I 2023-03-22 19:45:49,719]\u001b[0m Trial 12 finished with value: 0.742463425928884 and parameters: {'penalty': 'l2', 'solver': 'sag', 'C': 0.0010473594595246938}. Best is trial 10 with value: 0.7858709535089375.\u001b[0m\n",
      "\u001b[32m[I 2023-03-22 19:45:52,998]\u001b[0m Trial 13 finished with value: 0.7765885687812842 and parameters: {'penalty': 'l2', 'solver': 'sag', 'C': 0.27039123933317727}. Best is trial 10 with value: 0.7858709535089375.\u001b[0m\n",
      "\u001b[32m[I 2023-03-22 19:45:56,265]\u001b[0m Trial 14 finished with value: 0.7715832634542821 and parameters: {'penalty': 'l2', 'solver': 'sag', 'C': 0.524080072266084}. Best is trial 10 with value: 0.7858709535089375.\u001b[0m\n",
      "\u001b[32m[I 2023-03-22 19:45:59,606]\u001b[0m Trial 15 finished with value: 0.7799600807360315 and parameters: {'penalty': 'l2', 'solver': 'sag', 'C': 0.2233672510956647}. Best is trial 10 with value: 0.7858709535089375.\u001b[0m\n",
      "\u001b[32m[I 2023-03-22 19:46:02,985]\u001b[0m Trial 16 finished with value: 0.7811732020175651 and parameters: {'penalty': 'l2', 'solver': 'sag', 'C': 0.09688196256077874}. Best is trial 10 with value: 0.7858709535089375.\u001b[0m\n",
      "\u001b[32m[I 2023-03-22 19:46:06,471]\u001b[0m Trial 17 finished with value: 0.7765885687812842 and parameters: {'penalty': 'l2', 'solver': 'sag', 'C': 0.2717246208719948}. Best is trial 10 with value: 0.7858709535089375.\u001b[0m\n",
      "\u001b[32m[I 2023-03-22 19:46:09,888]\u001b[0m Trial 18 finished with value: 0.7736959504910705 and parameters: {'penalty': 'l2', 'solver': 'sag', 'C': 0.4481338563116196}. Best is trial 10 with value: 0.7858709535089375.\u001b[0m\n",
      "\u001b[32m[I 2023-03-22 19:46:11,169]\u001b[0m Trial 19 finished with value: 0.7804258442000533 and parameters: {'penalty': 'l2', 'solver': 'lbfgs', 'C': 0.08428542999431496}. Best is trial 10 with value: 0.7858709535089375.\u001b[0m\n",
      "\u001b[32m[I 2023-03-22 19:46:14,545]\u001b[0m Trial 20 finished with value: 0.7804031851272654 and parameters: {'penalty': 'l2', 'solver': 'sag', 'C': 0.18851002609032555}. Best is trial 10 with value: 0.7858709535089375.\u001b[0m\n",
      "\u001b[32m[I 2023-03-22 19:46:17,419]\u001b[0m Trial 21 finished with value: 0.7824915639885255 and parameters: {'penalty': 'l2', 'solver': 'newton-cg', 'C': 0.1186307015523536}. Best is trial 10 with value: 0.7858709535089375.\u001b[0m\n",
      "\u001b[32m[I 2023-03-22 19:46:19,132]\u001b[0m Trial 22 finished with value: 0.7744619744994815 and parameters: {'penalty': 'l2', 'solver': 'newton-cg', 'C': 0.00885455994448213}. Best is trial 10 with value: 0.7858709535089375.\u001b[0m\n",
      "\u001b[32m[I 2023-03-22 19:46:22,686]\u001b[0m Trial 23 finished with value: 0.7772506462245312 and parameters: {'penalty': 'l2', 'solver': 'newton-cg', 'C': 0.28818929556629735}. Best is trial 10 with value: 0.7858709535089375.\u001b[0m\n",
      "\u001b[32m[I 2023-03-22 19:46:25,568]\u001b[0m Trial 24 finished with value: 0.7813760207960518 and parameters: {'penalty': 'l2', 'solver': 'newton-cg', 'C': 0.09737726119612707}. Best is trial 10 with value: 0.7858709535089375.\u001b[0m\n",
      "\u001b[32m[I 2023-03-22 19:46:28,880]\u001b[0m Trial 25 finished with value: 0.7790842882535889 and parameters: {'penalty': 'l2', 'solver': 'newton-cg', 'C': 0.19778048729155498}. Best is trial 10 with value: 0.7858709535089375.\u001b[0m\n",
      "\u001b[32m[I 2023-03-22 19:46:32,247]\u001b[0m Trial 26 finished with value: 0.7698427175392597 and parameters: {'penalty': 'none', 'solver': 'sag', 'C': 0.12694258711708953}. Best is trial 10 with value: 0.7858709535089375.\u001b[0m\n",
      "\u001b[32m[I 2023-03-22 19:46:34,936]\u001b[0m Trial 27 finished with value: 0.7830628994478046 and parameters: {'penalty': 'l2', 'solver': 'newton-cg', 'C': 0.06499135462175398}. Best is trial 10 with value: 0.7858709535089375.\u001b[0m\n",
      "\u001b[32m[I 2023-03-22 19:46:38,476]\u001b[0m Trial 28 finished with value: 0.7795605465552599 and parameters: {'penalty': 'l2', 'solver': 'newton-cg', 'C': 0.22507135492962133}. Best is trial 10 with value: 0.7858709535089375.\u001b[0m\n",
      "\u001b[32m[I 2023-03-22 19:47:05,201]\u001b[0m Trial 29 finished with value: 0.7164780378883997 and parameters: {'penalty': 'none', 'solver': 'newton-cg', 'C': 0.549411966252463}. Best is trial 10 with value: 0.7858709535089375.\u001b[0m\n",
      "\u001b[32m[I 2023-03-22 19:47:08,812]\u001b[0m Trial 30 finished with value: 0.7758879205583605 and parameters: {'penalty': 'l2', 'solver': 'newton-cg', 'C': 0.33172867234137504}. Best is trial 10 with value: 0.7858709535089375.\u001b[0m\n",
      "\u001b[32m[I 2023-03-22 19:47:11,217]\u001b[0m Trial 31 finished with value: 0.7818350786825123 and parameters: {'penalty': 'l2', 'solver': 'newton-cg', 'C': 0.059231695535755725}. Best is trial 10 with value: 0.7858709535089375.\u001b[0m\n",
      "\u001b[32m[I 2023-03-22 19:47:14,490]\u001b[0m Trial 32 finished with value: 0.7824749946030153 and parameters: {'penalty': 'l2', 'solver': 'sag', 'C': 0.06232062018368313}. Best is trial 10 with value: 0.7858709535089375.\u001b[0m\n",
      "\u001b[32m[I 2023-03-22 19:47:17,593]\u001b[0m Trial 33 finished with value: 0.7811880370350466 and parameters: {'penalty': 'l2', 'solver': 'newton-cg', 'C': 0.15152870240702349}. Best is trial 10 with value: 0.7858709535089375.\u001b[0m\n",
      "\u001b[32m[I 2023-03-22 19:47:20,958]\u001b[0m Trial 34 finished with value: 0.7698427175392597 and parameters: {'penalty': 'none', 'solver': 'sag', 'C': 0.023377104260678176}. Best is trial 10 with value: 0.7858709535089375.\u001b[0m\n",
      "\u001b[32m[I 2023-03-22 19:47:23,547]\u001b[0m Trial 35 finished with value: 0.7814792658672924 and parameters: {'penalty': 'l2', 'solver': 'newton-cg', 'C': 0.060905780904845434}. Best is trial 10 with value: 0.7858709535089375.\u001b[0m\n",
      "\u001b[32m[I 2023-03-22 19:47:24,905]\u001b[0m Trial 36 finished with value: 0.7830650587197205 and parameters: {'penalty': 'l2', 'solver': 'lbfgs', 'C': 0.1332844260462861}. Best is trial 10 with value: 0.7858709535089375.\u001b[0m\n",
      "\u001b[32m[I 2023-03-22 19:47:26,329]\u001b[0m Trial 37 finished with value: 0.7813017699277313 and parameters: {'penalty': 'l2', 'solver': 'lbfgs', 'C': 0.14656037275458839}. Best is trial 10 with value: 0.7858709535089375.\u001b[0m\n",
      "\u001b[32m[I 2023-03-22 19:47:27,734]\u001b[0m Trial 38 finished with value: 0.7572708908022431 and parameters: {'penalty': 'none', 'solver': 'lbfgs', 'C': 0.1343824709351801}. Best is trial 10 with value: 0.7858709535089375.\u001b[0m\n",
      "\u001b[32m[I 2023-03-22 19:47:29,031]\u001b[0m Trial 39 finished with value: 0.7801953313691358 and parameters: {'penalty': 'l2', 'solver': 'lbfgs', 'C': 0.18664900312152488}. Best is trial 10 with value: 0.7858709535089375.\u001b[0m\n"
     ]
    },
    {
     "name": "stdout",
     "output_type": "stream",
     "text": [
      "Best params Optuna: {'penalty': 'l2', 'solver': 'sag', 'C': 0.04354083564393391}\n",
      "Best test F1-score on Optuna: 0.8\n"
     ]
    },
    {
     "name": "stderr",
     "output_type": "stream",
     "text": [
      "C:\\Users\\sadeyes\\AppData\\Local\\Packages\\PythonSoftwareFoundation.Python.3.10_qbz5n2kfra8p0\\LocalCache\\local-packages\\Python310\\site-packages\\sklearn\\linear_model\\_sag.py:350: ConvergenceWarning: The max_iter was reached which means the coef_ did not converge\n",
      "  warnings.warn(\n"
     ]
    }
   ],
   "source": [
    "def optuna_logreg(trial, cv=kfold, X=X_train, y=y_train):\n",
    "    # задаем пространства поиска гиперпараметров\n",
    "    params = {\n",
    "        'penalty': trial.suggest_categorical('penalty', ['l2', 'none']),\n",
    "        'solver': trial.suggest_categorical('solver', ['lbfgs', 'newton-cg', 'sag']),\n",
    "        'C': trial.suggest_float('C', 0.001, 1)\n",
    "    }\n",
    "    # создаем модель\n",
    "    model = LogisticRegression(\n",
    "        **params,\n",
    "        random_state=RANDOM_STATE,\n",
    "        n_jobs=N_JOBS\n",
    "    )\n",
    "    # кросс-валидация\n",
    "    score = cross_val_score(model, X, y, cv=cv, scoring=TARGET_METRIC, n_jobs=N_JOBS).mean()\n",
    "\n",
    "    return score\n",
    "\n",
    "study = optuna.create_study(study_name='LogisticRegression', direction='maximize')\n",
    "study.optimize(optuna_logreg, n_trials=40)\n",
    "# Обучаем модель на лучших параметрах от Optuna\n",
    "logreg_model = LogisticRegression(\n",
    "    **study.best_params,\n",
    "    random_state=RANDOM_STATE,\n",
    "    n_jobs=N_JOBS\n",
    ")\n",
    "logreg_model.fit(X_train, y_train)\n",
    "y_test_pred = logreg_model.predict(X_test)\n",
    "\n",
    "print('Best params Optuna:', study.best_params)\n",
    "print('Best test F1-score on Optuna:', metrics.f1_score(y_test, y_test_pred).round(2))"
   ]
  },
  {
   "attachments": {},
   "cell_type": "markdown",
   "metadata": {},
   "source": [
    "#### Визуализация оптимизации и самых важных гиперпараметров с помощью Optuna"
   ]
  },
  {
   "cell_type": "code",
   "execution_count": 81,
   "metadata": {},
   "outputs": [
    {
     "data": {
      "image/png": "[encoded data removed]"
     },
     "metadata": {},
     "output_type": "display_data"
    },
    {
     "data": {
      "image/png": "[encoded data removed]"
     },
     "metadata": {},
     "output_type": "display_data"
    }
   ],
   "source": [
    "fig_opt_hist = optuna.visualization.plot_optimization_history(study, target_name=\"f1_score\")\n",
    "fig_param_imp = optuna.visualization.plot_param_importances(study, target_name=\"f1_score\")\n",
    "fig_opt_hist.update_layout(width=900, height=400)\n",
    "fig_param_imp.update_layout(width=900, height=400)\n",
    "fig_opt_hist.show()\n",
    "fig_param_imp.show()"
   ]
  },
  {
   "attachments": {},
   "cell_type": "markdown",
   "metadata": {},
   "source": [
    "### Промежуточный вывод\n",
    "По целевой метрике на тестовой выборке `Optuna` и `Hyperopt` не отличаются от `GridSearchCV`, однако занимают гораздо меньше времени. `RandomSearchCV` показал результат $F_1$ хуже на $0.02$.  \n",
    "От параметра `solver` практически ничего не зависит в данном случае.\n",
    "Что `sag`, что `lbfgs` показывают одинаковый результат, а `newton-cg` не был выбран ни одним методом в словарь лучших гиперпараметров.  \n",
    "Наилучшим типом регуляризации `penalty` был выбран `l2` во всех методах оптимизации."
   ]
  },
  {
   "attachments": {},
   "cell_type": "markdown",
   "metadata": {},
   "source": [
    "## Random forest\n",
    "### Базовый случай"
   ]
  },
  {
   "cell_type": "code",
   "execution_count": 58,
   "metadata": {},
   "outputs": [
    {
     "name": "stdout",
     "output_type": "stream",
     "text": [
      "Train F1-score CV RandomForest: 1.0\n",
      "Validation F1-score CV RandomForest: 0.81\n",
      "Test F1-score RandomForest: 0.83\n"
     ]
    }
   ],
   "source": [
    "rf_model = RandomForestClassifier(\n",
    "    random_state=RANDOM_STATE,\n",
    "    n_jobs=N_JOBS\n",
    ")\n",
    "# Кросс-валидация\n",
    "cv_metrics = cross_validate(\n",
    "    rf_model,\n",
    "    X=X_train,\n",
    "    y=y_train,\n",
    "    scoring=TARGET_METRIC,\n",
    "    cv=kfold,\n",
    "    return_train_score=True,\n",
    "    n_jobs=N_JOBS\n",
    ")\n",
    "rf_model.fit(X_train, y_train)\n",
    "y_test_pred = rf_model.predict(X_test)\n",
    "\n",
    "print('Train F1-score CV RandomForest:', cv_metrics['train_score'].mean().round(2))\n",
    "print('Validation F1-score CV RandomForest:', cv_metrics['test_score'].mean().round(2))\n",
    "print('Test F1-score RandomForest:', metrics.f1_score(y_test, y_test_pred).round(2))"
   ]
  },
  {
   "attachments": {},
   "cell_type": "markdown",
   "metadata": {},
   "source": [
    "### GridSearchCV"
   ]
  },
  {
   "cell_type": "code",
   "execution_count": 74,
   "metadata": {},
   "outputs": [
    {
     "name": "stdout",
     "output_type": "stream",
     "text": [
      "CPU times: total: 17.8 s\n",
      "Wall time: 5min 3s\n",
      "Best params for RandomForest on GridSearchCV: {'criterion': 'entropy', 'max_depth': 15, 'min_samples_leaf': 1}\n",
      "Best CV F1-score for RandomForest on GridSearchCV: 0.81\n",
      "Best test F1-score for RandomForest on GridSearchCV: 0.84\n"
     ]
    }
   ],
   "source": [
    "param_grid = {\n",
    "    'criterion': np.array(['gini', 'entropy']),\n",
    "    'max_depth': np.arange(5, 16),\n",
    "    'min_samples_leaf': np.array([1, 5, 20])\n",
    "}\n",
    "\n",
    "gridsearch_rf = GridSearchCV(\n",
    "    estimator=RandomForestClassifier(\n",
    "        random_state=RANDOM_STATE,\n",
    "        n_jobs=N_JOBS\n",
    "    ),\n",
    "    param_grid=param_grid,\n",
    "    scoring=TARGET_METRIC,\n",
    "    cv=kfold,\n",
    "    n_jobs=N_JOBS\n",
    ")\n",
    "\n",
    "%time gridsearch_rf.fit(X_train, y_train)\n",
    "y_test_pred = gridsearch_rf.predict(X_test)\n",
    "\n",
    "print('Best params for RandomForest on GridSearchCV:', gridsearch_rf.best_params_)\n",
    "print('Best CV F1-score for RandomForest on GridSearchCV:', gridsearch_rf.best_score_.round(2))\n",
    "print('Best test F1-score for RandomForest on GridSearchCV:', metrics.f1_score(y_test, y_test_pred).round(2))"
   ]
  },
  {
   "attachments": {},
   "cell_type": "markdown",
   "metadata": {},
   "source": [
    "### RandomizedSearchCV"
   ]
  },
  {
   "cell_type": "code",
   "execution_count": 82,
   "metadata": {},
   "outputs": [
    {
     "name": "stdout",
     "output_type": "stream",
     "text": [
      "CPU times: total: 17.5 s\n",
      "Wall time: 3min 48s\n",
      "Best params for RandomForest on RandomizedSearchCV: {'min_samples_leaf': 1, 'max_depth': 15, 'criterion': 'entropy'}\n",
      "Best CV F1-score for RandomForest on RandomizedSearchCV: 0.81\n",
      "Best test F1-score for RandomForest on RandomizedSearchCV: 0.84\n"
     ]
    }
   ],
   "source": [
    "randsearch_rf = RandomizedSearchCV(\n",
    "    estimator=RandomForestClassifier(\n",
    "        random_state=RANDOM_STATE,\n",
    "        n_jobs=N_JOBS\n",
    "    ),\n",
    "    param_distributions=param_grid,\n",
    "    scoring=TARGET_METRIC,\n",
    "    cv=kfold,\n",
    "    n_jobs=N_JOBS,\n",
    "    n_iter=50\n",
    ")\n",
    "\n",
    "%time randsearch_rf.fit(X_train, y_train)\n",
    "y_test_pred = randsearch_rf.predict(X_test)\n",
    "\n",
    "print('Best params for RandomForest on RandomizedSearchCV:', randsearch_rf.best_params_)\n",
    "print('Best CV F1-score for RandomForest on RandomizedSearchCV:', randsearch_rf.best_score_.round(2))\n",
    "print('Best test F1-score for RandomForest on RandomizedSearchCV:', metrics.f1_score(y_test, y_test_pred).round(2))"
   ]
  },
  {
   "attachments": {},
   "cell_type": "markdown",
   "metadata": {},
   "source": [
    "### Промежуточный вывод\n",
    "`RandomizedSearchCV` показал себя лучше, чем `GridSearchCV`, т.к. выдал аналогичный результат, потратив меньше времени.\n",
    "### Hyperopt "
   ]
  },
  {
   "cell_type": "code",
   "execution_count": 88,
   "metadata": {},
   "outputs": [
    {
     "name": "stdout",
     "output_type": "stream",
     "text": [
      "100%|██████████| 50/50 [06:10<00:00,  7.40s/trial, best loss: -0.81014356583591]  \n",
      "Best params Hyperopt: {'criterion': 'gini', 'max_depth': 13, 'min_samples_leaf': 2, 'n_estimators': 150}\n",
      "Best test F1-score on Hyperopt: 0.83\n"
     ]
    }
   ],
   "source": [
    "def hyperopt_rf(params, cv=kfold, X=X_train, y=y_train):  \n",
    "    model = RandomForestClassifier(**params, random_state=RANDOM_STATE, n_jobs=N_JOBS)\n",
    "    # кросс-валидация\n",
    "    score = cross_val_score(model, X, y, cv=cv, scoring=TARGET_METRIC, n_jobs=N_JOBS).mean()\n",
    "    # метрику необходимо минимизировать, поэтому ставим знак минус\n",
    "    return -score\n",
    "\n",
    "params = {\n",
    "    'criterion': hp.choice('criterion', ['gini', 'entropy']),\n",
    "    'max_depth': hp.choice('max_depth', np.arange(5, 16)),\n",
    "    'min_samples_leaf': hp.choice('min_samples_leaf', np.arange(1, 21)),\n",
    "    'n_estimators': hp.choice('n_estimators', np.arange(50, 251, 50))\n",
    "}\n",
    "trials = Trials()\n",
    "\n",
    "best_hp = fmin(\n",
    "    hyperopt_rf, \n",
    "    space=params,\n",
    "    algo=tpe.suggest,\n",
    "    max_evals=50,\n",
    "    trials=trials, \n",
    "    rstate=np.random.default_rng(RANDOM_STATE)\n",
    ")\n",
    "best_params_hp = space_eval(params, best_hp)\n",
    "# Создаем модель с лучшими параметрами от Hyperopt и обучаем\n",
    "rf_model = RandomForestClassifier(\n",
    "    **best_params_hp,\n",
    "    random_state=RANDOM_STATE,\n",
    "    n_jobs=N_JOBS\n",
    ")\n",
    "\n",
    "rf_model.fit(X_train, y_train)\n",
    "y_test_pred = rf_model.predict(X_test)\n",
    "\n",
    "print('Best params Hyperopt:', best_params_hp)\n",
    "print('Best test F1-score on Hyperopt:', metrics.f1_score(y_test, y_test_pred).round(2))"
   ]
  },
  {
   "attachments": {},
   "cell_type": "markdown",
   "metadata": {},
   "source": [
    "### Optuna"
   ]
  },
  {
   "cell_type": "code",
   "execution_count": 89,
   "metadata": {},
   "outputs": [
    {
     "name": "stderr",
     "output_type": "stream",
     "text": [
      "\u001b[32m[I 2023-03-22 22:24:35,899]\u001b[0m A new study created in memory with name: RandomForestClassifier\u001b[0m\n",
      "C:\\Users\\sadeyes\\AppData\\Local\\Packages\\PythonSoftwareFoundation.Python.3.10_qbz5n2kfra8p0\\LocalCache\\local-packages\\Python310\\site-packages\\optuna\\distributions.py:716: UserWarning:\n",
      "\n",
      "The distribution is specified by [50, 251] and step=50, but the range is not divisible by `step`. It will be replaced by [50, 250].\n",
      "\n",
      "\u001b[32m[I 2023-03-22 22:24:42,224]\u001b[0m Trial 0 finished with value: 0.7681744624526841 and parameters: {'criterion': 'gini', 'max_depth': 7, 'min_samples_leaf': 11, 'n_estimators': 100}. Best is trial 0 with value: 0.7681744624526841.\u001b[0m\n",
      "\u001b[32m[I 2023-03-22 22:24:47,715]\u001b[0m Trial 1 finished with value: 0.7815878382258092 and parameters: {'criterion': 'gini', 'max_depth': 11, 'min_samples_leaf': 14, 'n_estimators': 100}. Best is trial 1 with value: 0.7815878382258092.\u001b[0m\n",
      "\u001b[32m[I 2023-03-22 22:24:50,703]\u001b[0m Trial 2 finished with value: 0.7964954985549216 and parameters: {'criterion': 'gini', 'max_depth': 10, 'min_samples_leaf': 2, 'n_estimators': 50}. Best is trial 2 with value: 0.7964954985549216.\u001b[0m\n",
      "\u001b[32m[I 2023-03-22 22:25:01,855]\u001b[0m Trial 3 finished with value: 0.7778002999057946 and parameters: {'criterion': 'gini', 'max_depth': 7, 'min_samples_leaf': 5, 'n_estimators': 250}. Best is trial 2 with value: 0.7964954985549216.\u001b[0m\n",
      "\u001b[32m[I 2023-03-22 22:25:11,364]\u001b[0m Trial 4 finished with value: 0.7810610564340685 and parameters: {'criterion': 'entropy', 'max_depth': 11, 'min_samples_leaf': 16, 'n_estimators': 200}. Best is trial 2 with value: 0.7964954985549216.\u001b[0m\n",
      "\u001b[32m[I 2023-03-22 22:25:16,330]\u001b[0m Trial 5 finished with value: 0.7836535604116038 and parameters: {'criterion': 'entropy', 'max_depth': 9, 'min_samples_leaf': 10, 'n_estimators': 100}. Best is trial 2 with value: 0.7964954985549216.\u001b[0m\n",
      "\u001b[32m[I 2023-03-22 22:25:18,965]\u001b[0m Trial 6 finished with value: 0.7742844520047697 and parameters: {'criterion': 'gini', 'max_depth': 14, 'min_samples_leaf': 18, 'n_estimators': 50}. Best is trial 2 with value: 0.7964954985549216.\u001b[0m\n",
      "\u001b[32m[I 2023-03-22 22:25:28,273]\u001b[0m Trial 7 finished with value: 0.7742589539677593 and parameters: {'criterion': 'entropy', 'max_depth': 8, 'min_samples_leaf': 15, 'n_estimators': 200}. Best is trial 2 with value: 0.7964954985549216.\u001b[0m\n",
      "\u001b[32m[I 2023-03-22 22:25:33,269]\u001b[0m Trial 8 finished with value: 0.7862885950148442 and parameters: {'criterion': 'gini', 'max_depth': 16, 'min_samples_leaf': 13, 'n_estimators': 100}. Best is trial 2 with value: 0.7964954985549216.\u001b[0m\n",
      "\u001b[32m[I 2023-03-22 22:25:38,057]\u001b[0m Trial 9 finished with value: 0.7719004971240744 and parameters: {'criterion': 'gini', 'max_depth': 14, 'min_samples_leaf': 19, 'n_estimators': 100}. Best is trial 2 with value: 0.7964954985549216.\u001b[0m\n",
      "\u001b[32m[I 2023-03-22 22:25:40,402]\u001b[0m Trial 10 finished with value: 0.7493439178519594 and parameters: {'criterion': 'entropy', 'max_depth': 5, 'min_samples_leaf': 1, 'n_estimators': 50}. Best is trial 2 with value: 0.7964954985549216.\u001b[0m\n",
      "\u001b[32m[I 2023-03-22 22:25:43,123]\u001b[0m Trial 11 finished with value: 0.7972801548822626 and parameters: {'criterion': 'gini', 'max_depth': 16, 'min_samples_leaf': 7, 'n_estimators': 50}. Best is trial 11 with value: 0.7972801548822626.\u001b[0m\n",
      "\u001b[32m[I 2023-03-22 22:25:46,009]\u001b[0m Trial 12 finished with value: 0.8012075390322538 and parameters: {'criterion': 'gini', 'max_depth': 13, 'min_samples_leaf': 6, 'n_estimators': 50}. Best is trial 12 with value: 0.8012075390322538.\u001b[0m\n",
      "\u001b[32m[I 2023-03-22 22:25:53,477]\u001b[0m Trial 13 finished with value: 0.7996902631640799 and parameters: {'criterion': 'gini', 'max_depth': 16, 'min_samples_leaf': 7, 'n_estimators': 150}. Best is trial 12 with value: 0.8012075390322538.\u001b[0m\n",
      "\u001b[32m[I 2023-03-22 22:26:00,885]\u001b[0m Trial 14 finished with value: 0.7919032663334686 and parameters: {'criterion': 'gini', 'max_depth': 13, 'min_samples_leaf': 7, 'n_estimators': 150}. Best is trial 12 with value: 0.8012075390322538.\u001b[0m\n",
      "\u001b[32m[I 2023-03-22 22:26:08,412]\u001b[0m Trial 15 finished with value: 0.7986324865528452 and parameters: {'criterion': 'gini', 'max_depth': 13, 'min_samples_leaf': 4, 'n_estimators': 150}. Best is trial 12 with value: 0.8012075390322538.\u001b[0m\n",
      "\u001b[32m[I 2023-03-22 22:26:18,222]\u001b[0m Trial 16 finished with value: 0.7959817476090031 and parameters: {'criterion': 'gini', 'max_depth': 15, 'min_samples_leaf': 8, 'n_estimators': 200}. Best is trial 12 with value: 0.8012075390322538.\u001b[0m\n",
      "\u001b[32m[I 2023-03-22 22:26:25,806]\u001b[0m Trial 17 finished with value: 0.7964417608479242 and parameters: {'criterion': 'gini', 'max_depth': 12, 'min_samples_leaf': 4, 'n_estimators': 150}. Best is trial 12 with value: 0.8012075390322538.\u001b[0m\n",
      "\u001b[32m[I 2023-03-22 22:26:35,739]\u001b[0m Trial 18 finished with value: 0.7955183509708694 and parameters: {'criterion': 'entropy', 'max_depth': 15, 'min_samples_leaf': 9, 'n_estimators': 200}. Best is trial 12 with value: 0.8012075390322538.\u001b[0m\n",
      "\u001b[32m[I 2023-03-22 22:26:46,975]\u001b[0m Trial 19 finished with value: 0.7733877196471772 and parameters: {'criterion': 'gini', 'max_depth': 13, 'min_samples_leaf': 21, 'n_estimators': 250}. Best is trial 12 with value: 0.8012075390322538.\u001b[0m\n",
      "\u001b[32m[I 2023-03-22 22:26:54,541]\u001b[0m Trial 20 finished with value: 0.8023959503794241 and parameters: {'criterion': 'gini', 'max_depth': 15, 'min_samples_leaf': 6, 'n_estimators': 150}. Best is trial 20 with value: 0.8023959503794241.\u001b[0m\n",
      "\u001b[32m[I 2023-03-22 22:27:02,009]\u001b[0m Trial 21 finished with value: 0.8023959503794241 and parameters: {'criterion': 'gini', 'max_depth': 15, 'min_samples_leaf': 6, 'n_estimators': 150}. Best is trial 20 with value: 0.8023959503794241.\u001b[0m\n",
      "\u001b[32m[I 2023-03-22 22:27:09,589]\u001b[0m Trial 22 finished with value: 0.8019418708281336 and parameters: {'criterion': 'gini', 'max_depth': 14, 'min_samples_leaf': 5, 'n_estimators': 150}. Best is trial 20 with value: 0.8023959503794241.\u001b[0m\n",
      "\u001b[32m[I 2023-03-22 22:27:17,351]\u001b[0m Trial 23 finished with value: 0.8067160308531909 and parameters: {'criterion': 'gini', 'max_depth': 15, 'min_samples_leaf': 3, 'n_estimators': 150}. Best is trial 23 with value: 0.8067160308531909.\u001b[0m\n",
      "\u001b[32m[I 2023-03-22 22:27:27,775]\u001b[0m Trial 24 finished with value: 0.8070424472909499 and parameters: {'criterion': 'gini', 'max_depth': 15, 'min_samples_leaf': 1, 'n_estimators': 200}. Best is trial 24 with value: 0.8070424472909499.\u001b[0m\n",
      "\u001b[32m[I 2023-03-22 22:27:38,042]\u001b[0m Trial 25 finished with value: 0.8118529914476875 and parameters: {'criterion': 'gini', 'max_depth': 15, 'min_samples_leaf': 2, 'n_estimators': 200}. Best is trial 25 with value: 0.8118529914476875.\u001b[0m\n",
      "\u001b[32m[I 2023-03-22 22:27:48,388]\u001b[0m Trial 26 finished with value: 0.808617316034194 and parameters: {'criterion': 'entropy', 'max_depth': 12, 'min_samples_leaf': 2, 'n_estimators': 200}. Best is trial 25 with value: 0.8118529914476875.\u001b[0m\n",
      "\u001b[32m[I 2023-03-22 22:28:01,310]\u001b[0m Trial 27 finished with value: 0.8097294826078857 and parameters: {'criterion': 'entropy', 'max_depth': 12, 'min_samples_leaf': 1, 'n_estimators': 250}. Best is trial 25 with value: 0.8118529914476875.\u001b[0m\n",
      "\u001b[32m[I 2023-03-22 22:28:14,108]\u001b[0m Trial 28 finished with value: 0.8057181788081529 and parameters: {'criterion': 'entropy', 'max_depth': 12, 'min_samples_leaf': 3, 'n_estimators': 250}. Best is trial 25 with value: 0.8118529914476875.\u001b[0m\n",
      "\u001b[32m[I 2023-03-22 22:28:26,554]\u001b[0m Trial 29 finished with value: 0.8046880252859309 and parameters: {'criterion': 'entropy', 'max_depth': 10, 'min_samples_leaf': 1, 'n_estimators': 250}. Best is trial 25 with value: 0.8118529914476875.\u001b[0m\n",
      "\u001b[32m[I 2023-03-22 22:28:36,278]\u001b[0m Trial 30 finished with value: 0.7855056420558922 and parameters: {'criterion': 'entropy', 'max_depth': 12, 'min_samples_leaf': 11, 'n_estimators': 200}. Best is trial 25 with value: 0.8118529914476875.\u001b[0m\n",
      "\u001b[32m[I 2023-03-22 22:28:46,639]\u001b[0m Trial 31 finished with value: 0.8055670003717916 and parameters: {'criterion': 'entropy', 'max_depth': 11, 'min_samples_leaf': 1, 'n_estimators': 200}. Best is trial 25 with value: 0.8118529914476875.\u001b[0m\n",
      "\u001b[32m[I 2023-03-22 22:28:59,572]\u001b[0m Trial 32 finished with value: 0.8075123377361756 and parameters: {'criterion': 'entropy', 'max_depth': 14, 'min_samples_leaf': 3, 'n_estimators': 250}. Best is trial 25 with value: 0.8118529914476875.\u001b[0m\n",
      "\u001b[32m[I 2023-03-22 22:29:12,258]\u001b[0m Trial 33 finished with value: 0.8057181788081529 and parameters: {'criterion': 'entropy', 'max_depth': 12, 'min_samples_leaf': 3, 'n_estimators': 250}. Best is trial 25 with value: 0.8118529914476875.\u001b[0m\n",
      "\u001b[32m[I 2023-03-22 22:29:24,731]\u001b[0m Trial 34 finished with value: 0.7991510836344081 and parameters: {'criterion': 'entropy', 'max_depth': 10, 'min_samples_leaf': 2, 'n_estimators': 250}. Best is trial 25 with value: 0.8118529914476875.\u001b[0m\n",
      "\u001b[32m[I 2023-03-22 22:29:37,645]\u001b[0m Trial 35 finished with value: 0.8055457642374433 and parameters: {'criterion': 'entropy', 'max_depth': 14, 'min_samples_leaf': 4, 'n_estimators': 250}. Best is trial 25 with value: 0.8118529914476875.\u001b[0m\n",
      "\u001b[32m[I 2023-03-22 22:29:50,683]\u001b[0m Trial 36 finished with value: 0.8066759679323134 and parameters: {'criterion': 'entropy', 'max_depth': 11, 'min_samples_leaf': 2, 'n_estimators': 250}. Best is trial 25 with value: 0.8118529914476875.\u001b[0m\n",
      "\u001b[32m[I 2023-03-22 22:30:00,607]\u001b[0m Trial 37 finished with value: 0.7930318902588328 and parameters: {'criterion': 'entropy', 'max_depth': 9, 'min_samples_leaf': 2, 'n_estimators': 200}. Best is trial 25 with value: 0.8118529914476875.\u001b[0m\n",
      "\u001b[32m[I 2023-03-22 22:30:13,617]\u001b[0m Trial 38 finished with value: 0.8032341448988862 and parameters: {'criterion': 'entropy', 'max_depth': 13, 'min_samples_leaf': 4, 'n_estimators': 250}. Best is trial 25 with value: 0.8118529914476875.\u001b[0m\n",
      "\u001b[32m[I 2023-03-22 22:30:23,555]\u001b[0m Trial 39 finished with value: 0.7856335124557428 and parameters: {'criterion': 'entropy', 'max_depth': 14, 'min_samples_leaf': 13, 'n_estimators': 200}. Best is trial 25 with value: 0.8118529914476875.\u001b[0m\n",
      "\u001b[32m[I 2023-03-22 22:30:36,124]\u001b[0m Trial 40 finished with value: 0.7956934389739637 and parameters: {'criterion': 'entropy', 'max_depth': 11, 'min_samples_leaf': 5, 'n_estimators': 250}. Best is trial 25 with value: 0.8118529914476875.\u001b[0m\n",
      "\u001b[32m[I 2023-03-22 22:30:47,055]\u001b[0m Trial 41 finished with value: 0.8104638610072724 and parameters: {'criterion': 'entropy', 'max_depth': 16, 'min_samples_leaf': 1, 'n_estimators': 200}. Best is trial 25 with value: 0.8118529914476875.\u001b[0m\n",
      "\u001b[32m[I 2023-03-22 22:30:57,633]\u001b[0m Trial 42 finished with value: 0.8129748437281643 and parameters: {'criterion': 'entropy', 'max_depth': 16, 'min_samples_leaf': 2, 'n_estimators': 200}. Best is trial 42 with value: 0.8129748437281643.\u001b[0m\n",
      "\u001b[32m[I 2023-03-22 22:31:08,225]\u001b[0m Trial 43 finished with value: 0.8129748437281643 and parameters: {'criterion': 'entropy', 'max_depth': 16, 'min_samples_leaf': 2, 'n_estimators': 200}. Best is trial 42 with value: 0.8129748437281643.\u001b[0m\n",
      "\u001b[32m[I 2023-03-22 22:31:18,930]\u001b[0m Trial 44 finished with value: 0.8104638610072724 and parameters: {'criterion': 'entropy', 'max_depth': 16, 'min_samples_leaf': 1, 'n_estimators': 200}. Best is trial 42 with value: 0.8129748437281643.\u001b[0m\n",
      "\u001b[32m[I 2023-03-22 22:31:29,511]\u001b[0m Trial 45 finished with value: 0.8129748437281643 and parameters: {'criterion': 'entropy', 'max_depth': 16, 'min_samples_leaf': 2, 'n_estimators': 200}. Best is trial 42 with value: 0.8129748437281643.\u001b[0m\n",
      "\u001b[32m[I 2023-03-22 22:31:39,834]\u001b[0m Trial 46 finished with value: 0.8036378448877995 and parameters: {'criterion': 'entropy', 'max_depth': 16, 'min_samples_leaf': 5, 'n_estimators': 200}. Best is trial 42 with value: 0.8129748437281643.\u001b[0m\n",
      "\u001b[32m[I 2023-03-22 22:31:50,412]\u001b[0m Trial 47 finished with value: 0.8126049475836202 and parameters: {'criterion': 'entropy', 'max_depth': 16, 'min_samples_leaf': 2, 'n_estimators': 200}. Best is trial 42 with value: 0.8129748437281643.\u001b[0m\n",
      "\u001b[32m[I 2023-03-22 22:32:00,943]\u001b[0m Trial 48 finished with value: 0.8082332119734399 and parameters: {'criterion': 'entropy', 'max_depth': 16, 'min_samples_leaf': 3, 'n_estimators': 200}. Best is trial 42 with value: 0.8129748437281643.\u001b[0m\n",
      "\u001b[32m[I 2023-03-22 22:32:09,041]\u001b[0m Trial 49 finished with value: 0.7503710553820427 and parameters: {'criterion': 'entropy', 'max_depth': 5, 'min_samples_leaf': 9, 'n_estimators': 200}. Best is trial 42 with value: 0.8129748437281643.\u001b[0m\n"
     ]
    },
    {
     "name": "stdout",
     "output_type": "stream",
     "text": [
      "Best params Optuna: {'criterion': 'entropy', 'max_depth': 16, 'min_samples_leaf': 2, 'n_estimators': 200}\n",
      "Best test F1-score on Optuna: 0.84\n"
     ]
    }
   ],
   "source": [
    "def optuna_rf(trial, cv=kfold, X=X_train, y=y_train):\n",
    "    # задаем пространства поиска гиперпараметров\n",
    "    params = {\n",
    "        'criterion': trial.suggest_categorical('criterion', ['gini', 'entropy']),\n",
    "        'max_depth': trial.suggest_int('max_depth', 5, 16),\n",
    "        'min_samples_leaf': trial.suggest_int('min_samples_leaf', 1, 21),\n",
    "        'n_estimators': trial.suggest_int('n_estimators', 50, 251, step=50)\n",
    "    }\n",
    "    # создаем модель\n",
    "    model = RandomForestClassifier(\n",
    "        **params,\n",
    "        random_state=RANDOM_STATE,\n",
    "        n_jobs=N_JOBS\n",
    "    )\n",
    "    # кросс-валидация\n",
    "    score = cross_val_score(model, X, y, cv=cv, scoring=TARGET_METRIC, n_jobs=N_JOBS).mean()\n",
    "\n",
    "    return score\n",
    "\n",
    "study = optuna.create_study(study_name='RandomForestClassifier', direction='maximize')\n",
    "study.optimize(optuna_rf, n_trials=50)\n",
    "# Обучаем модель на лучших параметрах от Optuna\n",
    "rf_model = RandomForestClassifier(\n",
    "    **study.best_params,\n",
    "    random_state=RANDOM_STATE,\n",
    "    n_jobs=N_JOBS\n",
    ")\n",
    "rf_model.fit(X_train, y_train)\n",
    "y_test_pred = rf_model.predict(X_test)\n",
    "\n",
    "print('Best params Optuna:', study.best_params)\n",
    "print('Best test F1-score on Optuna:', metrics.f1_score(y_test, y_test_pred).round(2))"
   ]
  },
  {
   "attachments": {},
   "cell_type": "markdown",
   "metadata": {},
   "source": [
    "#### Визуализация оптимизации и самых важных гиперпараметров с помощью Optuna"
   ]
  },
  {
   "cell_type": "code",
   "execution_count": 90,
   "metadata": {},
   "outputs": [
    {
     "data": {
      "image/png": "[encoded data removed]"
     },
     "metadata": {},
     "output_type": "display_data"
    },
    {
     "data": {
      "image/png": "[encoded data removed]"
     },
     "metadata": {},
     "output_type": "display_data"
    }
   ],
   "source": [
    "fig_opt_hist = optuna.visualization.plot_optimization_history(study, target_name=\"f1_score\")\n",
    "fig_param_imp = optuna.visualization.plot_param_importances(study, target_name=\"f1_score\")\n",
    "fig_opt_hist.update_layout(width=900, height=400)\n",
    "fig_param_imp.update_layout(width=900, height=400)\n",
    "fig_opt_hist.show()\n",
    "fig_param_imp.show()"
   ]
  },
  {
   "attachments": {},
   "cell_type": "markdown",
   "metadata": {},
   "source": [
    "## Выводы по проделанной работе\n",
    "* `GridSearchCV` очень полезен, если нужно перебрать все возможные варианты, и у нас есть достаточно времени на это;\n",
    "* `RandomSearchCV` позволяет выбрать приблизительные значения для гиперпараметров, которые дадут наиболее высокую метрику из всех случайных итераций, после чего отталкиваться на основе этих значений, например, с помощью более продвинутых методов;\n",
    "* `Hyperopt` и `Optuna` очень похожи между собой как по скорости, так и по алгоритму работы, но `Optuna` имеет более *user-friendly* документацию и менее сложен в реализации, чем `Hyperopt`, вдобавок к этому имеет встроенную визуализацию;\n",
    "* `RandomForestClassifier` показал более высокий показатель метрики на тестовой выборке, в отличии от `LogisticRegression`, что вполне ожидаемо, т.к. реализует в себе *бэггинг*."
   ]
  }
 ],
 "metadata": {
  "kernelspec": {
   "display_name": "Python 3",
   "language": "python",
   "name": "python3"
  },
  "language_info": {
   "codemirror_mode": {
    "name": "ipython",
    "version": 3
   },
   "file_extension": ".py",
   "mimetype": "text/x-python",
   "name": "python",
   "nbconvert_exporter": "python",
   "pygments_lexer": "ipython3",
   "version": "3.10.8"
  },
  "orig_nbformat": 4
 },
 "nbformat": 4,
 "nbformat_minor": 2
}
