{
 "cells": [
  {
   "attachments": {},
   "cell_type": "markdown",
   "metadata": {},
   "source": [
    "# <center>Стэкинг\n",
    "`sklearn.ensemble.[StackingRegressor, StackingClassifier]`\n",
    "* `estimators` — список из кортежей базовых моделей в виде `(str, model)`. Первым элементом в каждом кортеже идет строка с именем модели, вторым — собственно сама модель.\n",
    "* `final_estimator` — метамодель.\n",
    "* `cv` — количество фолдов, на которые делится выборка. По умолчанию используется пять фолдов."
   ]
  },
  {
   "attachments": {},
   "cell_type": "markdown",
   "metadata": {},
   "source": [
    "# <center>Адаптивный бустинг\n",
    "`sklearn.ensemble.[AdaBoosRegressor, AdaBoosClassifier]`\n",
    "* `base_estimator` — параметр отвечает за природу базовых моделей, по умолчанию это `DecisionTreeRegressor` c максимальной глубиной `max_depth=3`.\n",
    "* `n_estimators` — максимальное количество базовых моделей, по умолчанию равно `50`. В случае идеального обучения алгоритм завершается ранее, чем данное значение.\n",
    "* `learning_rate` — темп обучения, параметр, добавляющий дополнительный множитель весу базовой модели, по умолчанию он равен `1`.\n",
    "* `loss{'linear', 'square', 'exponential'}` — функция ошибки для обновления весов.\n",
    "* `random_state` — параметр, фиксирующий случайные процессы в модели.\n"
   ]
  },
  {
   "attachments": {},
   "cell_type": "markdown",
   "metadata": {},
   "source": [
    "# <center>Градиентный бустинг\n",
    "`sklearn.ensemble.[GradientBoostingRegressor, GradientBoostingClassifier]`\n",
    "* `loss` — функция потерь. По умолчанию в регрессии `'squared_loss'` - *MSE*, а в классификации `'log_loss'` - логистическая функция потерь (*logloss*).\n",
    "* `learning_rate` — темп обучения. По умолчанию `0.1`. \n",
    "* `n_estimators` — количество деревьев в бустинга (число  из бустинга). По умолчанию равно `100`.\n",
    "* `max_depth` — максимальная глубина одного дерева. По умолчанию равна `3` — строятся короткие деревья с большим смещением.\n",
    "* `min_samples_leaf` — минимальное число объектов в листе. По умолчанию `1`.\n",
    "* `random_state` — число, отвечающее за генерацию случайных чисел."
   ]
  }
 ],
 "metadata": {
  "language_info": {
   "name": "python"
  },
  "orig_nbformat": 4
 },
 "nbformat": 4,
 "nbformat_minor": 2
}
