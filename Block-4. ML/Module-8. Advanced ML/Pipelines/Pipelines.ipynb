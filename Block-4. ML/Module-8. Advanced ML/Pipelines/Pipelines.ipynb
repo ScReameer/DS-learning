{
 "cells": [
  {
   "attachments": {},
   "cell_type": "markdown",
   "metadata": {},
   "source": [
    "# <center>Пайплайны\n",
    ">**Пайплайн** — это автоматизированный поэтапный процесс выполнения манипуляций с данными, включающий в себя сбор, обработку, генерацию и отбор признаков, обучение модели с последующей её настройкой и проверкой качества. \n",
    "\n",
    "`sklearn.pipeline.[Pipeline, make_pipeline]`\n",
    "* `get_params()` - все параметры пайплайна для всех преобразователей и моделей\n",
    "* `set_params()` - изменить параметры преобразователя\\модели.  \n",
    "\n",
    "**Syntax:**\n",
    "```python\n",
    "Pipeline(\n",
    "  ('name', transformer):tuple,\n",
    "  ('model_name', model):tuple\n",
    ")\n",
    "```\n",
    "`sklearn.compose.make_column_transformer()` - для создания стека обработки данных. Подаётся в `steps` класса `Pipeline` для предобработки признаков\n",
    "\n",
    "**Syntax:** \n",
    "```python\n",
    "make_column_transformer(\n",
    "  (scaler, [columns]):tuple\n",
    ")\n",
    "```\n",
    "`sklearn.compose.make_column_selector()` - фильтрация признаков по типу. Подаётся в `steps` класса `Pipeline` для предобработки признаков\n",
    "\n",
    "**Syntax:**\n",
    "```python\n",
    "ct = ColumnTransformer([\n",
    "  ('scale', StandardScaler(), make_column_selector(dtype_include=np.number)),\n",
    "  ('onehot', OneHotEncoder(), make_column_selector(dtype_include=object))\n",
    "])\n",
    "\n",
    "```\n",
    "## Сериализация\n",
    ">**Сериализация** — процесс перевода структуры данных в последовательность битов. \n",
    ">\n",
    ">**Десериализация** — процесс создания из последовательности битов  структуры данных.\n",
    "\n",
    "`joblib`\n",
    "* `dump(object, PATH+'name.pkl')` - сериализация объекта в файл.\n",
    "* `load(PATH+'name.pkl')` - десериализация объекта из файла."
   ]
  }
 ],
 "metadata": {
  "language_info": {
   "name": "python"
  },
  "orig_nbformat": 4
 },
 "nbformat": 4,
 "nbformat_minor": 2
}
